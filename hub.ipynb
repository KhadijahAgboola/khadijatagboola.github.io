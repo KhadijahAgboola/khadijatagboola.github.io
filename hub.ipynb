{
  "cells": [
    {
      "cell_type": "markdown",
      "metadata": {
        "id": "view-in-github",
        "colab_type": "text"
      },
      "source": [
        "<a href=\"https://colab.research.google.com/github/KhadijahAgboola/khadijatagboola.github.io/blob/main/hub.ipynb\" target=\"_parent\"><img src=\"https://colab.research.google.com/assets/colab-badge.svg\" alt=\"Open In Colab\"/></a>"
      ]
    },
    {
      "cell_type": "markdown",
      "source": [
        "# **Pose estimation of face data**\n",
        "I annotated 300 images of faces of people using Roboflow, then uploaded the annotated dataset to Ultralytics to train the model."
      ],
      "metadata": {
        "id": "1Q_Nmu5ia_Tl"
      }
    },
    {
      "cell_type": "markdown",
      "source": [
        "# Showing one of the images annotated"
      ],
      "metadata": {
        "id": "vO3qI8UrbcO8"
      }
    },
    {
      "cell_type": "code",
      "source": [
        "from PIL import Image\n",
        "import matplotlib.pyplot as plt\n",
        "\n",
        "image_path = '/content/datasets/PoseEstimation.v2i.yolov5pytorch/train/images/00000004_jpg.rf.5152bb87bba2e0b0169bf7f83d38041b.jpg'\n",
        "try:\n",
        "  img = Image.open(image_path)\n",
        "  plt.imshow(img)\n",
        "  plt.axis('off')  # Hide axes\n",
        "  plt.show()\n",
        "except FileNotFoundError:\n",
        "  print(f\"Error: Image file not found at {image_path}\")\n",
        "except Exception as e:\n",
        "  print(f\"An error occurred: {e}\")"
      ],
      "metadata": {
        "id": "xN8MGFU0b8pF"
      },
      "execution_count": null,
      "outputs": []
    },
    {
      "cell_type": "markdown",
      "source": [
        "# **Training the images using Ultralytics**"
      ],
      "metadata": {
        "id": "hQOpq33mf06L"
      }
    },
    {
      "cell_type": "code",
      "execution_count": 1,
      "metadata": {
        "colab": {
          "base_uri": "https://localhost:8080/"
        },
        "id": "FyDnXd-n4c7Y",
        "outputId": "b0bf926a-7cb5-4441-8e09-611d03178609"
      },
      "outputs": [
        {
          "output_type": "stream",
          "name": "stdout",
          "text": [
            "Ultralytics 8.3.131 🚀 Python-3.11.12 torch-2.6.0+cu124 CUDA:0 (Tesla T4, 15095MiB)\n",
            "Setup complete ✅ (2 CPUs, 12.7 GB RAM, 41.4/112.6 GB disk)\n"
          ]
        }
      ],
      "source": [
        "%pip install ultralytics\n",
        "from ultralytics import YOLO, checks, hub\n",
        "\n",
        "checks()  # Verify system setup for Ultralytics training"
      ]
    },
    {
      "cell_type": "code",
      "execution_count": 2,
      "metadata": {
        "id": "XSlZaJ9Iw_iZ",
        "outputId": "678e098b-69f0-4f2b-b2df-ae5ff946fb6d",
        "colab": {
          "base_uri": "https://localhost:8080/"
        }
      },
      "outputs": [
        {
          "output_type": "stream",
          "name": "stdout",
          "text": [
            "\u001b[31m\u001b[1mrequirements:\u001b[0m Ultralytics requirement ['hub-sdk>=0.0.12'] not found, attempting AutoUpdate...\n",
            "Collecting hub-sdk>=0.0.12\n",
            "  Downloading hub_sdk-0.0.20-py3-none-any.whl.metadata (10 kB)\n",
            "Requirement already satisfied: requests in /usr/local/lib/python3.11/dist-packages (from hub-sdk>=0.0.12) (2.32.3)\n",
            "Requirement already satisfied: charset-normalizer<4,>=2 in /usr/local/lib/python3.11/dist-packages (from requests->hub-sdk>=0.0.12) (3.4.1)\n",
            "Requirement already satisfied: idna<4,>=2.5 in /usr/local/lib/python3.11/dist-packages (from requests->hub-sdk>=0.0.12) (3.10)\n",
            "Requirement already satisfied: urllib3<3,>=1.21.1 in /usr/local/lib/python3.11/dist-packages (from requests->hub-sdk>=0.0.12) (2.4.0)\n",
            "Requirement already satisfied: certifi>=2017.4.17 in /usr/local/lib/python3.11/dist-packages (from requests->hub-sdk>=0.0.12) (2025.4.26)\n",
            "Downloading hub_sdk-0.0.20-py3-none-any.whl (44 kB)\n",
            "   ━━━━━━━━━━━━━━━━━━━━━━━━━━━━━━━━━━━━━━━━ 44.3/44.3 kB 5.7 MB/s eta 0:00:00\n",
            "Installing collected packages: hub-sdk\n",
            "Successfully installed hub-sdk-0.0.20\n",
            "\n",
            "\u001b[31m\u001b[1mrequirements:\u001b[0m AutoUpdate success ✅ 4.6s, installed 1 package: ['hub-sdk>=0.0.12']\n",
            "WARNING ⚠️ \u001b[31m\u001b[1mrequirements:\u001b[0m \u001b[1mRestart runtime or rerun command for updates to take effect\u001b[0m\n",
            "\n",
            "\u001b[34m\u001b[1mUltralytics HUB: \u001b[0mNew authentication successful ✅\n",
            "\u001b[34m\u001b[1mUltralytics HUB: \u001b[0mView model at https://hub.ultralytics.com/models/nn4NoHjYUtvH25bhGOnE 🚀\n",
            "Downloading https://github.com/ultralytics/assets/releases/download/v8.3.0/yolo11n-pose.pt to 'yolo11n-pose.pt'...\n"
          ]
        },
        {
          "output_type": "stream",
          "name": "stderr",
          "text": [
            "100%|██████████| 5.97M/5.97M [00:00<00:00, 114MB/s]\n"
          ]
        },
        {
          "output_type": "stream",
          "name": "stdout",
          "text": [
            "Ultralytics 8.3.131 🚀 Python-3.11.12 torch-2.6.0+cu124 CUDA:0 (Tesla T4, 15095MiB)\n",
            "\u001b[34m\u001b[1mengine/trainer: \u001b[0magnostic_nms=False, amp=True, augment=False, auto_augment=randaugment, batch=-1, bgr=0.0, box=7.5, cache=None, cfg=None, classes=None, close_mosaic=10, cls=0.5, conf=None, copy_paste=0.0, copy_paste_mode=flip, cos_lr=False, cutmix=0.0, data=https://storage.googleapis.com/ultralytics-hub.appspot.com/users/siTwfgEpYoYFpDZOpO9cVBftYlz1/datasets/wunMgvP7ywgJo24tUhke/PoseEstimation.v2i.yolov5pytorch.zip, degrees=0.0, deterministic=True, device=None, dfl=1.5, dnn=False, dropout=0.0, dynamic=False, embed=None, epochs=100, erasing=0.4, exist_ok=False, fliplr=0.5, flipud=0.0, format=torchscript, fraction=1.0, freeze=None, half=False, hsv_h=0.015, hsv_s=0.7, hsv_v=0.4, imgsz=640, int8=False, iou=0.7, keras=False, kobj=1.0, line_width=None, lr0=0.01, lrf=0.01, mask_ratio=4, max_det=300, mixup=0.0, mode=train, model=yolo11n-pose.pt, momentum=0.937, mosaic=1.0, multi_scale=False, name=train, nbs=64, nms=False, opset=None, optimize=False, optimizer=auto, overlap_mask=True, patience=100, perspective=0.0, plots=True, pose=12.0, pretrained=True, profile=False, project=None, rect=False, resume=False, retina_masks=False, save=True, save_conf=False, save_crop=False, save_dir=runs/pose/train, save_frames=False, save_json=False, save_period=-1, save_txt=False, scale=0.5, seed=0, shear=0.0, show=False, show_boxes=True, show_conf=True, show_labels=True, simplify=True, single_cls=False, source=None, split=val, stream_buffer=False, task=pose, time=None, tracker=botsort.yaml, translate=0.1, val=True, verbose=True, vid_stride=1, visualize=False, warmup_bias_lr=0.1, warmup_epochs=3.0, warmup_momentum=0.8, weight_decay=0.0005, workers=8, workspace=None\n",
            "Downloading https://storage.googleapis.com/ultralytics-hub.appspot.com/users/siTwfgEpYoYFpDZOpO9cVBftYlz1/datasets/wunMgvP7ywgJo24tUhke/PoseEstimation.v2i.yolov5pytorch.zip to 'PoseEstimation.v2i.yolov5pytorch.zip'...\n"
          ]
        },
        {
          "output_type": "stream",
          "name": "stderr",
          "text": [
            "100%|██████████| 17.3M/17.3M [00:01<00:00, 11.3MB/s]\n",
            "Unzipping PoseEstimation.v2i.yolov5pytorch.zip to /content/datasets/PoseEstimation.v2i.yolov5pytorch...: 100%|██████████| 606/606 [00:00<00:00, 6255.43file/s]\n"
          ]
        },
        {
          "output_type": "stream",
          "name": "stdout",
          "text": [
            "Downloading https://ultralytics.com/assets/Arial.ttf to '/root/.config/Ultralytics/Arial.ttf'...\n"
          ]
        },
        {
          "output_type": "stream",
          "name": "stderr",
          "text": [
            "100%|██████████| 755k/755k [00:00<00:00, 20.4MB/s]"
          ]
        },
        {
          "output_type": "stream",
          "name": "stdout",
          "text": [
            "Overriding model.yaml kpt_shape=[17, 3] with kpt_shape=[8, 3]\n",
            "Overriding model.yaml nc=80 with nc=1\n",
            "\n",
            "                   from  n    params  module                                       arguments                     \n",
            "  0                  -1  1       464  ultralytics.nn.modules.conv.Conv             [3, 16, 3, 2]                 \n",
            "  1                  -1  1      4672  ultralytics.nn.modules.conv.Conv             [16, 32, 3, 2]                \n",
            "  2                  -1  1      6640  ultralytics.nn.modules.block.C3k2            [32, 64, 1, False, 0.25]      \n",
            "  3                  -1  1     36992  ultralytics.nn.modules.conv.Conv             [64, 64, 3, 2]                \n",
            "  4                  -1  1     26080  ultralytics.nn.modules.block.C3k2            [64, 128, 1, False, 0.25]     \n",
            "  5                  -1  1    147712  ultralytics.nn.modules.conv.Conv             [128, 128, 3, 2]              \n",
            "  6                  -1  1     87040  ultralytics.nn.modules.block.C3k2            [128, 128, 1, True]           \n",
            "  7                  -1  1    295424  ultralytics.nn.modules.conv.Conv             [128, 256, 3, 2]              \n",
            "  8                  -1  1    346112  ultralytics.nn.modules.block.C3k2            [256, 256, 1, True]           \n",
            "  9                  -1  1    164608  ultralytics.nn.modules.block.SPPF            [256, 256, 5]                 \n",
            " 10                  -1  1    249728  ultralytics.nn.modules.block.C2PSA           [256, 256, 1]                 \n",
            " 11                  -1  1         0  torch.nn.modules.upsampling.Upsample         [None, 2, 'nearest']          \n",
            " 12             [-1, 6]  1         0  ultralytics.nn.modules.conv.Concat           [1]                           \n",
            " 13                  -1  1    111296  ultralytics.nn.modules.block.C3k2            [384, 128, 1, False]          \n",
            " 14                  -1  1         0  torch.nn.modules.upsampling.Upsample         [None, 2, 'nearest']          \n",
            " 15             [-1, 4]  1         0  ultralytics.nn.modules.conv.Concat           [1]                           \n",
            " 16                  -1  1     32096  ultralytics.nn.modules.block.C3k2            [256, 64, 1, False]           \n",
            " 17                  -1  1     36992  ultralytics.nn.modules.conv.Conv             [64, 64, 3, 2]                \n",
            " 18            [-1, 13]  1         0  ultralytics.nn.modules.conv.Concat           [1]                           \n",
            " 19                  -1  1     86720  ultralytics.nn.modules.block.C3k2            [192, 128, 1, False]          \n",
            " 20                  -1  1    147712  ultralytics.nn.modules.conv.Conv             [128, 128, 3, 2]              \n",
            " 21            [-1, 10]  1         0  ultralytics.nn.modules.conv.Concat           [1]                           \n",
            " 22                  -1  1    378880  ultralytics.nn.modules.block.C3k2            [384, 256, 1, True]           \n",
            " 23        [16, 19, 22]  1    545275  ultralytics.nn.modules.head.Pose             [1, [8, 3], [64, 128, 256]]   \n"
          ]
        },
        {
          "output_type": "stream",
          "name": "stderr",
          "text": [
            "\n"
          ]
        },
        {
          "output_type": "stream",
          "name": "stdout",
          "text": [
            "YOLO11n-pose summary: 196 layers, 2,704,443 parameters, 2,704,427 gradients, 6.9 GFLOPs\n",
            "\n",
            "Transferred 505/541 items from pretrained weights\n",
            "Freezing layer 'model.23.dfl.conv.weight'\n",
            "\u001b[34m\u001b[1mAMP: \u001b[0mrunning Automatic Mixed Precision (AMP) checks...\n",
            "Downloading https://github.com/ultralytics/assets/releases/download/v8.3.0/yolo11n.pt to 'yolo11n.pt'...\n"
          ]
        },
        {
          "output_type": "stream",
          "name": "stderr",
          "text": [
            "100%|██████████| 5.35M/5.35M [00:00<00:00, 111MB/s]\n"
          ]
        },
        {
          "output_type": "stream",
          "name": "stdout",
          "text": [
            "\u001b[34m\u001b[1mAMP: \u001b[0mchecks passed ✅\n",
            "\u001b[34m\u001b[1mtrain: \u001b[0mFast image access ✅ (ping: 0.0±0.0 ms, read: 895.3±179.4 MB/s, size: 73.2 KB)\n"
          ]
        },
        {
          "output_type": "stream",
          "name": "stderr",
          "text": [
            "\u001b[34m\u001b[1mtrain: \u001b[0mScanning /content/datasets/PoseEstimation.v2i.yolov5pytorch/train/labels... 208 images, 0 backgrounds, 0 corrupt: 100%|██████████| 208/208 [00:00<00:00, 574.68it/s]"
          ]
        },
        {
          "output_type": "stream",
          "name": "stdout",
          "text": [
            "\u001b[34m\u001b[1mtrain: \u001b[0mNew cache created: /content/datasets/PoseEstimation.v2i.yolov5pytorch/train/labels.cache\n"
          ]
        },
        {
          "output_type": "stream",
          "name": "stderr",
          "text": [
            "\n"
          ]
        },
        {
          "output_type": "stream",
          "name": "stdout",
          "text": [
            "\u001b[34m\u001b[1malbumentations: \u001b[0mBlur(p=0.01, blur_limit=(3, 7)), MedianBlur(p=0.01, blur_limit=(3, 7)), ToGray(p=0.01, method='weighted_average', num_output_channels=3), CLAHE(p=0.01, clip_limit=(1.0, 4.0), tile_grid_size=(8, 8))\n",
            "\u001b[34m\u001b[1mAutoBatch: \u001b[0mComputing optimal batch size for imgsz=640 at 60.0% CUDA memory utilization.\n",
            "\u001b[34m\u001b[1mAutoBatch: \u001b[0mCUDA:0 (Tesla T4) 14.74G total, 0.10G reserved, 0.07G allocated, 14.57G free\n",
            "      Params      GFLOPs  GPU_mem (GB)  forward (ms) backward (ms)                   input                  output\n",
            "     2704443        6.85         0.453         73.87           nan        (1, 3, 640, 640)                    list\n",
            "     2704443        13.7         0.893         33.73           nan        (2, 3, 640, 640)                    list\n",
            "     2704443        27.4         1.590         43.12           nan        (4, 3, 640, 640)                    list\n",
            "     2704443        54.8         2.896         36.97           nan        (8, 3, 640, 640)                    list\n",
            "     2704443       109.6         5.484         62.71           nan       (16, 3, 640, 640)                    list\n",
            "\u001b[34m\u001b[1mAutoBatch: \u001b[0mUsing batch-size 26 for CUDA:0 9.00G/14.74G (61%) ✅\n",
            "\u001b[34m\u001b[1mtrain: \u001b[0mFast image access ✅ (ping: 0.0±0.0 ms, read: 1666.6±801.2 MB/s, size: 53.6 KB)\n"
          ]
        },
        {
          "output_type": "stream",
          "name": "stderr",
          "text": [
            "\u001b[34m\u001b[1mtrain: \u001b[0mScanning /content/datasets/PoseEstimation.v2i.yolov5pytorch/train/labels.cache... 208 images, 0 backgrounds, 0 corrupt: 100%|██████████| 208/208 [00:00<?, ?it/s]"
          ]
        },
        {
          "output_type": "stream",
          "name": "stdout",
          "text": [
            "\u001b[34m\u001b[1malbumentations: \u001b[0mBlur(p=0.01, blur_limit=(3, 7)), MedianBlur(p=0.01, blur_limit=(3, 7)), ToGray(p=0.01, method='weighted_average', num_output_channels=3), CLAHE(p=0.01, clip_limit=(1.0, 4.0), tile_grid_size=(8, 8))\n"
          ]
        },
        {
          "output_type": "stream",
          "name": "stderr",
          "text": [
            "\n"
          ]
        },
        {
          "output_type": "stream",
          "name": "stdout",
          "text": [
            "\u001b[34m\u001b[1mval: \u001b[0mFast image access ✅ (ping: 0.0±0.1 ms, read: 379.3±261.6 MB/s, size: 54.9 KB)\n"
          ]
        },
        {
          "output_type": "stream",
          "name": "stderr",
          "text": [
            "\u001b[34m\u001b[1mval: \u001b[0mScanning /content/datasets/PoseEstimation.v2i.yolov5pytorch/valid/labels... 59 images, 0 backgrounds, 0 corrupt: 100%|██████████| 59/59 [00:00<00:00, 1352.19it/s]"
          ]
        },
        {
          "output_type": "stream",
          "name": "stdout",
          "text": [
            "\u001b[34m\u001b[1mval: \u001b[0mNew cache created: /content/datasets/PoseEstimation.v2i.yolov5pytorch/valid/labels.cache\n"
          ]
        },
        {
          "output_type": "stream",
          "name": "stderr",
          "text": [
            "\n"
          ]
        },
        {
          "output_type": "stream",
          "name": "stdout",
          "text": [
            "Plotting labels to runs/pose/train/labels.jpg... \n",
            "\u001b[34m\u001b[1moptimizer:\u001b[0m 'optimizer=auto' found, ignoring 'lr0=0.01' and 'momentum=0.937' and determining best 'optimizer', 'lr0' and 'momentum' automatically... \n",
            "\u001b[34m\u001b[1moptimizer:\u001b[0m AdamW(lr=0.002, momentum=0.9) with parameter groups 87 weight(decay=0.0), 97 weight(decay=0.00040625000000000004), 96 bias(decay=0.0)\n",
            "Image sizes 640 train, 640 val\n",
            "Using 2 dataloader workers\n",
            "Logging results to \u001b[1mruns/pose/train\u001b[0m\n",
            "Starting training for 100 epochs...\n",
            "\n",
            "      Epoch    GPU_mem   box_loss  pose_loss  kobj_loss   cls_loss   dfl_loss  Instances       Size\n"
          ]
        },
        {
          "output_type": "stream",
          "name": "stderr",
          "text": [
            "      1/100      4.01G      2.479      6.532      0.725      4.031      2.546         73        640: 100%|██████████| 8/8 [00:08<00:00,  1.03s/it]\n",
            "                 Class     Images  Instances      Box(P          R      mAP50  mAP50-95)     Pose(P          R      mAP50  mAP50-95): 100%|██████████| 2/2 [00:00<00:00,  2.06it/s]"
          ]
        },
        {
          "output_type": "stream",
          "name": "stdout",
          "text": [
            "                   all         59        107      0.123      0.402      0.101     0.0346     0.0647       0.29     0.0488     0.0123\n"
          ]
        },
        {
          "output_type": "stream",
          "name": "stderr",
          "text": [
            "\n"
          ]
        },
        {
          "output_type": "stream",
          "name": "stdout",
          "text": [
            "\n",
            "      Epoch    GPU_mem   box_loss  pose_loss  kobj_loss   cls_loss   dfl_loss  Instances       Size\n"
          ]
        },
        {
          "output_type": "stream",
          "name": "stderr",
          "text": [
            "      2/100      4.62G      2.061      5.204     0.7198      1.921       1.96         85        640: 100%|██████████| 8/8 [00:04<00:00,  2.00it/s]\n",
            "                 Class     Images  Instances      Box(P          R      mAP50  mAP50-95)     Pose(P          R      mAP50  mAP50-95): 100%|██████████| 2/2 [00:01<00:00,  1.46it/s]\n"
          ]
        },
        {
          "output_type": "stream",
          "name": "stdout",
          "text": [
            "                   all         59        107      0.515      0.875      0.655      0.222      0.267      0.514      0.234     0.0577\n",
            "\n",
            "      Epoch    GPU_mem   box_loss  pose_loss  kobj_loss   cls_loss   dfl_loss  Instances       Size\n"
          ]
        },
        {
          "output_type": "stream",
          "name": "stderr",
          "text": [
            "      3/100      4.62G      1.951      4.059     0.6988      1.713      1.928         94        640: 100%|██████████| 8/8 [00:03<00:00,  2.47it/s]\n",
            "                 Class     Images  Instances      Box(P          R      mAP50  mAP50-95)     Pose(P          R      mAP50  mAP50-95): 100%|██████████| 2/2 [00:00<00:00,  2.77it/s]"
          ]
        },
        {
          "output_type": "stream",
          "name": "stdout",
          "text": [
            "                   all         59        107      0.611       0.71      0.641      0.226      0.499      0.673      0.436       0.12\n"
          ]
        },
        {
          "output_type": "stream",
          "name": "stderr",
          "text": [
            "\n"
          ]
        },
        {
          "output_type": "stream",
          "name": "stdout",
          "text": [
            "\n",
            "      Epoch    GPU_mem   box_loss  pose_loss  kobj_loss   cls_loss   dfl_loss  Instances       Size\n"
          ]
        },
        {
          "output_type": "stream",
          "name": "stderr",
          "text": [
            "      4/100      4.62G      1.837      3.542     0.6927      1.586      1.844        120        640: 100%|██████████| 8/8 [00:03<00:00,  2.54it/s]\n",
            "                 Class     Images  Instances      Box(P          R      mAP50  mAP50-95)     Pose(P          R      mAP50  mAP50-95): 100%|██████████| 2/2 [00:00<00:00,  2.55it/s]"
          ]
        },
        {
          "output_type": "stream",
          "name": "stdout",
          "text": [
            "                   all         59        107      0.452      0.738      0.452      0.143      0.444      0.748      0.461       0.13\n"
          ]
        },
        {
          "output_type": "stream",
          "name": "stderr",
          "text": [
            "\n"
          ]
        },
        {
          "output_type": "stream",
          "name": "stdout",
          "text": [
            "\n",
            "      Epoch    GPU_mem   box_loss  pose_loss  kobj_loss   cls_loss   dfl_loss  Instances       Size\n"
          ]
        },
        {
          "output_type": "stream",
          "name": "stderr",
          "text": [
            "      5/100      4.62G      1.908      3.195     0.6864      1.557      1.866         75        640: 100%|██████████| 8/8 [00:03<00:00,  2.08it/s]\n",
            "                 Class     Images  Instances      Box(P          R      mAP50  mAP50-95)     Pose(P          R      mAP50  mAP50-95): 100%|██████████| 2/2 [00:01<00:00,  1.50it/s]"
          ]
        },
        {
          "output_type": "stream",
          "name": "stdout",
          "text": [
            "                   all         59        107      0.601      0.664        0.6      0.184      0.579      0.669      0.589      0.156\n"
          ]
        },
        {
          "output_type": "stream",
          "name": "stderr",
          "text": [
            "\n"
          ]
        },
        {
          "output_type": "stream",
          "name": "stdout",
          "text": [
            "\n",
            "      Epoch    GPU_mem   box_loss  pose_loss  kobj_loss   cls_loss   dfl_loss  Instances       Size\n"
          ]
        },
        {
          "output_type": "stream",
          "name": "stderr",
          "text": [
            "      6/100      4.62G      1.865      3.019     0.6781      1.527      1.829         84        640: 100%|██████████| 8/8 [00:03<00:00,  2.39it/s]\n",
            "                 Class     Images  Instances      Box(P          R      mAP50  mAP50-95)     Pose(P          R      mAP50  mAP50-95): 100%|██████████| 2/2 [00:01<00:00,  1.48it/s]"
          ]
        },
        {
          "output_type": "stream",
          "name": "stdout",
          "text": [
            "                   all         59        107       0.58      0.606      0.583      0.169      0.664       0.72      0.682      0.213\n"
          ]
        },
        {
          "output_type": "stream",
          "name": "stderr",
          "text": [
            "\n"
          ]
        },
        {
          "output_type": "stream",
          "name": "stdout",
          "text": [
            "\n",
            "      Epoch    GPU_mem   box_loss  pose_loss  kobj_loss   cls_loss   dfl_loss  Instances       Size\n"
          ]
        },
        {
          "output_type": "stream",
          "name": "stderr",
          "text": [
            "      7/100      4.63G      1.811      2.737     0.6641      1.532       1.83         83        640: 100%|██████████| 8/8 [00:04<00:00,  1.78it/s]\n",
            "                 Class     Images  Instances      Box(P          R      mAP50  mAP50-95)     Pose(P          R      mAP50  mAP50-95): 100%|██████████| 2/2 [00:01<00:00,  1.60it/s]"
          ]
        },
        {
          "output_type": "stream",
          "name": "stdout",
          "text": [
            "                   all         59        107      0.554      0.589      0.499      0.133      0.633      0.757      0.685      0.217\n"
          ]
        },
        {
          "output_type": "stream",
          "name": "stderr",
          "text": [
            "\n"
          ]
        },
        {
          "output_type": "stream",
          "name": "stdout",
          "text": [
            "\n",
            "      Epoch    GPU_mem   box_loss  pose_loss  kobj_loss   cls_loss   dfl_loss  Instances       Size\n"
          ]
        },
        {
          "output_type": "stream",
          "name": "stderr",
          "text": [
            "      8/100      4.65G      1.843      2.619     0.6492      1.502      1.809        103        640: 100%|██████████| 8/8 [00:02<00:00,  2.80it/s]\n",
            "                 Class     Images  Instances      Box(P          R      mAP50  mAP50-95)     Pose(P          R      mAP50  mAP50-95): 100%|██████████| 2/2 [00:00<00:00,  2.67it/s]"
          ]
        },
        {
          "output_type": "stream",
          "name": "stdout",
          "text": [
            "                   all         59        107      0.332      0.308      0.224     0.0439      0.627      0.617      0.594       0.24\n"
          ]
        },
        {
          "output_type": "stream",
          "name": "stderr",
          "text": [
            "\n"
          ]
        },
        {
          "output_type": "stream",
          "name": "stdout",
          "text": [
            "\n",
            "      Epoch    GPU_mem   box_loss  pose_loss  kobj_loss   cls_loss   dfl_loss  Instances       Size\n"
          ]
        },
        {
          "output_type": "stream",
          "name": "stderr",
          "text": [
            "      9/100      4.66G      1.883      2.444     0.6392      1.512      1.849         73        640: 100%|██████████| 8/8 [00:02<00:00,  2.70it/s]\n",
            "                 Class     Images  Instances      Box(P          R      mAP50  mAP50-95)     Pose(P          R      mAP50  mAP50-95): 100%|██████████| 2/2 [00:01<00:00,  1.97it/s]"
          ]
        },
        {
          "output_type": "stream",
          "name": "stdout",
          "text": [
            "                   all         59        107      0.576      0.647      0.641      0.188      0.642      0.722      0.734       0.27\n"
          ]
        },
        {
          "output_type": "stream",
          "name": "stderr",
          "text": [
            "\n"
          ]
        },
        {
          "output_type": "stream",
          "name": "stdout",
          "text": [
            "\n",
            "      Epoch    GPU_mem   box_loss  pose_loss  kobj_loss   cls_loss   dfl_loss  Instances       Size\n"
          ]
        },
        {
          "output_type": "stream",
          "name": "stderr",
          "text": [
            "     10/100      4.68G      1.842      2.251     0.6224      1.533      1.805        101        640: 100%|██████████| 8/8 [00:03<00:00,  2.29it/s]\n",
            "                 Class     Images  Instances      Box(P          R      mAP50  mAP50-95)     Pose(P          R      mAP50  mAP50-95): 100%|██████████| 2/2 [00:01<00:00,  1.75it/s]"
          ]
        },
        {
          "output_type": "stream",
          "name": "stdout",
          "text": [
            "                   all         59        107      0.598       0.57      0.596      0.181      0.527      0.728      0.589      0.202\n"
          ]
        },
        {
          "output_type": "stream",
          "name": "stderr",
          "text": [
            "\n"
          ]
        },
        {
          "output_type": "stream",
          "name": "stdout",
          "text": [
            "\n",
            "      Epoch    GPU_mem   box_loss  pose_loss  kobj_loss   cls_loss   dfl_loss  Instances       Size\n"
          ]
        },
        {
          "output_type": "stream",
          "name": "stderr",
          "text": [
            "     11/100      4.69G      1.822      2.259     0.6127      1.469      1.799         80        640: 100%|██████████| 8/8 [00:03<00:00,  2.66it/s]\n",
            "                 Class     Images  Instances      Box(P          R      mAP50  mAP50-95)     Pose(P          R      mAP50  mAP50-95): 100%|██████████| 2/2 [00:01<00:00,  1.87it/s]"
          ]
        },
        {
          "output_type": "stream",
          "name": "stdout",
          "text": [
            "                   all         59        107      0.482      0.556      0.487      0.149      0.473      0.637      0.504      0.163\n"
          ]
        },
        {
          "output_type": "stream",
          "name": "stderr",
          "text": [
            "\n"
          ]
        },
        {
          "output_type": "stream",
          "name": "stdout",
          "text": [
            "\n",
            "      Epoch    GPU_mem   box_loss  pose_loss  kobj_loss   cls_loss   dfl_loss  Instances       Size\n"
          ]
        },
        {
          "output_type": "stream",
          "name": "stderr",
          "text": [
            "     12/100      4.71G      1.983       2.11     0.5924      1.562      1.884         97        640: 100%|██████████| 8/8 [00:03<00:00,  2.42it/s]\n",
            "                 Class     Images  Instances      Box(P          R      mAP50  mAP50-95)     Pose(P          R      mAP50  mAP50-95): 100%|██████████| 2/2 [00:01<00:00,  1.77it/s]"
          ]
        },
        {
          "output_type": "stream",
          "name": "stdout",
          "text": [
            "                   all         59        107      0.266      0.268       0.16     0.0425      0.326      0.336      0.218     0.0652\n"
          ]
        },
        {
          "output_type": "stream",
          "name": "stderr",
          "text": [
            "\n"
          ]
        },
        {
          "output_type": "stream",
          "name": "stdout",
          "text": [
            "\n",
            "      Epoch    GPU_mem   box_loss  pose_loss  kobj_loss   cls_loss   dfl_loss  Instances       Size\n"
          ]
        },
        {
          "output_type": "stream",
          "name": "stderr",
          "text": [
            "     13/100      4.72G      1.905        2.2      0.553      1.496      1.835         84        640: 100%|██████████| 8/8 [00:03<00:00,  2.24it/s]\n",
            "                 Class     Images  Instances      Box(P          R      mAP50  mAP50-95)     Pose(P          R      mAP50  mAP50-95): 100%|██████████| 2/2 [00:01<00:00,  1.60it/s]"
          ]
        },
        {
          "output_type": "stream",
          "name": "stdout",
          "text": [
            "                   all         59        107      0.171       0.15     0.0921     0.0198      0.164      0.215      0.114     0.0385\n"
          ]
        },
        {
          "output_type": "stream",
          "name": "stderr",
          "text": [
            "\n"
          ]
        },
        {
          "output_type": "stream",
          "name": "stdout",
          "text": [
            "\n",
            "      Epoch    GPU_mem   box_loss  pose_loss  kobj_loss   cls_loss   dfl_loss  Instances       Size\n"
          ]
        },
        {
          "output_type": "stream",
          "name": "stderr",
          "text": [
            "     14/100      4.74G      1.893      2.075     0.5673      1.529      1.827         81        640: 100%|██████████| 8/8 [00:03<00:00,  2.52it/s]\n",
            "                 Class     Images  Instances      Box(P          R      mAP50  mAP50-95)     Pose(P          R      mAP50  mAP50-95): 100%|██████████| 2/2 [00:00<00:00,  2.12it/s]"
          ]
        },
        {
          "output_type": "stream",
          "name": "stdout",
          "text": [
            "                   all         59        107     0.0582      0.121     0.0314     0.0106     0.0812      0.159     0.0445     0.0193\n"
          ]
        },
        {
          "output_type": "stream",
          "name": "stderr",
          "text": [
            "\n"
          ]
        },
        {
          "output_type": "stream",
          "name": "stdout",
          "text": [
            "\n",
            "      Epoch    GPU_mem   box_loss  pose_loss  kobj_loss   cls_loss   dfl_loss  Instances       Size\n"
          ]
        },
        {
          "output_type": "stream",
          "name": "stderr",
          "text": [
            "     15/100      4.76G      1.884       2.21     0.5469      1.544      1.844         84        640: 100%|██████████| 8/8 [00:03<00:00,  2.61it/s]\n",
            "                 Class     Images  Instances      Box(P          R      mAP50  mAP50-95)     Pose(P          R      mAP50  mAP50-95): 100%|██████████| 2/2 [00:01<00:00,  1.31it/s]"
          ]
        },
        {
          "output_type": "stream",
          "name": "stdout",
          "text": [
            "                   all         59        107      0.149     0.0935      0.036    0.00834     0.0898     0.0561     0.0229    0.00802\n"
          ]
        },
        {
          "output_type": "stream",
          "name": "stderr",
          "text": [
            "\n"
          ]
        },
        {
          "output_type": "stream",
          "name": "stdout",
          "text": [
            "\n",
            "      Epoch    GPU_mem   box_loss  pose_loss  kobj_loss   cls_loss   dfl_loss  Instances       Size\n"
          ]
        },
        {
          "output_type": "stream",
          "name": "stderr",
          "text": [
            "     16/100      4.77G      1.903      2.106      0.555      1.563      1.843         81        640: 100%|██████████| 8/8 [00:02<00:00,  2.78it/s]\n",
            "                 Class     Images  Instances      Box(P          R      mAP50  mAP50-95)     Pose(P          R      mAP50  mAP50-95): 100%|██████████| 2/2 [00:00<00:00,  2.77it/s]"
          ]
        },
        {
          "output_type": "stream",
          "name": "stdout",
          "text": [
            "                   all         59        107    0.00482      0.383    0.00386    0.00131    0.00877      0.112    0.00612     0.0027\n"
          ]
        },
        {
          "output_type": "stream",
          "name": "stderr",
          "text": [
            "\n"
          ]
        },
        {
          "output_type": "stream",
          "name": "stdout",
          "text": [
            "\n",
            "      Epoch    GPU_mem   box_loss  pose_loss  kobj_loss   cls_loss   dfl_loss  Instances       Size\n"
          ]
        },
        {
          "output_type": "stream",
          "name": "stderr",
          "text": [
            "     17/100      4.79G      1.842      1.977     0.5268      1.509      1.803         76        640: 100%|██████████| 8/8 [00:03<00:00,  2.64it/s]\n",
            "                 Class     Images  Instances      Box(P          R      mAP50  mAP50-95)     Pose(P          R      mAP50  mAP50-95): 100%|██████████| 2/2 [00:00<00:00,  2.60it/s]"
          ]
        },
        {
          "output_type": "stream",
          "name": "stdout",
          "text": [
            "                   all         59        107      0.494      0.505      0.468      0.146       0.52      0.523      0.474      0.149\n"
          ]
        },
        {
          "output_type": "stream",
          "name": "stderr",
          "text": [
            "\n"
          ]
        },
        {
          "output_type": "stream",
          "name": "stdout",
          "text": [
            "\n",
            "      Epoch    GPU_mem   box_loss  pose_loss  kobj_loss   cls_loss   dfl_loss  Instances       Size\n"
          ]
        },
        {
          "output_type": "stream",
          "name": "stderr",
          "text": [
            "     18/100       4.8G      1.868          2      0.533      1.531      1.814         84        640: 100%|██████████| 8/8 [00:03<00:00,  2.59it/s]\n",
            "                 Class     Images  Instances      Box(P          R      mAP50  mAP50-95)     Pose(P          R      mAP50  mAP50-95): 100%|██████████| 2/2 [00:01<00:00,  1.18it/s]"
          ]
        },
        {
          "output_type": "stream",
          "name": "stdout",
          "text": [
            "                   all         59        107      0.388       0.54      0.436      0.131        0.5      0.579      0.529      0.185\n"
          ]
        },
        {
          "output_type": "stream",
          "name": "stderr",
          "text": [
            "\n"
          ]
        },
        {
          "output_type": "stream",
          "name": "stdout",
          "text": [
            "\n",
            "      Epoch    GPU_mem   box_loss  pose_loss  kobj_loss   cls_loss   dfl_loss  Instances       Size\n"
          ]
        },
        {
          "output_type": "stream",
          "name": "stderr",
          "text": [
            "     19/100      4.82G      1.845      2.053     0.5258      1.492      1.817         95        640: 100%|██████████| 8/8 [00:03<00:00,  2.58it/s]\n",
            "                 Class     Images  Instances      Box(P          R      mAP50  mAP50-95)     Pose(P          R      mAP50  mAP50-95): 100%|██████████| 2/2 [00:00<00:00,  2.56it/s]"
          ]
        },
        {
          "output_type": "stream",
          "name": "stdout",
          "text": [
            "                   all         59        107      0.467      0.393      0.367      0.112      0.339       0.59       0.37      0.126\n"
          ]
        },
        {
          "output_type": "stream",
          "name": "stderr",
          "text": [
            "\n"
          ]
        },
        {
          "output_type": "stream",
          "name": "stdout",
          "text": [
            "\n",
            "      Epoch    GPU_mem   box_loss  pose_loss  kobj_loss   cls_loss   dfl_loss  Instances       Size\n"
          ]
        },
        {
          "output_type": "stream",
          "name": "stderr",
          "text": [
            "     20/100      4.83G      1.833      2.006     0.4876      1.528      1.785         84        640: 100%|██████████| 8/8 [00:02<00:00,  2.84it/s]\n",
            "                 Class     Images  Instances      Box(P          R      mAP50  mAP50-95)     Pose(P          R      mAP50  mAP50-95): 100%|██████████| 2/2 [00:00<00:00,  2.61it/s]"
          ]
        },
        {
          "output_type": "stream",
          "name": "stdout",
          "text": [
            "                   all         59        107      0.535      0.477      0.461      0.163      0.589      0.523      0.528      0.195\n"
          ]
        },
        {
          "output_type": "stream",
          "name": "stderr",
          "text": [
            "\n"
          ]
        },
        {
          "output_type": "stream",
          "name": "stdout",
          "text": [
            "\n",
            "      Epoch    GPU_mem   box_loss  pose_loss  kobj_loss   cls_loss   dfl_loss  Instances       Size\n"
          ]
        },
        {
          "output_type": "stream",
          "name": "stderr",
          "text": [
            "     21/100      4.85G      1.854       1.91     0.4851      1.498      1.788        106        640: 100%|██████████| 8/8 [00:03<00:00,  2.39it/s]\n",
            "                 Class     Images  Instances      Box(P          R      mAP50  mAP50-95)     Pose(P          R      mAP50  mAP50-95): 100%|██████████| 2/2 [00:01<00:00,  1.43it/s]"
          ]
        },
        {
          "output_type": "stream",
          "name": "stdout",
          "text": [
            "                   all         59        107      0.497      0.467      0.415      0.143      0.478      0.477      0.411      0.184\n"
          ]
        },
        {
          "output_type": "stream",
          "name": "stderr",
          "text": [
            "\n"
          ]
        },
        {
          "output_type": "stream",
          "name": "stdout",
          "text": [
            "\n",
            "      Epoch    GPU_mem   box_loss  pose_loss  kobj_loss   cls_loss   dfl_loss  Instances       Size\n"
          ]
        },
        {
          "output_type": "stream",
          "name": "stderr",
          "text": [
            "     22/100      4.87G      1.813      1.819     0.4625      1.484      1.758         84        640: 100%|██████████| 8/8 [00:02<00:00,  2.91it/s]\n",
            "                 Class     Images  Instances      Box(P          R      mAP50  mAP50-95)     Pose(P          R      mAP50  mAP50-95): 100%|██████████| 2/2 [00:00<00:00,  2.46it/s]"
          ]
        },
        {
          "output_type": "stream",
          "name": "stdout",
          "text": [
            "                   all         59        107       0.46      0.411      0.359     0.0881       0.64      0.598      0.614      0.256\n"
          ]
        },
        {
          "output_type": "stream",
          "name": "stderr",
          "text": [
            "\n"
          ]
        },
        {
          "output_type": "stream",
          "name": "stdout",
          "text": [
            "\n",
            "      Epoch    GPU_mem   box_loss  pose_loss  kobj_loss   cls_loss   dfl_loss  Instances       Size\n"
          ]
        },
        {
          "output_type": "stream",
          "name": "stderr",
          "text": [
            "     23/100      4.88G      1.857      1.954     0.4626      1.414      1.774         69        640: 100%|██████████| 8/8 [00:02<00:00,  2.75it/s]\n",
            "                 Class     Images  Instances      Box(P          R      mAP50  mAP50-95)     Pose(P          R      mAP50  mAP50-95): 100%|██████████| 2/2 [00:00<00:00,  2.91it/s]"
          ]
        },
        {
          "output_type": "stream",
          "name": "stdout",
          "text": [
            "                   all         59        107      0.377      0.589      0.387      0.106      0.493      0.726      0.561       0.22\n"
          ]
        },
        {
          "output_type": "stream",
          "name": "stderr",
          "text": [
            "\n"
          ]
        },
        {
          "output_type": "stream",
          "name": "stdout",
          "text": [
            "\n",
            "      Epoch    GPU_mem   box_loss  pose_loss  kobj_loss   cls_loss   dfl_loss  Instances       Size\n"
          ]
        },
        {
          "output_type": "stream",
          "name": "stderr",
          "text": [
            "     24/100       4.9G      1.885      1.885     0.4851      1.451      1.801        102        640: 100%|██████████| 8/8 [00:03<00:00,  2.55it/s]\n",
            "                 Class     Images  Instances      Box(P          R      mAP50  mAP50-95)     Pose(P          R      mAP50  mAP50-95): 100%|██████████| 2/2 [00:01<00:00,  1.36it/s]"
          ]
        },
        {
          "output_type": "stream",
          "name": "stdout",
          "text": [
            "                   all         59        107      0.518      0.561      0.535       0.18      0.581      0.687       0.63      0.282\n"
          ]
        },
        {
          "output_type": "stream",
          "name": "stderr",
          "text": [
            "\n"
          ]
        },
        {
          "output_type": "stream",
          "name": "stdout",
          "text": [
            "\n",
            "      Epoch    GPU_mem   box_loss  pose_loss  kobj_loss   cls_loss   dfl_loss  Instances       Size\n"
          ]
        },
        {
          "output_type": "stream",
          "name": "stderr",
          "text": [
            "     25/100      4.91G      1.832      1.862     0.4566      1.458      1.764         83        640: 100%|██████████| 8/8 [00:02<00:00,  2.78it/s]\n",
            "                 Class     Images  Instances      Box(P          R      mAP50  mAP50-95)     Pose(P          R      mAP50  mAP50-95): 100%|██████████| 2/2 [00:00<00:00,  2.73it/s]"
          ]
        },
        {
          "output_type": "stream",
          "name": "stdout",
          "text": [
            "                   all         59        107      0.619      0.561      0.613      0.233      0.648      0.626      0.655      0.315\n"
          ]
        },
        {
          "output_type": "stream",
          "name": "stderr",
          "text": [
            "\n"
          ]
        },
        {
          "output_type": "stream",
          "name": "stdout",
          "text": [
            "\n",
            "      Epoch    GPU_mem   box_loss  pose_loss  kobj_loss   cls_loss   dfl_loss  Instances       Size\n"
          ]
        },
        {
          "output_type": "stream",
          "name": "stderr",
          "text": [
            "     26/100      4.93G      1.793      1.963     0.4394      1.434       1.74         83        640: 100%|██████████| 8/8 [00:02<00:00,  2.70it/s]\n",
            "                 Class     Images  Instances      Box(P          R      mAP50  mAP50-95)     Pose(P          R      mAP50  mAP50-95): 100%|██████████| 2/2 [00:00<00:00,  2.72it/s]"
          ]
        },
        {
          "output_type": "stream",
          "name": "stdout",
          "text": [
            "                   all         59        107      0.439      0.579      0.415      0.115       0.53      0.701      0.552      0.268\n"
          ]
        },
        {
          "output_type": "stream",
          "name": "stderr",
          "text": [
            "\n"
          ]
        },
        {
          "output_type": "stream",
          "name": "stdout",
          "text": [
            "\n",
            "      Epoch    GPU_mem   box_loss  pose_loss  kobj_loss   cls_loss   dfl_loss  Instances       Size\n"
          ]
        },
        {
          "output_type": "stream",
          "name": "stderr",
          "text": [
            "     27/100      4.94G      1.839      1.873     0.4287      1.462      1.789        112        640: 100%|██████████| 8/8 [00:03<00:00,  2.46it/s]\n",
            "                 Class     Images  Instances      Box(P          R      mAP50  mAP50-95)     Pose(P          R      mAP50  mAP50-95): 100%|██████████| 2/2 [00:01<00:00,  1.48it/s]\n"
          ]
        },
        {
          "output_type": "stream",
          "name": "stdout",
          "text": [
            "                   all         59        107      0.422      0.645      0.452      0.125      0.507      0.757      0.586       0.25\n",
            "\n",
            "      Epoch    GPU_mem   box_loss  pose_loss  kobj_loss   cls_loss   dfl_loss  Instances       Size\n"
          ]
        },
        {
          "output_type": "stream",
          "name": "stderr",
          "text": [
            "     28/100      4.96G       1.77      1.881     0.4558      1.439      1.722         91        640: 100%|██████████| 8/8 [00:02<00:00,  2.73it/s]\n",
            "                 Class     Images  Instances      Box(P          R      mAP50  mAP50-95)     Pose(P          R      mAP50  mAP50-95): 100%|██████████| 2/2 [00:00<00:00,  2.70it/s]"
          ]
        },
        {
          "output_type": "stream",
          "name": "stdout",
          "text": [
            "                   all         59        107      0.528      0.664      0.545      0.173      0.615      0.746      0.669      0.282\n"
          ]
        },
        {
          "output_type": "stream",
          "name": "stderr",
          "text": [
            "\n"
          ]
        },
        {
          "output_type": "stream",
          "name": "stdout",
          "text": [
            "\n",
            "      Epoch    GPU_mem   box_loss  pose_loss  kobj_loss   cls_loss   dfl_loss  Instances       Size\n"
          ]
        },
        {
          "output_type": "stream",
          "name": "stderr",
          "text": [
            "     29/100      4.97G      1.734      1.915     0.4387      1.373      1.728         89        640: 100%|██████████| 8/8 [00:02<00:00,  2.93it/s]\n",
            "                 Class     Images  Instances      Box(P          R      mAP50  mAP50-95)     Pose(P          R      mAP50  mAP50-95): 100%|██████████| 2/2 [00:00<00:00,  2.32it/s]"
          ]
        },
        {
          "output_type": "stream",
          "name": "stdout",
          "text": [
            "                   all         59        107      0.469      0.626      0.481      0.139      0.567      0.746      0.625      0.278\n"
          ]
        },
        {
          "output_type": "stream",
          "name": "stderr",
          "text": [
            "\n"
          ]
        },
        {
          "output_type": "stream",
          "name": "stdout",
          "text": [
            "\n",
            "      Epoch    GPU_mem   box_loss  pose_loss  kobj_loss   cls_loss   dfl_loss  Instances       Size\n"
          ]
        },
        {
          "output_type": "stream",
          "name": "stderr",
          "text": [
            "     30/100      4.99G      1.716      1.769     0.4022      1.428      1.705         86        640: 100%|██████████| 8/8 [00:03<00:00,  2.21it/s]\n",
            "                 Class     Images  Instances      Box(P          R      mAP50  mAP50-95)     Pose(P          R      mAP50  mAP50-95): 100%|██████████| 2/2 [00:01<00:00,  1.49it/s]"
          ]
        },
        {
          "output_type": "stream",
          "name": "stdout",
          "text": [
            "                   all         59        107        0.6      0.673      0.605      0.211      0.617       0.83      0.689      0.309\n"
          ]
        },
        {
          "output_type": "stream",
          "name": "stderr",
          "text": [
            "\n"
          ]
        },
        {
          "output_type": "stream",
          "name": "stdout",
          "text": [
            "\n",
            "      Epoch    GPU_mem   box_loss  pose_loss  kobj_loss   cls_loss   dfl_loss  Instances       Size\n"
          ]
        },
        {
          "output_type": "stream",
          "name": "stderr",
          "text": [
            "     31/100         5G      1.775      1.843     0.4001      1.403      1.744         85        640: 100%|██████████| 8/8 [00:03<00:00,  2.44it/s]\n",
            "                 Class     Images  Instances      Box(P          R      mAP50  mAP50-95)     Pose(P          R      mAP50  mAP50-95): 100%|██████████| 2/2 [00:00<00:00,  2.48it/s]"
          ]
        },
        {
          "output_type": "stream",
          "name": "stdout",
          "text": [
            "                   all         59        107       0.65      0.579      0.626      0.189       0.75      0.692      0.798      0.384\n"
          ]
        },
        {
          "output_type": "stream",
          "name": "stderr",
          "text": [
            "\n"
          ]
        },
        {
          "output_type": "stream",
          "name": "stdout",
          "text": [
            "\n",
            "      Epoch    GPU_mem   box_loss  pose_loss  kobj_loss   cls_loss   dfl_loss  Instances       Size\n"
          ]
        },
        {
          "output_type": "stream",
          "name": "stderr",
          "text": [
            "     32/100      5.02G      1.693      1.858     0.4181      1.325      1.663         73        640: 100%|██████████| 8/8 [00:02<00:00,  2.70it/s]\n",
            "                 Class     Images  Instances      Box(P          R      mAP50  mAP50-95)     Pose(P          R      mAP50  mAP50-95): 100%|██████████| 2/2 [00:00<00:00,  2.54it/s]"
          ]
        },
        {
          "output_type": "stream",
          "name": "stdout",
          "text": [
            "                   all         59        107      0.569       0.63      0.584      0.211      0.646       0.72       0.72      0.341\n"
          ]
        },
        {
          "output_type": "stream",
          "name": "stderr",
          "text": [
            "\n"
          ]
        },
        {
          "output_type": "stream",
          "name": "stdout",
          "text": [
            "\n",
            "      Epoch    GPU_mem   box_loss  pose_loss  kobj_loss   cls_loss   dfl_loss  Instances       Size\n"
          ]
        },
        {
          "output_type": "stream",
          "name": "stderr",
          "text": [
            "     33/100      5.03G      1.716      1.737     0.4113      1.356       1.67        104        640: 100%|██████████| 8/8 [00:03<00:00,  2.10it/s]\n",
            "                 Class     Images  Instances      Box(P          R      mAP50  mAP50-95)     Pose(P          R      mAP50  mAP50-95): 100%|██████████| 2/2 [00:01<00:00,  1.81it/s]"
          ]
        },
        {
          "output_type": "stream",
          "name": "stdout",
          "text": [
            "                   all         59        107      0.538       0.72      0.613      0.204       0.61      0.776       0.71      0.319\n"
          ]
        },
        {
          "output_type": "stream",
          "name": "stderr",
          "text": [
            "\n"
          ]
        },
        {
          "output_type": "stream",
          "name": "stdout",
          "text": [
            "\n",
            "      Epoch    GPU_mem   box_loss  pose_loss  kobj_loss   cls_loss   dfl_loss  Instances       Size\n"
          ]
        },
        {
          "output_type": "stream",
          "name": "stderr",
          "text": [
            "     34/100      5.05G       1.71      1.775     0.4181      1.288      1.677        128        640: 100%|██████████| 8/8 [00:02<00:00,  2.85it/s]\n",
            "                 Class     Images  Instances      Box(P          R      mAP50  mAP50-95)     Pose(P          R      mAP50  mAP50-95): 100%|██████████| 2/2 [00:00<00:00,  2.50it/s]"
          ]
        },
        {
          "output_type": "stream",
          "name": "stdout",
          "text": [
            "                   all         59        107      0.626       0.71      0.591      0.221      0.716      0.813      0.749      0.381\n"
          ]
        },
        {
          "output_type": "stream",
          "name": "stderr",
          "text": [
            "\n"
          ]
        },
        {
          "output_type": "stream",
          "name": "stdout",
          "text": [
            "\n",
            "      Epoch    GPU_mem   box_loss  pose_loss  kobj_loss   cls_loss   dfl_loss  Instances       Size\n"
          ]
        },
        {
          "output_type": "stream",
          "name": "stderr",
          "text": [
            "     35/100      5.06G      1.682      1.827     0.3987      1.325      1.712        113        640: 100%|██████████| 8/8 [00:02<00:00,  2.83it/s]\n",
            "                 Class     Images  Instances      Box(P          R      mAP50  mAP50-95)     Pose(P          R      mAP50  mAP50-95): 100%|██████████| 2/2 [00:00<00:00,  2.79it/s]"
          ]
        },
        {
          "output_type": "stream",
          "name": "stdout",
          "text": [
            "                   all         59        107      0.599      0.692      0.653      0.207      0.649      0.766      0.712      0.371\n"
          ]
        },
        {
          "output_type": "stream",
          "name": "stderr",
          "text": [
            "\n"
          ]
        },
        {
          "output_type": "stream",
          "name": "stdout",
          "text": [
            "\n",
            "      Epoch    GPU_mem   box_loss  pose_loss  kobj_loss   cls_loss   dfl_loss  Instances       Size\n"
          ]
        },
        {
          "output_type": "stream",
          "name": "stderr",
          "text": [
            "     36/100      5.08G      1.741      1.791      0.402      1.339      1.745         86        640: 100%|██████████| 8/8 [00:03<00:00,  2.22it/s]\n",
            "                 Class     Images  Instances      Box(P          R      mAP50  mAP50-95)     Pose(P          R      mAP50  mAP50-95): 100%|██████████| 2/2 [00:01<00:00,  1.80it/s]"
          ]
        },
        {
          "output_type": "stream",
          "name": "stdout",
          "text": [
            "                   all         59        107      0.595      0.741      0.659      0.238      0.641      0.803      0.744      0.365\n"
          ]
        },
        {
          "output_type": "stream",
          "name": "stderr",
          "text": [
            "\n"
          ]
        },
        {
          "output_type": "stream",
          "name": "stdout",
          "text": [
            "\n",
            "      Epoch    GPU_mem   box_loss  pose_loss  kobj_loss   cls_loss   dfl_loss  Instances       Size\n"
          ]
        },
        {
          "output_type": "stream",
          "name": "stderr",
          "text": [
            "     37/100       5.1G      1.693      1.677     0.3828      1.302      1.705         85        640: 100%|██████████| 8/8 [00:03<00:00,  2.48it/s]\n",
            "                 Class     Images  Instances      Box(P          R      mAP50  mAP50-95)     Pose(P          R      mAP50  mAP50-95): 100%|██████████| 2/2 [00:00<00:00,  2.86it/s]"
          ]
        },
        {
          "output_type": "stream",
          "name": "stdout",
          "text": [
            "                   all         59        107      0.604      0.654      0.631      0.208      0.737      0.729      0.822      0.365\n"
          ]
        },
        {
          "output_type": "stream",
          "name": "stderr",
          "text": [
            "\n"
          ]
        },
        {
          "output_type": "stream",
          "name": "stdout",
          "text": [
            "\n",
            "      Epoch    GPU_mem   box_loss  pose_loss  kobj_loss   cls_loss   dfl_loss  Instances       Size\n"
          ]
        },
        {
          "output_type": "stream",
          "name": "stderr",
          "text": [
            "     38/100      5.11G      1.721      1.756      0.407      1.318      1.753         86        640: 100%|██████████| 8/8 [00:02<00:00,  2.80it/s]\n",
            "                 Class     Images  Instances      Box(P          R      mAP50  mAP50-95)     Pose(P          R      mAP50  mAP50-95): 100%|██████████| 2/2 [00:00<00:00,  2.48it/s]"
          ]
        },
        {
          "output_type": "stream",
          "name": "stdout",
          "text": [
            "                   all         59        107      0.619       0.71      0.664      0.231      0.669      0.776      0.721      0.318\n"
          ]
        },
        {
          "output_type": "stream",
          "name": "stderr",
          "text": [
            "\n"
          ]
        },
        {
          "output_type": "stream",
          "name": "stdout",
          "text": [
            "\n",
            "      Epoch    GPU_mem   box_loss  pose_loss  kobj_loss   cls_loss   dfl_loss  Instances       Size\n"
          ]
        },
        {
          "output_type": "stream",
          "name": "stderr",
          "text": [
            "     39/100      5.13G      1.721      1.745     0.4047      1.326      1.745         86        640: 100%|██████████| 8/8 [00:03<00:00,  2.22it/s]\n",
            "                 Class     Images  Instances      Box(P          R      mAP50  mAP50-95)     Pose(P          R      mAP50  mAP50-95): 100%|██████████| 2/2 [00:01<00:00,  1.76it/s]"
          ]
        },
        {
          "output_type": "stream",
          "name": "stdout",
          "text": [
            "                   all         59        107      0.485      0.701      0.576      0.177       0.63      0.729      0.667      0.324\n"
          ]
        },
        {
          "output_type": "stream",
          "name": "stderr",
          "text": [
            "\n"
          ]
        },
        {
          "output_type": "stream",
          "name": "stdout",
          "text": [
            "\n",
            "      Epoch    GPU_mem   box_loss  pose_loss  kobj_loss   cls_loss   dfl_loss  Instances       Size\n"
          ]
        },
        {
          "output_type": "stream",
          "name": "stderr",
          "text": [
            "     40/100      5.14G      1.687      1.724     0.3818      1.301      1.704         68        640: 100%|██████████| 8/8 [00:02<00:00,  2.79it/s]\n",
            "                 Class     Images  Instances      Box(P          R      mAP50  mAP50-95)     Pose(P          R      mAP50  mAP50-95): 100%|██████████| 2/2 [00:00<00:00,  2.68it/s]"
          ]
        },
        {
          "output_type": "stream",
          "name": "stdout",
          "text": [
            "                   all         59        107      0.649      0.657      0.669       0.22      0.742      0.752      0.771      0.355\n"
          ]
        },
        {
          "output_type": "stream",
          "name": "stderr",
          "text": [
            "\n"
          ]
        },
        {
          "output_type": "stream",
          "name": "stdout",
          "text": [
            "\n",
            "      Epoch    GPU_mem   box_loss  pose_loss  kobj_loss   cls_loss   dfl_loss  Instances       Size\n"
          ]
        },
        {
          "output_type": "stream",
          "name": "stderr",
          "text": [
            "     41/100      5.16G      1.624      1.713     0.3816      1.198      1.624        111        640: 100%|██████████| 8/8 [00:02<00:00,  2.78it/s]\n",
            "                 Class     Images  Instances      Box(P          R      mAP50  mAP50-95)     Pose(P          R      mAP50  mAP50-95): 100%|██████████| 2/2 [00:00<00:00,  2.87it/s]"
          ]
        },
        {
          "output_type": "stream",
          "name": "stdout",
          "text": [
            "                   all         59        107      0.627      0.748      0.665      0.262      0.707      0.835      0.767      0.355\n"
          ]
        },
        {
          "output_type": "stream",
          "name": "stderr",
          "text": [
            "\n"
          ]
        },
        {
          "output_type": "stream",
          "name": "stdout",
          "text": [
            "\n",
            "      Epoch    GPU_mem   box_loss  pose_loss  kobj_loss   cls_loss   dfl_loss  Instances       Size\n"
          ]
        },
        {
          "output_type": "stream",
          "name": "stderr",
          "text": [
            "     42/100      5.17G      1.633      1.742     0.3984      1.308      1.659         97        640: 100%|██████████| 8/8 [00:03<00:00,  2.19it/s]\n",
            "                 Class     Images  Instances      Box(P          R      mAP50  mAP50-95)     Pose(P          R      mAP50  mAP50-95): 100%|██████████| 2/2 [00:01<00:00,  1.25it/s]"
          ]
        },
        {
          "output_type": "stream",
          "name": "stdout",
          "text": [
            "                   all         59        107      0.616      0.748      0.671      0.244      0.723      0.841      0.783      0.385\n"
          ]
        },
        {
          "output_type": "stream",
          "name": "stderr",
          "text": [
            "\n"
          ]
        },
        {
          "output_type": "stream",
          "name": "stdout",
          "text": [
            "\n",
            "      Epoch    GPU_mem   box_loss  pose_loss  kobj_loss   cls_loss   dfl_loss  Instances       Size\n"
          ]
        },
        {
          "output_type": "stream",
          "name": "stderr",
          "text": [
            "     43/100      5.19G      1.659      1.775     0.3862      1.236      1.649        106        640: 100%|██████████| 8/8 [00:03<00:00,  2.43it/s]\n",
            "                 Class     Images  Instances      Box(P          R      mAP50  mAP50-95)     Pose(P          R      mAP50  mAP50-95): 100%|██████████| 2/2 [00:01<00:00,  1.35it/s]"
          ]
        },
        {
          "output_type": "stream",
          "name": "stdout",
          "text": [
            "                   all         59        107      0.635      0.729       0.64      0.224       0.71      0.822      0.753      0.389\n"
          ]
        },
        {
          "output_type": "stream",
          "name": "stderr",
          "text": [
            "\n"
          ]
        },
        {
          "output_type": "stream",
          "name": "stdout",
          "text": [
            "\n",
            "      Epoch    GPU_mem   box_loss  pose_loss  kobj_loss   cls_loss   dfl_loss  Instances       Size\n"
          ]
        },
        {
          "output_type": "stream",
          "name": "stderr",
          "text": [
            "     44/100      5.21G      1.592      1.773     0.3884      1.228      1.609         90        640: 100%|██████████| 8/8 [00:03<00:00,  2.43it/s]\n",
            "                 Class     Images  Instances      Box(P          R      mAP50  mAP50-95)     Pose(P          R      mAP50  mAP50-95): 100%|██████████| 2/2 [00:01<00:00,  1.53it/s]"
          ]
        },
        {
          "output_type": "stream",
          "name": "stdout",
          "text": [
            "                   all         59        107      0.663      0.698      0.669      0.247      0.687      0.799       0.74      0.377\n"
          ]
        },
        {
          "output_type": "stream",
          "name": "stderr",
          "text": [
            "\n"
          ]
        },
        {
          "output_type": "stream",
          "name": "stdout",
          "text": [
            "\n",
            "      Epoch    GPU_mem   box_loss  pose_loss  kobj_loss   cls_loss   dfl_loss  Instances       Size\n"
          ]
        },
        {
          "output_type": "stream",
          "name": "stderr",
          "text": [
            "     45/100      5.22G      1.554      1.784     0.3815       1.18      1.573        133        640: 100%|██████████| 8/8 [00:02<00:00,  2.82it/s]\n",
            "                 Class     Images  Instances      Box(P          R      mAP50  mAP50-95)     Pose(P          R      mAP50  mAP50-95): 100%|██████████| 2/2 [00:00<00:00,  2.72it/s]"
          ]
        },
        {
          "output_type": "stream",
          "name": "stdout",
          "text": [
            "                   all         59        107      0.722      0.704      0.732      0.248       0.78      0.761        0.8      0.414\n"
          ]
        },
        {
          "output_type": "stream",
          "name": "stderr",
          "text": [
            "\n"
          ]
        },
        {
          "output_type": "stream",
          "name": "stdout",
          "text": [
            "\n",
            "      Epoch    GPU_mem   box_loss  pose_loss  kobj_loss   cls_loss   dfl_loss  Instances       Size\n"
          ]
        },
        {
          "output_type": "stream",
          "name": "stderr",
          "text": [
            "     46/100      5.24G      1.631      1.756      0.416       1.17      1.608         96        640: 100%|██████████| 8/8 [00:02<00:00,  2.82it/s]\n",
            "                 Class     Images  Instances      Box(P          R      mAP50  mAP50-95)     Pose(P          R      mAP50  mAP50-95): 100%|██████████| 2/2 [00:00<00:00,  2.55it/s]"
          ]
        },
        {
          "output_type": "stream",
          "name": "stdout",
          "text": [
            "                   all         59        107      0.659      0.687      0.659      0.224      0.739      0.813      0.813      0.435\n"
          ]
        },
        {
          "output_type": "stream",
          "name": "stderr",
          "text": [
            "\n"
          ]
        },
        {
          "output_type": "stream",
          "name": "stdout",
          "text": [
            "\n",
            "      Epoch    GPU_mem   box_loss  pose_loss  kobj_loss   cls_loss   dfl_loss  Instances       Size\n"
          ]
        },
        {
          "output_type": "stream",
          "name": "stderr",
          "text": [
            "     47/100      5.25G      1.673      1.662     0.3887      1.234      1.642         84        640: 100%|██████████| 8/8 [00:03<00:00,  2.45it/s]\n",
            "                 Class     Images  Instances      Box(P          R      mAP50  mAP50-95)     Pose(P          R      mAP50  mAP50-95): 100%|██████████| 2/2 [00:01<00:00,  1.18it/s]"
          ]
        },
        {
          "output_type": "stream",
          "name": "stdout",
          "text": [
            "                   all         59        107      0.575      0.797      0.715      0.265      0.673      0.768      0.787       0.43\n"
          ]
        },
        {
          "output_type": "stream",
          "name": "stderr",
          "text": [
            "\n"
          ]
        },
        {
          "output_type": "stream",
          "name": "stdout",
          "text": [
            "\n",
            "      Epoch    GPU_mem   box_loss  pose_loss  kobj_loss   cls_loss   dfl_loss  Instances       Size\n"
          ]
        },
        {
          "output_type": "stream",
          "name": "stderr",
          "text": [
            "     48/100      5.27G      1.613      1.812       0.38      1.202      1.612         73        640: 100%|██████████| 8/8 [00:03<00:00,  2.55it/s]\n",
            "                 Class     Images  Instances      Box(P          R      mAP50  mAP50-95)     Pose(P          R      mAP50  mAP50-95): 100%|██████████| 2/2 [00:00<00:00,  2.68it/s]"
          ]
        },
        {
          "output_type": "stream",
          "name": "stdout",
          "text": [
            "                   all         59        107      0.654      0.689      0.655      0.225      0.602      0.907      0.756      0.386\n"
          ]
        },
        {
          "output_type": "stream",
          "name": "stderr",
          "text": [
            "\n"
          ]
        },
        {
          "output_type": "stream",
          "name": "stdout",
          "text": [
            "\n",
            "      Epoch    GPU_mem   box_loss  pose_loss  kobj_loss   cls_loss   dfl_loss  Instances       Size\n"
          ]
        },
        {
          "output_type": "stream",
          "name": "stderr",
          "text": [
            "     49/100      5.28G      1.605      1.695     0.3773       1.23      1.628         74        640: 100%|██████████| 8/8 [00:02<00:00,  2.69it/s]\n",
            "                 Class     Images  Instances      Box(P          R      mAP50  mAP50-95)     Pose(P          R      mAP50  mAP50-95): 100%|██████████| 2/2 [00:01<00:00,  1.95it/s]\n"
          ]
        },
        {
          "output_type": "stream",
          "name": "stdout",
          "text": [
            "                   all         59        107      0.657      0.729      0.697      0.248      0.716      0.794       0.82      0.451\n",
            "\n",
            "      Epoch    GPU_mem   box_loss  pose_loss  kobj_loss   cls_loss   dfl_loss  Instances       Size\n"
          ]
        },
        {
          "output_type": "stream",
          "name": "stderr",
          "text": [
            "     50/100       5.3G      1.577       1.71      0.343      1.179      1.599         68        640: 100%|██████████| 8/8 [00:03<00:00,  2.08it/s]\n",
            "                 Class     Images  Instances      Box(P          R      mAP50  mAP50-95)     Pose(P          R      mAP50  mAP50-95): 100%|██████████| 2/2 [00:01<00:00,  1.89it/s]"
          ]
        },
        {
          "output_type": "stream",
          "name": "stdout",
          "text": [
            "                   all         59        107      0.646       0.72      0.718      0.229      0.728      0.804      0.846      0.433\n"
          ]
        },
        {
          "output_type": "stream",
          "name": "stderr",
          "text": [
            "\n"
          ]
        },
        {
          "output_type": "stream",
          "name": "stdout",
          "text": [
            "\n",
            "      Epoch    GPU_mem   box_loss  pose_loss  kobj_loss   cls_loss   dfl_loss  Instances       Size\n"
          ]
        },
        {
          "output_type": "stream",
          "name": "stderr",
          "text": [
            "     51/100      5.31G      1.591      1.642     0.3641      1.169      1.637         88        640: 100%|██████████| 8/8 [00:02<00:00,  2.76it/s]\n",
            "                 Class     Images  Instances      Box(P          R      mAP50  mAP50-95)     Pose(P          R      mAP50  mAP50-95): 100%|██████████| 2/2 [00:00<00:00,  2.77it/s]"
          ]
        },
        {
          "output_type": "stream",
          "name": "stdout",
          "text": [
            "                   all         59        107      0.628      0.729      0.731      0.257      0.684      0.794      0.823      0.428\n"
          ]
        },
        {
          "output_type": "stream",
          "name": "stderr",
          "text": [
            "\n"
          ]
        },
        {
          "output_type": "stream",
          "name": "stdout",
          "text": [
            "\n",
            "      Epoch    GPU_mem   box_loss  pose_loss  kobj_loss   cls_loss   dfl_loss  Instances       Size\n"
          ]
        },
        {
          "output_type": "stream",
          "name": "stderr",
          "text": [
            "     52/100      5.33G       1.57      1.704     0.3452      1.164      1.601         89        640: 100%|██████████| 8/8 [00:02<00:00,  2.89it/s]\n",
            "                 Class     Images  Instances      Box(P          R      mAP50  mAP50-95)     Pose(P          R      mAP50  mAP50-95): 100%|██████████| 2/2 [00:00<00:00,  2.21it/s]"
          ]
        },
        {
          "output_type": "stream",
          "name": "stdout",
          "text": [
            "                   all         59        107      0.645      0.701      0.642      0.186      0.715      0.794      0.768      0.423\n"
          ]
        },
        {
          "output_type": "stream",
          "name": "stderr",
          "text": [
            "\n"
          ]
        },
        {
          "output_type": "stream",
          "name": "stdout",
          "text": [
            "\n",
            "      Epoch    GPU_mem   box_loss  pose_loss  kobj_loss   cls_loss   dfl_loss  Instances       Size\n"
          ]
        },
        {
          "output_type": "stream",
          "name": "stderr",
          "text": [
            "     53/100      5.34G      1.558      1.598     0.3265      1.183      1.583        118        640: 100%|██████████| 8/8 [00:03<00:00,  2.18it/s]\n",
            "                 Class     Images  Instances      Box(P          R      mAP50  mAP50-95)     Pose(P          R      mAP50  mAP50-95): 100%|██████████| 2/2 [00:00<00:00,  2.05it/s]"
          ]
        },
        {
          "output_type": "stream",
          "name": "stdout",
          "text": [
            "                   all         59        107       0.69      0.701      0.706      0.245      0.703      0.804      0.794      0.427\n"
          ]
        },
        {
          "output_type": "stream",
          "name": "stderr",
          "text": [
            "\n"
          ]
        },
        {
          "output_type": "stream",
          "name": "stdout",
          "text": [
            "\n",
            "      Epoch    GPU_mem   box_loss  pose_loss  kobj_loss   cls_loss   dfl_loss  Instances       Size\n"
          ]
        },
        {
          "output_type": "stream",
          "name": "stderr",
          "text": [
            "     54/100      5.36G      1.578      1.614     0.3733      1.114      1.581         80        640: 100%|██████████| 8/8 [00:02<00:00,  2.70it/s]\n",
            "                 Class     Images  Instances      Box(P          R      mAP50  mAP50-95)     Pose(P          R      mAP50  mAP50-95): 100%|██████████| 2/2 [00:00<00:00,  2.86it/s]"
          ]
        },
        {
          "output_type": "stream",
          "name": "stdout",
          "text": [
            "                   all         59        107      0.652      0.813      0.715      0.243      0.683       0.85      0.767      0.422\n"
          ]
        },
        {
          "output_type": "stream",
          "name": "stderr",
          "text": [
            "\n"
          ]
        },
        {
          "output_type": "stream",
          "name": "stdout",
          "text": [
            "\n",
            "      Epoch    GPU_mem   box_loss  pose_loss  kobj_loss   cls_loss   dfl_loss  Instances       Size\n"
          ]
        },
        {
          "output_type": "stream",
          "name": "stderr",
          "text": [
            "     55/100      5.38G      1.497      1.689     0.3526      1.095      1.515         81        640: 100%|██████████| 8/8 [00:02<00:00,  2.76it/s]\n",
            "                 Class     Images  Instances      Box(P          R      mAP50  mAP50-95)     Pose(P          R      mAP50  mAP50-95): 100%|██████████| 2/2 [00:00<00:00,  2.88it/s]"
          ]
        },
        {
          "output_type": "stream",
          "name": "stdout",
          "text": [
            "                   all         59        107      0.714      0.757      0.716      0.252      0.779      0.832      0.832      0.442\n"
          ]
        },
        {
          "output_type": "stream",
          "name": "stderr",
          "text": [
            "\n"
          ]
        },
        {
          "output_type": "stream",
          "name": "stdout",
          "text": [
            "\n",
            "      Epoch    GPU_mem   box_loss  pose_loss  kobj_loss   cls_loss   dfl_loss  Instances       Size\n"
          ]
        },
        {
          "output_type": "stream",
          "name": "stderr",
          "text": [
            "     56/100      5.39G      1.575      1.591     0.3568      1.084      1.559         96        640: 100%|██████████| 8/8 [00:03<00:00,  2.21it/s]\n",
            "                 Class     Images  Instances      Box(P          R      mAP50  mAP50-95)     Pose(P          R      mAP50  mAP50-95): 100%|██████████| 2/2 [00:01<00:00,  1.85it/s]"
          ]
        },
        {
          "output_type": "stream",
          "name": "stdout",
          "text": [
            "                   all         59        107      0.663      0.748      0.683      0.251      0.721      0.813      0.818      0.447\n"
          ]
        },
        {
          "output_type": "stream",
          "name": "stderr",
          "text": [
            "\n"
          ]
        },
        {
          "output_type": "stream",
          "name": "stdout",
          "text": [
            "\n",
            "      Epoch    GPU_mem   box_loss  pose_loss  kobj_loss   cls_loss   dfl_loss  Instances       Size\n"
          ]
        },
        {
          "output_type": "stream",
          "name": "stderr",
          "text": [
            "     57/100      5.41G      1.474      1.704     0.3696      1.055      1.514        117        640: 100%|██████████| 8/8 [00:02<00:00,  2.74it/s]\n",
            "                 Class     Images  Instances      Box(P          R      mAP50  mAP50-95)     Pose(P          R      mAP50  mAP50-95): 100%|██████████| 2/2 [00:00<00:00,  2.93it/s]"
          ]
        },
        {
          "output_type": "stream",
          "name": "stdout",
          "text": [
            "                   all         59        107      0.709      0.701      0.686      0.229      0.789      0.802      0.829      0.437\n"
          ]
        },
        {
          "output_type": "stream",
          "name": "stderr",
          "text": [
            "\n"
          ]
        },
        {
          "output_type": "stream",
          "name": "stdout",
          "text": [
            "\n",
            "      Epoch    GPU_mem   box_loss  pose_loss  kobj_loss   cls_loss   dfl_loss  Instances       Size\n"
          ]
        },
        {
          "output_type": "stream",
          "name": "stderr",
          "text": [
            "     58/100      5.42G       1.49      1.553     0.3424      1.049       1.52        106        640: 100%|██████████| 8/8 [00:02<00:00,  2.76it/s]\n",
            "                 Class     Images  Instances      Box(P          R      mAP50  mAP50-95)     Pose(P          R      mAP50  mAP50-95): 100%|██████████| 2/2 [00:00<00:00,  2.88it/s]"
          ]
        },
        {
          "output_type": "stream",
          "name": "stdout",
          "text": [
            "                   all         59        107      0.675      0.785      0.731      0.278      0.796      0.801      0.834      0.438\n"
          ]
        },
        {
          "output_type": "stream",
          "name": "stderr",
          "text": [
            "\n"
          ]
        },
        {
          "output_type": "stream",
          "name": "stdout",
          "text": [
            "\n",
            "      Epoch    GPU_mem   box_loss  pose_loss  kobj_loss   cls_loss   dfl_loss  Instances       Size\n"
          ]
        },
        {
          "output_type": "stream",
          "name": "stderr",
          "text": [
            "     59/100      5.44G      1.451      1.578     0.3466      1.004      1.483         96        640: 100%|██████████| 8/8 [00:03<00:00,  2.07it/s]\n",
            "                 Class     Images  Instances      Box(P          R      mAP50  mAP50-95)     Pose(P          R      mAP50  mAP50-95): 100%|██████████| 2/2 [00:00<00:00,  2.35it/s]"
          ]
        },
        {
          "output_type": "stream",
          "name": "stdout",
          "text": [
            "                   all         59        107      0.771      0.738      0.753       0.27       0.83      0.794       0.86      0.469\n"
          ]
        },
        {
          "output_type": "stream",
          "name": "stderr",
          "text": [
            "\n"
          ]
        },
        {
          "output_type": "stream",
          "name": "stdout",
          "text": [
            "\n",
            "      Epoch    GPU_mem   box_loss  pose_loss  kobj_loss   cls_loss   dfl_loss  Instances       Size\n"
          ]
        },
        {
          "output_type": "stream",
          "name": "stderr",
          "text": [
            "     60/100      5.45G      1.528       1.53     0.3656       1.09       1.54         97        640: 100%|██████████| 8/8 [00:02<00:00,  2.80it/s]\n",
            "                 Class     Images  Instances      Box(P          R      mAP50  mAP50-95)     Pose(P          R      mAP50  mAP50-95): 100%|██████████| 2/2 [00:00<00:00,  2.70it/s]"
          ]
        },
        {
          "output_type": "stream",
          "name": "stdout",
          "text": [
            "                   all         59        107      0.758      0.701      0.737      0.275      0.852      0.757      0.859      0.483\n"
          ]
        },
        {
          "output_type": "stream",
          "name": "stderr",
          "text": [
            "\n"
          ]
        },
        {
          "output_type": "stream",
          "name": "stdout",
          "text": [
            "\n",
            "      Epoch    GPU_mem   box_loss  pose_loss  kobj_loss   cls_loss   dfl_loss  Instances       Size\n"
          ]
        },
        {
          "output_type": "stream",
          "name": "stderr",
          "text": [
            "     61/100      5.47G      1.492      1.493     0.3454      1.052      1.531         88        640: 100%|██████████| 8/8 [00:02<00:00,  2.77it/s]\n",
            "                 Class     Images  Instances      Box(P          R      mAP50  mAP50-95)     Pose(P          R      mAP50  mAP50-95): 100%|██████████| 2/2 [00:00<00:00,  2.46it/s]"
          ]
        },
        {
          "output_type": "stream",
          "name": "stdout",
          "text": [
            "                   all         59        107      0.731      0.804      0.775      0.273      0.791      0.869      0.867      0.486\n"
          ]
        },
        {
          "output_type": "stream",
          "name": "stderr",
          "text": [
            "\n"
          ]
        },
        {
          "output_type": "stream",
          "name": "stdout",
          "text": [
            "\n",
            "      Epoch    GPU_mem   box_loss  pose_loss  kobj_loss   cls_loss   dfl_loss  Instances       Size\n"
          ]
        },
        {
          "output_type": "stream",
          "name": "stderr",
          "text": [
            "     62/100      5.48G      1.523       1.56     0.3668      1.051      1.513         90        640: 100%|██████████| 8/8 [00:03<00:00,  2.10it/s]\n",
            "                 Class     Images  Instances      Box(P          R      mAP50  mAP50-95)     Pose(P          R      mAP50  mAP50-95): 100%|██████████| 2/2 [00:00<00:00,  2.09it/s]"
          ]
        },
        {
          "output_type": "stream",
          "name": "stdout",
          "text": [
            "                   all         59        107      0.674      0.776      0.747      0.283      0.736       0.85      0.837      0.453\n"
          ]
        },
        {
          "output_type": "stream",
          "name": "stderr",
          "text": [
            "\n"
          ]
        },
        {
          "output_type": "stream",
          "name": "stdout",
          "text": [
            "\n",
            "      Epoch    GPU_mem   box_loss  pose_loss  kobj_loss   cls_loss   dfl_loss  Instances       Size\n"
          ]
        },
        {
          "output_type": "stream",
          "name": "stderr",
          "text": [
            "     63/100       5.5G      1.433      1.624      0.355       1.05      1.488        106        640: 100%|██████████| 8/8 [00:02<00:00,  2.87it/s]\n",
            "                 Class     Images  Instances      Box(P          R      mAP50  mAP50-95)     Pose(P          R      mAP50  mAP50-95): 100%|██████████| 2/2 [00:00<00:00,  2.47it/s]"
          ]
        },
        {
          "output_type": "stream",
          "name": "stdout",
          "text": [
            "                   all         59        107      0.653      0.758       0.71      0.277      0.723      0.832      0.802      0.407\n"
          ]
        },
        {
          "output_type": "stream",
          "name": "stderr",
          "text": [
            "\n"
          ]
        },
        {
          "output_type": "stream",
          "name": "stdout",
          "text": [
            "\n",
            "      Epoch    GPU_mem   box_loss  pose_loss  kobj_loss   cls_loss   dfl_loss  Instances       Size\n"
          ]
        },
        {
          "output_type": "stream",
          "name": "stderr",
          "text": [
            "     64/100      5.51G      1.441       1.58     0.3352      1.025       1.48         80        640: 100%|██████████| 8/8 [00:02<00:00,  2.70it/s]\n",
            "                 Class     Images  Instances      Box(P          R      mAP50  mAP50-95)     Pose(P          R      mAP50  mAP50-95): 100%|██████████| 2/2 [00:00<00:00,  2.16it/s]"
          ]
        },
        {
          "output_type": "stream",
          "name": "stdout",
          "text": [
            "                   all         59        107      0.754      0.701      0.713      0.261      0.812      0.766      0.831      0.433\n"
          ]
        },
        {
          "output_type": "stream",
          "name": "stderr",
          "text": [
            "\n"
          ]
        },
        {
          "output_type": "stream",
          "name": "stdout",
          "text": [
            "\n",
            "      Epoch    GPU_mem   box_loss  pose_loss  kobj_loss   cls_loss   dfl_loss  Instances       Size\n"
          ]
        },
        {
          "output_type": "stream",
          "name": "stderr",
          "text": [
            "     65/100      5.53G      1.401      1.481     0.3341      0.995       1.45         85        640: 100%|██████████| 8/8 [00:03<00:00,  2.07it/s]\n",
            "                 Class     Images  Instances      Box(P          R      mAP50  mAP50-95)     Pose(P          R      mAP50  mAP50-95): 100%|██████████| 2/2 [00:00<00:00,  2.15it/s]"
          ]
        },
        {
          "output_type": "stream",
          "name": "stdout",
          "text": [
            "                   all         59        107      0.685      0.774      0.706      0.273      0.779      0.888      0.856       0.46\n"
          ]
        },
        {
          "output_type": "stream",
          "name": "stderr",
          "text": [
            "\n"
          ]
        },
        {
          "output_type": "stream",
          "name": "stdout",
          "text": [
            "\n",
            "      Epoch    GPU_mem   box_loss  pose_loss  kobj_loss   cls_loss   dfl_loss  Instances       Size\n"
          ]
        },
        {
          "output_type": "stream",
          "name": "stderr",
          "text": [
            "     66/100      5.54G      1.472      1.515     0.3458      1.043      1.508         75        640: 100%|██████████| 8/8 [00:03<00:00,  2.65it/s]\n",
            "                 Class     Images  Instances      Box(P          R      mAP50  mAP50-95)     Pose(P          R      mAP50  mAP50-95): 100%|██████████| 2/2 [00:00<00:00,  2.94it/s]"
          ]
        },
        {
          "output_type": "stream",
          "name": "stdout",
          "text": [
            "                   all         59        107      0.715      0.804      0.752      0.289      0.761       0.86      0.837      0.454\n"
          ]
        },
        {
          "output_type": "stream",
          "name": "stderr",
          "text": [
            "\n"
          ]
        },
        {
          "output_type": "stream",
          "name": "stdout",
          "text": [
            "\n",
            "      Epoch    GPU_mem   box_loss  pose_loss  kobj_loss   cls_loss   dfl_loss  Instances       Size\n"
          ]
        },
        {
          "output_type": "stream",
          "name": "stderr",
          "text": [
            "     67/100      5.56G      1.434      1.635     0.3626      1.026      1.483         87        640: 100%|██████████| 8/8 [00:03<00:00,  2.53it/s]\n",
            "                 Class     Images  Instances      Box(P          R      mAP50  mAP50-95)     Pose(P          R      mAP50  mAP50-95): 100%|██████████| 2/2 [00:00<00:00,  2.04it/s]"
          ]
        },
        {
          "output_type": "stream",
          "name": "stdout",
          "text": [
            "                   all         59        107        0.7      0.757      0.708      0.275      0.751      0.813      0.794      0.417\n"
          ]
        },
        {
          "output_type": "stream",
          "name": "stderr",
          "text": [
            "\n"
          ]
        },
        {
          "output_type": "stream",
          "name": "stdout",
          "text": [
            "\n",
            "      Epoch    GPU_mem   box_loss  pose_loss  kobj_loss   cls_loss   dfl_loss  Instances       Size\n"
          ]
        },
        {
          "output_type": "stream",
          "name": "stderr",
          "text": [
            "     68/100      5.58G      1.386      1.494     0.3367     0.9673      1.438        100        640: 100%|██████████| 8/8 [00:03<00:00,  2.35it/s]\n",
            "                 Class     Images  Instances      Box(P          R      mAP50  mAP50-95)     Pose(P          R      mAP50  mAP50-95): 100%|██████████| 2/2 [00:00<00:00,  2.20it/s]"
          ]
        },
        {
          "output_type": "stream",
          "name": "stdout",
          "text": [
            "                   all         59        107      0.642      0.739      0.652      0.243      0.707      0.841      0.767      0.402\n"
          ]
        },
        {
          "output_type": "stream",
          "name": "stderr",
          "text": [
            "\n"
          ]
        },
        {
          "output_type": "stream",
          "name": "stdout",
          "text": [
            "\n",
            "      Epoch    GPU_mem   box_loss  pose_loss  kobj_loss   cls_loss   dfl_loss  Instances       Size\n"
          ]
        },
        {
          "output_type": "stream",
          "name": "stderr",
          "text": [
            "     69/100      5.59G      1.373      1.601     0.3455     0.9638      1.443         91        640: 100%|██████████| 8/8 [00:02<00:00,  2.77it/s]\n",
            "                 Class     Images  Instances      Box(P          R      mAP50  mAP50-95)     Pose(P          R      mAP50  mAP50-95): 100%|██████████| 2/2 [00:00<00:00,  2.62it/s]"
          ]
        },
        {
          "output_type": "stream",
          "name": "stdout",
          "text": [
            "                   all         59        107      0.736      0.728      0.693      0.239      0.819      0.794      0.841      0.452\n"
          ]
        },
        {
          "output_type": "stream",
          "name": "stderr",
          "text": [
            "\n"
          ]
        },
        {
          "output_type": "stream",
          "name": "stdout",
          "text": [
            "\n",
            "      Epoch    GPU_mem   box_loss  pose_loss  kobj_loss   cls_loss   dfl_loss  Instances       Size\n"
          ]
        },
        {
          "output_type": "stream",
          "name": "stderr",
          "text": [
            "     70/100      5.61G      1.368      1.488     0.3528     0.9429      1.422         95        640: 100%|██████████| 8/8 [00:02<00:00,  2.83it/s]\n",
            "                 Class     Images  Instances      Box(P          R      mAP50  mAP50-95)     Pose(P          R      mAP50  mAP50-95): 100%|██████████| 2/2 [00:00<00:00,  2.18it/s]"
          ]
        },
        {
          "output_type": "stream",
          "name": "stdout",
          "text": [
            "                   all         59        107      0.704      0.766      0.711      0.249      0.759      0.832      0.843      0.432\n"
          ]
        },
        {
          "output_type": "stream",
          "name": "stderr",
          "text": [
            "\n"
          ]
        },
        {
          "output_type": "stream",
          "name": "stdout",
          "text": [
            "\n",
            "      Epoch    GPU_mem   box_loss  pose_loss  kobj_loss   cls_loss   dfl_loss  Instances       Size\n"
          ]
        },
        {
          "output_type": "stream",
          "name": "stderr",
          "text": [
            "     71/100      5.62G      1.375      1.485     0.3063     0.9584      1.432        138        640: 100%|██████████| 8/8 [00:03<00:00,  2.35it/s]\n",
            "                 Class     Images  Instances      Box(P          R      mAP50  mAP50-95)     Pose(P          R      mAP50  mAP50-95): 100%|██████████| 2/2 [00:00<00:00,  2.44it/s]"
          ]
        },
        {
          "output_type": "stream",
          "name": "stdout",
          "text": [
            "                   all         59        107      0.725      0.776       0.72      0.288      0.776      0.843      0.849      0.456\n"
          ]
        },
        {
          "output_type": "stream",
          "name": "stderr",
          "text": [
            "\n"
          ]
        },
        {
          "output_type": "stream",
          "name": "stdout",
          "text": [
            "\n",
            "      Epoch    GPU_mem   box_loss  pose_loss  kobj_loss   cls_loss   dfl_loss  Instances       Size\n"
          ]
        },
        {
          "output_type": "stream",
          "name": "stderr",
          "text": [
            "     72/100      5.64G      1.357      1.442     0.3309     0.9259      1.426         81        640: 100%|██████████| 8/8 [00:02<00:00,  2.77it/s]\n",
            "                 Class     Images  Instances      Box(P          R      mAP50  mAP50-95)     Pose(P          R      mAP50  mAP50-95): 100%|██████████| 2/2 [00:00<00:00,  2.55it/s]"
          ]
        },
        {
          "output_type": "stream",
          "name": "stdout",
          "text": [
            "                   all         59        107       0.68      0.757        0.7      0.252      0.736      0.832      0.848      0.443\n"
          ]
        },
        {
          "output_type": "stream",
          "name": "stderr",
          "text": [
            "\n"
          ]
        },
        {
          "output_type": "stream",
          "name": "stdout",
          "text": [
            "\n",
            "      Epoch    GPU_mem   box_loss  pose_loss  kobj_loss   cls_loss   dfl_loss  Instances       Size\n"
          ]
        },
        {
          "output_type": "stream",
          "name": "stderr",
          "text": [
            "     73/100      5.65G      1.341      1.636     0.3236     0.9265      1.406         76        640: 100%|██████████| 8/8 [00:02<00:00,  2.69it/s]\n",
            "                 Class     Images  Instances      Box(P          R      mAP50  mAP50-95)     Pose(P          R      mAP50  mAP50-95): 100%|██████████| 2/2 [00:01<00:00,  1.99it/s]"
          ]
        },
        {
          "output_type": "stream",
          "name": "stdout",
          "text": [
            "                   all         59        107       0.74      0.692      0.689      0.245      0.828      0.766      0.867      0.484\n"
          ]
        },
        {
          "output_type": "stream",
          "name": "stderr",
          "text": [
            "\n"
          ]
        },
        {
          "output_type": "stream",
          "name": "stdout",
          "text": [
            "\n",
            "      Epoch    GPU_mem   box_loss  pose_loss  kobj_loss   cls_loss   dfl_loss  Instances       Size\n"
          ]
        },
        {
          "output_type": "stream",
          "name": "stderr",
          "text": [
            "     74/100      5.67G      1.365      1.485     0.3277     0.9534      1.441        107        640: 100%|██████████| 8/8 [00:03<00:00,  2.35it/s]\n",
            "                 Class     Images  Instances      Box(P          R      mAP50  mAP50-95)     Pose(P          R      mAP50  mAP50-95): 100%|██████████| 2/2 [00:00<00:00,  2.33it/s]"
          ]
        },
        {
          "output_type": "stream",
          "name": "stdout",
          "text": [
            "                   all         59        107      0.818      0.713      0.778       0.28      0.861      0.756       0.88      0.511\n"
          ]
        },
        {
          "output_type": "stream",
          "name": "stderr",
          "text": [
            "\n"
          ]
        },
        {
          "output_type": "stream",
          "name": "stdout",
          "text": [
            "\n",
            "      Epoch    GPU_mem   box_loss  pose_loss  kobj_loss   cls_loss   dfl_loss  Instances       Size\n"
          ]
        },
        {
          "output_type": "stream",
          "name": "stderr",
          "text": [
            "     75/100      5.68G      1.323      1.482     0.3328     0.9301        1.4         97        640: 100%|██████████| 8/8 [00:02<00:00,  2.76it/s]\n",
            "                 Class     Images  Instances      Box(P          R      mAP50  mAP50-95)     Pose(P          R      mAP50  mAP50-95): 100%|██████████| 2/2 [00:00<00:00,  2.67it/s]"
          ]
        },
        {
          "output_type": "stream",
          "name": "stdout",
          "text": [
            "                   all         59        107      0.697      0.794      0.771       0.28      0.766      0.879      0.864      0.502\n"
          ]
        },
        {
          "output_type": "stream",
          "name": "stderr",
          "text": [
            "\n"
          ]
        },
        {
          "output_type": "stream",
          "name": "stdout",
          "text": [
            "\n",
            "      Epoch    GPU_mem   box_loss  pose_loss  kobj_loss   cls_loss   dfl_loss  Instances       Size\n"
          ]
        },
        {
          "output_type": "stream",
          "name": "stderr",
          "text": [
            "     76/100       5.7G      1.323      1.432     0.3245      0.935      1.391         87        640: 100%|██████████| 8/8 [00:02<00:00,  2.81it/s]\n",
            "                 Class     Images  Instances      Box(P          R      mAP50  mAP50-95)     Pose(P          R      mAP50  mAP50-95): 100%|██████████| 2/2 [00:01<00:00,  1.80it/s]"
          ]
        },
        {
          "output_type": "stream",
          "name": "stdout",
          "text": [
            "                   all         59        107      0.701       0.71      0.734      0.247        0.7      0.852      0.849      0.464\n"
          ]
        },
        {
          "output_type": "stream",
          "name": "stderr",
          "text": [
            "\n"
          ]
        },
        {
          "output_type": "stream",
          "name": "stdout",
          "text": [
            "\n",
            "      Epoch    GPU_mem   box_loss  pose_loss  kobj_loss   cls_loss   dfl_loss  Instances       Size\n"
          ]
        },
        {
          "output_type": "stream",
          "name": "stderr",
          "text": [
            "     77/100      5.71G      1.311      1.465     0.3232     0.8847      1.396         94        640: 100%|██████████| 8/8 [00:03<00:00,  2.36it/s]\n",
            "                 Class     Images  Instances      Box(P          R      mAP50  mAP50-95)     Pose(P          R      mAP50  mAP50-95): 100%|██████████| 2/2 [00:00<00:00,  2.06it/s]"
          ]
        },
        {
          "output_type": "stream",
          "name": "stdout",
          "text": [
            "                   all         59        107      0.741      0.696      0.754      0.277      0.715      0.879      0.862      0.467\n"
          ]
        },
        {
          "output_type": "stream",
          "name": "stderr",
          "text": [
            "\n"
          ]
        },
        {
          "output_type": "stream",
          "name": "stdout",
          "text": [
            "\n",
            "      Epoch    GPU_mem   box_loss  pose_loss  kobj_loss   cls_loss   dfl_loss  Instances       Size\n"
          ]
        },
        {
          "output_type": "stream",
          "name": "stderr",
          "text": [
            "     78/100      5.73G      1.347      1.443      0.341      0.914      1.414         82        640: 100%|██████████| 8/8 [00:03<00:00,  2.18it/s]\n",
            "                 Class     Images  Instances      Box(P          R      mAP50  mAP50-95)     Pose(P          R      mAP50  mAP50-95): 100%|██████████| 2/2 [00:01<00:00,  1.70it/s]"
          ]
        },
        {
          "output_type": "stream",
          "name": "stdout",
          "text": [
            "                   all         59        107      0.676      0.813      0.743      0.262      0.741      0.888      0.851      0.454\n"
          ]
        },
        {
          "output_type": "stream",
          "name": "stderr",
          "text": [
            "\n"
          ]
        },
        {
          "output_type": "stream",
          "name": "stdout",
          "text": [
            "\n",
            "      Epoch    GPU_mem   box_loss  pose_loss  kobj_loss   cls_loss   dfl_loss  Instances       Size\n"
          ]
        },
        {
          "output_type": "stream",
          "name": "stderr",
          "text": [
            "     79/100      5.75G      1.294      1.586     0.3485     0.8932      1.388         92        640: 100%|██████████| 8/8 [00:03<00:00,  2.45it/s]\n",
            "                 Class     Images  Instances      Box(P          R      mAP50  mAP50-95)     Pose(P          R      mAP50  mAP50-95): 100%|██████████| 2/2 [00:01<00:00,  1.35it/s]\n"
          ]
        },
        {
          "output_type": "stream",
          "name": "stdout",
          "text": [
            "                   all         59        107      0.682      0.813      0.734      0.253      0.731      0.869      0.808      0.443\n",
            "\n",
            "      Epoch    GPU_mem   box_loss  pose_loss  kobj_loss   cls_loss   dfl_loss  Instances       Size\n"
          ]
        },
        {
          "output_type": "stream",
          "name": "stderr",
          "text": [
            "     80/100      5.76G        1.3       1.44     0.3215      0.927      1.385         92        640: 100%|██████████| 8/8 [00:02<00:00,  2.76it/s]\n",
            "                 Class     Images  Instances      Box(P          R      mAP50  mAP50-95)     Pose(P          R      mAP50  mAP50-95): 100%|██████████| 2/2 [00:00<00:00,  2.46it/s]"
          ]
        },
        {
          "output_type": "stream",
          "name": "stdout",
          "text": [
            "                   all         59        107      0.718      0.785      0.726      0.253      0.729      0.906      0.811      0.449\n"
          ]
        },
        {
          "output_type": "stream",
          "name": "stderr",
          "text": [
            "\n"
          ]
        },
        {
          "output_type": "stream",
          "name": "stdout",
          "text": [
            "\n",
            "      Epoch    GPU_mem   box_loss  pose_loss  kobj_loss   cls_loss   dfl_loss  Instances       Size\n"
          ]
        },
        {
          "output_type": "stream",
          "name": "stderr",
          "text": [
            "     81/100      5.78G      1.273       1.56     0.3327     0.8551      1.379         91        640: 100%|██████████| 8/8 [00:02<00:00,  2.79it/s]\n",
            "                 Class     Images  Instances      Box(P          R      mAP50  mAP50-95)     Pose(P          R      mAP50  mAP50-95): 100%|██████████| 2/2 [00:00<00:00,  2.64it/s]"
          ]
        },
        {
          "output_type": "stream",
          "name": "stdout",
          "text": [
            "                   all         59        107      0.698      0.804      0.744      0.267      0.756      0.869      0.832      0.443\n"
          ]
        },
        {
          "output_type": "stream",
          "name": "stderr",
          "text": [
            "\n"
          ]
        },
        {
          "output_type": "stream",
          "name": "stdout",
          "text": [
            "\n",
            "      Epoch    GPU_mem   box_loss  pose_loss  kobj_loss   cls_loss   dfl_loss  Instances       Size\n"
          ]
        },
        {
          "output_type": "stream",
          "name": "stderr",
          "text": [
            "     82/100      5.79G      1.248      1.404     0.3172     0.8755      1.362         79        640: 100%|██████████| 8/8 [00:03<00:00,  2.50it/s]\n",
            "                 Class     Images  Instances      Box(P          R      mAP50  mAP50-95)     Pose(P          R      mAP50  mAP50-95): 100%|██████████| 2/2 [00:01<00:00,  1.50it/s]"
          ]
        },
        {
          "output_type": "stream",
          "name": "stdout",
          "text": [
            "                   all         59        107      0.785      0.752      0.759      0.282      0.722      0.898      0.849      0.433\n"
          ]
        },
        {
          "output_type": "stream",
          "name": "stderr",
          "text": [
            "\n"
          ]
        },
        {
          "output_type": "stream",
          "name": "stdout",
          "text": [
            "\n",
            "      Epoch    GPU_mem   box_loss  pose_loss  kobj_loss   cls_loss   dfl_loss  Instances       Size\n"
          ]
        },
        {
          "output_type": "stream",
          "name": "stderr",
          "text": [
            "     83/100      5.81G       1.26      1.444     0.3317     0.8652      1.357         83        640: 100%|██████████| 8/8 [00:02<00:00,  2.78it/s]\n",
            "                 Class     Images  Instances      Box(P          R      mAP50  mAP50-95)     Pose(P          R      mAP50  mAP50-95): 100%|██████████| 2/2 [00:00<00:00,  2.97it/s]"
          ]
        },
        {
          "output_type": "stream",
          "name": "stdout",
          "text": [
            "                   all         59        107      0.675      0.835      0.717      0.275      0.729      0.925      0.831      0.428\n"
          ]
        },
        {
          "output_type": "stream",
          "name": "stderr",
          "text": [
            "\n"
          ]
        },
        {
          "output_type": "stream",
          "name": "stdout",
          "text": [
            "\n",
            "      Epoch    GPU_mem   box_loss  pose_loss  kobj_loss   cls_loss   dfl_loss  Instances       Size\n"
          ]
        },
        {
          "output_type": "stream",
          "name": "stderr",
          "text": [
            "     84/100      5.82G      1.249      1.419     0.3134     0.8635      1.367         66        640: 100%|██████████| 8/8 [00:02<00:00,  2.77it/s]\n",
            "                 Class     Images  Instances      Box(P          R      mAP50  mAP50-95)     Pose(P          R      mAP50  mAP50-95): 100%|██████████| 2/2 [00:00<00:00,  2.83it/s]"
          ]
        },
        {
          "output_type": "stream",
          "name": "stdout",
          "text": [
            "                   all         59        107      0.685      0.832      0.741      0.293      0.754      0.915      0.847      0.433\n"
          ]
        },
        {
          "output_type": "stream",
          "name": "stderr",
          "text": [
            "\n"
          ]
        },
        {
          "output_type": "stream",
          "name": "stdout",
          "text": [
            "\n",
            "      Epoch    GPU_mem   box_loss  pose_loss  kobj_loss   cls_loss   dfl_loss  Instances       Size\n"
          ]
        },
        {
          "output_type": "stream",
          "name": "stderr",
          "text": [
            "     85/100      5.84G      1.228      1.413     0.3113     0.8538      1.345         95        640: 100%|██████████| 8/8 [00:03<00:00,  2.49it/s]\n",
            "                 Class     Images  Instances      Box(P          R      mAP50  mAP50-95)     Pose(P          R      mAP50  mAP50-95): 100%|██████████| 2/2 [00:01<00:00,  1.44it/s]"
          ]
        },
        {
          "output_type": "stream",
          "name": "stdout",
          "text": [
            "                   all         59        107        0.8       0.72      0.753      0.285      0.768       0.85      0.866      0.447\n"
          ]
        },
        {
          "output_type": "stream",
          "name": "stderr",
          "text": [
            "\n"
          ]
        },
        {
          "output_type": "stream",
          "name": "stdout",
          "text": [
            "\n",
            "      Epoch    GPU_mem   box_loss  pose_loss  kobj_loss   cls_loss   dfl_loss  Instances       Size\n"
          ]
        },
        {
          "output_type": "stream",
          "name": "stderr",
          "text": [
            "     86/100      5.86G      1.227      1.561     0.3512     0.8115      1.323        104        640: 100%|██████████| 8/8 [00:02<00:00,  2.81it/s]\n",
            "                 Class     Images  Instances      Box(P          R      mAP50  mAP50-95)     Pose(P          R      mAP50  mAP50-95): 100%|██████████| 2/2 [00:00<00:00,  3.05it/s]"
          ]
        },
        {
          "output_type": "stream",
          "name": "stdout",
          "text": [
            "                   all         59        107      0.829      0.748      0.768      0.293      0.868        0.8      0.859      0.456\n"
          ]
        },
        {
          "output_type": "stream",
          "name": "stderr",
          "text": [
            "\n"
          ]
        },
        {
          "output_type": "stream",
          "name": "stdout",
          "text": [
            "\n",
            "      Epoch    GPU_mem   box_loss  pose_loss  kobj_loss   cls_loss   dfl_loss  Instances       Size\n"
          ]
        },
        {
          "output_type": "stream",
          "name": "stderr",
          "text": [
            "     87/100      5.87G      1.222       1.35      0.315     0.8365      1.352         92        640: 100%|██████████| 8/8 [00:02<00:00,  2.79it/s]\n",
            "                 Class     Images  Instances      Box(P          R      mAP50  mAP50-95)     Pose(P          R      mAP50  mAP50-95): 100%|██████████| 2/2 [00:00<00:00,  2.90it/s]"
          ]
        },
        {
          "output_type": "stream",
          "name": "stdout",
          "text": [
            "                   all         59        107      0.794      0.766      0.767      0.294      0.886      0.804      0.873      0.482\n"
          ]
        },
        {
          "output_type": "stream",
          "name": "stderr",
          "text": [
            "\n"
          ]
        },
        {
          "output_type": "stream",
          "name": "stdout",
          "text": [
            "\n",
            "      Epoch    GPU_mem   box_loss  pose_loss  kobj_loss   cls_loss   dfl_loss  Instances       Size\n"
          ]
        },
        {
          "output_type": "stream",
          "name": "stderr",
          "text": [
            "     88/100      5.88G      1.172      1.544      0.312     0.8097      1.295        107        640: 100%|██████████| 8/8 [00:03<00:00,  2.36it/s]\n",
            "                 Class     Images  Instances      Box(P          R      mAP50  mAP50-95)     Pose(P          R      mAP50  mAP50-95): 100%|██████████| 2/2 [00:01<00:00,  1.68it/s]"
          ]
        },
        {
          "output_type": "stream",
          "name": "stdout",
          "text": [
            "                   all         59        107      0.812      0.748      0.781      0.298      0.883      0.813      0.881      0.497\n"
          ]
        },
        {
          "output_type": "stream",
          "name": "stderr",
          "text": [
            "\n"
          ]
        },
        {
          "output_type": "stream",
          "name": "stdout",
          "text": [
            "\n",
            "      Epoch    GPU_mem   box_loss  pose_loss  kobj_loss   cls_loss   dfl_loss  Instances       Size\n"
          ]
        },
        {
          "output_type": "stream",
          "name": "stderr",
          "text": [
            "     89/100       5.9G      1.192      1.574     0.3031     0.8156      1.298         70        640: 100%|██████████| 8/8 [00:02<00:00,  2.74it/s]\n",
            "                 Class     Images  Instances      Box(P          R      mAP50  mAP50-95)     Pose(P          R      mAP50  mAP50-95): 100%|██████████| 2/2 [00:00<00:00,  2.49it/s]"
          ]
        },
        {
          "output_type": "stream",
          "name": "stdout",
          "text": [
            "                   all         59        107      0.778      0.754      0.749      0.292      0.854      0.822      0.877        0.5\n"
          ]
        },
        {
          "output_type": "stream",
          "name": "stderr",
          "text": [
            "\n"
          ]
        },
        {
          "output_type": "stream",
          "name": "stdout",
          "text": [
            "\n",
            "      Epoch    GPU_mem   box_loss  pose_loss  kobj_loss   cls_loss   dfl_loss  Instances       Size\n"
          ]
        },
        {
          "output_type": "stream",
          "name": "stderr",
          "text": [
            "     90/100      5.92G      1.215      1.437     0.3249     0.8209      1.319         93        640: 100%|██████████| 8/8 [00:02<00:00,  2.86it/s]\n",
            "                 Class     Images  Instances      Box(P          R      mAP50  mAP50-95)     Pose(P          R      mAP50  mAP50-95): 100%|██████████| 2/2 [00:00<00:00,  2.34it/s]"
          ]
        },
        {
          "output_type": "stream",
          "name": "stdout",
          "text": [
            "                   all         59        107      0.795      0.796      0.785       0.29      0.843      0.853      0.872      0.483\n"
          ]
        },
        {
          "output_type": "stream",
          "name": "stderr",
          "text": [
            "\n"
          ]
        },
        {
          "output_type": "stream",
          "name": "stdout",
          "text": [
            "Closing dataloader mosaic\n",
            "\u001b[34m\u001b[1malbumentations: \u001b[0mBlur(p=0.01, blur_limit=(3, 7)), MedianBlur(p=0.01, blur_limit=(3, 7)), ToGray(p=0.01, method='weighted_average', num_output_channels=3), CLAHE(p=0.01, clip_limit=(1.0, 4.0), tile_grid_size=(8, 8))\n",
            "\n",
            "      Epoch    GPU_mem   box_loss  pose_loss  kobj_loss   cls_loss   dfl_loss  Instances       Size\n"
          ]
        },
        {
          "output_type": "stream",
          "name": "stderr",
          "text": [
            "     91/100      5.93G      1.066       1.54     0.2671     0.6337      1.255         51        640: 100%|██████████| 8/8 [00:07<00:00,  1.14it/s]\n",
            "                 Class     Images  Instances      Box(P          R      mAP50  mAP50-95)     Pose(P          R      mAP50  mAP50-95): 100%|██████████| 2/2 [00:00<00:00,  2.33it/s]"
          ]
        },
        {
          "output_type": "stream",
          "name": "stdout",
          "text": [
            "                   all         59        107      0.793      0.692      0.737      0.255      0.797      0.842      0.863      0.471\n"
          ]
        },
        {
          "output_type": "stream",
          "name": "stderr",
          "text": [
            "\n"
          ]
        },
        {
          "output_type": "stream",
          "name": "stdout",
          "text": [
            "\n",
            "      Epoch    GPU_mem   box_loss  pose_loss  kobj_loss   cls_loss   dfl_loss  Instances       Size\n"
          ]
        },
        {
          "output_type": "stream",
          "name": "stderr",
          "text": [
            "     92/100      5.95G      1.033      1.458     0.2565     0.6163      1.222         44        640: 100%|██████████| 8/8 [00:02<00:00,  2.84it/s]\n",
            "                 Class     Images  Instances      Box(P          R      mAP50  mAP50-95)     Pose(P          R      mAP50  mAP50-95): 100%|██████████| 2/2 [00:00<00:00,  2.69it/s]"
          ]
        },
        {
          "output_type": "stream",
          "name": "stdout",
          "text": [
            "                   all         59        107      0.768      0.773      0.752      0.274      0.814       0.82      0.852      0.475\n"
          ]
        },
        {
          "output_type": "stream",
          "name": "stderr",
          "text": [
            "\n"
          ]
        },
        {
          "output_type": "stream",
          "name": "stdout",
          "text": [
            "\n",
            "      Epoch    GPU_mem   box_loss  pose_loss  kobj_loss   cls_loss   dfl_loss  Instances       Size\n"
          ]
        },
        {
          "output_type": "stream",
          "name": "stderr",
          "text": [
            "     93/100      5.96G      1.061      1.504      0.253     0.6113      1.232         43        640: 100%|██████████| 8/8 [00:03<00:00,  2.61it/s]\n",
            "                 Class     Images  Instances      Box(P          R      mAP50  mAP50-95)     Pose(P          R      mAP50  mAP50-95): 100%|██████████| 2/2 [00:01<00:00,  1.40it/s]"
          ]
        },
        {
          "output_type": "stream",
          "name": "stdout",
          "text": [
            "                   all         59        107      0.773      0.776      0.765       0.27      0.835      0.806      0.858      0.465\n"
          ]
        },
        {
          "output_type": "stream",
          "name": "stderr",
          "text": [
            "\n"
          ]
        },
        {
          "output_type": "stream",
          "name": "stdout",
          "text": [
            "\n",
            "      Epoch    GPU_mem   box_loss  pose_loss  kobj_loss   cls_loss   dfl_loss  Instances       Size\n"
          ]
        },
        {
          "output_type": "stream",
          "name": "stderr",
          "text": [
            "     94/100      5.98G      1.067      1.515     0.2543     0.5914      1.239         48        640: 100%|██████████| 8/8 [00:02<00:00,  2.85it/s]\n",
            "                 Class     Images  Instances      Box(P          R      mAP50  mAP50-95)     Pose(P          R      mAP50  mAP50-95): 100%|██████████| 2/2 [00:00<00:00,  2.71it/s]"
          ]
        },
        {
          "output_type": "stream",
          "name": "stdout",
          "text": [
            "                   all         59        107      0.725      0.787      0.757      0.267      0.785      0.854      0.859      0.459\n"
          ]
        },
        {
          "output_type": "stream",
          "name": "stderr",
          "text": [
            "\n"
          ]
        },
        {
          "output_type": "stream",
          "name": "stdout",
          "text": [
            "\n",
            "      Epoch    GPU_mem   box_loss  pose_loss  kobj_loss   cls_loss   dfl_loss  Instances       Size\n"
          ]
        },
        {
          "output_type": "stream",
          "name": "stderr",
          "text": [
            "     95/100      5.99G      1.029      1.513      0.248     0.5781       1.22         54        640: 100%|██████████| 8/8 [00:02<00:00,  2.85it/s]\n",
            "                 Class     Images  Instances      Box(P          R      mAP50  mAP50-95)     Pose(P          R      mAP50  mAP50-95): 100%|██████████| 2/2 [00:00<00:00,  2.67it/s]"
          ]
        },
        {
          "output_type": "stream",
          "name": "stdout",
          "text": [
            "                   all         59        107      0.738      0.738      0.733      0.254      0.742      0.879      0.856      0.466\n"
          ]
        },
        {
          "output_type": "stream",
          "name": "stderr",
          "text": [
            "\n"
          ]
        },
        {
          "output_type": "stream",
          "name": "stdout",
          "text": [
            "\n",
            "      Epoch    GPU_mem   box_loss  pose_loss  kobj_loss   cls_loss   dfl_loss  Instances       Size\n"
          ]
        },
        {
          "output_type": "stream",
          "name": "stderr",
          "text": [
            "     96/100      6.01G      1.021      1.508     0.2509     0.5923      1.202         46        640: 100%|██████████| 8/8 [00:03<00:00,  2.63it/s]\n",
            "                 Class     Images  Instances      Box(P          R      mAP50  mAP50-95)     Pose(P          R      mAP50  mAP50-95): 100%|██████████| 2/2 [00:01<00:00,  1.57it/s]\n"
          ]
        },
        {
          "output_type": "stream",
          "name": "stdout",
          "text": [
            "                   all         59        107      0.733      0.748      0.745      0.264      0.814      0.832      0.867      0.487\n",
            "\n",
            "      Epoch    GPU_mem   box_loss  pose_loss  kobj_loss   cls_loss   dfl_loss  Instances       Size\n"
          ]
        },
        {
          "output_type": "stream",
          "name": "stderr",
          "text": [
            "     97/100      6.03G      1.042      1.522     0.2573      0.597      1.242         37        640: 100%|██████████| 8/8 [00:02<00:00,  2.85it/s]\n",
            "                 Class     Images  Instances      Box(P          R      mAP50  mAP50-95)     Pose(P          R      mAP50  mAP50-95): 100%|██████████| 2/2 [00:00<00:00,  2.79it/s]"
          ]
        },
        {
          "output_type": "stream",
          "name": "stdout",
          "text": [
            "                   all         59        107      0.766      0.764      0.755      0.272      0.802      0.868      0.865       0.49\n"
          ]
        },
        {
          "output_type": "stream",
          "name": "stderr",
          "text": [
            "\n"
          ]
        },
        {
          "output_type": "stream",
          "name": "stdout",
          "text": [
            "\n",
            "      Epoch    GPU_mem   box_loss  pose_loss  kobj_loss   cls_loss   dfl_loss  Instances       Size\n"
          ]
        },
        {
          "output_type": "stream",
          "name": "stderr",
          "text": [
            "     98/100      6.04G     0.9821      1.491     0.2554     0.5656      1.192         42        640: 100%|██████████| 8/8 [00:02<00:00,  2.79it/s]\n",
            "                 Class     Images  Instances      Box(P          R      mAP50  mAP50-95)     Pose(P          R      mAP50  mAP50-95): 100%|██████████| 2/2 [00:00<00:00,  2.65it/s]"
          ]
        },
        {
          "output_type": "stream",
          "name": "stdout",
          "text": [
            "                   all         59        107      0.742      0.748      0.736      0.267      0.774      0.866      0.868      0.493\n"
          ]
        },
        {
          "output_type": "stream",
          "name": "stderr",
          "text": [
            "\n"
          ]
        },
        {
          "output_type": "stream",
          "name": "stdout",
          "text": [
            "\n",
            "      Epoch    GPU_mem   box_loss  pose_loss  kobj_loss   cls_loss   dfl_loss  Instances       Size\n"
          ]
        },
        {
          "output_type": "stream",
          "name": "stderr",
          "text": [
            "     99/100      6.06G     0.9857      1.484     0.2556      0.562      1.162         49        640: 100%|██████████| 8/8 [00:02<00:00,  2.88it/s]\n",
            "                 Class     Images  Instances      Box(P          R      mAP50  mAP50-95)     Pose(P          R      mAP50  mAP50-95): 100%|██████████| 2/2 [00:01<00:00,  1.30it/s]"
          ]
        },
        {
          "output_type": "stream",
          "name": "stdout",
          "text": [
            "                   all         59        107      0.779      0.725      0.731      0.271      0.858      0.794      0.868      0.484\n"
          ]
        },
        {
          "output_type": "stream",
          "name": "stderr",
          "text": [
            "\n"
          ]
        },
        {
          "output_type": "stream",
          "name": "stdout",
          "text": [
            "\n",
            "      Epoch    GPU_mem   box_loss  pose_loss  kobj_loss   cls_loss   dfl_loss  Instances       Size\n"
          ]
        },
        {
          "output_type": "stream",
          "name": "stderr",
          "text": [
            "    100/100      6.07G     0.9929      1.494     0.2648     0.5684      1.205         44        640: 100%|██████████| 8/8 [00:02<00:00,  2.75it/s]\n",
            "                 Class     Images  Instances      Box(P          R      mAP50  mAP50-95)     Pose(P          R      mAP50  mAP50-95): 100%|██████████| 2/2 [00:00<00:00,  2.86it/s]"
          ]
        },
        {
          "output_type": "stream",
          "name": "stdout",
          "text": [
            "                   all         59        107      0.748      0.785      0.745      0.272      0.819       0.86      0.871      0.483\n"
          ]
        },
        {
          "output_type": "stream",
          "name": "stderr",
          "text": [
            "\n"
          ]
        },
        {
          "output_type": "stream",
          "name": "stdout",
          "text": [
            "\n",
            "100 epochs completed in 0.129 hours.\n",
            "Optimizer stripped from runs/pose/train/weights/last.pt, 5.7MB\n",
            "Optimizer stripped from runs/pose/train/weights/best.pt, 5.7MB\n",
            "\n",
            "Validating runs/pose/train/weights/best.pt...\n",
            "Ultralytics 8.3.131 🚀 Python-3.11.12 torch-2.6.0+cu124 CUDA:0 (Tesla T4, 15095MiB)\n",
            "YOLO11n-pose summary (fused): 109 layers, 2,696,611 parameters, 0 gradients, 6.7 GFLOPs\n"
          ]
        },
        {
          "output_type": "stream",
          "name": "stderr",
          "text": [
            "                 Class     Images  Instances      Box(P          R      mAP50  mAP50-95)     Pose(P          R      mAP50  mAP50-95): 100%|██████████| 2/2 [00:00<00:00,  2.48it/s]\n"
          ]
        },
        {
          "output_type": "stream",
          "name": "stdout",
          "text": [
            "                   all         59        107      0.812      0.748      0.781      0.297      0.883      0.813      0.881      0.497\n",
            "Speed: 0.3ms preprocess, 3.4ms inference, 0.0ms loss, 2.3ms postprocess per image\n",
            "Results saved to \u001b[1mruns/pose/train\u001b[0m\n",
            "\u001b[34m\u001b[1mUltralytics HUB: \u001b[0mSyncing final model...\n"
          ]
        },
        {
          "output_type": "stream",
          "name": "stderr",
          "text": [
            "100%|██████████| 5.46M/5.46M [00:01<00:00, 4.41MB/s]"
          ]
        },
        {
          "output_type": "stream",
          "name": "stdout",
          "text": [
            "\u001b[34m\u001b[1mUltralytics HUB: \u001b[0mDone ✅\n",
            "\u001b[34m\u001b[1mUltralytics HUB: \u001b[0mView model at https://hub.ultralytics.com/models/nn4NoHjYUtvH25bhGOnE 🚀\n"
          ]
        },
        {
          "output_type": "stream",
          "name": "stderr",
          "text": [
            "\n"
          ]
        }
      ],
      "source": [
        "hub.login('6f62da398cc35307a31e306b8f05149ba3d36d927d')\n",
        "\n",
        "model = YOLO('https://hub.ultralytics.com/models/nn4NoHjYUtvH25bhGOnE')\n",
        "results = model.train()"
      ]
    },
    {
      "cell_type": "code",
      "source": [
        "# running inference\n",
        "\n",
        "results = model.predict(\"/content/Faces from around the world.mp4\", save=True, show_labels=True, show_boxes=True)"
      ],
      "metadata": {
        "id": "ykZUVC1odbw_",
        "outputId": "ced1fba7-add2-4c73-ca17-d0996342f606",
        "colab": {
          "base_uri": "https://localhost:8080/"
        }
      },
      "execution_count": 3,
      "outputs": [
        {
          "output_type": "stream",
          "name": "stdout",
          "text": [
            "\n",
            "WARNING ⚠️ \n",
            "inference results will accumulate in RAM unless `stream=True` is passed, causing potential out-of-memory\n",
            "errors for large sources or long-running streams and videos. See https://docs.ultralytics.com/modes/predict/ for help.\n",
            "\n",
            "Example:\n",
            "    results = model(source=..., stream=True)  # generator of Results objects\n",
            "    for r in results:\n",
            "        boxes = r.boxes  # Boxes object for bbox outputs\n",
            "        masks = r.masks  # Masks object for segment masks outputs\n",
            "        probs = r.probs  # Class probabilities for classification outputs\n",
            "\n",
            "video 1/1 (frame 1/3518) /content/Faces from around the world.mp4: 384x640 (no detections), 73.6ms\n",
            "video 1/1 (frame 2/3518) /content/Faces from around the world.mp4: 384x640 (no detections), 18.5ms\n",
            "video 1/1 (frame 3/3518) /content/Faces from around the world.mp4: 384x640 (no detections), 17.6ms\n",
            "video 1/1 (frame 4/3518) /content/Faces from around the world.mp4: 384x640 (no detections), 21.1ms\n",
            "video 1/1 (frame 5/3518) /content/Faces from around the world.mp4: 384x640 (no detections), 13.6ms\n",
            "video 1/1 (frame 6/3518) /content/Faces from around the world.mp4: 384x640 (no detections), 17.7ms\n",
            "video 1/1 (frame 7/3518) /content/Faces from around the world.mp4: 384x640 (no detections), 15.8ms\n",
            "video 1/1 (frame 8/3518) /content/Faces from around the world.mp4: 384x640 (no detections), 15.6ms\n",
            "video 1/1 (frame 9/3518) /content/Faces from around the world.mp4: 384x640 (no detections), 22.0ms\n",
            "video 1/1 (frame 10/3518) /content/Faces from around the world.mp4: 384x640 (no detections), 18.9ms\n",
            "video 1/1 (frame 11/3518) /content/Faces from around the world.mp4: 384x640 (no detections), 20.8ms\n",
            "video 1/1 (frame 12/3518) /content/Faces from around the world.mp4: 384x640 (no detections), 25.1ms\n",
            "video 1/1 (frame 13/3518) /content/Faces from around the world.mp4: 384x640 (no detections), 21.3ms\n",
            "video 1/1 (frame 14/3518) /content/Faces from around the world.mp4: 384x640 (no detections), 13.8ms\n",
            "video 1/1 (frame 15/3518) /content/Faces from around the world.mp4: 384x640 (no detections), 13.2ms\n",
            "video 1/1 (frame 16/3518) /content/Faces from around the world.mp4: 384x640 (no detections), 17.9ms\n",
            "video 1/1 (frame 17/3518) /content/Faces from around the world.mp4: 384x640 (no detections), 13.0ms\n",
            "video 1/1 (frame 18/3518) /content/Faces from around the world.mp4: 384x640 (no detections), 12.4ms\n",
            "video 1/1 (frame 19/3518) /content/Faces from around the world.mp4: 384x640 (no detections), 13.5ms\n",
            "video 1/1 (frame 20/3518) /content/Faces from around the world.mp4: 384x640 (no detections), 14.8ms\n",
            "video 1/1 (frame 21/3518) /content/Faces from around the world.mp4: 384x640 (no detections), 14.2ms\n",
            "video 1/1 (frame 22/3518) /content/Faces from around the world.mp4: 384x640 (no detections), 14.6ms\n",
            "video 1/1 (frame 23/3518) /content/Faces from around the world.mp4: 384x640 (no detections), 13.7ms\n",
            "video 1/1 (frame 24/3518) /content/Faces from around the world.mp4: 384x640 (no detections), 13.5ms\n",
            "video 1/1 (frame 25/3518) /content/Faces from around the world.mp4: 384x640 (no detections), 14.4ms\n",
            "video 1/1 (frame 26/3518) /content/Faces from around the world.mp4: 384x640 (no detections), 15.5ms\n",
            "video 1/1 (frame 27/3518) /content/Faces from around the world.mp4: 384x640 (no detections), 15.0ms\n",
            "video 1/1 (frame 28/3518) /content/Faces from around the world.mp4: 384x640 (no detections), 15.0ms\n",
            "video 1/1 (frame 29/3518) /content/Faces from around the world.mp4: 384x640 (no detections), 14.0ms\n",
            "video 1/1 (frame 30/3518) /content/Faces from around the world.mp4: 384x640 (no detections), 13.5ms\n",
            "video 1/1 (frame 31/3518) /content/Faces from around the world.mp4: 384x640 (no detections), 13.5ms\n",
            "video 1/1 (frame 32/3518) /content/Faces from around the world.mp4: 384x640 (no detections), 13.6ms\n",
            "video 1/1 (frame 33/3518) /content/Faces from around the world.mp4: 384x640 (no detections), 15.9ms\n",
            "video 1/1 (frame 34/3518) /content/Faces from around the world.mp4: 384x640 (no detections), 13.2ms\n",
            "video 1/1 (frame 35/3518) /content/Faces from around the world.mp4: 384x640 (no detections), 14.2ms\n",
            "video 1/1 (frame 36/3518) /content/Faces from around the world.mp4: 384x640 (no detections), 13.4ms\n",
            "video 1/1 (frame 37/3518) /content/Faces from around the world.mp4: 384x640 (no detections), 13.9ms\n",
            "video 1/1 (frame 38/3518) /content/Faces from around the world.mp4: 384x640 (no detections), 13.5ms\n",
            "video 1/1 (frame 39/3518) /content/Faces from around the world.mp4: 384x640 (no detections), 17.4ms\n",
            "video 1/1 (frame 40/3518) /content/Faces from around the world.mp4: 384x640 (no detections), 13.1ms\n",
            "video 1/1 (frame 41/3518) /content/Faces from around the world.mp4: 384x640 (no detections), 12.4ms\n",
            "video 1/1 (frame 42/3518) /content/Faces from around the world.mp4: 384x640 (no detections), 12.3ms\n",
            "video 1/1 (frame 43/3518) /content/Faces from around the world.mp4: 384x640 (no detections), 13.3ms\n",
            "video 1/1 (frame 44/3518) /content/Faces from around the world.mp4: 384x640 (no detections), 13.1ms\n",
            "video 1/1 (frame 45/3518) /content/Faces from around the world.mp4: 384x640 (no detections), 13.0ms\n",
            "video 1/1 (frame 46/3518) /content/Faces from around the world.mp4: 384x640 (no detections), 15.7ms\n",
            "video 1/1 (frame 47/3518) /content/Faces from around the world.mp4: 384x640 (no detections), 12.5ms\n",
            "video 1/1 (frame 48/3518) /content/Faces from around the world.mp4: 384x640 (no detections), 13.7ms\n",
            "video 1/1 (frame 49/3518) /content/Faces from around the world.mp4: 384x640 (no detections), 12.3ms\n",
            "video 1/1 (frame 50/3518) /content/Faces from around the world.mp4: 384x640 (no detections), 15.0ms\n",
            "video 1/1 (frame 51/3518) /content/Faces from around the world.mp4: 384x640 1 people, 12.4ms\n",
            "video 1/1 (frame 52/3518) /content/Faces from around the world.mp4: 384x640 1 people, 18.0ms\n",
            "video 1/1 (frame 53/3518) /content/Faces from around the world.mp4: 384x640 1 people, 13.8ms\n",
            "video 1/1 (frame 54/3518) /content/Faces from around the world.mp4: 384x640 1 people, 12.7ms\n",
            "video 1/1 (frame 55/3518) /content/Faces from around the world.mp4: 384x640 1 people, 12.6ms\n",
            "video 1/1 (frame 56/3518) /content/Faces from around the world.mp4: 384x640 1 people, 15.3ms\n",
            "video 1/1 (frame 57/3518) /content/Faces from around the world.mp4: 384x640 1 people, 19.0ms\n",
            "video 1/1 (frame 58/3518) /content/Faces from around the world.mp4: 384x640 1 people, 17.9ms\n",
            "video 1/1 (frame 59/3518) /content/Faces from around the world.mp4: 384x640 1 people, 18.9ms\n",
            "video 1/1 (frame 60/3518) /content/Faces from around the world.mp4: 384x640 1 people, 20.9ms\n",
            "video 1/1 (frame 61/3518) /content/Faces from around the world.mp4: 384x640 1 people, 14.9ms\n",
            "video 1/1 (frame 62/3518) /content/Faces from around the world.mp4: 384x640 1 people, 18.7ms\n",
            "video 1/1 (frame 63/3518) /content/Faces from around the world.mp4: 384x640 1 people, 14.5ms\n",
            "video 1/1 (frame 64/3518) /content/Faces from around the world.mp4: 384x640 1 people, 18.7ms\n",
            "video 1/1 (frame 65/3518) /content/Faces from around the world.mp4: 384x640 1 people, 13.1ms\n",
            "video 1/1 (frame 66/3518) /content/Faces from around the world.mp4: 384x640 1 people, 13.6ms\n",
            "video 1/1 (frame 67/3518) /content/Faces from around the world.mp4: 384x640 1 people, 18.5ms\n",
            "video 1/1 (frame 68/3518) /content/Faces from around the world.mp4: 384x640 1 people, 20.6ms\n",
            "video 1/1 (frame 69/3518) /content/Faces from around the world.mp4: 384x640 1 people, 20.3ms\n",
            "video 1/1 (frame 70/3518) /content/Faces from around the world.mp4: 384x640 (no detections), 16.3ms\n",
            "video 1/1 (frame 71/3518) /content/Faces from around the world.mp4: 384x640 (no detections), 15.9ms\n",
            "video 1/1 (frame 72/3518) /content/Faces from around the world.mp4: 384x640 (no detections), 12.4ms\n",
            "video 1/1 (frame 73/3518) /content/Faces from around the world.mp4: 384x640 (no detections), 17.5ms\n",
            "video 1/1 (frame 74/3518) /content/Faces from around the world.mp4: 384x640 (no detections), 18.4ms\n",
            "video 1/1 (frame 75/3518) /content/Faces from around the world.mp4: 384x640 (no detections), 18.7ms\n",
            "video 1/1 (frame 76/3518) /content/Faces from around the world.mp4: 384x640 (no detections), 22.0ms\n",
            "video 1/1 (frame 77/3518) /content/Faces from around the world.mp4: 384x640 (no detections), 21.6ms\n",
            "video 1/1 (frame 78/3518) /content/Faces from around the world.mp4: 384x640 (no detections), 20.8ms\n",
            "video 1/1 (frame 79/3518) /content/Faces from around the world.mp4: 384x640 (no detections), 23.3ms\n",
            "video 1/1 (frame 80/3518) /content/Faces from around the world.mp4: 384x640 (no detections), 20.8ms\n",
            "video 1/1 (frame 81/3518) /content/Faces from around the world.mp4: 384x640 (no detections), 19.4ms\n",
            "video 1/1 (frame 82/3518) /content/Faces from around the world.mp4: 384x640 (no detections), 11.4ms\n",
            "video 1/1 (frame 83/3518) /content/Faces from around the world.mp4: 384x640 (no detections), 10.4ms\n",
            "video 1/1 (frame 84/3518) /content/Faces from around the world.mp4: 384x640 (no detections), 20.5ms\n",
            "video 1/1 (frame 85/3518) /content/Faces from around the world.mp4: 384x640 (no detections), 10.4ms\n",
            "video 1/1 (frame 86/3518) /content/Faces from around the world.mp4: 384x640 (no detections), 13.5ms\n",
            "video 1/1 (frame 87/3518) /content/Faces from around the world.mp4: 384x640 (no detections), 12.0ms\n",
            "video 1/1 (frame 88/3518) /content/Faces from around the world.mp4: 384x640 (no detections), 10.2ms\n",
            "video 1/1 (frame 89/3518) /content/Faces from around the world.mp4: 384x640 (no detections), 12.2ms\n",
            "video 1/1 (frame 90/3518) /content/Faces from around the world.mp4: 384x640 (no detections), 10.8ms\n",
            "video 1/1 (frame 91/3518) /content/Faces from around the world.mp4: 384x640 (no detections), 10.5ms\n",
            "video 1/1 (frame 92/3518) /content/Faces from around the world.mp4: 384x640 (no detections), 10.3ms\n",
            "video 1/1 (frame 93/3518) /content/Faces from around the world.mp4: 384x640 (no detections), 10.3ms\n",
            "video 1/1 (frame 94/3518) /content/Faces from around the world.mp4: 384x640 (no detections), 9.6ms\n",
            "video 1/1 (frame 95/3518) /content/Faces from around the world.mp4: 384x640 (no detections), 10.1ms\n",
            "video 1/1 (frame 96/3518) /content/Faces from around the world.mp4: 384x640 (no detections), 10.2ms\n",
            "video 1/1 (frame 97/3518) /content/Faces from around the world.mp4: 384x640 (no detections), 10.9ms\n",
            "video 1/1 (frame 98/3518) /content/Faces from around the world.mp4: 384x640 (no detections), 10.0ms\n",
            "video 1/1 (frame 99/3518) /content/Faces from around the world.mp4: 384x640 (no detections), 11.2ms\n",
            "video 1/1 (frame 100/3518) /content/Faces from around the world.mp4: 384x640 (no detections), 11.8ms\n",
            "video 1/1 (frame 101/3518) /content/Faces from around the world.mp4: 384x640 (no detections), 10.0ms\n",
            "video 1/1 (frame 102/3518) /content/Faces from around the world.mp4: 384x640 (no detections), 11.6ms\n",
            "video 1/1 (frame 103/3518) /content/Faces from around the world.mp4: 384x640 (no detections), 10.2ms\n",
            "video 1/1 (frame 104/3518) /content/Faces from around the world.mp4: 384x640 (no detections), 13.4ms\n",
            "video 1/1 (frame 105/3518) /content/Faces from around the world.mp4: 384x640 (no detections), 11.4ms\n",
            "video 1/1 (frame 106/3518) /content/Faces from around the world.mp4: 384x640 (no detections), 11.8ms\n",
            "video 1/1 (frame 107/3518) /content/Faces from around the world.mp4: 384x640 (no detections), 10.4ms\n",
            "video 1/1 (frame 108/3518) /content/Faces from around the world.mp4: 384x640 (no detections), 11.7ms\n",
            "video 1/1 (frame 109/3518) /content/Faces from around the world.mp4: 384x640 (no detections), 10.7ms\n",
            "video 1/1 (frame 110/3518) /content/Faces from around the world.mp4: 384x640 (no detections), 10.7ms\n",
            "video 1/1 (frame 111/3518) /content/Faces from around the world.mp4: 384x640 (no detections), 10.4ms\n",
            "video 1/1 (frame 112/3518) /content/Faces from around the world.mp4: 384x640 (no detections), 11.4ms\n",
            "video 1/1 (frame 113/3518) /content/Faces from around the world.mp4: 384x640 (no detections), 10.6ms\n",
            "video 1/1 (frame 114/3518) /content/Faces from around the world.mp4: 384x640 (no detections), 11.8ms\n",
            "video 1/1 (frame 115/3518) /content/Faces from around the world.mp4: 384x640 (no detections), 10.8ms\n",
            "video 1/1 (frame 116/3518) /content/Faces from around the world.mp4: 384x640 (no detections), 10.9ms\n",
            "video 1/1 (frame 117/3518) /content/Faces from around the world.mp4: 384x640 (no detections), 10.6ms\n",
            "video 1/1 (frame 118/3518) /content/Faces from around the world.mp4: 384x640 (no detections), 11.0ms\n",
            "video 1/1 (frame 119/3518) /content/Faces from around the world.mp4: 384x640 (no detections), 10.6ms\n",
            "video 1/1 (frame 120/3518) /content/Faces from around the world.mp4: 384x640 (no detections), 10.8ms\n",
            "video 1/1 (frame 121/3518) /content/Faces from around the world.mp4: 384x640 (no detections), 10.4ms\n",
            "video 1/1 (frame 122/3518) /content/Faces from around the world.mp4: 384x640 (no detections), 10.3ms\n",
            "video 1/1 (frame 123/3518) /content/Faces from around the world.mp4: 384x640 (no detections), 10.4ms\n",
            "video 1/1 (frame 124/3518) /content/Faces from around the world.mp4: 384x640 (no detections), 13.6ms\n",
            "video 1/1 (frame 125/3518) /content/Faces from around the world.mp4: 384x640 (no detections), 11.8ms\n",
            "video 1/1 (frame 126/3518) /content/Faces from around the world.mp4: 384x640 (no detections), 10.3ms\n",
            "video 1/1 (frame 127/3518) /content/Faces from around the world.mp4: 384x640 (no detections), 13.4ms\n",
            "video 1/1 (frame 128/3518) /content/Faces from around the world.mp4: 384x640 (no detections), 11.1ms\n",
            "video 1/1 (frame 129/3518) /content/Faces from around the world.mp4: 384x640 (no detections), 12.2ms\n",
            "video 1/1 (frame 130/3518) /content/Faces from around the world.mp4: 384x640 (no detections), 10.1ms\n",
            "video 1/1 (frame 131/3518) /content/Faces from around the world.mp4: 384x640 (no detections), 10.5ms\n",
            "video 1/1 (frame 132/3518) /content/Faces from around the world.mp4: 384x640 (no detections), 10.2ms\n",
            "video 1/1 (frame 133/3518) /content/Faces from around the world.mp4: 384x640 (no detections), 10.6ms\n",
            "video 1/1 (frame 134/3518) /content/Faces from around the world.mp4: 384x640 (no detections), 10.6ms\n",
            "video 1/1 (frame 135/3518) /content/Faces from around the world.mp4: 384x640 (no detections), 10.4ms\n",
            "video 1/1 (frame 136/3518) /content/Faces from around the world.mp4: 384x640 (no detections), 10.8ms\n",
            "video 1/1 (frame 137/3518) /content/Faces from around the world.mp4: 384x640 (no detections), 16.7ms\n",
            "video 1/1 (frame 138/3518) /content/Faces from around the world.mp4: 384x640 (no detections), 14.8ms\n",
            "video 1/1 (frame 139/3518) /content/Faces from around the world.mp4: 384x640 (no detections), 12.1ms\n",
            "video 1/1 (frame 140/3518) /content/Faces from around the world.mp4: 384x640 (no detections), 10.4ms\n",
            "video 1/1 (frame 141/3518) /content/Faces from around the world.mp4: 384x640 (no detections), 10.3ms\n",
            "video 1/1 (frame 142/3518) /content/Faces from around the world.mp4: 384x640 (no detections), 10.7ms\n",
            "video 1/1 (frame 143/3518) /content/Faces from around the world.mp4: 384x640 (no detections), 10.4ms\n",
            "video 1/1 (frame 144/3518) /content/Faces from around the world.mp4: 384x640 (no detections), 11.6ms\n",
            "video 1/1 (frame 145/3518) /content/Faces from around the world.mp4: 384x640 (no detections), 11.7ms\n",
            "video 1/1 (frame 146/3518) /content/Faces from around the world.mp4: 384x640 (no detections), 11.2ms\n",
            "video 1/1 (frame 147/3518) /content/Faces from around the world.mp4: 384x640 (no detections), 10.6ms\n",
            "video 1/1 (frame 148/3518) /content/Faces from around the world.mp4: 384x640 (no detections), 10.1ms\n",
            "video 1/1 (frame 149/3518) /content/Faces from around the world.mp4: 384x640 (no detections), 10.8ms\n",
            "video 1/1 (frame 150/3518) /content/Faces from around the world.mp4: 384x640 (no detections), 9.9ms\n",
            "video 1/1 (frame 151/3518) /content/Faces from around the world.mp4: 384x640 (no detections), 10.9ms\n",
            "video 1/1 (frame 152/3518) /content/Faces from around the world.mp4: 384x640 (no detections), 10.5ms\n",
            "video 1/1 (frame 153/3518) /content/Faces from around the world.mp4: 384x640 (no detections), 11.6ms\n",
            "video 1/1 (frame 154/3518) /content/Faces from around the world.mp4: 384x640 (no detections), 13.0ms\n",
            "video 1/1 (frame 155/3518) /content/Faces from around the world.mp4: 384x640 (no detections), 10.4ms\n",
            "video 1/1 (frame 156/3518) /content/Faces from around the world.mp4: 384x640 (no detections), 10.2ms\n",
            "video 1/1 (frame 157/3518) /content/Faces from around the world.mp4: 384x640 (no detections), 11.7ms\n",
            "video 1/1 (frame 158/3518) /content/Faces from around the world.mp4: 384x640 (no detections), 10.2ms\n",
            "video 1/1 (frame 159/3518) /content/Faces from around the world.mp4: 384x640 (no detections), 10.8ms\n",
            "video 1/1 (frame 160/3518) /content/Faces from around the world.mp4: 384x640 (no detections), 10.6ms\n",
            "video 1/1 (frame 161/3518) /content/Faces from around the world.mp4: 384x640 (no detections), 10.6ms\n",
            "video 1/1 (frame 162/3518) /content/Faces from around the world.mp4: 384x640 (no detections), 11.4ms\n",
            "video 1/1 (frame 163/3518) /content/Faces from around the world.mp4: 384x640 (no detections), 10.8ms\n",
            "video 1/1 (frame 164/3518) /content/Faces from around the world.mp4: 384x640 (no detections), 12.2ms\n",
            "video 1/1 (frame 165/3518) /content/Faces from around the world.mp4: 384x640 (no detections), 9.8ms\n",
            "video 1/1 (frame 166/3518) /content/Faces from around the world.mp4: 384x640 (no detections), 9.9ms\n",
            "video 1/1 (frame 167/3518) /content/Faces from around the world.mp4: 384x640 (no detections), 11.3ms\n",
            "video 1/1 (frame 168/3518) /content/Faces from around the world.mp4: 384x640 (no detections), 9.7ms\n",
            "video 1/1 (frame 169/3518) /content/Faces from around the world.mp4: 384x640 (no detections), 11.2ms\n",
            "video 1/1 (frame 170/3518) /content/Faces from around the world.mp4: 384x640 (no detections), 10.1ms\n",
            "video 1/1 (frame 171/3518) /content/Faces from around the world.mp4: 384x640 (no detections), 9.9ms\n",
            "video 1/1 (frame 172/3518) /content/Faces from around the world.mp4: 384x640 (no detections), 9.8ms\n",
            "video 1/1 (frame 173/3518) /content/Faces from around the world.mp4: 384x640 (no detections), 11.7ms\n",
            "video 1/1 (frame 174/3518) /content/Faces from around the world.mp4: 384x640 (no detections), 9.8ms\n",
            "video 1/1 (frame 175/3518) /content/Faces from around the world.mp4: 384x640 (no detections), 9.7ms\n",
            "video 1/1 (frame 176/3518) /content/Faces from around the world.mp4: 384x640 (no detections), 10.8ms\n",
            "video 1/1 (frame 177/3518) /content/Faces from around the world.mp4: 384x640 (no detections), 12.5ms\n",
            "video 1/1 (frame 178/3518) /content/Faces from around the world.mp4: 384x640 (no detections), 10.4ms\n",
            "video 1/1 (frame 179/3518) /content/Faces from around the world.mp4: 384x640 1 people, 10.4ms\n",
            "video 1/1 (frame 180/3518) /content/Faces from around the world.mp4: 384x640 2 peoples, 13.2ms\n",
            "video 1/1 (frame 181/3518) /content/Faces from around the world.mp4: 384x640 2 peoples, 11.1ms\n",
            "video 1/1 (frame 182/3518) /content/Faces from around the world.mp4: 384x640 2 peoples, 11.4ms\n",
            "video 1/1 (frame 183/3518) /content/Faces from around the world.mp4: 384x640 2 peoples, 10.4ms\n",
            "video 1/1 (frame 184/3518) /content/Faces from around the world.mp4: 384x640 2 peoples, 9.9ms\n",
            "video 1/1 (frame 185/3518) /content/Faces from around the world.mp4: 384x640 1 people, 10.1ms\n",
            "video 1/1 (frame 186/3518) /content/Faces from around the world.mp4: 384x640 1 people, 9.9ms\n",
            "video 1/1 (frame 187/3518) /content/Faces from around the world.mp4: 384x640 1 people, 9.5ms\n",
            "video 1/1 (frame 188/3518) /content/Faces from around the world.mp4: 384x640 1 people, 9.6ms\n",
            "video 1/1 (frame 189/3518) /content/Faces from around the world.mp4: 384x640 1 people, 14.3ms\n",
            "video 1/1 (frame 190/3518) /content/Faces from around the world.mp4: 384x640 1 people, 15.8ms\n",
            "video 1/1 (frame 191/3518) /content/Faces from around the world.mp4: 384x640 1 people, 11.3ms\n",
            "video 1/1 (frame 192/3518) /content/Faces from around the world.mp4: 384x640 1 people, 10.1ms\n",
            "video 1/1 (frame 193/3518) /content/Faces from around the world.mp4: 384x640 1 people, 10.2ms\n",
            "video 1/1 (frame 194/3518) /content/Faces from around the world.mp4: 384x640 1 people, 10.1ms\n",
            "video 1/1 (frame 195/3518) /content/Faces from around the world.mp4: 384x640 1 people, 10.6ms\n",
            "video 1/1 (frame 196/3518) /content/Faces from around the world.mp4: 384x640 1 people, 10.2ms\n",
            "video 1/1 (frame 197/3518) /content/Faces from around the world.mp4: 384x640 1 people, 11.2ms\n",
            "video 1/1 (frame 198/3518) /content/Faces from around the world.mp4: 384x640 1 people, 10.7ms\n",
            "video 1/1 (frame 199/3518) /content/Faces from around the world.mp4: 384x640 1 people, 10.7ms\n",
            "video 1/1 (frame 200/3518) /content/Faces from around the world.mp4: 384x640 1 people, 10.9ms\n",
            "video 1/1 (frame 201/3518) /content/Faces from around the world.mp4: 384x640 1 people, 12.4ms\n",
            "video 1/1 (frame 202/3518) /content/Faces from around the world.mp4: 384x640 1 people, 11.4ms\n",
            "video 1/1 (frame 203/3518) /content/Faces from around the world.mp4: 384x640 1 people, 12.6ms\n",
            "video 1/1 (frame 204/3518) /content/Faces from around the world.mp4: 384x640 1 people, 11.8ms\n",
            "video 1/1 (frame 205/3518) /content/Faces from around the world.mp4: 384x640 1 people, 10.5ms\n",
            "video 1/1 (frame 206/3518) /content/Faces from around the world.mp4: 384x640 1 people, 11.4ms\n",
            "video 1/1 (frame 207/3518) /content/Faces from around the world.mp4: 384x640 1 people, 10.5ms\n",
            "video 1/1 (frame 208/3518) /content/Faces from around the world.mp4: 384x640 1 people, 10.3ms\n",
            "video 1/1 (frame 209/3518) /content/Faces from around the world.mp4: 384x640 1 people, 10.3ms\n",
            "video 1/1 (frame 210/3518) /content/Faces from around the world.mp4: 384x640 1 people, 12.3ms\n",
            "video 1/1 (frame 211/3518) /content/Faces from around the world.mp4: 384x640 1 people, 10.6ms\n",
            "video 1/1 (frame 212/3518) /content/Faces from around the world.mp4: 384x640 1 people, 10.8ms\n",
            "video 1/1 (frame 213/3518) /content/Faces from around the world.mp4: 384x640 1 people, 10.4ms\n",
            "video 1/1 (frame 214/3518) /content/Faces from around the world.mp4: 384x640 1 people, 12.0ms\n",
            "video 1/1 (frame 215/3518) /content/Faces from around the world.mp4: 384x640 1 people, 11.0ms\n",
            "video 1/1 (frame 216/3518) /content/Faces from around the world.mp4: 384x640 1 people, 10.6ms\n",
            "video 1/1 (frame 217/3518) /content/Faces from around the world.mp4: 384x640 (no detections), 10.5ms\n",
            "video 1/1 (frame 218/3518) /content/Faces from around the world.mp4: 384x640 (no detections), 12.1ms\n",
            "video 1/1 (frame 219/3518) /content/Faces from around the world.mp4: 384x640 (no detections), 10.3ms\n",
            "video 1/1 (frame 220/3518) /content/Faces from around the world.mp4: 384x640 (no detections), 12.0ms\n",
            "video 1/1 (frame 221/3518) /content/Faces from around the world.mp4: 384x640 (no detections), 10.5ms\n",
            "video 1/1 (frame 222/3518) /content/Faces from around the world.mp4: 384x640 (no detections), 11.7ms\n",
            "video 1/1 (frame 223/3518) /content/Faces from around the world.mp4: 384x640 (no detections), 10.6ms\n",
            "video 1/1 (frame 224/3518) /content/Faces from around the world.mp4: 384x640 (no detections), 10.0ms\n",
            "video 1/1 (frame 225/3518) /content/Faces from around the world.mp4: 384x640 (no detections), 10.2ms\n",
            "video 1/1 (frame 226/3518) /content/Faces from around the world.mp4: 384x640 (no detections), 10.2ms\n",
            "video 1/1 (frame 227/3518) /content/Faces from around the world.mp4: 384x640 (no detections), 13.2ms\n",
            "video 1/1 (frame 228/3518) /content/Faces from around the world.mp4: 384x640 (no detections), 10.6ms\n",
            "video 1/1 (frame 229/3518) /content/Faces from around the world.mp4: 384x640 (no detections), 10.4ms\n",
            "video 1/1 (frame 230/3518) /content/Faces from around the world.mp4: 384x640 (no detections), 10.1ms\n",
            "video 1/1 (frame 231/3518) /content/Faces from around the world.mp4: 384x640 (no detections), 10.5ms\n",
            "video 1/1 (frame 232/3518) /content/Faces from around the world.mp4: 384x640 (no detections), 10.9ms\n",
            "video 1/1 (frame 233/3518) /content/Faces from around the world.mp4: 384x640 (no detections), 10.7ms\n",
            "video 1/1 (frame 234/3518) /content/Faces from around the world.mp4: 384x640 (no detections), 10.7ms\n",
            "video 1/1 (frame 235/3518) /content/Faces from around the world.mp4: 384x640 (no detections), 10.9ms\n",
            "video 1/1 (frame 236/3518) /content/Faces from around the world.mp4: 384x640 (no detections), 12.5ms\n",
            "video 1/1 (frame 237/3518) /content/Faces from around the world.mp4: 384x640 (no detections), 14.9ms\n",
            "video 1/1 (frame 238/3518) /content/Faces from around the world.mp4: 384x640 (no detections), 17.5ms\n",
            "video 1/1 (frame 239/3518) /content/Faces from around the world.mp4: 384x640 (no detections), 10.2ms\n",
            "video 1/1 (frame 240/3518) /content/Faces from around the world.mp4: 384x640 (no detections), 12.0ms\n",
            "video 1/1 (frame 241/3518) /content/Faces from around the world.mp4: 384x640 (no detections), 10.4ms\n",
            "video 1/1 (frame 242/3518) /content/Faces from around the world.mp4: 384x640 (no detections), 10.3ms\n",
            "video 1/1 (frame 243/3518) /content/Faces from around the world.mp4: 384x640 (no detections), 10.0ms\n",
            "video 1/1 (frame 244/3518) /content/Faces from around the world.mp4: 384x640 (no detections), 10.1ms\n",
            "video 1/1 (frame 245/3518) /content/Faces from around the world.mp4: 384x640 (no detections), 10.2ms\n",
            "video 1/1 (frame 246/3518) /content/Faces from around the world.mp4: 384x640 (no detections), 10.3ms\n",
            "video 1/1 (frame 247/3518) /content/Faces from around the world.mp4: 384x640 (no detections), 10.3ms\n",
            "video 1/1 (frame 248/3518) /content/Faces from around the world.mp4: 384x640 (no detections), 10.4ms\n",
            "video 1/1 (frame 249/3518) /content/Faces from around the world.mp4: 384x640 (no detections), 10.2ms\n",
            "video 1/1 (frame 250/3518) /content/Faces from around the world.mp4: 384x640 (no detections), 9.9ms\n",
            "video 1/1 (frame 251/3518) /content/Faces from around the world.mp4: 384x640 (no detections), 10.1ms\n",
            "video 1/1 (frame 252/3518) /content/Faces from around the world.mp4: 384x640 (no detections), 9.8ms\n",
            "video 1/1 (frame 253/3518) /content/Faces from around the world.mp4: 384x640 (no detections), 13.0ms\n",
            "video 1/1 (frame 254/3518) /content/Faces from around the world.mp4: 384x640 (no detections), 13.0ms\n",
            "video 1/1 (frame 255/3518) /content/Faces from around the world.mp4: 384x640 (no detections), 12.0ms\n",
            "video 1/1 (frame 256/3518) /content/Faces from around the world.mp4: 384x640 (no detections), 9.8ms\n",
            "video 1/1 (frame 257/3518) /content/Faces from around the world.mp4: 384x640 (no detections), 10.0ms\n",
            "video 1/1 (frame 258/3518) /content/Faces from around the world.mp4: 384x640 (no detections), 10.1ms\n",
            "video 1/1 (frame 259/3518) /content/Faces from around the world.mp4: 384x640 (no detections), 9.9ms\n",
            "video 1/1 (frame 260/3518) /content/Faces from around the world.mp4: 384x640 (no detections), 10.5ms\n",
            "video 1/1 (frame 261/3518) /content/Faces from around the world.mp4: 384x640 (no detections), 10.1ms\n",
            "video 1/1 (frame 262/3518) /content/Faces from around the world.mp4: 384x640 (no detections), 10.0ms\n",
            "video 1/1 (frame 263/3518) /content/Faces from around the world.mp4: 384x640 (no detections), 10.1ms\n",
            "video 1/1 (frame 264/3518) /content/Faces from around the world.mp4: 384x640 (no detections), 9.9ms\n",
            "video 1/1 (frame 265/3518) /content/Faces from around the world.mp4: 384x640 (no detections), 10.2ms\n",
            "video 1/1 (frame 266/3518) /content/Faces from around the world.mp4: 384x640 (no detections), 10.5ms\n",
            "video 1/1 (frame 267/3518) /content/Faces from around the world.mp4: 384x640 (no detections), 9.9ms\n",
            "video 1/1 (frame 268/3518) /content/Faces from around the world.mp4: 384x640 (no detections), 11.1ms\n",
            "video 1/1 (frame 269/3518) /content/Faces from around the world.mp4: 384x640 (no detections), 10.5ms\n",
            "video 1/1 (frame 270/3518) /content/Faces from around the world.mp4: 384x640 (no detections), 10.8ms\n",
            "video 1/1 (frame 271/3518) /content/Faces from around the world.mp4: 384x640 (no detections), 13.0ms\n",
            "video 1/1 (frame 272/3518) /content/Faces from around the world.mp4: 384x640 (no detections), 12.8ms\n",
            "video 1/1 (frame 273/3518) /content/Faces from around the world.mp4: 384x640 (no detections), 12.3ms\n",
            "video 1/1 (frame 274/3518) /content/Faces from around the world.mp4: 384x640 (no detections), 11.7ms\n",
            "video 1/1 (frame 275/3518) /content/Faces from around the world.mp4: 384x640 (no detections), 11.1ms\n",
            "video 1/1 (frame 276/3518) /content/Faces from around the world.mp4: 384x640 (no detections), 10.4ms\n",
            "video 1/1 (frame 277/3518) /content/Faces from around the world.mp4: 384x640 (no detections), 10.8ms\n",
            "video 1/1 (frame 278/3518) /content/Faces from around the world.mp4: 384x640 (no detections), 10.2ms\n",
            "video 1/1 (frame 279/3518) /content/Faces from around the world.mp4: 384x640 (no detections), 10.1ms\n",
            "video 1/1 (frame 280/3518) /content/Faces from around the world.mp4: 384x640 (no detections), 11.9ms\n",
            "video 1/1 (frame 281/3518) /content/Faces from around the world.mp4: 384x640 (no detections), 13.3ms\n",
            "video 1/1 (frame 282/3518) /content/Faces from around the world.mp4: 384x640 (no detections), 10.5ms\n",
            "video 1/1 (frame 283/3518) /content/Faces from around the world.mp4: 384x640 (no detections), 9.8ms\n",
            "video 1/1 (frame 284/3518) /content/Faces from around the world.mp4: 384x640 (no detections), 10.4ms\n",
            "video 1/1 (frame 285/3518) /content/Faces from around the world.mp4: 384x640 (no detections), 9.7ms\n",
            "video 1/1 (frame 286/3518) /content/Faces from around the world.mp4: 384x640 (no detections), 10.0ms\n",
            "video 1/1 (frame 287/3518) /content/Faces from around the world.mp4: 384x640 (no detections), 10.7ms\n",
            "video 1/1 (frame 288/3518) /content/Faces from around the world.mp4: 384x640 (no detections), 10.1ms\n",
            "video 1/1 (frame 289/3518) /content/Faces from around the world.mp4: 384x640 (no detections), 9.8ms\n",
            "video 1/1 (frame 290/3518) /content/Faces from around the world.mp4: 384x640 (no detections), 19.3ms\n",
            "video 1/1 (frame 291/3518) /content/Faces from around the world.mp4: 384x640 (no detections), 10.6ms\n",
            "video 1/1 (frame 292/3518) /content/Faces from around the world.mp4: 384x640 (no detections), 10.2ms\n",
            "video 1/1 (frame 293/3518) /content/Faces from around the world.mp4: 384x640 (no detections), 10.1ms\n",
            "video 1/1 (frame 294/3518) /content/Faces from around the world.mp4: 384x640 (no detections), 11.6ms\n",
            "video 1/1 (frame 295/3518) /content/Faces from around the world.mp4: 384x640 (no detections), 11.0ms\n",
            "video 1/1 (frame 296/3518) /content/Faces from around the world.mp4: 384x640 (no detections), 10.6ms\n",
            "video 1/1 (frame 297/3518) /content/Faces from around the world.mp4: 384x640 (no detections), 10.6ms\n",
            "video 1/1 (frame 298/3518) /content/Faces from around the world.mp4: 384x640 (no detections), 12.7ms\n",
            "video 1/1 (frame 299/3518) /content/Faces from around the world.mp4: 384x640 1 people, 11.1ms\n",
            "video 1/1 (frame 300/3518) /content/Faces from around the world.mp4: 384x640 1 people, 12.0ms\n",
            "video 1/1 (frame 301/3518) /content/Faces from around the world.mp4: 384x640 1 people, 10.2ms\n",
            "video 1/1 (frame 302/3518) /content/Faces from around the world.mp4: 384x640 1 people, 10.3ms\n",
            "video 1/1 (frame 303/3518) /content/Faces from around the world.mp4: 384x640 1 people, 10.9ms\n",
            "video 1/1 (frame 304/3518) /content/Faces from around the world.mp4: 384x640 1 people, 10.7ms\n",
            "video 1/1 (frame 305/3518) /content/Faces from around the world.mp4: 384x640 1 people, 10.5ms\n",
            "video 1/1 (frame 306/3518) /content/Faces from around the world.mp4: 384x640 1 people, 12.1ms\n",
            "video 1/1 (frame 307/3518) /content/Faces from around the world.mp4: 384x640 1 people, 10.2ms\n",
            "video 1/1 (frame 308/3518) /content/Faces from around the world.mp4: 384x640 1 people, 10.1ms\n",
            "video 1/1 (frame 309/3518) /content/Faces from around the world.mp4: 384x640 1 people, 10.4ms\n",
            "video 1/1 (frame 310/3518) /content/Faces from around the world.mp4: 384x640 1 people, 10.6ms\n",
            "video 1/1 (frame 311/3518) /content/Faces from around the world.mp4: 384x640 1 people, 10.3ms\n",
            "video 1/1 (frame 312/3518) /content/Faces from around the world.mp4: 384x640 1 people, 10.5ms\n",
            "video 1/1 (frame 313/3518) /content/Faces from around the world.mp4: 384x640 1 people, 10.3ms\n",
            "video 1/1 (frame 314/3518) /content/Faces from around the world.mp4: 384x640 1 people, 10.2ms\n",
            "video 1/1 (frame 315/3518) /content/Faces from around the world.mp4: 384x640 1 people, 12.3ms\n",
            "video 1/1 (frame 316/3518) /content/Faces from around the world.mp4: 384x640 1 people, 10.0ms\n",
            "video 1/1 (frame 317/3518) /content/Faces from around the world.mp4: 384x640 1 people, 12.4ms\n",
            "video 1/1 (frame 318/3518) /content/Faces from around the world.mp4: 384x640 1 people, 12.6ms\n",
            "video 1/1 (frame 319/3518) /content/Faces from around the world.mp4: 384x640 1 people, 12.4ms\n",
            "video 1/1 (frame 320/3518) /content/Faces from around the world.mp4: 384x640 1 people, 11.3ms\n",
            "video 1/1 (frame 321/3518) /content/Faces from around the world.mp4: 384x640 1 people, 12.3ms\n",
            "video 1/1 (frame 322/3518) /content/Faces from around the world.mp4: 384x640 1 people, 11.3ms\n",
            "video 1/1 (frame 323/3518) /content/Faces from around the world.mp4: 384x640 1 people, 10.3ms\n",
            "video 1/1 (frame 324/3518) /content/Faces from around the world.mp4: 384x640 1 people, 10.2ms\n",
            "video 1/1 (frame 325/3518) /content/Faces from around the world.mp4: 384x640 1 people, 12.1ms\n",
            "video 1/1 (frame 326/3518) /content/Faces from around the world.mp4: 384x640 1 people, 10.2ms\n",
            "video 1/1 (frame 327/3518) /content/Faces from around the world.mp4: 384x640 1 people, 10.9ms\n",
            "video 1/1 (frame 328/3518) /content/Faces from around the world.mp4: 384x640 1 people, 10.4ms\n",
            "video 1/1 (frame 329/3518) /content/Faces from around the world.mp4: 384x640 1 people, 10.8ms\n",
            "video 1/1 (frame 330/3518) /content/Faces from around the world.mp4: 384x640 1 people, 14.3ms\n",
            "video 1/1 (frame 331/3518) /content/Faces from around the world.mp4: 384x640 1 people, 12.2ms\n",
            "video 1/1 (frame 332/3518) /content/Faces from around the world.mp4: 384x640 1 people, 11.0ms\n",
            "video 1/1 (frame 333/3518) /content/Faces from around the world.mp4: 384x640 1 people, 12.4ms\n",
            "video 1/1 (frame 334/3518) /content/Faces from around the world.mp4: 384x640 1 people, 10.6ms\n",
            "video 1/1 (frame 335/3518) /content/Faces from around the world.mp4: 384x640 1 people, 11.2ms\n",
            "video 1/1 (frame 336/3518) /content/Faces from around the world.mp4: 384x640 1 people, 9.9ms\n",
            "video 1/1 (frame 337/3518) /content/Faces from around the world.mp4: 384x640 1 people, 11.3ms\n",
            "video 1/1 (frame 338/3518) /content/Faces from around the world.mp4: 384x640 1 people, 20.6ms\n",
            "video 1/1 (frame 339/3518) /content/Faces from around the world.mp4: 384x640 1 people, 11.7ms\n",
            "video 1/1 (frame 340/3518) /content/Faces from around the world.mp4: 384x640 1 people, 11.3ms\n",
            "video 1/1 (frame 341/3518) /content/Faces from around the world.mp4: 384x640 (no detections), 12.1ms\n",
            "video 1/1 (frame 342/3518) /content/Faces from around the world.mp4: 384x640 (no detections), 12.8ms\n",
            "video 1/1 (frame 343/3518) /content/Faces from around the world.mp4: 384x640 (no detections), 10.9ms\n",
            "video 1/1 (frame 344/3518) /content/Faces from around the world.mp4: 384x640 (no detections), 12.4ms\n",
            "video 1/1 (frame 345/3518) /content/Faces from around the world.mp4: 384x640 (no detections), 11.2ms\n",
            "video 1/1 (frame 346/3518) /content/Faces from around the world.mp4: 384x640 (no detections), 11.3ms\n",
            "video 1/1 (frame 347/3518) /content/Faces from around the world.mp4: 384x640 (no detections), 10.0ms\n",
            "video 1/1 (frame 348/3518) /content/Faces from around the world.mp4: 384x640 (no detections), 10.4ms\n",
            "video 1/1 (frame 349/3518) /content/Faces from around the world.mp4: 384x640 (no detections), 10.8ms\n",
            "video 1/1 (frame 350/3518) /content/Faces from around the world.mp4: 384x640 (no detections), 9.8ms\n",
            "video 1/1 (frame 351/3518) /content/Faces from around the world.mp4: 384x640 (no detections), 9.7ms\n",
            "video 1/1 (frame 352/3518) /content/Faces from around the world.mp4: 384x640 (no detections), 9.7ms\n",
            "video 1/1 (frame 353/3518) /content/Faces from around the world.mp4: 384x640 (no detections), 9.6ms\n",
            "video 1/1 (frame 354/3518) /content/Faces from around the world.mp4: 384x640 (no detections), 10.9ms\n",
            "video 1/1 (frame 355/3518) /content/Faces from around the world.mp4: 384x640 (no detections), 13.0ms\n",
            "video 1/1 (frame 356/3518) /content/Faces from around the world.mp4: 384x640 (no detections), 9.8ms\n",
            "video 1/1 (frame 357/3518) /content/Faces from around the world.mp4: 384x640 (no detections), 11.5ms\n",
            "video 1/1 (frame 358/3518) /content/Faces from around the world.mp4: 384x640 (no detections), 11.7ms\n",
            "video 1/1 (frame 359/3518) /content/Faces from around the world.mp4: 384x640 (no detections), 10.0ms\n",
            "video 1/1 (frame 360/3518) /content/Faces from around the world.mp4: 384x640 (no detections), 10.3ms\n",
            "video 1/1 (frame 361/3518) /content/Faces from around the world.mp4: 384x640 (no detections), 9.7ms\n",
            "video 1/1 (frame 362/3518) /content/Faces from around the world.mp4: 384x640 (no detections), 11.2ms\n",
            "video 1/1 (frame 363/3518) /content/Faces from around the world.mp4: 384x640 (no detections), 9.8ms\n",
            "video 1/1 (frame 364/3518) /content/Faces from around the world.mp4: 384x640 (no detections), 10.1ms\n",
            "video 1/1 (frame 365/3518) /content/Faces from around the world.mp4: 384x640 (no detections), 10.0ms\n",
            "video 1/1 (frame 366/3518) /content/Faces from around the world.mp4: 384x640 (no detections), 9.5ms\n",
            "video 1/1 (frame 367/3518) /content/Faces from around the world.mp4: 384x640 (no detections), 9.7ms\n",
            "video 1/1 (frame 368/3518) /content/Faces from around the world.mp4: 384x640 (no detections), 12.9ms\n",
            "video 1/1 (frame 369/3518) /content/Faces from around the world.mp4: 384x640 (no detections), 10.2ms\n",
            "video 1/1 (frame 370/3518) /content/Faces from around the world.mp4: 384x640 (no detections), 13.3ms\n",
            "video 1/1 (frame 371/3518) /content/Faces from around the world.mp4: 384x640 (no detections), 11.3ms\n",
            "video 1/1 (frame 372/3518) /content/Faces from around the world.mp4: 384x640 (no detections), 10.7ms\n",
            "video 1/1 (frame 373/3518) /content/Faces from around the world.mp4: 384x640 (no detections), 10.2ms\n",
            "video 1/1 (frame 374/3518) /content/Faces from around the world.mp4: 384x640 (no detections), 10.2ms\n",
            "video 1/1 (frame 375/3518) /content/Faces from around the world.mp4: 384x640 (no detections), 12.1ms\n",
            "video 1/1 (frame 376/3518) /content/Faces from around the world.mp4: 384x640 2 peoples, 10.5ms\n",
            "video 1/1 (frame 377/3518) /content/Faces from around the world.mp4: 384x640 1 people, 10.1ms\n",
            "video 1/1 (frame 378/3518) /content/Faces from around the world.mp4: 384x640 1 people, 9.7ms\n",
            "video 1/1 (frame 379/3518) /content/Faces from around the world.mp4: 384x640 2 peoples, 9.8ms\n",
            "video 1/1 (frame 380/3518) /content/Faces from around the world.mp4: 384x640 2 peoples, 10.1ms\n",
            "video 1/1 (frame 381/3518) /content/Faces from around the world.mp4: 384x640 2 peoples, 10.3ms\n",
            "video 1/1 (frame 382/3518) /content/Faces from around the world.mp4: 384x640 2 peoples, 11.7ms\n",
            "video 1/1 (frame 383/3518) /content/Faces from around the world.mp4: 384x640 2 peoples, 11.8ms\n",
            "video 1/1 (frame 384/3518) /content/Faces from around the world.mp4: 384x640 2 peoples, 9.9ms\n",
            "video 1/1 (frame 385/3518) /content/Faces from around the world.mp4: 384x640 2 peoples, 10.0ms\n",
            "video 1/1 (frame 386/3518) /content/Faces from around the world.mp4: 384x640 2 peoples, 10.0ms\n",
            "video 1/1 (frame 387/3518) /content/Faces from around the world.mp4: 384x640 1 people, 18.0ms\n",
            "video 1/1 (frame 388/3518) /content/Faces from around the world.mp4: 384x640 1 people, 20.2ms\n",
            "video 1/1 (frame 389/3518) /content/Faces from around the world.mp4: 384x640 1 people, 13.4ms\n",
            "video 1/1 (frame 390/3518) /content/Faces from around the world.mp4: 384x640 1 people, 10.7ms\n",
            "video 1/1 (frame 391/3518) /content/Faces from around the world.mp4: 384x640 1 people, 10.9ms\n",
            "video 1/1 (frame 392/3518) /content/Faces from around the world.mp4: 384x640 1 people, 13.2ms\n",
            "video 1/1 (frame 393/3518) /content/Faces from around the world.mp4: 384x640 1 people, 10.0ms\n",
            "video 1/1 (frame 394/3518) /content/Faces from around the world.mp4: 384x640 (no detections), 10.1ms\n",
            "video 1/1 (frame 395/3518) /content/Faces from around the world.mp4: 384x640 (no detections), 10.8ms\n",
            "video 1/1 (frame 396/3518) /content/Faces from around the world.mp4: 384x640 (no detections), 10.8ms\n",
            "video 1/1 (frame 397/3518) /content/Faces from around the world.mp4: 384x640 (no detections), 12.8ms\n",
            "video 1/1 (frame 398/3518) /content/Faces from around the world.mp4: 384x640 (no detections), 10.8ms\n",
            "video 1/1 (frame 399/3518) /content/Faces from around the world.mp4: 384x640 (no detections), 11.4ms\n",
            "video 1/1 (frame 400/3518) /content/Faces from around the world.mp4: 384x640 (no detections), 12.4ms\n",
            "video 1/1 (frame 401/3518) /content/Faces from around the world.mp4: 384x640 (no detections), 11.7ms\n",
            "video 1/1 (frame 402/3518) /content/Faces from around the world.mp4: 384x640 (no detections), 11.3ms\n",
            "video 1/1 (frame 403/3518) /content/Faces from around the world.mp4: 384x640 (no detections), 9.9ms\n",
            "video 1/1 (frame 404/3518) /content/Faces from around the world.mp4: 384x640 (no detections), 10.6ms\n",
            "video 1/1 (frame 405/3518) /content/Faces from around the world.mp4: 384x640 (no detections), 11.9ms\n",
            "video 1/1 (frame 406/3518) /content/Faces from around the world.mp4: 384x640 (no detections), 10.3ms\n",
            "video 1/1 (frame 407/3518) /content/Faces from around the world.mp4: 384x640 (no detections), 11.2ms\n",
            "video 1/1 (frame 408/3518) /content/Faces from around the world.mp4: 384x640 (no detections), 10.7ms\n",
            "video 1/1 (frame 409/3518) /content/Faces from around the world.mp4: 384x640 (no detections), 11.4ms\n",
            "video 1/1 (frame 410/3518) /content/Faces from around the world.mp4: 384x640 (no detections), 10.1ms\n",
            "video 1/1 (frame 411/3518) /content/Faces from around the world.mp4: 384x640 (no detections), 11.5ms\n",
            "video 1/1 (frame 412/3518) /content/Faces from around the world.mp4: 384x640 (no detections), 10.7ms\n",
            "video 1/1 (frame 413/3518) /content/Faces from around the world.mp4: 384x640 (no detections), 11.2ms\n",
            "video 1/1 (frame 414/3518) /content/Faces from around the world.mp4: 384x640 (no detections), 10.2ms\n",
            "video 1/1 (frame 415/3518) /content/Faces from around the world.mp4: 384x640 (no detections), 9.7ms\n",
            "video 1/1 (frame 416/3518) /content/Faces from around the world.mp4: 384x640 (no detections), 11.9ms\n",
            "video 1/1 (frame 417/3518) /content/Faces from around the world.mp4: 384x640 (no detections), 10.1ms\n",
            "video 1/1 (frame 418/3518) /content/Faces from around the world.mp4: 384x640 (no detections), 10.5ms\n",
            "video 1/1 (frame 419/3518) /content/Faces from around the world.mp4: 384x640 (no detections), 15.9ms\n",
            "video 1/1 (frame 420/3518) /content/Faces from around the world.mp4: 384x640 (no detections), 12.5ms\n",
            "video 1/1 (frame 421/3518) /content/Faces from around the world.mp4: 384x640 (no detections), 10.4ms\n",
            "video 1/1 (frame 422/3518) /content/Faces from around the world.mp4: 384x640 (no detections), 12.5ms\n",
            "video 1/1 (frame 423/3518) /content/Faces from around the world.mp4: 384x640 (no detections), 12.4ms\n",
            "video 1/1 (frame 424/3518) /content/Faces from around the world.mp4: 384x640 (no detections), 9.8ms\n",
            "video 1/1 (frame 425/3518) /content/Faces from around the world.mp4: 384x640 (no detections), 10.3ms\n",
            "video 1/1 (frame 426/3518) /content/Faces from around the world.mp4: 384x640 (no detections), 10.2ms\n",
            "video 1/1 (frame 427/3518) /content/Faces from around the world.mp4: 384x640 (no detections), 10.1ms\n",
            "video 1/1 (frame 428/3518) /content/Faces from around the world.mp4: 384x640 1 people, 10.7ms\n",
            "video 1/1 (frame 429/3518) /content/Faces from around the world.mp4: 384x640 1 people, 13.2ms\n",
            "video 1/1 (frame 430/3518) /content/Faces from around the world.mp4: 384x640 1 people, 10.4ms\n",
            "video 1/1 (frame 431/3518) /content/Faces from around the world.mp4: 384x640 (no detections), 10.7ms\n",
            "video 1/1 (frame 432/3518) /content/Faces from around the world.mp4: 384x640 (no detections), 15.0ms\n",
            "video 1/1 (frame 433/3518) /content/Faces from around the world.mp4: 384x640 (no detections), 9.9ms\n",
            "video 1/1 (frame 434/3518) /content/Faces from around the world.mp4: 384x640 1 people, 9.7ms\n",
            "video 1/1 (frame 435/3518) /content/Faces from around the world.mp4: 384x640 (no detections), 9.7ms\n",
            "video 1/1 (frame 436/3518) /content/Faces from around the world.mp4: 384x640 (no detections), 9.9ms\n",
            "video 1/1 (frame 437/3518) /content/Faces from around the world.mp4: 384x640 (no detections), 9.7ms\n",
            "video 1/1 (frame 438/3518) /content/Faces from around the world.mp4: 384x640 (no detections), 9.7ms\n",
            "video 1/1 (frame 439/3518) /content/Faces from around the world.mp4: 384x640 (no detections), 12.2ms\n",
            "video 1/1 (frame 440/3518) /content/Faces from around the world.mp4: 384x640 1 people, 12.0ms\n",
            "video 1/1 (frame 441/3518) /content/Faces from around the world.mp4: 384x640 (no detections), 16.8ms\n",
            "video 1/1 (frame 442/3518) /content/Faces from around the world.mp4: 384x640 (no detections), 11.6ms\n",
            "video 1/1 (frame 443/3518) /content/Faces from around the world.mp4: 384x640 (no detections), 10.4ms\n",
            "video 1/1 (frame 444/3518) /content/Faces from around the world.mp4: 384x640 (no detections), 10.1ms\n",
            "video 1/1 (frame 445/3518) /content/Faces from around the world.mp4: 384x640 (no detections), 14.0ms\n",
            "video 1/1 (frame 446/3518) /content/Faces from around the world.mp4: 384x640 (no detections), 11.2ms\n",
            "video 1/1 (frame 447/3518) /content/Faces from around the world.mp4: 384x640 (no detections), 11.3ms\n",
            "video 1/1 (frame 448/3518) /content/Faces from around the world.mp4: 384x640 (no detections), 11.1ms\n",
            "video 1/1 (frame 449/3518) /content/Faces from around the world.mp4: 384x640 (no detections), 12.3ms\n",
            "video 1/1 (frame 450/3518) /content/Faces from around the world.mp4: 384x640 (no detections), 9.8ms\n",
            "video 1/1 (frame 451/3518) /content/Faces from around the world.mp4: 384x640 (no detections), 10.1ms\n",
            "video 1/1 (frame 452/3518) /content/Faces from around the world.mp4: 384x640 (no detections), 10.0ms\n",
            "video 1/1 (frame 453/3518) /content/Faces from around the world.mp4: 384x640 (no detections), 12.1ms\n",
            "video 1/1 (frame 454/3518) /content/Faces from around the world.mp4: 384x640 (no detections), 10.1ms\n",
            "video 1/1 (frame 455/3518) /content/Faces from around the world.mp4: 384x640 (no detections), 12.6ms\n",
            "video 1/1 (frame 456/3518) /content/Faces from around the world.mp4: 384x640 (no detections), 10.7ms\n",
            "video 1/1 (frame 457/3518) /content/Faces from around the world.mp4: 384x640 (no detections), 10.7ms\n",
            "video 1/1 (frame 458/3518) /content/Faces from around the world.mp4: 384x640 (no detections), 9.5ms\n",
            "video 1/1 (frame 459/3518) /content/Faces from around the world.mp4: 384x640 (no detections), 12.7ms\n",
            "video 1/1 (frame 460/3518) /content/Faces from around the world.mp4: 384x640 (no detections), 9.7ms\n",
            "video 1/1 (frame 461/3518) /content/Faces from around the world.mp4: 384x640 (no detections), 10.0ms\n",
            "video 1/1 (frame 462/3518) /content/Faces from around the world.mp4: 384x640 (no detections), 11.6ms\n",
            "video 1/1 (frame 463/3518) /content/Faces from around the world.mp4: 384x640 (no detections), 9.9ms\n",
            "video 1/1 (frame 464/3518) /content/Faces from around the world.mp4: 384x640 (no detections), 9.8ms\n",
            "video 1/1 (frame 465/3518) /content/Faces from around the world.mp4: 384x640 (no detections), 10.4ms\n",
            "video 1/1 (frame 466/3518) /content/Faces from around the world.mp4: 384x640 (no detections), 10.0ms\n",
            "video 1/1 (frame 467/3518) /content/Faces from around the world.mp4: 384x640 (no detections), 10.9ms\n",
            "video 1/1 (frame 468/3518) /content/Faces from around the world.mp4: 384x640 (no detections), 12.8ms\n",
            "video 1/1 (frame 469/3518) /content/Faces from around the world.mp4: 384x640 (no detections), 10.2ms\n",
            "video 1/1 (frame 470/3518) /content/Faces from around the world.mp4: 384x640 (no detections), 11.5ms\n",
            "video 1/1 (frame 471/3518) /content/Faces from around the world.mp4: 384x640 (no detections), 10.8ms\n",
            "video 1/1 (frame 472/3518) /content/Faces from around the world.mp4: 384x640 (no detections), 13.9ms\n",
            "video 1/1 (frame 473/3518) /content/Faces from around the world.mp4: 384x640 (no detections), 11.9ms\n",
            "video 1/1 (frame 474/3518) /content/Faces from around the world.mp4: 384x640 (no detections), 9.7ms\n",
            "video 1/1 (frame 475/3518) /content/Faces from around the world.mp4: 384x640 (no detections), 13.5ms\n",
            "video 1/1 (frame 476/3518) /content/Faces from around the world.mp4: 384x640 (no detections), 10.1ms\n",
            "video 1/1 (frame 477/3518) /content/Faces from around the world.mp4: 384x640 (no detections), 10.0ms\n",
            "video 1/1 (frame 478/3518) /content/Faces from around the world.mp4: 384x640 (no detections), 10.4ms\n",
            "video 1/1 (frame 479/3518) /content/Faces from around the world.mp4: 384x640 (no detections), 11.1ms\n",
            "video 1/1 (frame 480/3518) /content/Faces from around the world.mp4: 384x640 (no detections), 9.9ms\n",
            "video 1/1 (frame 481/3518) /content/Faces from around the world.mp4: 384x640 (no detections), 10.4ms\n",
            "video 1/1 (frame 482/3518) /content/Faces from around the world.mp4: 384x640 (no detections), 11.1ms\n",
            "video 1/1 (frame 483/3518) /content/Faces from around the world.mp4: 384x640 (no detections), 10.3ms\n",
            "video 1/1 (frame 484/3518) /content/Faces from around the world.mp4: 384x640 (no detections), 11.9ms\n",
            "video 1/1 (frame 485/3518) /content/Faces from around the world.mp4: 384x640 (no detections), 11.3ms\n",
            "video 1/1 (frame 486/3518) /content/Faces from around the world.mp4: 384x640 (no detections), 13.0ms\n",
            "video 1/1 (frame 487/3518) /content/Faces from around the world.mp4: 384x640 (no detections), 12.3ms\n",
            "video 1/1 (frame 488/3518) /content/Faces from around the world.mp4: 384x640 (no detections), 10.3ms\n",
            "video 1/1 (frame 489/3518) /content/Faces from around the world.mp4: 384x640 1 people, 11.5ms\n",
            "video 1/1 (frame 490/3518) /content/Faces from around the world.mp4: 384x640 1 people, 10.2ms\n",
            "video 1/1 (frame 491/3518) /content/Faces from around the world.mp4: 384x640 1 people, 11.2ms\n",
            "video 1/1 (frame 492/3518) /content/Faces from around the world.mp4: 384x640 1 people, 9.9ms\n",
            "video 1/1 (frame 493/3518) /content/Faces from around the world.mp4: 384x640 1 people, 15.1ms\n",
            "video 1/1 (frame 494/3518) /content/Faces from around the world.mp4: 384x640 1 people, 17.9ms\n",
            "video 1/1 (frame 495/3518) /content/Faces from around the world.mp4: 384x640 1 people, 10.9ms\n",
            "video 1/1 (frame 496/3518) /content/Faces from around the world.mp4: 384x640 1 people, 10.6ms\n",
            "video 1/1 (frame 497/3518) /content/Faces from around the world.mp4: 384x640 1 people, 11.2ms\n",
            "video 1/1 (frame 498/3518) /content/Faces from around the world.mp4: 384x640 1 people, 10.3ms\n",
            "video 1/1 (frame 499/3518) /content/Faces from around the world.mp4: 384x640 (no detections), 10.3ms\n",
            "video 1/1 (frame 500/3518) /content/Faces from around the world.mp4: 384x640 (no detections), 10.2ms\n",
            "video 1/1 (frame 501/3518) /content/Faces from around the world.mp4: 384x640 1 people, 11.5ms\n",
            "video 1/1 (frame 502/3518) /content/Faces from around the world.mp4: 384x640 1 people, 10.4ms\n",
            "video 1/1 (frame 503/3518) /content/Faces from around the world.mp4: 384x640 1 people, 10.2ms\n",
            "video 1/1 (frame 504/3518) /content/Faces from around the world.mp4: 384x640 1 people, 9.9ms\n",
            "video 1/1 (frame 505/3518) /content/Faces from around the world.mp4: 384x640 1 people, 9.9ms\n",
            "video 1/1 (frame 506/3518) /content/Faces from around the world.mp4: 384x640 1 people, 10.1ms\n",
            "video 1/1 (frame 507/3518) /content/Faces from around the world.mp4: 384x640 1 people, 9.5ms\n",
            "video 1/1 (frame 508/3518) /content/Faces from around the world.mp4: 384x640 1 people, 10.0ms\n",
            "video 1/1 (frame 509/3518) /content/Faces from around the world.mp4: 384x640 1 people, 11.4ms\n",
            "video 1/1 (frame 510/3518) /content/Faces from around the world.mp4: 384x640 1 people, 11.5ms\n",
            "video 1/1 (frame 511/3518) /content/Faces from around the world.mp4: 384x640 1 people, 10.9ms\n",
            "video 1/1 (frame 512/3518) /content/Faces from around the world.mp4: 384x640 1 people, 11.1ms\n",
            "video 1/1 (frame 513/3518) /content/Faces from around the world.mp4: 384x640 1 people, 11.7ms\n",
            "video 1/1 (frame 514/3518) /content/Faces from around the world.mp4: 384x640 1 people, 11.7ms\n",
            "video 1/1 (frame 515/3518) /content/Faces from around the world.mp4: 384x640 1 people, 11.8ms\n",
            "video 1/1 (frame 516/3518) /content/Faces from around the world.mp4: 384x640 1 people, 10.6ms\n",
            "video 1/1 (frame 517/3518) /content/Faces from around the world.mp4: 384x640 1 people, 13.3ms\n",
            "video 1/1 (frame 518/3518) /content/Faces from around the world.mp4: 384x640 1 people, 11.9ms\n",
            "video 1/1 (frame 519/3518) /content/Faces from around the world.mp4: 384x640 1 people, 10.4ms\n",
            "video 1/1 (frame 520/3518) /content/Faces from around the world.mp4: 384x640 1 people, 14.0ms\n",
            "video 1/1 (frame 521/3518) /content/Faces from around the world.mp4: 384x640 1 people, 14.3ms\n",
            "video 1/1 (frame 522/3518) /content/Faces from around the world.mp4: 384x640 (no detections), 10.0ms\n",
            "video 1/1 (frame 523/3518) /content/Faces from around the world.mp4: 384x640 1 people, 10.4ms\n",
            "video 1/1 (frame 524/3518) /content/Faces from around the world.mp4: 384x640 1 people, 11.3ms\n",
            "video 1/1 (frame 525/3518) /content/Faces from around the world.mp4: 384x640 1 people, 10.5ms\n",
            "video 1/1 (frame 526/3518) /content/Faces from around the world.mp4: 384x640 1 people, 9.8ms\n",
            "video 1/1 (frame 527/3518) /content/Faces from around the world.mp4: 384x640 1 people, 10.5ms\n",
            "video 1/1 (frame 528/3518) /content/Faces from around the world.mp4: 384x640 1 people, 11.1ms\n",
            "video 1/1 (frame 529/3518) /content/Faces from around the world.mp4: 384x640 1 people, 11.2ms\n",
            "video 1/1 (frame 530/3518) /content/Faces from around the world.mp4: 384x640 1 people, 11.0ms\n",
            "video 1/1 (frame 531/3518) /content/Faces from around the world.mp4: 384x640 1 people, 12.9ms\n",
            "video 1/1 (frame 532/3518) /content/Faces from around the world.mp4: 384x640 1 people, 11.1ms\n",
            "video 1/1 (frame 533/3518) /content/Faces from around the world.mp4: 384x640 1 people, 11.1ms\n",
            "video 1/1 (frame 534/3518) /content/Faces from around the world.mp4: 384x640 1 people, 11.4ms\n",
            "video 1/1 (frame 535/3518) /content/Faces from around the world.mp4: 384x640 1 people, 9.9ms\n",
            "video 1/1 (frame 536/3518) /content/Faces from around the world.mp4: 384x640 1 people, 11.9ms\n",
            "video 1/1 (frame 537/3518) /content/Faces from around the world.mp4: 384x640 1 people, 10.3ms\n",
            "video 1/1 (frame 538/3518) /content/Faces from around the world.mp4: 384x640 1 people, 16.4ms\n",
            "video 1/1 (frame 539/3518) /content/Faces from around the world.mp4: 384x640 1 people, 13.9ms\n",
            "video 1/1 (frame 540/3518) /content/Faces from around the world.mp4: 384x640 1 people, 11.6ms\n",
            "video 1/1 (frame 541/3518) /content/Faces from around the world.mp4: 384x640 1 people, 10.0ms\n",
            "video 1/1 (frame 542/3518) /content/Faces from around the world.mp4: 384x640 1 people, 12.9ms\n",
            "video 1/1 (frame 543/3518) /content/Faces from around the world.mp4: 384x640 1 people, 10.2ms\n",
            "video 1/1 (frame 544/3518) /content/Faces from around the world.mp4: 384x640 1 people, 13.4ms\n",
            "video 1/1 (frame 545/3518) /content/Faces from around the world.mp4: 384x640 1 people, 10.4ms\n",
            "video 1/1 (frame 546/3518) /content/Faces from around the world.mp4: 384x640 1 people, 10.1ms\n",
            "video 1/1 (frame 547/3518) /content/Faces from around the world.mp4: 384x640 1 people, 10.1ms\n",
            "video 1/1 (frame 548/3518) /content/Faces from around the world.mp4: 384x640 1 people, 10.0ms\n",
            "video 1/1 (frame 549/3518) /content/Faces from around the world.mp4: 384x640 1 people, 10.0ms\n",
            "video 1/1 (frame 550/3518) /content/Faces from around the world.mp4: 384x640 1 people, 9.7ms\n",
            "video 1/1 (frame 551/3518) /content/Faces from around the world.mp4: 384x640 1 people, 9.8ms\n",
            "video 1/1 (frame 552/3518) /content/Faces from around the world.mp4: 384x640 1 people, 11.1ms\n",
            "video 1/1 (frame 553/3518) /content/Faces from around the world.mp4: 384x640 1 people, 10.2ms\n",
            "video 1/1 (frame 554/3518) /content/Faces from around the world.mp4: 384x640 1 people, 14.1ms\n",
            "video 1/1 (frame 555/3518) /content/Faces from around the world.mp4: 384x640 1 people, 10.2ms\n",
            "video 1/1 (frame 556/3518) /content/Faces from around the world.mp4: 384x640 (no detections), 9.9ms\n",
            "video 1/1 (frame 557/3518) /content/Faces from around the world.mp4: 384x640 (no detections), 10.0ms\n",
            "video 1/1 (frame 558/3518) /content/Faces from around the world.mp4: 384x640 (no detections), 9.8ms\n",
            "video 1/1 (frame 559/3518) /content/Faces from around the world.mp4: 384x640 (no detections), 9.9ms\n",
            "video 1/1 (frame 560/3518) /content/Faces from around the world.mp4: 384x640 (no detections), 9.8ms\n",
            "video 1/1 (frame 561/3518) /content/Faces from around the world.mp4: 384x640 (no detections), 11.2ms\n",
            "video 1/1 (frame 562/3518) /content/Faces from around the world.mp4: 384x640 (no detections), 12.5ms\n",
            "video 1/1 (frame 563/3518) /content/Faces from around the world.mp4: 384x640 (no detections), 10.6ms\n",
            "video 1/1 (frame 564/3518) /content/Faces from around the world.mp4: 384x640 (no detections), 9.5ms\n",
            "video 1/1 (frame 565/3518) /content/Faces from around the world.mp4: 384x640 (no detections), 9.9ms\n",
            "video 1/1 (frame 566/3518) /content/Faces from around the world.mp4: 384x640 (no detections), 13.0ms\n",
            "video 1/1 (frame 567/3518) /content/Faces from around the world.mp4: 384x640 (no detections), 13.0ms\n",
            "video 1/1 (frame 568/3518) /content/Faces from around the world.mp4: 384x640 (no detections), 19.9ms\n",
            "video 1/1 (frame 569/3518) /content/Faces from around the world.mp4: 384x640 (no detections), 15.9ms\n",
            "video 1/1 (frame 570/3518) /content/Faces from around the world.mp4: 384x640 (no detections), 19.9ms\n",
            "video 1/1 (frame 571/3518) /content/Faces from around the world.mp4: 384x640 (no detections), 16.3ms\n",
            "video 1/1 (frame 572/3518) /content/Faces from around the world.mp4: 384x640 (no detections), 17.6ms\n",
            "video 1/1 (frame 573/3518) /content/Faces from around the world.mp4: 384x640 1 people, 17.1ms\n",
            "video 1/1 (frame 574/3518) /content/Faces from around the world.mp4: 384x640 1 people, 16.9ms\n",
            "video 1/1 (frame 575/3518) /content/Faces from around the world.mp4: 384x640 1 people, 16.1ms\n",
            "video 1/1 (frame 576/3518) /content/Faces from around the world.mp4: 384x640 1 people, 12.2ms\n",
            "video 1/1 (frame 577/3518) /content/Faces from around the world.mp4: 384x640 1 people, 19.3ms\n",
            "video 1/1 (frame 578/3518) /content/Faces from around the world.mp4: 384x640 1 people, 19.0ms\n",
            "video 1/1 (frame 579/3518) /content/Faces from around the world.mp4: 384x640 1 people, 20.2ms\n",
            "video 1/1 (frame 580/3518) /content/Faces from around the world.mp4: 384x640 2 peoples, 23.3ms\n",
            "video 1/1 (frame 581/3518) /content/Faces from around the world.mp4: 384x640 1 people, 20.6ms\n",
            "video 1/1 (frame 582/3518) /content/Faces from around the world.mp4: 384x640 1 people, 18.1ms\n",
            "video 1/1 (frame 583/3518) /content/Faces from around the world.mp4: 384x640 1 people, 15.2ms\n",
            "video 1/1 (frame 584/3518) /content/Faces from around the world.mp4: 384x640 1 people, 13.9ms\n",
            "video 1/1 (frame 585/3518) /content/Faces from around the world.mp4: 384x640 1 people, 15.4ms\n",
            "video 1/1 (frame 586/3518) /content/Faces from around the world.mp4: 384x640 1 people, 15.2ms\n",
            "video 1/1 (frame 587/3518) /content/Faces from around the world.mp4: 384x640 1 people, 12.2ms\n",
            "video 1/1 (frame 588/3518) /content/Faces from around the world.mp4: 384x640 1 people, 14.0ms\n",
            "video 1/1 (frame 589/3518) /content/Faces from around the world.mp4: 384x640 1 people, 18.7ms\n",
            "video 1/1 (frame 590/3518) /content/Faces from around the world.mp4: 384x640 1 people, 14.0ms\n",
            "video 1/1 (frame 591/3518) /content/Faces from around the world.mp4: 384x640 1 people, 13.0ms\n",
            "video 1/1 (frame 592/3518) /content/Faces from around the world.mp4: 384x640 1 people, 15.3ms\n",
            "video 1/1 (frame 593/3518) /content/Faces from around the world.mp4: 384x640 1 people, 14.0ms\n",
            "video 1/1 (frame 594/3518) /content/Faces from around the world.mp4: 384x640 1 people, 14.4ms\n",
            "video 1/1 (frame 595/3518) /content/Faces from around the world.mp4: 384x640 1 people, 13.1ms\n",
            "video 1/1 (frame 596/3518) /content/Faces from around the world.mp4: 384x640 1 people, 13.1ms\n",
            "video 1/1 (frame 597/3518) /content/Faces from around the world.mp4: 384x640 1 people, 13.9ms\n",
            "video 1/1 (frame 598/3518) /content/Faces from around the world.mp4: 384x640 1 people, 13.8ms\n",
            "video 1/1 (frame 599/3518) /content/Faces from around the world.mp4: 384x640 1 people, 13.4ms\n",
            "video 1/1 (frame 600/3518) /content/Faces from around the world.mp4: 384x640 1 people, 14.6ms\n",
            "video 1/1 (frame 601/3518) /content/Faces from around the world.mp4: 384x640 1 people, 13.8ms\n",
            "video 1/1 (frame 602/3518) /content/Faces from around the world.mp4: 384x640 1 people, 17.9ms\n",
            "video 1/1 (frame 603/3518) /content/Faces from around the world.mp4: 384x640 1 people, 13.7ms\n",
            "video 1/1 (frame 604/3518) /content/Faces from around the world.mp4: 384x640 1 people, 14.1ms\n",
            "video 1/1 (frame 605/3518) /content/Faces from around the world.mp4: 384x640 1 people, 13.7ms\n",
            "video 1/1 (frame 606/3518) /content/Faces from around the world.mp4: 384x640 1 people, 13.7ms\n",
            "video 1/1 (frame 607/3518) /content/Faces from around the world.mp4: 384x640 1 people, 15.4ms\n",
            "video 1/1 (frame 608/3518) /content/Faces from around the world.mp4: 384x640 1 people, 13.0ms\n",
            "video 1/1 (frame 609/3518) /content/Faces from around the world.mp4: 384x640 1 people, 12.0ms\n",
            "video 1/1 (frame 610/3518) /content/Faces from around the world.mp4: 384x640 1 people, 12.7ms\n",
            "video 1/1 (frame 611/3518) /content/Faces from around the world.mp4: 384x640 1 people, 12.0ms\n",
            "video 1/1 (frame 612/3518) /content/Faces from around the world.mp4: 384x640 1 people, 14.3ms\n",
            "video 1/1 (frame 613/3518) /content/Faces from around the world.mp4: 384x640 1 people, 12.4ms\n",
            "video 1/1 (frame 614/3518) /content/Faces from around the world.mp4: 384x640 1 people, 13.3ms\n",
            "video 1/1 (frame 615/3518) /content/Faces from around the world.mp4: 384x640 1 people, 12.3ms\n",
            "video 1/1 (frame 616/3518) /content/Faces from around the world.mp4: 384x640 1 people, 14.0ms\n",
            "video 1/1 (frame 617/3518) /content/Faces from around the world.mp4: 384x640 1 people, 13.0ms\n",
            "video 1/1 (frame 618/3518) /content/Faces from around the world.mp4: 384x640 1 people, 15.9ms\n",
            "video 1/1 (frame 619/3518) /content/Faces from around the world.mp4: 384x640 1 people, 16.3ms\n",
            "video 1/1 (frame 620/3518) /content/Faces from around the world.mp4: 384x640 1 people, 17.4ms\n",
            "video 1/1 (frame 621/3518) /content/Faces from around the world.mp4: 384x640 1 people, 19.7ms\n",
            "video 1/1 (frame 622/3518) /content/Faces from around the world.mp4: 384x640 1 people, 13.7ms\n",
            "video 1/1 (frame 623/3518) /content/Faces from around the world.mp4: 384x640 1 people, 12.7ms\n",
            "video 1/1 (frame 624/3518) /content/Faces from around the world.mp4: 384x640 1 people, 13.3ms\n",
            "video 1/1 (frame 625/3518) /content/Faces from around the world.mp4: 384x640 1 people, 12.2ms\n",
            "video 1/1 (frame 626/3518) /content/Faces from around the world.mp4: 384x640 1 people, 12.6ms\n",
            "video 1/1 (frame 627/3518) /content/Faces from around the world.mp4: 384x640 1 people, 13.1ms\n",
            "video 1/1 (frame 628/3518) /content/Faces from around the world.mp4: 384x640 1 people, 20.0ms\n",
            "video 1/1 (frame 629/3518) /content/Faces from around the world.mp4: 384x640 1 people, 21.9ms\n",
            "video 1/1 (frame 630/3518) /content/Faces from around the world.mp4: 384x640 1 people, 19.9ms\n",
            "video 1/1 (frame 631/3518) /content/Faces from around the world.mp4: 384x640 1 people, 22.5ms\n",
            "video 1/1 (frame 632/3518) /content/Faces from around the world.mp4: 384x640 1 people, 18.1ms\n",
            "video 1/1 (frame 633/3518) /content/Faces from around the world.mp4: 384x640 1 people, 16.5ms\n",
            "video 1/1 (frame 634/3518) /content/Faces from around the world.mp4: 384x640 1 people, 18.8ms\n",
            "video 1/1 (frame 635/3518) /content/Faces from around the world.mp4: 384x640 1 people, 13.8ms\n",
            "video 1/1 (frame 636/3518) /content/Faces from around the world.mp4: 384x640 1 people, 13.7ms\n",
            "video 1/1 (frame 637/3518) /content/Faces from around the world.mp4: 384x640 1 people, 13.6ms\n",
            "video 1/1 (frame 638/3518) /content/Faces from around the world.mp4: 384x640 1 people, 14.9ms\n",
            "video 1/1 (frame 639/3518) /content/Faces from around the world.mp4: 384x640 1 people, 13.8ms\n",
            "video 1/1 (frame 640/3518) /content/Faces from around the world.mp4: 384x640 1 people, 20.8ms\n",
            "video 1/1 (frame 641/3518) /content/Faces from around the world.mp4: 384x640 1 people, 20.6ms\n",
            "video 1/1 (frame 642/3518) /content/Faces from around the world.mp4: 384x640 1 people, 19.2ms\n",
            "video 1/1 (frame 643/3518) /content/Faces from around the world.mp4: 384x640 1 people, 16.5ms\n",
            "video 1/1 (frame 644/3518) /content/Faces from around the world.mp4: 384x640 1 people, 17.4ms\n",
            "video 1/1 (frame 645/3518) /content/Faces from around the world.mp4: 384x640 1 people, 18.9ms\n",
            "video 1/1 (frame 646/3518) /content/Faces from around the world.mp4: 384x640 1 people, 26.4ms\n",
            "video 1/1 (frame 647/3518) /content/Faces from around the world.mp4: 384x640 1 people, 19.3ms\n",
            "video 1/1 (frame 648/3518) /content/Faces from around the world.mp4: 384x640 1 people, 20.1ms\n",
            "video 1/1 (frame 649/3518) /content/Faces from around the world.mp4: 384x640 1 people, 18.6ms\n",
            "video 1/1 (frame 650/3518) /content/Faces from around the world.mp4: 384x640 1 people, 20.7ms\n",
            "video 1/1 (frame 651/3518) /content/Faces from around the world.mp4: 384x640 1 people, 19.7ms\n",
            "video 1/1 (frame 652/3518) /content/Faces from around the world.mp4: 384x640 1 people, 23.8ms\n",
            "video 1/1 (frame 653/3518) /content/Faces from around the world.mp4: 384x640 1 people, 15.2ms\n",
            "video 1/1 (frame 654/3518) /content/Faces from around the world.mp4: 384x640 1 people, 10.3ms\n",
            "video 1/1 (frame 655/3518) /content/Faces from around the world.mp4: 384x640 1 people, 10.1ms\n",
            "video 1/1 (frame 656/3518) /content/Faces from around the world.mp4: 384x640 1 people, 10.9ms\n",
            "video 1/1 (frame 657/3518) /content/Faces from around the world.mp4: 384x640 1 people, 9.9ms\n",
            "video 1/1 (frame 658/3518) /content/Faces from around the world.mp4: 384x640 1 people, 10.4ms\n",
            "video 1/1 (frame 659/3518) /content/Faces from around the world.mp4: 384x640 1 people, 10.5ms\n",
            "video 1/1 (frame 660/3518) /content/Faces from around the world.mp4: 384x640 1 people, 11.3ms\n",
            "video 1/1 (frame 661/3518) /content/Faces from around the world.mp4: 384x640 1 people, 10.3ms\n",
            "video 1/1 (frame 662/3518) /content/Faces from around the world.mp4: 384x640 1 people, 10.7ms\n",
            "video 1/1 (frame 663/3518) /content/Faces from around the world.mp4: 384x640 1 people, 11.7ms\n",
            "video 1/1 (frame 664/3518) /content/Faces from around the world.mp4: 384x640 1 people, 10.5ms\n",
            "video 1/1 (frame 665/3518) /content/Faces from around the world.mp4: 384x640 1 people, 14.8ms\n",
            "video 1/1 (frame 666/3518) /content/Faces from around the world.mp4: 384x640 1 people, 12.2ms\n",
            "video 1/1 (frame 667/3518) /content/Faces from around the world.mp4: 384x640 1 people, 10.8ms\n",
            "video 1/1 (frame 668/3518) /content/Faces from around the world.mp4: 384x640 1 people, 11.3ms\n",
            "video 1/1 (frame 669/3518) /content/Faces from around the world.mp4: 384x640 1 people, 10.6ms\n",
            "video 1/1 (frame 670/3518) /content/Faces from around the world.mp4: 384x640 1 people, 12.6ms\n",
            "video 1/1 (frame 671/3518) /content/Faces from around the world.mp4: 384x640 1 people, 10.1ms\n",
            "video 1/1 (frame 672/3518) /content/Faces from around the world.mp4: 384x640 1 people, 10.6ms\n",
            "video 1/1 (frame 673/3518) /content/Faces from around the world.mp4: 384x640 1 people, 11.1ms\n",
            "video 1/1 (frame 674/3518) /content/Faces from around the world.mp4: 384x640 1 people, 9.8ms\n",
            "video 1/1 (frame 675/3518) /content/Faces from around the world.mp4: 384x640 1 people, 9.9ms\n",
            "video 1/1 (frame 676/3518) /content/Faces from around the world.mp4: 384x640 1 people, 13.0ms\n",
            "video 1/1 (frame 677/3518) /content/Faces from around the world.mp4: 384x640 1 people, 10.0ms\n",
            "video 1/1 (frame 678/3518) /content/Faces from around the world.mp4: 384x640 1 people, 9.8ms\n",
            "video 1/1 (frame 679/3518) /content/Faces from around the world.mp4: 384x640 1 people, 10.3ms\n",
            "video 1/1 (frame 680/3518) /content/Faces from around the world.mp4: 384x640 1 people, 10.2ms\n",
            "video 1/1 (frame 681/3518) /content/Faces from around the world.mp4: 384x640 1 people, 11.0ms\n",
            "video 1/1 (frame 682/3518) /content/Faces from around the world.mp4: 384x640 1 people, 10.2ms\n",
            "video 1/1 (frame 683/3518) /content/Faces from around the world.mp4: 384x640 1 people, 9.8ms\n",
            "video 1/1 (frame 684/3518) /content/Faces from around the world.mp4: 384x640 1 people, 10.7ms\n",
            "video 1/1 (frame 685/3518) /content/Faces from around the world.mp4: 384x640 1 people, 12.1ms\n",
            "video 1/1 (frame 686/3518) /content/Faces from around the world.mp4: 384x640 1 people, 10.8ms\n",
            "video 1/1 (frame 687/3518) /content/Faces from around the world.mp4: 384x640 1 people, 13.3ms\n",
            "video 1/1 (frame 688/3518) /content/Faces from around the world.mp4: 384x640 1 people, 11.8ms\n",
            "video 1/1 (frame 689/3518) /content/Faces from around the world.mp4: 384x640 1 people, 10.4ms\n",
            "video 1/1 (frame 690/3518) /content/Faces from around the world.mp4: 384x640 1 people, 10.5ms\n",
            "video 1/1 (frame 691/3518) /content/Faces from around the world.mp4: 384x640 1 people, 10.6ms\n",
            "video 1/1 (frame 692/3518) /content/Faces from around the world.mp4: 384x640 1 people, 12.5ms\n",
            "video 1/1 (frame 693/3518) /content/Faces from around the world.mp4: 384x640 1 people, 10.4ms\n",
            "video 1/1 (frame 694/3518) /content/Faces from around the world.mp4: 384x640 2 peoples, 11.1ms\n",
            "video 1/1 (frame 695/3518) /content/Faces from around the world.mp4: 384x640 1 people, 10.2ms\n",
            "video 1/1 (frame 696/3518) /content/Faces from around the world.mp4: 384x640 2 peoples, 17.2ms\n",
            "video 1/1 (frame 697/3518) /content/Faces from around the world.mp4: 384x640 2 peoples, 12.0ms\n",
            "video 1/1 (frame 698/3518) /content/Faces from around the world.mp4: 384x640 1 people, 12.1ms\n",
            "video 1/1 (frame 699/3518) /content/Faces from around the world.mp4: 384x640 2 peoples, 10.5ms\n",
            "video 1/1 (frame 700/3518) /content/Faces from around the world.mp4: 384x640 2 peoples, 10.3ms\n",
            "video 1/1 (frame 701/3518) /content/Faces from around the world.mp4: 384x640 2 peoples, 10.3ms\n",
            "video 1/1 (frame 702/3518) /content/Faces from around the world.mp4: 384x640 1 people, 11.0ms\n",
            "video 1/1 (frame 703/3518) /content/Faces from around the world.mp4: 384x640 1 people, 13.6ms\n",
            "video 1/1 (frame 704/3518) /content/Faces from around the world.mp4: 384x640 1 people, 12.1ms\n",
            "video 1/1 (frame 705/3518) /content/Faces from around the world.mp4: 384x640 1 people, 11.0ms\n",
            "video 1/1 (frame 706/3518) /content/Faces from around the world.mp4: 384x640 1 people, 11.0ms\n",
            "video 1/1 (frame 707/3518) /content/Faces from around the world.mp4: 384x640 1 people, 11.7ms\n",
            "video 1/1 (frame 708/3518) /content/Faces from around the world.mp4: 384x640 1 people, 12.6ms\n",
            "video 1/1 (frame 709/3518) /content/Faces from around the world.mp4: 384x640 1 people, 16.8ms\n",
            "video 1/1 (frame 710/3518) /content/Faces from around the world.mp4: 384x640 1 people, 11.4ms\n",
            "video 1/1 (frame 711/3518) /content/Faces from around the world.mp4: 384x640 1 people, 11.9ms\n",
            "video 1/1 (frame 712/3518) /content/Faces from around the world.mp4: 384x640 1 people, 11.6ms\n",
            "video 1/1 (frame 713/3518) /content/Faces from around the world.mp4: 384x640 1 people, 12.2ms\n",
            "video 1/1 (frame 714/3518) /content/Faces from around the world.mp4: 384x640 1 people, 12.7ms\n",
            "video 1/1 (frame 715/3518) /content/Faces from around the world.mp4: 384x640 1 people, 11.1ms\n",
            "video 1/1 (frame 716/3518) /content/Faces from around the world.mp4: 384x640 1 people, 13.2ms\n",
            "video 1/1 (frame 717/3518) /content/Faces from around the world.mp4: 384x640 1 people, 10.7ms\n",
            "video 1/1 (frame 718/3518) /content/Faces from around the world.mp4: 384x640 1 people, 11.9ms\n",
            "video 1/1 (frame 719/3518) /content/Faces from around the world.mp4: 384x640 1 people, 13.5ms\n",
            "video 1/1 (frame 720/3518) /content/Faces from around the world.mp4: 384x640 1 people, 14.7ms\n",
            "video 1/1 (frame 721/3518) /content/Faces from around the world.mp4: 384x640 1 people, 10.8ms\n",
            "video 1/1 (frame 722/3518) /content/Faces from around the world.mp4: 384x640 1 people, 10.2ms\n",
            "video 1/1 (frame 723/3518) /content/Faces from around the world.mp4: 384x640 (no detections), 11.9ms\n",
            "video 1/1 (frame 724/3518) /content/Faces from around the world.mp4: 384x640 (no detections), 10.8ms\n",
            "video 1/1 (frame 725/3518) /content/Faces from around the world.mp4: 384x640 (no detections), 11.2ms\n",
            "video 1/1 (frame 726/3518) /content/Faces from around the world.mp4: 384x640 (no detections), 10.2ms\n",
            "video 1/1 (frame 727/3518) /content/Faces from around the world.mp4: 384x640 1 people, 10.1ms\n",
            "video 1/1 (frame 728/3518) /content/Faces from around the world.mp4: 384x640 (no detections), 10.1ms\n",
            "video 1/1 (frame 729/3518) /content/Faces from around the world.mp4: 384x640 (no detections), 10.5ms\n",
            "video 1/1 (frame 730/3518) /content/Faces from around the world.mp4: 384x640 (no detections), 10.7ms\n",
            "video 1/1 (frame 731/3518) /content/Faces from around the world.mp4: 384x640 1 people, 11.5ms\n",
            "video 1/1 (frame 732/3518) /content/Faces from around the world.mp4: 384x640 1 people, 13.3ms\n",
            "video 1/1 (frame 733/3518) /content/Faces from around the world.mp4: 384x640 1 people, 10.8ms\n",
            "video 1/1 (frame 734/3518) /content/Faces from around the world.mp4: 384x640 1 people, 10.8ms\n",
            "video 1/1 (frame 735/3518) /content/Faces from around the world.mp4: 384x640 1 people, 10.1ms\n",
            "video 1/1 (frame 736/3518) /content/Faces from around the world.mp4: 384x640 1 people, 10.7ms\n",
            "video 1/1 (frame 737/3518) /content/Faces from around the world.mp4: 384x640 1 people, 12.1ms\n",
            "video 1/1 (frame 738/3518) /content/Faces from around the world.mp4: 384x640 (no detections), 11.3ms\n",
            "video 1/1 (frame 739/3518) /content/Faces from around the world.mp4: 384x640 (no detections), 13.3ms\n",
            "video 1/1 (frame 740/3518) /content/Faces from around the world.mp4: 384x640 (no detections), 11.9ms\n",
            "video 1/1 (frame 741/3518) /content/Faces from around the world.mp4: 384x640 (no detections), 18.6ms\n",
            "video 1/1 (frame 742/3518) /content/Faces from around the world.mp4: 384x640 (no detections), 13.6ms\n",
            "video 1/1 (frame 743/3518) /content/Faces from around the world.mp4: 384x640 (no detections), 12.9ms\n",
            "video 1/1 (frame 744/3518) /content/Faces from around the world.mp4: 384x640 (no detections), 11.5ms\n",
            "video 1/1 (frame 745/3518) /content/Faces from around the world.mp4: 384x640 (no detections), 11.2ms\n",
            "video 1/1 (frame 746/3518) /content/Faces from around the world.mp4: 384x640 (no detections), 11.5ms\n",
            "video 1/1 (frame 747/3518) /content/Faces from around the world.mp4: 384x640 (no detections), 15.1ms\n",
            "video 1/1 (frame 748/3518) /content/Faces from around the world.mp4: 384x640 (no detections), 10.0ms\n",
            "video 1/1 (frame 749/3518) /content/Faces from around the world.mp4: 384x640 (no detections), 11.8ms\n",
            "video 1/1 (frame 750/3518) /content/Faces from around the world.mp4: 384x640 (no detections), 9.9ms\n",
            "video 1/1 (frame 751/3518) /content/Faces from around the world.mp4: 384x640 (no detections), 12.0ms\n",
            "video 1/1 (frame 752/3518) /content/Faces from around the world.mp4: 384x640 (no detections), 10.5ms\n",
            "video 1/1 (frame 753/3518) /content/Faces from around the world.mp4: 384x640 (no detections), 10.1ms\n",
            "video 1/1 (frame 754/3518) /content/Faces from around the world.mp4: 384x640 (no detections), 9.9ms\n",
            "video 1/1 (frame 755/3518) /content/Faces from around the world.mp4: 384x640 (no detections), 9.7ms\n",
            "video 1/1 (frame 756/3518) /content/Faces from around the world.mp4: 384x640 (no detections), 9.9ms\n",
            "video 1/1 (frame 757/3518) /content/Faces from around the world.mp4: 384x640 (no detections), 14.7ms\n",
            "video 1/1 (frame 758/3518) /content/Faces from around the world.mp4: 384x640 (no detections), 10.9ms\n",
            "video 1/1 (frame 759/3518) /content/Faces from around the world.mp4: 384x640 (no detections), 11.4ms\n",
            "video 1/1 (frame 760/3518) /content/Faces from around the world.mp4: 384x640 (no detections), 10.1ms\n",
            "video 1/1 (frame 761/3518) /content/Faces from around the world.mp4: 384x640 (no detections), 10.3ms\n",
            "video 1/1 (frame 762/3518) /content/Faces from around the world.mp4: 384x640 (no detections), 12.8ms\n",
            "video 1/1 (frame 763/3518) /content/Faces from around the world.mp4: 384x640 (no detections), 9.9ms\n",
            "video 1/1 (frame 764/3518) /content/Faces from around the world.mp4: 384x640 (no detections), 10.6ms\n",
            "video 1/1 (frame 765/3518) /content/Faces from around the world.mp4: 384x640 (no detections), 10.3ms\n",
            "video 1/1 (frame 766/3518) /content/Faces from around the world.mp4: 384x640 (no detections), 11.3ms\n",
            "video 1/1 (frame 767/3518) /content/Faces from around the world.mp4: 384x640 (no detections), 10.1ms\n",
            "video 1/1 (frame 768/3518) /content/Faces from around the world.mp4: 384x640 (no detections), 10.2ms\n",
            "video 1/1 (frame 769/3518) /content/Faces from around the world.mp4: 384x640 (no detections), 11.2ms\n",
            "video 1/1 (frame 770/3518) /content/Faces from around the world.mp4: 384x640 (no detections), 9.7ms\n",
            "video 1/1 (frame 771/3518) /content/Faces from around the world.mp4: 384x640 (no detections), 12.5ms\n",
            "video 1/1 (frame 772/3518) /content/Faces from around the world.mp4: 384x640 (no detections), 10.1ms\n",
            "video 1/1 (frame 773/3518) /content/Faces from around the world.mp4: 384x640 (no detections), 9.7ms\n",
            "video 1/1 (frame 774/3518) /content/Faces from around the world.mp4: 384x640 (no detections), 9.8ms\n",
            "video 1/1 (frame 775/3518) /content/Faces from around the world.mp4: 384x640 (no detections), 11.1ms\n",
            "video 1/1 (frame 776/3518) /content/Faces from around the world.mp4: 384x640 (no detections), 9.9ms\n",
            "video 1/1 (frame 777/3518) /content/Faces from around the world.mp4: 384x640 (no detections), 12.3ms\n",
            "video 1/1 (frame 778/3518) /content/Faces from around the world.mp4: 384x640 (no detections), 9.9ms\n",
            "video 1/1 (frame 779/3518) /content/Faces from around the world.mp4: 384x640 (no detections), 12.0ms\n",
            "video 1/1 (frame 780/3518) /content/Faces from around the world.mp4: 384x640 (no detections), 11.1ms\n",
            "video 1/1 (frame 781/3518) /content/Faces from around the world.mp4: 384x640 (no detections), 11.7ms\n",
            "video 1/1 (frame 782/3518) /content/Faces from around the world.mp4: 384x640 (no detections), 12.7ms\n",
            "video 1/1 (frame 783/3518) /content/Faces from around the world.mp4: 384x640 (no detections), 13.5ms\n",
            "video 1/1 (frame 784/3518) /content/Faces from around the world.mp4: 384x640 (no detections), 9.6ms\n",
            "video 1/1 (frame 785/3518) /content/Faces from around the world.mp4: 384x640 (no detections), 10.3ms\n",
            "video 1/1 (frame 786/3518) /content/Faces from around the world.mp4: 384x640 (no detections), 11.1ms\n",
            "video 1/1 (frame 787/3518) /content/Faces from around the world.mp4: 384x640 (no detections), 11.7ms\n",
            "video 1/1 (frame 788/3518) /content/Faces from around the world.mp4: 384x640 (no detections), 10.5ms\n",
            "video 1/1 (frame 789/3518) /content/Faces from around the world.mp4: 384x640 (no detections), 10.8ms\n",
            "video 1/1 (frame 790/3518) /content/Faces from around the world.mp4: 384x640 (no detections), 11.3ms\n",
            "video 1/1 (frame 791/3518) /content/Faces from around the world.mp4: 384x640 (no detections), 11.7ms\n",
            "video 1/1 (frame 792/3518) /content/Faces from around the world.mp4: 384x640 (no detections), 27.0ms\n",
            "video 1/1 (frame 793/3518) /content/Faces from around the world.mp4: 384x640 (no detections), 10.9ms\n",
            "video 1/1 (frame 794/3518) /content/Faces from around the world.mp4: 384x640 (no detections), 14.0ms\n",
            "video 1/1 (frame 795/3518) /content/Faces from around the world.mp4: 384x640 (no detections), 12.2ms\n",
            "video 1/1 (frame 796/3518) /content/Faces from around the world.mp4: 384x640 (no detections), 13.6ms\n",
            "video 1/1 (frame 797/3518) /content/Faces from around the world.mp4: 384x640 (no detections), 9.9ms\n",
            "video 1/1 (frame 798/3518) /content/Faces from around the world.mp4: 384x640 (no detections), 9.8ms\n",
            "video 1/1 (frame 799/3518) /content/Faces from around the world.mp4: 384x640 (no detections), 9.8ms\n",
            "video 1/1 (frame 800/3518) /content/Faces from around the world.mp4: 384x640 (no detections), 10.0ms\n",
            "video 1/1 (frame 801/3518) /content/Faces from around the world.mp4: 384x640 (no detections), 12.3ms\n",
            "video 1/1 (frame 802/3518) /content/Faces from around the world.mp4: 384x640 (no detections), 9.8ms\n",
            "video 1/1 (frame 803/3518) /content/Faces from around the world.mp4: 384x640 (no detections), 9.8ms\n",
            "video 1/1 (frame 804/3518) /content/Faces from around the world.mp4: 384x640 (no detections), 9.7ms\n",
            "video 1/1 (frame 805/3518) /content/Faces from around the world.mp4: 384x640 (no detections), 9.7ms\n",
            "video 1/1 (frame 806/3518) /content/Faces from around the world.mp4: 384x640 (no detections), 15.1ms\n",
            "video 1/1 (frame 807/3518) /content/Faces from around the world.mp4: 384x640 (no detections), 14.1ms\n",
            "video 1/1 (frame 808/3518) /content/Faces from around the world.mp4: 384x640 (no detections), 12.1ms\n",
            "video 1/1 (frame 809/3518) /content/Faces from around the world.mp4: 384x640 (no detections), 9.8ms\n",
            "video 1/1 (frame 810/3518) /content/Faces from around the world.mp4: 384x640 (no detections), 13.8ms\n",
            "video 1/1 (frame 811/3518) /content/Faces from around the world.mp4: 384x640 (no detections), 10.5ms\n",
            "video 1/1 (frame 812/3518) /content/Faces from around the world.mp4: 384x640 (no detections), 10.2ms\n",
            "video 1/1 (frame 813/3518) /content/Faces from around the world.mp4: 384x640 (no detections), 10.9ms\n",
            "video 1/1 (frame 814/3518) /content/Faces from around the world.mp4: 384x640 (no detections), 12.8ms\n",
            "video 1/1 (frame 815/3518) /content/Faces from around the world.mp4: 384x640 (no detections), 14.9ms\n",
            "video 1/1 (frame 816/3518) /content/Faces from around the world.mp4: 384x640 (no detections), 10.7ms\n",
            "video 1/1 (frame 817/3518) /content/Faces from around the world.mp4: 384x640 (no detections), 10.0ms\n",
            "video 1/1 (frame 818/3518) /content/Faces from around the world.mp4: 384x640 (no detections), 10.6ms\n",
            "video 1/1 (frame 819/3518) /content/Faces from around the world.mp4: 384x640 (no detections), 13.4ms\n",
            "video 1/1 (frame 820/3518) /content/Faces from around the world.mp4: 384x640 (no detections), 11.7ms\n",
            "video 1/1 (frame 821/3518) /content/Faces from around the world.mp4: 384x640 (no detections), 11.4ms\n",
            "video 1/1 (frame 822/3518) /content/Faces from around the world.mp4: 384x640 (no detections), 11.0ms\n",
            "video 1/1 (frame 823/3518) /content/Faces from around the world.mp4: 384x640 (no detections), 11.7ms\n",
            "video 1/1 (frame 824/3518) /content/Faces from around the world.mp4: 384x640 (no detections), 10.2ms\n",
            "video 1/1 (frame 825/3518) /content/Faces from around the world.mp4: 384x640 (no detections), 11.6ms\n",
            "video 1/1 (frame 826/3518) /content/Faces from around the world.mp4: 384x640 (no detections), 10.7ms\n",
            "video 1/1 (frame 827/3518) /content/Faces from around the world.mp4: 384x640 (no detections), 11.2ms\n",
            "video 1/1 (frame 828/3518) /content/Faces from around the world.mp4: 384x640 (no detections), 10.7ms\n",
            "video 1/1 (frame 829/3518) /content/Faces from around the world.mp4: 384x640 (no detections), 10.5ms\n",
            "video 1/1 (frame 830/3518) /content/Faces from around the world.mp4: 384x640 1 people, 11.5ms\n",
            "video 1/1 (frame 831/3518) /content/Faces from around the world.mp4: 384x640 1 people, 11.2ms\n",
            "video 1/1 (frame 832/3518) /content/Faces from around the world.mp4: 384x640 1 people, 13.5ms\n",
            "video 1/1 (frame 833/3518) /content/Faces from around the world.mp4: 384x640 (no detections), 10.5ms\n",
            "video 1/1 (frame 834/3518) /content/Faces from around the world.mp4: 384x640 (no detections), 17.6ms\n",
            "video 1/1 (frame 835/3518) /content/Faces from around the world.mp4: 384x640 1 people, 16.0ms\n",
            "video 1/1 (frame 836/3518) /content/Faces from around the world.mp4: 384x640 (no detections), 16.5ms\n",
            "video 1/1 (frame 837/3518) /content/Faces from around the world.mp4: 384x640 (no detections), 10.4ms\n",
            "video 1/1 (frame 838/3518) /content/Faces from around the world.mp4: 384x640 1 people, 13.2ms\n",
            "video 1/1 (frame 839/3518) /content/Faces from around the world.mp4: 384x640 (no detections), 10.4ms\n",
            "video 1/1 (frame 840/3518) /content/Faces from around the world.mp4: 384x640 1 people, 17.7ms\n",
            "video 1/1 (frame 841/3518) /content/Faces from around the world.mp4: 384x640 1 people, 14.1ms\n",
            "video 1/1 (frame 842/3518) /content/Faces from around the world.mp4: 384x640 1 people, 14.7ms\n",
            "video 1/1 (frame 843/3518) /content/Faces from around the world.mp4: 384x640 1 people, 11.8ms\n",
            "video 1/1 (frame 844/3518) /content/Faces from around the world.mp4: 384x640 1 people, 10.8ms\n",
            "video 1/1 (frame 845/3518) /content/Faces from around the world.mp4: 384x640 1 people, 13.4ms\n",
            "video 1/1 (frame 846/3518) /content/Faces from around the world.mp4: 384x640 (no detections), 11.0ms\n",
            "video 1/1 (frame 847/3518) /content/Faces from around the world.mp4: 384x640 (no detections), 10.4ms\n",
            "video 1/1 (frame 848/3518) /content/Faces from around the world.mp4: 384x640 (no detections), 10.4ms\n",
            "video 1/1 (frame 849/3518) /content/Faces from around the world.mp4: 384x640 (no detections), 11.9ms\n",
            "video 1/1 (frame 850/3518) /content/Faces from around the world.mp4: 384x640 (no detections), 10.4ms\n",
            "video 1/1 (frame 851/3518) /content/Faces from around the world.mp4: 384x640 (no detections), 10.5ms\n",
            "video 1/1 (frame 852/3518) /content/Faces from around the world.mp4: 384x640 (no detections), 11.2ms\n",
            "video 1/1 (frame 853/3518) /content/Faces from around the world.mp4: 384x640 (no detections), 11.9ms\n",
            "video 1/1 (frame 854/3518) /content/Faces from around the world.mp4: 384x640 (no detections), 14.0ms\n",
            "video 1/1 (frame 855/3518) /content/Faces from around the world.mp4: 384x640 (no detections), 11.6ms\n",
            "video 1/1 (frame 856/3518) /content/Faces from around the world.mp4: 384x640 (no detections), 10.5ms\n",
            "video 1/1 (frame 857/3518) /content/Faces from around the world.mp4: 384x640 (no detections), 12.4ms\n",
            "video 1/1 (frame 858/3518) /content/Faces from around the world.mp4: 384x640 (no detections), 10.7ms\n",
            "video 1/1 (frame 859/3518) /content/Faces from around the world.mp4: 384x640 (no detections), 10.2ms\n",
            "video 1/1 (frame 860/3518) /content/Faces from around the world.mp4: 384x640 (no detections), 10.3ms\n",
            "video 1/1 (frame 861/3518) /content/Faces from around the world.mp4: 384x640 (no detections), 10.4ms\n",
            "video 1/1 (frame 862/3518) /content/Faces from around the world.mp4: 384x640 (no detections), 11.7ms\n",
            "video 1/1 (frame 863/3518) /content/Faces from around the world.mp4: 384x640 (no detections), 11.1ms\n",
            "video 1/1 (frame 864/3518) /content/Faces from around the world.mp4: 384x640 (no detections), 10.1ms\n",
            "video 1/1 (frame 865/3518) /content/Faces from around the world.mp4: 384x640 (no detections), 10.1ms\n",
            "video 1/1 (frame 866/3518) /content/Faces from around the world.mp4: 384x640 (no detections), 14.1ms\n",
            "video 1/1 (frame 867/3518) /content/Faces from around the world.mp4: 384x640 (no detections), 11.6ms\n",
            "video 1/1 (frame 868/3518) /content/Faces from around the world.mp4: 384x640 (no detections), 10.3ms\n",
            "video 1/1 (frame 869/3518) /content/Faces from around the world.mp4: 384x640 (no detections), 10.4ms\n",
            "video 1/1 (frame 870/3518) /content/Faces from around the world.mp4: 384x640 (no detections), 10.3ms\n",
            "video 1/1 (frame 871/3518) /content/Faces from around the world.mp4: 384x640 (no detections), 11.1ms\n",
            "video 1/1 (frame 872/3518) /content/Faces from around the world.mp4: 384x640 (no detections), 10.0ms\n",
            "video 1/1 (frame 873/3518) /content/Faces from around the world.mp4: 384x640 (no detections), 10.4ms\n",
            "video 1/1 (frame 874/3518) /content/Faces from around the world.mp4: 384x640 (no detections), 11.0ms\n",
            "video 1/1 (frame 875/3518) /content/Faces from around the world.mp4: 384x640 (no detections), 11.0ms\n",
            "video 1/1 (frame 876/3518) /content/Faces from around the world.mp4: 384x640 (no detections), 10.3ms\n",
            "video 1/1 (frame 877/3518) /content/Faces from around the world.mp4: 384x640 (no detections), 10.3ms\n",
            "video 1/1 (frame 878/3518) /content/Faces from around the world.mp4: 384x640 (no detections), 10.0ms\n",
            "video 1/1 (frame 879/3518) /content/Faces from around the world.mp4: 384x640 (no detections), 10.8ms\n",
            "video 1/1 (frame 880/3518) /content/Faces from around the world.mp4: 384x640 1 people, 13.7ms\n",
            "video 1/1 (frame 881/3518) /content/Faces from around the world.mp4: 384x640 1 people, 12.4ms\n",
            "video 1/1 (frame 882/3518) /content/Faces from around the world.mp4: 384x640 1 people, 11.3ms\n",
            "video 1/1 (frame 883/3518) /content/Faces from around the world.mp4: 384x640 1 people, 11.9ms\n",
            "video 1/1 (frame 884/3518) /content/Faces from around the world.mp4: 384x640 1 people, 12.5ms\n",
            "video 1/1 (frame 885/3518) /content/Faces from around the world.mp4: 384x640 1 people, 10.3ms\n",
            "video 1/1 (frame 886/3518) /content/Faces from around the world.mp4: 384x640 1 people, 10.1ms\n",
            "video 1/1 (frame 887/3518) /content/Faces from around the world.mp4: 384x640 1 people, 10.2ms\n",
            "video 1/1 (frame 888/3518) /content/Faces from around the world.mp4: 384x640 1 people, 11.2ms\n",
            "video 1/1 (frame 889/3518) /content/Faces from around the world.mp4: 384x640 1 people, 14.8ms\n",
            "video 1/1 (frame 890/3518) /content/Faces from around the world.mp4: 384x640 1 people, 17.6ms\n",
            "video 1/1 (frame 891/3518) /content/Faces from around the world.mp4: 384x640 1 people, 14.1ms\n",
            "video 1/1 (frame 892/3518) /content/Faces from around the world.mp4: 384x640 1 people, 13.2ms\n",
            "video 1/1 (frame 893/3518) /content/Faces from around the world.mp4: 384x640 1 people, 12.2ms\n",
            "video 1/1 (frame 894/3518) /content/Faces from around the world.mp4: 384x640 1 people, 10.6ms\n",
            "video 1/1 (frame 895/3518) /content/Faces from around the world.mp4: 384x640 1 people, 9.9ms\n",
            "video 1/1 (frame 896/3518) /content/Faces from around the world.mp4: 384x640 1 people, 11.7ms\n",
            "video 1/1 (frame 897/3518) /content/Faces from around the world.mp4: 384x640 1 people, 10.0ms\n",
            "video 1/1 (frame 898/3518) /content/Faces from around the world.mp4: 384x640 1 people, 10.2ms\n",
            "video 1/1 (frame 899/3518) /content/Faces from around the world.mp4: 384x640 1 people, 12.8ms\n",
            "video 1/1 (frame 900/3518) /content/Faces from around the world.mp4: 384x640 1 people, 10.6ms\n",
            "video 1/1 (frame 901/3518) /content/Faces from around the world.mp4: 384x640 1 people, 9.8ms\n",
            "video 1/1 (frame 902/3518) /content/Faces from around the world.mp4: 384x640 1 people, 11.9ms\n",
            "video 1/1 (frame 903/3518) /content/Faces from around the world.mp4: 384x640 (no detections), 11.3ms\n",
            "video 1/1 (frame 904/3518) /content/Faces from around the world.mp4: 384x640 1 people, 9.9ms\n",
            "video 1/1 (frame 905/3518) /content/Faces from around the world.mp4: 384x640 1 people, 9.6ms\n",
            "video 1/1 (frame 906/3518) /content/Faces from around the world.mp4: 384x640 1 people, 10.1ms\n",
            "video 1/1 (frame 907/3518) /content/Faces from around the world.mp4: 384x640 1 people, 9.6ms\n",
            "video 1/1 (frame 908/3518) /content/Faces from around the world.mp4: 384x640 1 people, 9.8ms\n",
            "video 1/1 (frame 909/3518) /content/Faces from around the world.mp4: 384x640 1 people, 11.8ms\n",
            "video 1/1 (frame 910/3518) /content/Faces from around the world.mp4: 384x640 1 people, 9.9ms\n",
            "video 1/1 (frame 911/3518) /content/Faces from around the world.mp4: 384x640 1 people, 12.2ms\n",
            "video 1/1 (frame 912/3518) /content/Faces from around the world.mp4: 384x640 1 people, 13.1ms\n",
            "video 1/1 (frame 913/3518) /content/Faces from around the world.mp4: 384x640 1 people, 10.7ms\n",
            "video 1/1 (frame 914/3518) /content/Faces from around the world.mp4: 384x640 1 people, 11.7ms\n",
            "video 1/1 (frame 915/3518) /content/Faces from around the world.mp4: 384x640 1 people, 9.9ms\n",
            "video 1/1 (frame 916/3518) /content/Faces from around the world.mp4: 384x640 1 people, 14.5ms\n",
            "video 1/1 (frame 917/3518) /content/Faces from around the world.mp4: 384x640 1 people, 9.9ms\n",
            "video 1/1 (frame 918/3518) /content/Faces from around the world.mp4: 384x640 1 people, 13.5ms\n",
            "video 1/1 (frame 919/3518) /content/Faces from around the world.mp4: 384x640 1 people, 10.0ms\n",
            "video 1/1 (frame 920/3518) /content/Faces from around the world.mp4: 384x640 1 people, 13.5ms\n",
            "video 1/1 (frame 921/3518) /content/Faces from around the world.mp4: 384x640 1 people, 10.3ms\n",
            "video 1/1 (frame 922/3518) /content/Faces from around the world.mp4: 384x640 1 people, 11.7ms\n",
            "video 1/1 (frame 923/3518) /content/Faces from around the world.mp4: 384x640 1 people, 11.8ms\n",
            "video 1/1 (frame 924/3518) /content/Faces from around the world.mp4: 384x640 1 people, 13.1ms\n",
            "video 1/1 (frame 925/3518) /content/Faces from around the world.mp4: 384x640 1 people, 11.4ms\n",
            "video 1/1 (frame 926/3518) /content/Faces from around the world.mp4: 384x640 1 people, 10.2ms\n",
            "video 1/1 (frame 927/3518) /content/Faces from around the world.mp4: 384x640 1 people, 12.1ms\n",
            "video 1/1 (frame 928/3518) /content/Faces from around the world.mp4: 384x640 1 people, 9.8ms\n",
            "video 1/1 (frame 929/3518) /content/Faces from around the world.mp4: 384x640 1 people, 15.5ms\n",
            "video 1/1 (frame 930/3518) /content/Faces from around the world.mp4: 384x640 1 people, 11.0ms\n",
            "video 1/1 (frame 931/3518) /content/Faces from around the world.mp4: 384x640 1 people, 12.0ms\n",
            "video 1/1 (frame 932/3518) /content/Faces from around the world.mp4: 384x640 1 people, 11.9ms\n",
            "video 1/1 (frame 933/3518) /content/Faces from around the world.mp4: 384x640 1 people, 15.5ms\n",
            "video 1/1 (frame 934/3518) /content/Faces from around the world.mp4: 384x640 1 people, 24.7ms\n",
            "video 1/1 (frame 935/3518) /content/Faces from around the world.mp4: 384x640 1 people, 14.1ms\n",
            "video 1/1 (frame 936/3518) /content/Faces from around the world.mp4: 384x640 1 people, 14.9ms\n",
            "video 1/1 (frame 937/3518) /content/Faces from around the world.mp4: 384x640 1 people, 14.2ms\n",
            "video 1/1 (frame 938/3518) /content/Faces from around the world.mp4: 384x640 1 people, 10.1ms\n",
            "video 1/1 (frame 939/3518) /content/Faces from around the world.mp4: 384x640 1 people, 10.2ms\n",
            "video 1/1 (frame 940/3518) /content/Faces from around the world.mp4: 384x640 (no detections), 11.8ms\n",
            "video 1/1 (frame 941/3518) /content/Faces from around the world.mp4: 384x640 1 people, 11.8ms\n",
            "video 1/1 (frame 942/3518) /content/Faces from around the world.mp4: 384x640 1 people, 12.0ms\n",
            "video 1/1 (frame 943/3518) /content/Faces from around the world.mp4: 384x640 1 people, 11.2ms\n",
            "video 1/1 (frame 944/3518) /content/Faces from around the world.mp4: 384x640 2 peoples, 10.4ms\n",
            "video 1/1 (frame 945/3518) /content/Faces from around the world.mp4: 384x640 1 people, 15.2ms\n",
            "video 1/1 (frame 946/3518) /content/Faces from around the world.mp4: 384x640 2 peoples, 13.2ms\n",
            "video 1/1 (frame 947/3518) /content/Faces from around the world.mp4: 384x640 1 people, 11.3ms\n",
            "video 1/1 (frame 948/3518) /content/Faces from around the world.mp4: 384x640 1 people, 12.7ms\n",
            "video 1/1 (frame 949/3518) /content/Faces from around the world.mp4: 384x640 2 peoples, 11.5ms\n",
            "video 1/1 (frame 950/3518) /content/Faces from around the world.mp4: 384x640 1 people, 9.8ms\n",
            "video 1/1 (frame 951/3518) /content/Faces from around the world.mp4: 384x640 2 peoples, 11.8ms\n",
            "video 1/1 (frame 952/3518) /content/Faces from around the world.mp4: 384x640 1 people, 9.8ms\n",
            "video 1/1 (frame 953/3518) /content/Faces from around the world.mp4: 384x640 2 peoples, 12.1ms\n",
            "video 1/1 (frame 954/3518) /content/Faces from around the world.mp4: 384x640 1 people, 10.0ms\n",
            "video 1/1 (frame 955/3518) /content/Faces from around the world.mp4: 384x640 1 people, 11.0ms\n",
            "video 1/1 (frame 956/3518) /content/Faces from around the world.mp4: 384x640 1 people, 10.2ms\n",
            "video 1/1 (frame 957/3518) /content/Faces from around the world.mp4: 384x640 1 people, 13.1ms\n",
            "video 1/1 (frame 958/3518) /content/Faces from around the world.mp4: 384x640 1 people, 11.2ms\n",
            "video 1/1 (frame 959/3518) /content/Faces from around the world.mp4: 384x640 1 people, 14.1ms\n",
            "video 1/1 (frame 960/3518) /content/Faces from around the world.mp4: 384x640 1 people, 11.0ms\n",
            "video 1/1 (frame 961/3518) /content/Faces from around the world.mp4: 384x640 1 people, 11.7ms\n",
            "video 1/1 (frame 962/3518) /content/Faces from around the world.mp4: 384x640 1 people, 10.4ms\n",
            "video 1/1 (frame 963/3518) /content/Faces from around the world.mp4: 384x640 1 people, 11.7ms\n",
            "video 1/1 (frame 964/3518) /content/Faces from around the world.mp4: 384x640 1 people, 10.3ms\n",
            "video 1/1 (frame 965/3518) /content/Faces from around the world.mp4: 384x640 1 people, 12.6ms\n",
            "video 1/1 (frame 966/3518) /content/Faces from around the world.mp4: 384x640 1 people, 11.1ms\n",
            "video 1/1 (frame 967/3518) /content/Faces from around the world.mp4: 384x640 1 people, 12.4ms\n",
            "video 1/1 (frame 968/3518) /content/Faces from around the world.mp4: 384x640 1 people, 11.6ms\n",
            "video 1/1 (frame 969/3518) /content/Faces from around the world.mp4: 384x640 1 people, 10.7ms\n",
            "video 1/1 (frame 970/3518) /content/Faces from around the world.mp4: 384x640 1 people, 10.3ms\n",
            "video 1/1 (frame 971/3518) /content/Faces from around the world.mp4: 384x640 1 people, 11.9ms\n",
            "video 1/1 (frame 972/3518) /content/Faces from around the world.mp4: 384x640 1 people, 11.2ms\n",
            "video 1/1 (frame 973/3518) /content/Faces from around the world.mp4: 384x640 1 people, 9.8ms\n",
            "video 1/1 (frame 974/3518) /content/Faces from around the world.mp4: 384x640 1 people, 13.9ms\n",
            "video 1/1 (frame 975/3518) /content/Faces from around the world.mp4: 384x640 1 people, 10.4ms\n",
            "video 1/1 (frame 976/3518) /content/Faces from around the world.mp4: 384x640 1 people, 14.8ms\n",
            "video 1/1 (frame 977/3518) /content/Faces from around the world.mp4: 384x640 1 people, 19.1ms\n",
            "video 1/1 (frame 978/3518) /content/Faces from around the world.mp4: 384x640 1 people, 15.3ms\n",
            "video 1/1 (frame 979/3518) /content/Faces from around the world.mp4: 384x640 1 people, 14.0ms\n",
            "video 1/1 (frame 980/3518) /content/Faces from around the world.mp4: 384x640 1 people, 10.0ms\n",
            "video 1/1 (frame 981/3518) /content/Faces from around the world.mp4: 384x640 1 people, 11.6ms\n",
            "video 1/1 (frame 982/3518) /content/Faces from around the world.mp4: 384x640 1 people, 12.5ms\n",
            "video 1/1 (frame 983/3518) /content/Faces from around the world.mp4: 384x640 1 people, 10.0ms\n",
            "video 1/1 (frame 984/3518) /content/Faces from around the world.mp4: 384x640 1 people, 9.8ms\n",
            "video 1/1 (frame 985/3518) /content/Faces from around the world.mp4: 384x640 1 people, 10.9ms\n",
            "video 1/1 (frame 986/3518) /content/Faces from around the world.mp4: 384x640 1 people, 14.1ms\n",
            "video 1/1 (frame 987/3518) /content/Faces from around the world.mp4: 384x640 2 peoples, 12.2ms\n",
            "video 1/1 (frame 988/3518) /content/Faces from around the world.mp4: 384x640 3 peoples, 11.8ms\n",
            "video 1/1 (frame 989/3518) /content/Faces from around the world.mp4: 384x640 2 peoples, 13.1ms\n",
            "video 1/1 (frame 990/3518) /content/Faces from around the world.mp4: 384x640 3 peoples, 13.2ms\n",
            "video 1/1 (frame 991/3518) /content/Faces from around the world.mp4: 384x640 3 peoples, 11.7ms\n",
            "video 1/1 (frame 992/3518) /content/Faces from around the world.mp4: 384x640 2 peoples, 10.7ms\n",
            "video 1/1 (frame 993/3518) /content/Faces from around the world.mp4: 384x640 2 peoples, 9.4ms\n",
            "video 1/1 (frame 994/3518) /content/Faces from around the world.mp4: 384x640 2 peoples, 13.0ms\n",
            "video 1/1 (frame 995/3518) /content/Faces from around the world.mp4: 384x640 2 peoples, 9.8ms\n",
            "video 1/1 (frame 996/3518) /content/Faces from around the world.mp4: 384x640 2 peoples, 10.8ms\n",
            "video 1/1 (frame 997/3518) /content/Faces from around the world.mp4: 384x640 2 peoples, 10.2ms\n",
            "video 1/1 (frame 998/3518) /content/Faces from around the world.mp4: 384x640 2 peoples, 12.9ms\n",
            "video 1/1 (frame 999/3518) /content/Faces from around the world.mp4: 384x640 2 peoples, 11.9ms\n",
            "video 1/1 (frame 1000/3518) /content/Faces from around the world.mp4: 384x640 2 peoples, 12.3ms\n",
            "video 1/1 (frame 1001/3518) /content/Faces from around the world.mp4: 384x640 2 peoples, 11.6ms\n",
            "video 1/1 (frame 1002/3518) /content/Faces from around the world.mp4: 384x640 3 peoples, 11.1ms\n",
            "video 1/1 (frame 1003/3518) /content/Faces from around the world.mp4: 384x640 3 peoples, 12.3ms\n",
            "video 1/1 (frame 1004/3518) /content/Faces from around the world.mp4: 384x640 2 peoples, 9.7ms\n",
            "video 1/1 (frame 1005/3518) /content/Faces from around the world.mp4: 384x640 2 peoples, 12.5ms\n",
            "video 1/1 (frame 1006/3518) /content/Faces from around the world.mp4: 384x640 3 peoples, 11.9ms\n",
            "video 1/1 (frame 1007/3518) /content/Faces from around the world.mp4: 384x640 3 peoples, 13.6ms\n",
            "video 1/1 (frame 1008/3518) /content/Faces from around the world.mp4: 384x640 2 peoples, 12.4ms\n",
            "video 1/1 (frame 1009/3518) /content/Faces from around the world.mp4: 384x640 2 peoples, 10.2ms\n",
            "video 1/1 (frame 1010/3518) /content/Faces from around the world.mp4: 384x640 2 peoples, 14.0ms\n",
            "video 1/1 (frame 1011/3518) /content/Faces from around the world.mp4: 384x640 2 peoples, 10.3ms\n",
            "video 1/1 (frame 1012/3518) /content/Faces from around the world.mp4: 384x640 2 peoples, 11.5ms\n",
            "video 1/1 (frame 1013/3518) /content/Faces from around the world.mp4: 384x640 2 peoples, 12.1ms\n",
            "video 1/1 (frame 1014/3518) /content/Faces from around the world.mp4: 384x640 1 people, 14.7ms\n",
            "video 1/1 (frame 1015/3518) /content/Faces from around the world.mp4: 384x640 (no detections), 9.9ms\n",
            "video 1/1 (frame 1016/3518) /content/Faces from around the world.mp4: 384x640 (no detections), 10.8ms\n",
            "video 1/1 (frame 1017/3518) /content/Faces from around the world.mp4: 384x640 (no detections), 9.9ms\n",
            "video 1/1 (frame 1018/3518) /content/Faces from around the world.mp4: 384x640 (no detections), 16.0ms\n",
            "video 1/1 (frame 1019/3518) /content/Faces from around the world.mp4: 384x640 (no detections), 18.7ms\n",
            "video 1/1 (frame 1020/3518) /content/Faces from around the world.mp4: 384x640 (no detections), 10.3ms\n",
            "video 1/1 (frame 1021/3518) /content/Faces from around the world.mp4: 384x640 (no detections), 13.3ms\n",
            "video 1/1 (frame 1022/3518) /content/Faces from around the world.mp4: 384x640 (no detections), 13.5ms\n",
            "video 1/1 (frame 1023/3518) /content/Faces from around the world.mp4: 384x640 (no detections), 12.0ms\n",
            "video 1/1 (frame 1024/3518) /content/Faces from around the world.mp4: 384x640 (no detections), 11.5ms\n",
            "video 1/1 (frame 1025/3518) /content/Faces from around the world.mp4: 384x640 (no detections), 10.1ms\n",
            "video 1/1 (frame 1026/3518) /content/Faces from around the world.mp4: 384x640 (no detections), 10.2ms\n",
            "video 1/1 (frame 1027/3518) /content/Faces from around the world.mp4: 384x640 (no detections), 12.2ms\n",
            "video 1/1 (frame 1028/3518) /content/Faces from around the world.mp4: 384x640 (no detections), 12.4ms\n",
            "video 1/1 (frame 1029/3518) /content/Faces from around the world.mp4: 384x640 1 people, 11.7ms\n",
            "video 1/1 (frame 1030/3518) /content/Faces from around the world.mp4: 384x640 1 people, 12.3ms\n",
            "video 1/1 (frame 1031/3518) /content/Faces from around the world.mp4: 384x640 (no detections), 11.7ms\n",
            "video 1/1 (frame 1032/3518) /content/Faces from around the world.mp4: 384x640 1 people, 10.0ms\n",
            "video 1/1 (frame 1033/3518) /content/Faces from around the world.mp4: 384x640 1 people, 12.6ms\n",
            "video 1/1 (frame 1034/3518) /content/Faces from around the world.mp4: 384x640 1 people, 12.7ms\n",
            "video 1/1 (frame 1035/3518) /content/Faces from around the world.mp4: 384x640 1 people, 10.3ms\n",
            "video 1/1 (frame 1036/3518) /content/Faces from around the world.mp4: 384x640 1 people, 9.9ms\n",
            "video 1/1 (frame 1037/3518) /content/Faces from around the world.mp4: 384x640 1 people, 11.9ms\n",
            "video 1/1 (frame 1038/3518) /content/Faces from around the world.mp4: 384x640 1 people, 11.6ms\n",
            "video 1/1 (frame 1039/3518) /content/Faces from around the world.mp4: 384x640 1 people, 12.0ms\n",
            "video 1/1 (frame 1040/3518) /content/Faces from around the world.mp4: 384x640 (no detections), 10.2ms\n",
            "video 1/1 (frame 1041/3518) /content/Faces from around the world.mp4: 384x640 1 people, 10.4ms\n",
            "video 1/1 (frame 1042/3518) /content/Faces from around the world.mp4: 384x640 (no detections), 9.9ms\n",
            "video 1/1 (frame 1043/3518) /content/Faces from around the world.mp4: 384x640 (no detections), 12.4ms\n",
            "video 1/1 (frame 1044/3518) /content/Faces from around the world.mp4: 384x640 (no detections), 11.3ms\n",
            "video 1/1 (frame 1045/3518) /content/Faces from around the world.mp4: 384x640 (no detections), 10.4ms\n",
            "video 1/1 (frame 1046/3518) /content/Faces from around the world.mp4: 384x640 (no detections), 12.8ms\n",
            "video 1/1 (frame 1047/3518) /content/Faces from around the world.mp4: 384x640 (no detections), 13.7ms\n",
            "video 1/1 (frame 1048/3518) /content/Faces from around the world.mp4: 384x640 (no detections), 12.0ms\n",
            "video 1/1 (frame 1049/3518) /content/Faces from around the world.mp4: 384x640 (no detections), 14.1ms\n",
            "video 1/1 (frame 1050/3518) /content/Faces from around the world.mp4: 384x640 (no detections), 11.5ms\n",
            "video 1/1 (frame 1051/3518) /content/Faces from around the world.mp4: 384x640 (no detections), 10.6ms\n",
            "video 1/1 (frame 1052/3518) /content/Faces from around the world.mp4: 384x640 (no detections), 10.5ms\n",
            "video 1/1 (frame 1053/3518) /content/Faces from around the world.mp4: 384x640 (no detections), 10.9ms\n",
            "video 1/1 (frame 1054/3518) /content/Faces from around the world.mp4: 384x640 (no detections), 11.2ms\n",
            "video 1/1 (frame 1055/3518) /content/Faces from around the world.mp4: 384x640 (no detections), 11.3ms\n",
            "video 1/1 (frame 1056/3518) /content/Faces from around the world.mp4: 384x640 (no detections), 10.2ms\n",
            "video 1/1 (frame 1057/3518) /content/Faces from around the world.mp4: 384x640 (no detections), 11.1ms\n",
            "video 1/1 (frame 1058/3518) /content/Faces from around the world.mp4: 384x640 (no detections), 11.4ms\n",
            "video 1/1 (frame 1059/3518) /content/Faces from around the world.mp4: 384x640 (no detections), 11.3ms\n",
            "video 1/1 (frame 1060/3518) /content/Faces from around the world.mp4: 384x640 (no detections), 10.6ms\n",
            "video 1/1 (frame 1061/3518) /content/Faces from around the world.mp4: 384x640 (no detections), 11.2ms\n",
            "video 1/1 (frame 1062/3518) /content/Faces from around the world.mp4: 384x640 (no detections), 9.8ms\n",
            "video 1/1 (frame 1063/3518) /content/Faces from around the world.mp4: 384x640 (no detections), 9.7ms\n",
            "video 1/1 (frame 1064/3518) /content/Faces from around the world.mp4: 384x640 (no detections), 12.4ms\n",
            "video 1/1 (frame 1065/3518) /content/Faces from around the world.mp4: 384x640 (no detections), 9.9ms\n",
            "video 1/1 (frame 1066/3518) /content/Faces from around the world.mp4: 384x640 (no detections), 11.1ms\n",
            "video 1/1 (frame 1067/3518) /content/Faces from around the world.mp4: 384x640 (no detections), 11.5ms\n",
            "video 1/1 (frame 1068/3518) /content/Faces from around the world.mp4: 384x640 (no detections), 11.1ms\n",
            "video 1/1 (frame 1069/3518) /content/Faces from around the world.mp4: 384x640 (no detections), 17.8ms\n",
            "video 1/1 (frame 1070/3518) /content/Faces from around the world.mp4: 384x640 (no detections), 18.2ms\n",
            "video 1/1 (frame 1071/3518) /content/Faces from around the world.mp4: 384x640 (no detections), 10.0ms\n",
            "video 1/1 (frame 1072/3518) /content/Faces from around the world.mp4: 384x640 (no detections), 13.8ms\n",
            "video 1/1 (frame 1073/3518) /content/Faces from around the world.mp4: 384x640 (no detections), 13.9ms\n",
            "video 1/1 (frame 1074/3518) /content/Faces from around the world.mp4: 384x640 (no detections), 10.8ms\n",
            "video 1/1 (frame 1075/3518) /content/Faces from around the world.mp4: 384x640 (no detections), 9.6ms\n",
            "video 1/1 (frame 1076/3518) /content/Faces from around the world.mp4: 384x640 (no detections), 11.4ms\n",
            "video 1/1 (frame 1077/3518) /content/Faces from around the world.mp4: 384x640 (no detections), 10.9ms\n",
            "video 1/1 (frame 1078/3518) /content/Faces from around the world.mp4: 384x640 (no detections), 10.6ms\n",
            "video 1/1 (frame 1079/3518) /content/Faces from around the world.mp4: 384x640 (no detections), 10.9ms\n",
            "video 1/1 (frame 1080/3518) /content/Faces from around the world.mp4: 384x640 (no detections), 10.2ms\n",
            "video 1/1 (frame 1081/3518) /content/Faces from around the world.mp4: 384x640 (no detections), 10.3ms\n",
            "video 1/1 (frame 1082/3518) /content/Faces from around the world.mp4: 384x640 (no detections), 11.6ms\n",
            "video 1/1 (frame 1083/3518) /content/Faces from around the world.mp4: 384x640 (no detections), 10.5ms\n",
            "video 1/1 (frame 1084/3518) /content/Faces from around the world.mp4: 384x640 (no detections), 10.9ms\n",
            "video 1/1 (frame 1085/3518) /content/Faces from around the world.mp4: 384x640 (no detections), 11.8ms\n",
            "video 1/1 (frame 1086/3518) /content/Faces from around the world.mp4: 384x640 (no detections), 10.1ms\n",
            "video 1/1 (frame 1087/3518) /content/Faces from around the world.mp4: 384x640 (no detections), 10.5ms\n",
            "video 1/1 (frame 1088/3518) /content/Faces from around the world.mp4: 384x640 (no detections), 13.2ms\n",
            "video 1/1 (frame 1089/3518) /content/Faces from around the world.mp4: 384x640 (no detections), 11.1ms\n",
            "video 1/1 (frame 1090/3518) /content/Faces from around the world.mp4: 384x640 (no detections), 12.7ms\n",
            "video 1/1 (frame 1091/3518) /content/Faces from around the world.mp4: 384x640 (no detections), 13.0ms\n",
            "video 1/1 (frame 1092/3518) /content/Faces from around the world.mp4: 384x640 1 people, 11.3ms\n",
            "video 1/1 (frame 1093/3518) /content/Faces from around the world.mp4: 384x640 1 people, 11.1ms\n",
            "video 1/1 (frame 1094/3518) /content/Faces from around the world.mp4: 384x640 1 people, 11.4ms\n",
            "video 1/1 (frame 1095/3518) /content/Faces from around the world.mp4: 384x640 1 people, 9.7ms\n",
            "video 1/1 (frame 1096/3518) /content/Faces from around the world.mp4: 384x640 1 people, 11.6ms\n",
            "video 1/1 (frame 1097/3518) /content/Faces from around the world.mp4: 384x640 1 people, 11.4ms\n",
            "video 1/1 (frame 1098/3518) /content/Faces from around the world.mp4: 384x640 1 people, 11.7ms\n",
            "video 1/1 (frame 1099/3518) /content/Faces from around the world.mp4: 384x640 1 people, 11.7ms\n",
            "video 1/1 (frame 1100/3518) /content/Faces from around the world.mp4: 384x640 1 people, 11.7ms\n",
            "video 1/1 (frame 1101/3518) /content/Faces from around the world.mp4: 384x640 1 people, 11.3ms\n",
            "video 1/1 (frame 1102/3518) /content/Faces from around the world.mp4: 384x640 1 people, 17.6ms\n",
            "video 1/1 (frame 1103/3518) /content/Faces from around the world.mp4: 384x640 1 people, 16.7ms\n",
            "video 1/1 (frame 1104/3518) /content/Faces from around the world.mp4: 384x640 1 people, 18.0ms\n",
            "video 1/1 (frame 1105/3518) /content/Faces from around the world.mp4: 384x640 1 people, 17.1ms\n",
            "video 1/1 (frame 1106/3518) /content/Faces from around the world.mp4: 384x640 1 people, 20.5ms\n",
            "video 1/1 (frame 1107/3518) /content/Faces from around the world.mp4: 384x640 2 peoples, 20.0ms\n",
            "video 1/1 (frame 1108/3518) /content/Faces from around the world.mp4: 384x640 1 people, 12.6ms\n",
            "video 1/1 (frame 1109/3518) /content/Faces from around the world.mp4: 384x640 1 people, 15.7ms\n",
            "video 1/1 (frame 1110/3518) /content/Faces from around the world.mp4: 384x640 1 people, 18.3ms\n",
            "video 1/1 (frame 1111/3518) /content/Faces from around the world.mp4: 384x640 2 peoples, 20.9ms\n",
            "video 1/1 (frame 1112/3518) /content/Faces from around the world.mp4: 384x640 2 peoples, 24.3ms\n",
            "video 1/1 (frame 1113/3518) /content/Faces from around the world.mp4: 384x640 2 peoples, 22.2ms\n",
            "video 1/1 (frame 1114/3518) /content/Faces from around the world.mp4: 384x640 2 peoples, 16.0ms\n",
            "video 1/1 (frame 1115/3518) /content/Faces from around the world.mp4: 384x640 2 peoples, 13.3ms\n",
            "video 1/1 (frame 1116/3518) /content/Faces from around the world.mp4: 384x640 2 peoples, 15.4ms\n",
            "video 1/1 (frame 1117/3518) /content/Faces from around the world.mp4: 384x640 2 peoples, 12.7ms\n",
            "video 1/1 (frame 1118/3518) /content/Faces from around the world.mp4: 384x640 2 peoples, 12.6ms\n",
            "video 1/1 (frame 1119/3518) /content/Faces from around the world.mp4: 384x640 2 peoples, 16.7ms\n",
            "video 1/1 (frame 1120/3518) /content/Faces from around the world.mp4: 384x640 2 peoples, 13.6ms\n",
            "video 1/1 (frame 1121/3518) /content/Faces from around the world.mp4: 384x640 2 peoples, 13.1ms\n",
            "video 1/1 (frame 1122/3518) /content/Faces from around the world.mp4: 384x640 2 peoples, 14.3ms\n",
            "video 1/1 (frame 1123/3518) /content/Faces from around the world.mp4: 384x640 2 peoples, 14.2ms\n",
            "video 1/1 (frame 1124/3518) /content/Faces from around the world.mp4: 384x640 2 peoples, 13.6ms\n",
            "video 1/1 (frame 1125/3518) /content/Faces from around the world.mp4: 384x640 2 peoples, 13.3ms\n",
            "video 1/1 (frame 1126/3518) /content/Faces from around the world.mp4: 384x640 2 peoples, 14.9ms\n",
            "video 1/1 (frame 1127/3518) /content/Faces from around the world.mp4: 384x640 2 peoples, 13.5ms\n",
            "video 1/1 (frame 1128/3518) /content/Faces from around the world.mp4: 384x640 2 peoples, 13.6ms\n",
            "video 1/1 (frame 1129/3518) /content/Faces from around the world.mp4: 384x640 2 peoples, 13.4ms\n",
            "video 1/1 (frame 1130/3518) /content/Faces from around the world.mp4: 384x640 2 peoples, 14.2ms\n",
            "video 1/1 (frame 1131/3518) /content/Faces from around the world.mp4: 384x640 2 peoples, 13.7ms\n",
            "video 1/1 (frame 1132/3518) /content/Faces from around the world.mp4: 384x640 2 peoples, 15.3ms\n",
            "video 1/1 (frame 1133/3518) /content/Faces from around the world.mp4: 384x640 2 peoples, 13.3ms\n",
            "video 1/1 (frame 1134/3518) /content/Faces from around the world.mp4: 384x640 2 peoples, 17.7ms\n",
            "video 1/1 (frame 1135/3518) /content/Faces from around the world.mp4: 384x640 2 peoples, 13.7ms\n",
            "video 1/1 (frame 1136/3518) /content/Faces from around the world.mp4: 384x640 2 peoples, 12.5ms\n",
            "video 1/1 (frame 1137/3518) /content/Faces from around the world.mp4: 384x640 2 peoples, 14.4ms\n",
            "video 1/1 (frame 1138/3518) /content/Faces from around the world.mp4: 384x640 2 peoples, 16.9ms\n",
            "video 1/1 (frame 1139/3518) /content/Faces from around the world.mp4: 384x640 4 peoples, 12.3ms\n",
            "video 1/1 (frame 1140/3518) /content/Faces from around the world.mp4: 384x640 4 peoples, 16.6ms\n",
            "video 1/1 (frame 1141/3518) /content/Faces from around the world.mp4: 384x640 4 peoples, 18.3ms\n",
            "video 1/1 (frame 1142/3518) /content/Faces from around the world.mp4: 384x640 4 peoples, 12.5ms\n",
            "video 1/1 (frame 1143/3518) /content/Faces from around the world.mp4: 384x640 4 peoples, 16.1ms\n",
            "video 1/1 (frame 1144/3518) /content/Faces from around the world.mp4: 384x640 4 peoples, 20.0ms\n",
            "video 1/1 (frame 1145/3518) /content/Faces from around the world.mp4: 384x640 4 peoples, 17.4ms\n",
            "video 1/1 (frame 1146/3518) /content/Faces from around the world.mp4: 384x640 4 peoples, 17.3ms\n",
            "video 1/1 (frame 1147/3518) /content/Faces from around the world.mp4: 384x640 4 peoples, 12.9ms\n",
            "video 1/1 (frame 1148/3518) /content/Faces from around the world.mp4: 384x640 4 peoples, 14.2ms\n",
            "video 1/1 (frame 1149/3518) /content/Faces from around the world.mp4: 384x640 4 peoples, 14.3ms\n",
            "video 1/1 (frame 1150/3518) /content/Faces from around the world.mp4: 384x640 4 peoples, 19.1ms\n",
            "video 1/1 (frame 1151/3518) /content/Faces from around the world.mp4: 384x640 4 peoples, 20.1ms\n",
            "video 1/1 (frame 1152/3518) /content/Faces from around the world.mp4: 384x640 4 peoples, 20.9ms\n",
            "video 1/1 (frame 1153/3518) /content/Faces from around the world.mp4: 384x640 4 peoples, 18.5ms\n",
            "video 1/1 (frame 1154/3518) /content/Faces from around the world.mp4: 384x640 4 peoples, 19.9ms\n",
            "video 1/1 (frame 1155/3518) /content/Faces from around the world.mp4: 384x640 4 peoples, 19.8ms\n",
            "video 1/1 (frame 1156/3518) /content/Faces from around the world.mp4: 384x640 4 peoples, 19.1ms\n",
            "video 1/1 (frame 1157/3518) /content/Faces from around the world.mp4: 384x640 5 peoples, 12.7ms\n",
            "video 1/1 (frame 1158/3518) /content/Faces from around the world.mp4: 384x640 4 peoples, 13.7ms\n",
            "video 1/1 (frame 1159/3518) /content/Faces from around the world.mp4: 384x640 4 peoples, 18.8ms\n",
            "video 1/1 (frame 1160/3518) /content/Faces from around the world.mp4: 384x640 4 peoples, 18.0ms\n",
            "video 1/1 (frame 1161/3518) /content/Faces from around the world.mp4: 384x640 4 peoples, 21.0ms\n",
            "video 1/1 (frame 1162/3518) /content/Faces from around the world.mp4: 384x640 4 peoples, 17.4ms\n",
            "video 1/1 (frame 1163/3518) /content/Faces from around the world.mp4: 384x640 4 peoples, 18.7ms\n",
            "video 1/1 (frame 1164/3518) /content/Faces from around the world.mp4: 384x640 4 peoples, 18.3ms\n",
            "video 1/1 (frame 1165/3518) /content/Faces from around the world.mp4: 384x640 4 peoples, 20.0ms\n",
            "video 1/1 (frame 1166/3518) /content/Faces from around the world.mp4: 384x640 4 peoples, 20.3ms\n",
            "video 1/1 (frame 1167/3518) /content/Faces from around the world.mp4: 384x640 4 peoples, 26.7ms\n",
            "video 1/1 (frame 1168/3518) /content/Faces from around the world.mp4: 384x640 4 peoples, 19.1ms\n",
            "video 1/1 (frame 1169/3518) /content/Faces from around the world.mp4: 384x640 5 peoples, 24.5ms\n",
            "video 1/1 (frame 1170/3518) /content/Faces from around the world.mp4: 384x640 3 peoples, 24.8ms\n",
            "video 1/1 (frame 1171/3518) /content/Faces from around the world.mp4: 384x640 2 peoples, 13.9ms\n",
            "video 1/1 (frame 1172/3518) /content/Faces from around the world.mp4: 384x640 2 peoples, 10.7ms\n",
            "video 1/1 (frame 1173/3518) /content/Faces from around the world.mp4: 384x640 2 peoples, 14.1ms\n",
            "video 1/1 (frame 1174/3518) /content/Faces from around the world.mp4: 384x640 3 peoples, 11.5ms\n",
            "video 1/1 (frame 1175/3518) /content/Faces from around the world.mp4: 384x640 3 peoples, 10.9ms\n",
            "video 1/1 (frame 1176/3518) /content/Faces from around the world.mp4: 384x640 3 peoples, 12.3ms\n",
            "video 1/1 (frame 1177/3518) /content/Faces from around the world.mp4: 384x640 4 peoples, 10.8ms\n",
            "video 1/1 (frame 1178/3518) /content/Faces from around the world.mp4: 384x640 4 peoples, 11.3ms\n",
            "video 1/1 (frame 1179/3518) /content/Faces from around the world.mp4: 384x640 3 peoples, 11.8ms\n",
            "video 1/1 (frame 1180/3518) /content/Faces from around the world.mp4: 384x640 3 peoples, 12.2ms\n",
            "video 1/1 (frame 1181/3518) /content/Faces from around the world.mp4: 384x640 3 peoples, 14.8ms\n",
            "video 1/1 (frame 1182/3518) /content/Faces from around the world.mp4: 384x640 3 peoples, 11.2ms\n",
            "video 1/1 (frame 1183/3518) /content/Faces from around the world.mp4: 384x640 4 peoples, 12.1ms\n",
            "video 1/1 (frame 1184/3518) /content/Faces from around the world.mp4: 384x640 1 people, 10.5ms\n",
            "video 1/1 (frame 1185/3518) /content/Faces from around the world.mp4: 384x640 1 people, 13.7ms\n",
            "video 1/1 (frame 1186/3518) /content/Faces from around the world.mp4: 384x640 1 people, 11.4ms\n",
            "video 1/1 (frame 1187/3518) /content/Faces from around the world.mp4: 384x640 1 people, 9.9ms\n",
            "video 1/1 (frame 1188/3518) /content/Faces from around the world.mp4: 384x640 1 people, 10.3ms\n",
            "video 1/1 (frame 1189/3518) /content/Faces from around the world.mp4: 384x640 1 people, 12.0ms\n",
            "video 1/1 (frame 1190/3518) /content/Faces from around the world.mp4: 384x640 1 people, 10.8ms\n",
            "video 1/1 (frame 1191/3518) /content/Faces from around the world.mp4: 384x640 1 people, 12.9ms\n",
            "video 1/1 (frame 1192/3518) /content/Faces from around the world.mp4: 384x640 1 people, 13.8ms\n",
            "video 1/1 (frame 1193/3518) /content/Faces from around the world.mp4: 384x640 1 people, 13.5ms\n",
            "video 1/1 (frame 1194/3518) /content/Faces from around the world.mp4: 384x640 1 people, 10.3ms\n",
            "video 1/1 (frame 1195/3518) /content/Faces from around the world.mp4: 384x640 1 people, 12.0ms\n",
            "video 1/1 (frame 1196/3518) /content/Faces from around the world.mp4: 384x640 1 people, 10.6ms\n",
            "video 1/1 (frame 1197/3518) /content/Faces from around the world.mp4: 384x640 1 people, 11.5ms\n",
            "video 1/1 (frame 1198/3518) /content/Faces from around the world.mp4: 384x640 1 people, 10.0ms\n",
            "video 1/1 (frame 1199/3518) /content/Faces from around the world.mp4: 384x640 1 people, 12.0ms\n",
            "video 1/1 (frame 1200/3518) /content/Faces from around the world.mp4: 384x640 1 people, 11.4ms\n",
            "video 1/1 (frame 1201/3518) /content/Faces from around the world.mp4: 384x640 1 people, 10.2ms\n",
            "video 1/1 (frame 1202/3518) /content/Faces from around the world.mp4: 384x640 1 people, 11.2ms\n",
            "video 1/1 (frame 1203/3518) /content/Faces from around the world.mp4: 384x640 1 people, 10.4ms\n",
            "video 1/1 (frame 1204/3518) /content/Faces from around the world.mp4: 384x640 1 people, 16.1ms\n",
            "video 1/1 (frame 1205/3518) /content/Faces from around the world.mp4: 384x640 1 people, 10.0ms\n",
            "video 1/1 (frame 1206/3518) /content/Faces from around the world.mp4: 384x640 1 people, 11.3ms\n",
            "video 1/1 (frame 1207/3518) /content/Faces from around the world.mp4: 384x640 1 people, 10.6ms\n",
            "video 1/1 (frame 1208/3518) /content/Faces from around the world.mp4: 384x640 1 people, 10.6ms\n",
            "video 1/1 (frame 1209/3518) /content/Faces from around the world.mp4: 384x640 1 people, 12.8ms\n",
            "video 1/1 (frame 1210/3518) /content/Faces from around the world.mp4: 384x640 1 people, 10.6ms\n",
            "video 1/1 (frame 1211/3518) /content/Faces from around the world.mp4: 384x640 1 people, 21.4ms\n",
            "video 1/1 (frame 1212/3518) /content/Faces from around the world.mp4: 384x640 1 people, 11.8ms\n",
            "video 1/1 (frame 1213/3518) /content/Faces from around the world.mp4: 384x640 1 people, 10.7ms\n",
            "video 1/1 (frame 1214/3518) /content/Faces from around the world.mp4: 384x640 1 people, 10.7ms\n",
            "video 1/1 (frame 1215/3518) /content/Faces from around the world.mp4: 384x640 1 people, 12.8ms\n",
            "video 1/1 (frame 1216/3518) /content/Faces from around the world.mp4: 384x640 1 people, 10.3ms\n",
            "video 1/1 (frame 1217/3518) /content/Faces from around the world.mp4: 384x640 1 people, 14.0ms\n",
            "video 1/1 (frame 1218/3518) /content/Faces from around the world.mp4: 384x640 1 people, 10.5ms\n",
            "video 1/1 (frame 1219/3518) /content/Faces from around the world.mp4: 384x640 1 people, 12.2ms\n",
            "video 1/1 (frame 1220/3518) /content/Faces from around the world.mp4: 384x640 1 people, 11.9ms\n",
            "video 1/1 (frame 1221/3518) /content/Faces from around the world.mp4: 384x640 1 people, 10.2ms\n",
            "video 1/1 (frame 1222/3518) /content/Faces from around the world.mp4: 384x640 1 people, 10.8ms\n",
            "video 1/1 (frame 1223/3518) /content/Faces from around the world.mp4: 384x640 1 people, 12.0ms\n",
            "video 1/1 (frame 1224/3518) /content/Faces from around the world.mp4: 384x640 1 people, 10.6ms\n",
            "video 1/1 (frame 1225/3518) /content/Faces from around the world.mp4: 384x640 1 people, 10.9ms\n",
            "video 1/1 (frame 1226/3518) /content/Faces from around the world.mp4: 384x640 1 people, 15.3ms\n",
            "video 1/1 (frame 1227/3518) /content/Faces from around the world.mp4: 384x640 1 people, 10.7ms\n",
            "video 1/1 (frame 1228/3518) /content/Faces from around the world.mp4: 384x640 1 people, 12.7ms\n",
            "video 1/1 (frame 1229/3518) /content/Faces from around the world.mp4: 384x640 1 people, 10.6ms\n",
            "video 1/1 (frame 1230/3518) /content/Faces from around the world.mp4: 384x640 1 people, 11.0ms\n",
            "video 1/1 (frame 1231/3518) /content/Faces from around the world.mp4: 384x640 1 people, 12.1ms\n",
            "video 1/1 (frame 1232/3518) /content/Faces from around the world.mp4: 384x640 1 people, 10.3ms\n",
            "video 1/1 (frame 1233/3518) /content/Faces from around the world.mp4: 384x640 1 people, 10.8ms\n",
            "video 1/1 (frame 1234/3518) /content/Faces from around the world.mp4: 384x640 1 people, 11.6ms\n",
            "video 1/1 (frame 1235/3518) /content/Faces from around the world.mp4: 384x640 1 people, 10.9ms\n",
            "video 1/1 (frame 1236/3518) /content/Faces from around the world.mp4: 384x640 1 people, 11.1ms\n",
            "video 1/1 (frame 1237/3518) /content/Faces from around the world.mp4: 384x640 1 people, 12.5ms\n",
            "video 1/1 (frame 1238/3518) /content/Faces from around the world.mp4: 384x640 1 people, 13.2ms\n",
            "video 1/1 (frame 1239/3518) /content/Faces from around the world.mp4: 384x640 1 people, 10.8ms\n",
            "video 1/1 (frame 1240/3518) /content/Faces from around the world.mp4: 384x640 1 people, 11.1ms\n",
            "video 1/1 (frame 1241/3518) /content/Faces from around the world.mp4: 384x640 1 people, 11.7ms\n",
            "video 1/1 (frame 1242/3518) /content/Faces from around the world.mp4: 384x640 1 people, 10.6ms\n",
            "video 1/1 (frame 1243/3518) /content/Faces from around the world.mp4: 384x640 1 people, 10.6ms\n",
            "video 1/1 (frame 1244/3518) /content/Faces from around the world.mp4: 384x640 1 people, 12.0ms\n",
            "video 1/1 (frame 1245/3518) /content/Faces from around the world.mp4: 384x640 1 people, 10.7ms\n",
            "video 1/1 (frame 1246/3518) /content/Faces from around the world.mp4: 384x640 1 people, 11.6ms\n",
            "video 1/1 (frame 1247/3518) /content/Faces from around the world.mp4: 384x640 1 people, 10.7ms\n",
            "video 1/1 (frame 1248/3518) /content/Faces from around the world.mp4: 384x640 1 people, 11.0ms\n",
            "video 1/1 (frame 1249/3518) /content/Faces from around the world.mp4: 384x640 1 people, 14.8ms\n",
            "video 1/1 (frame 1250/3518) /content/Faces from around the world.mp4: 384x640 1 people, 10.7ms\n",
            "video 1/1 (frame 1251/3518) /content/Faces from around the world.mp4: 384x640 1 people, 12.4ms\n",
            "video 1/1 (frame 1252/3518) /content/Faces from around the world.mp4: 384x640 1 people, 12.6ms\n",
            "video 1/1 (frame 1253/3518) /content/Faces from around the world.mp4: 384x640 1 people, 10.4ms\n",
            "video 1/1 (frame 1254/3518) /content/Faces from around the world.mp4: 384x640 1 people, 11.7ms\n",
            "video 1/1 (frame 1255/3518) /content/Faces from around the world.mp4: 384x640 1 people, 10.5ms\n",
            "video 1/1 (frame 1256/3518) /content/Faces from around the world.mp4: 384x640 1 people, 18.3ms\n",
            "video 1/1 (frame 1257/3518) /content/Faces from around the world.mp4: 384x640 1 people, 12.5ms\n",
            "video 1/1 (frame 1258/3518) /content/Faces from around the world.mp4: 384x640 1 people, 11.2ms\n",
            "video 1/1 (frame 1259/3518) /content/Faces from around the world.mp4: 384x640 1 people, 11.2ms\n",
            "video 1/1 (frame 1260/3518) /content/Faces from around the world.mp4: 384x640 1 people, 13.5ms\n",
            "video 1/1 (frame 1261/3518) /content/Faces from around the world.mp4: 384x640 1 people, 10.5ms\n",
            "video 1/1 (frame 1262/3518) /content/Faces from around the world.mp4: 384x640 1 people, 11.1ms\n",
            "video 1/1 (frame 1263/3518) /content/Faces from around the world.mp4: 384x640 1 people, 12.2ms\n",
            "video 1/1 (frame 1264/3518) /content/Faces from around the world.mp4: 384x640 1 people, 10.5ms\n",
            "video 1/1 (frame 1265/3518) /content/Faces from around the world.mp4: 384x640 1 people, 11.4ms\n",
            "video 1/1 (frame 1266/3518) /content/Faces from around the world.mp4: 384x640 1 people, 11.6ms\n",
            "video 1/1 (frame 1267/3518) /content/Faces from around the world.mp4: 384x640 1 people, 10.2ms\n",
            "video 1/1 (frame 1268/3518) /content/Faces from around the world.mp4: 384x640 1 people, 11.3ms\n",
            "video 1/1 (frame 1269/3518) /content/Faces from around the world.mp4: 384x640 1 people, 10.3ms\n",
            "video 1/1 (frame 1270/3518) /content/Faces from around the world.mp4: 384x640 1 people, 12.8ms\n",
            "video 1/1 (frame 1271/3518) /content/Faces from around the world.mp4: 384x640 1 people, 12.5ms\n",
            "video 1/1 (frame 1272/3518) /content/Faces from around the world.mp4: 384x640 1 people, 10.5ms\n",
            "video 1/1 (frame 1273/3518) /content/Faces from around the world.mp4: 384x640 1 people, 9.9ms\n",
            "video 1/1 (frame 1274/3518) /content/Faces from around the world.mp4: 384x640 1 people, 10.3ms\n",
            "video 1/1 (frame 1275/3518) /content/Faces from around the world.mp4: 384x640 1 people, 11.3ms\n",
            "video 1/1 (frame 1276/3518) /content/Faces from around the world.mp4: 384x640 1 people, 10.5ms\n",
            "video 1/1 (frame 1277/3518) /content/Faces from around the world.mp4: 384x640 1 people, 11.0ms\n",
            "video 1/1 (frame 1278/3518) /content/Faces from around the world.mp4: 384x640 1 people, 10.2ms\n",
            "video 1/1 (frame 1279/3518) /content/Faces from around the world.mp4: 384x640 1 people, 11.0ms\n",
            "video 1/1 (frame 1280/3518) /content/Faces from around the world.mp4: 384x640 1 people, 11.9ms\n",
            "video 1/1 (frame 1281/3518) /content/Faces from around the world.mp4: 384x640 1 people, 10.1ms\n",
            "video 1/1 (frame 1282/3518) /content/Faces from around the world.mp4: 384x640 1 people, 12.2ms\n",
            "video 1/1 (frame 1283/3518) /content/Faces from around the world.mp4: 384x640 1 people, 12.1ms\n",
            "video 1/1 (frame 1284/3518) /content/Faces from around the world.mp4: 384x640 1 people, 12.7ms\n",
            "video 1/1 (frame 1285/3518) /content/Faces from around the world.mp4: 384x640 1 people, 12.8ms\n",
            "video 1/1 (frame 1286/3518) /content/Faces from around the world.mp4: 384x640 1 people, 10.2ms\n",
            "video 1/1 (frame 1287/3518) /content/Faces from around the world.mp4: 384x640 1 people, 12.5ms\n",
            "video 1/1 (frame 1288/3518) /content/Faces from around the world.mp4: 384x640 1 people, 12.1ms\n",
            "video 1/1 (frame 1289/3518) /content/Faces from around the world.mp4: 384x640 1 people, 10.3ms\n",
            "video 1/1 (frame 1290/3518) /content/Faces from around the world.mp4: 384x640 1 people, 10.2ms\n",
            "video 1/1 (frame 1291/3518) /content/Faces from around the world.mp4: 384x640 1 people, 12.5ms\n",
            "video 1/1 (frame 1292/3518) /content/Faces from around the world.mp4: 384x640 1 people, 10.2ms\n",
            "video 1/1 (frame 1293/3518) /content/Faces from around the world.mp4: 384x640 1 people, 10.3ms\n",
            "video 1/1 (frame 1294/3518) /content/Faces from around the world.mp4: 384x640 1 people, 11.4ms\n",
            "video 1/1 (frame 1295/3518) /content/Faces from around the world.mp4: 384x640 1 people, 12.3ms\n",
            "video 1/1 (frame 1296/3518) /content/Faces from around the world.mp4: 384x640 1 people, 12.7ms\n",
            "video 1/1 (frame 1297/3518) /content/Faces from around the world.mp4: 384x640 1 people, 11.2ms\n",
            "video 1/1 (frame 1298/3518) /content/Faces from around the world.mp4: 384x640 1 people, 10.7ms\n",
            "video 1/1 (frame 1299/3518) /content/Faces from around the world.mp4: 384x640 1 people, 11.7ms\n",
            "video 1/1 (frame 1300/3518) /content/Faces from around the world.mp4: 384x640 1 people, 10.5ms\n",
            "video 1/1 (frame 1301/3518) /content/Faces from around the world.mp4: 384x640 1 people, 14.0ms\n",
            "video 1/1 (frame 1302/3518) /content/Faces from around the world.mp4: 384x640 1 people, 17.0ms\n",
            "video 1/1 (frame 1303/3518) /content/Faces from around the world.mp4: 384x640 1 people, 11.1ms\n",
            "video 1/1 (frame 1304/3518) /content/Faces from around the world.mp4: 384x640 1 people, 12.3ms\n",
            "video 1/1 (frame 1305/3518) /content/Faces from around the world.mp4: 384x640 1 people, 10.9ms\n",
            "video 1/1 (frame 1306/3518) /content/Faces from around the world.mp4: 384x640 1 people, 12.0ms\n",
            "video 1/1 (frame 1307/3518) /content/Faces from around the world.mp4: 384x640 1 people, 12.4ms\n",
            "video 1/1 (frame 1308/3518) /content/Faces from around the world.mp4: 384x640 1 people, 10.9ms\n",
            "video 1/1 (frame 1309/3518) /content/Faces from around the world.mp4: 384x640 1 people, 14.3ms\n",
            "video 1/1 (frame 1310/3518) /content/Faces from around the world.mp4: 384x640 1 people, 12.4ms\n",
            "video 1/1 (frame 1311/3518) /content/Faces from around the world.mp4: 384x640 1 people, 14.0ms\n",
            "video 1/1 (frame 1312/3518) /content/Faces from around the world.mp4: 384x640 1 people, 13.4ms\n",
            "video 1/1 (frame 1313/3518) /content/Faces from around the world.mp4: 384x640 1 people, 12.5ms\n",
            "video 1/1 (frame 1314/3518) /content/Faces from around the world.mp4: 384x640 1 people, 12.0ms\n",
            "video 1/1 (frame 1315/3518) /content/Faces from around the world.mp4: 384x640 1 people, 11.2ms\n",
            "video 1/1 (frame 1316/3518) /content/Faces from around the world.mp4: 384x640 1 people, 11.3ms\n",
            "video 1/1 (frame 1317/3518) /content/Faces from around the world.mp4: 384x640 1 people, 12.4ms\n",
            "video 1/1 (frame 1318/3518) /content/Faces from around the world.mp4: 384x640 1 people, 10.9ms\n",
            "video 1/1 (frame 1319/3518) /content/Faces from around the world.mp4: 384x640 1 people, 11.8ms\n",
            "video 1/1 (frame 1320/3518) /content/Faces from around the world.mp4: 384x640 1 people, 10.6ms\n",
            "video 1/1 (frame 1321/3518) /content/Faces from around the world.mp4: 384x640 1 people, 11.1ms\n",
            "video 1/1 (frame 1322/3518) /content/Faces from around the world.mp4: 384x640 1 people, 12.7ms\n",
            "video 1/1 (frame 1323/3518) /content/Faces from around the world.mp4: 384x640 1 people, 10.5ms\n",
            "video 1/1 (frame 1324/3518) /content/Faces from around the world.mp4: 384x640 1 people, 11.3ms\n",
            "video 1/1 (frame 1325/3518) /content/Faces from around the world.mp4: 384x640 1 people, 11.8ms\n",
            "video 1/1 (frame 1326/3518) /content/Faces from around the world.mp4: 384x640 1 people, 10.2ms\n",
            "video 1/1 (frame 1327/3518) /content/Faces from around the world.mp4: 384x640 1 people, 10.2ms\n",
            "video 1/1 (frame 1328/3518) /content/Faces from around the world.mp4: 384x640 1 people, 12.2ms\n",
            "video 1/1 (frame 1329/3518) /content/Faces from around the world.mp4: 384x640 1 people, 14.2ms\n",
            "video 1/1 (frame 1330/3518) /content/Faces from around the world.mp4: 384x640 1 people, 11.9ms\n",
            "video 1/1 (frame 1331/3518) /content/Faces from around the world.mp4: 384x640 1 people, 11.3ms\n",
            "video 1/1 (frame 1332/3518) /content/Faces from around the world.mp4: 384x640 1 people, 10.0ms\n",
            "video 1/1 (frame 1333/3518) /content/Faces from around the world.mp4: 384x640 1 people, 10.6ms\n",
            "video 1/1 (frame 1334/3518) /content/Faces from around the world.mp4: 384x640 1 people, 10.9ms\n",
            "video 1/1 (frame 1335/3518) /content/Faces from around the world.mp4: 384x640 1 people, 11.8ms\n",
            "video 1/1 (frame 1336/3518) /content/Faces from around the world.mp4: 384x640 1 people, 10.3ms\n",
            "video 1/1 (frame 1337/3518) /content/Faces from around the world.mp4: 384x640 1 people, 11.8ms\n",
            "video 1/1 (frame 1338/3518) /content/Faces from around the world.mp4: 384x640 1 people, 12.3ms\n",
            "video 1/1 (frame 1339/3518) /content/Faces from around the world.mp4: 384x640 1 people, 10.1ms\n",
            "video 1/1 (frame 1340/3518) /content/Faces from around the world.mp4: 384x640 1 people, 11.8ms\n",
            "video 1/1 (frame 1341/3518) /content/Faces from around the world.mp4: 384x640 1 people, 9.6ms\n",
            "video 1/1 (frame 1342/3518) /content/Faces from around the world.mp4: 384x640 1 people, 9.8ms\n",
            "video 1/1 (frame 1343/3518) /content/Faces from around the world.mp4: 384x640 1 people, 11.6ms\n",
            "video 1/1 (frame 1344/3518) /content/Faces from around the world.mp4: 384x640 1 people, 9.8ms\n",
            "video 1/1 (frame 1345/3518) /content/Faces from around the world.mp4: 384x640 1 people, 11.5ms\n",
            "video 1/1 (frame 1346/3518) /content/Faces from around the world.mp4: 384x640 1 people, 21.4ms\n",
            "video 1/1 (frame 1347/3518) /content/Faces from around the world.mp4: 384x640 1 people, 12.4ms\n",
            "video 1/1 (frame 1348/3518) /content/Faces from around the world.mp4: 384x640 1 people, 11.9ms\n",
            "video 1/1 (frame 1349/3518) /content/Faces from around the world.mp4: 384x640 1 people, 12.6ms\n",
            "video 1/1 (frame 1350/3518) /content/Faces from around the world.mp4: 384x640 1 people, 12.9ms\n",
            "video 1/1 (frame 1351/3518) /content/Faces from around the world.mp4: 384x640 1 people, 11.7ms\n",
            "video 1/1 (frame 1352/3518) /content/Faces from around the world.mp4: 384x640 1 people, 12.0ms\n",
            "video 1/1 (frame 1353/3518) /content/Faces from around the world.mp4: 384x640 1 people, 11.9ms\n",
            "video 1/1 (frame 1354/3518) /content/Faces from around the world.mp4: 384x640 1 people, 11.9ms\n",
            "video 1/1 (frame 1355/3518) /content/Faces from around the world.mp4: 384x640 1 people, 11.8ms\n",
            "video 1/1 (frame 1356/3518) /content/Faces from around the world.mp4: 384x640 1 people, 11.7ms\n",
            "video 1/1 (frame 1357/3518) /content/Faces from around the world.mp4: 384x640 1 people, 11.3ms\n",
            "video 1/1 (frame 1358/3518) /content/Faces from around the world.mp4: 384x640 1 people, 10.1ms\n",
            "video 1/1 (frame 1359/3518) /content/Faces from around the world.mp4: 384x640 1 people, 11.3ms\n",
            "video 1/1 (frame 1360/3518) /content/Faces from around the world.mp4: 384x640 2 peoples, 12.0ms\n",
            "video 1/1 (frame 1361/3518) /content/Faces from around the world.mp4: 384x640 2 peoples, 10.6ms\n",
            "video 1/1 (frame 1362/3518) /content/Faces from around the world.mp4: 384x640 2 peoples, 11.5ms\n",
            "video 1/1 (frame 1363/3518) /content/Faces from around the world.mp4: 384x640 2 peoples, 12.7ms\n",
            "video 1/1 (frame 1364/3518) /content/Faces from around the world.mp4: 384x640 1 people, 10.4ms\n",
            "video 1/1 (frame 1365/3518) /content/Faces from around the world.mp4: 384x640 1 people, 10.3ms\n",
            "video 1/1 (frame 1366/3518) /content/Faces from around the world.mp4: 384x640 2 peoples, 11.3ms\n",
            "video 1/1 (frame 1367/3518) /content/Faces from around the world.mp4: 384x640 1 people, 9.9ms\n",
            "video 1/1 (frame 1368/3518) /content/Faces from around the world.mp4: 384x640 1 people, 12.0ms\n",
            "video 1/1 (frame 1369/3518) /content/Faces from around the world.mp4: 384x640 1 people, 11.8ms\n",
            "video 1/1 (frame 1370/3518) /content/Faces from around the world.mp4: 384x640 2 peoples, 11.6ms\n",
            "video 1/1 (frame 1371/3518) /content/Faces from around the world.mp4: 384x640 1 people, 10.2ms\n",
            "video 1/1 (frame 1372/3518) /content/Faces from around the world.mp4: 384x640 1 people, 12.9ms\n",
            "video 1/1 (frame 1373/3518) /content/Faces from around the world.mp4: 384x640 2 peoples, 13.6ms\n",
            "video 1/1 (frame 1374/3518) /content/Faces from around the world.mp4: 384x640 2 peoples, 11.2ms\n",
            "video 1/1 (frame 1375/3518) /content/Faces from around the world.mp4: 384x640 2 peoples, 10.1ms\n",
            "video 1/1 (frame 1376/3518) /content/Faces from around the world.mp4: 384x640 2 peoples, 9.9ms\n",
            "video 1/1 (frame 1377/3518) /content/Faces from around the world.mp4: 384x640 1 people, 10.6ms\n",
            "video 1/1 (frame 1378/3518) /content/Faces from around the world.mp4: 384x640 1 people, 11.4ms\n",
            "video 1/1 (frame 1379/3518) /content/Faces from around the world.mp4: 384x640 1 people, 9.3ms\n",
            "video 1/1 (frame 1380/3518) /content/Faces from around the world.mp4: 384x640 1 people, 11.6ms\n",
            "video 1/1 (frame 1381/3518) /content/Faces from around the world.mp4: 384x640 1 people, 16.3ms\n",
            "video 1/1 (frame 1382/3518) /content/Faces from around the world.mp4: 384x640 1 people, 10.9ms\n",
            "video 1/1 (frame 1383/3518) /content/Faces from around the world.mp4: 384x640 1 people, 12.6ms\n",
            "video 1/1 (frame 1384/3518) /content/Faces from around the world.mp4: 384x640 1 people, 11.6ms\n",
            "video 1/1 (frame 1385/3518) /content/Faces from around the world.mp4: 384x640 1 people, 11.7ms\n",
            "video 1/1 (frame 1386/3518) /content/Faces from around the world.mp4: 384x640 2 peoples, 10.8ms\n",
            "video 1/1 (frame 1387/3518) /content/Faces from around the world.mp4: 384x640 1 people, 10.3ms\n",
            "video 1/1 (frame 1388/3518) /content/Faces from around the world.mp4: 384x640 1 people, 11.8ms\n",
            "video 1/1 (frame 1389/3518) /content/Faces from around the world.mp4: 384x640 1 people, 10.9ms\n",
            "video 1/1 (frame 1390/3518) /content/Faces from around the world.mp4: 384x640 1 people, 25.2ms\n",
            "video 1/1 (frame 1391/3518) /content/Faces from around the world.mp4: 384x640 1 people, 12.4ms\n",
            "video 1/1 (frame 1392/3518) /content/Faces from around the world.mp4: 384x640 1 people, 11.9ms\n",
            "video 1/1 (frame 1393/3518) /content/Faces from around the world.mp4: 384x640 1 people, 11.1ms\n",
            "video 1/1 (frame 1394/3518) /content/Faces from around the world.mp4: 384x640 1 people, 11.8ms\n",
            "video 1/1 (frame 1395/3518) /content/Faces from around the world.mp4: 384x640 1 people, 13.8ms\n",
            "video 1/1 (frame 1396/3518) /content/Faces from around the world.mp4: 384x640 1 people, 12.7ms\n",
            "video 1/1 (frame 1397/3518) /content/Faces from around the world.mp4: 384x640 1 people, 11.7ms\n",
            "video 1/1 (frame 1398/3518) /content/Faces from around the world.mp4: 384x640 1 people, 12.9ms\n",
            "video 1/1 (frame 1399/3518) /content/Faces from around the world.mp4: 384x640 1 people, 11.9ms\n",
            "video 1/1 (frame 1400/3518) /content/Faces from around the world.mp4: 384x640 1 people, 10.9ms\n",
            "video 1/1 (frame 1401/3518) /content/Faces from around the world.mp4: 384x640 1 people, 12.0ms\n",
            "video 1/1 (frame 1402/3518) /content/Faces from around the world.mp4: 384x640 1 people, 13.1ms\n",
            "video 1/1 (frame 1403/3518) /content/Faces from around the world.mp4: 384x640 1 people, 11.2ms\n",
            "video 1/1 (frame 1404/3518) /content/Faces from around the world.mp4: 384x640 1 people, 12.1ms\n",
            "video 1/1 (frame 1405/3518) /content/Faces from around the world.mp4: 384x640 2 peoples, 13.2ms\n",
            "video 1/1 (frame 1406/3518) /content/Faces from around the world.mp4: 384x640 2 peoples, 13.2ms\n",
            "video 1/1 (frame 1407/3518) /content/Faces from around the world.mp4: 384x640 1 people, 11.6ms\n",
            "video 1/1 (frame 1408/3518) /content/Faces from around the world.mp4: 384x640 1 people, 11.0ms\n",
            "video 1/1 (frame 1409/3518) /content/Faces from around the world.mp4: 384x640 2 peoples, 10.8ms\n",
            "video 1/1 (frame 1410/3518) /content/Faces from around the world.mp4: 384x640 1 people, 12.4ms\n",
            "video 1/1 (frame 1411/3518) /content/Faces from around the world.mp4: 384x640 1 people, 12.0ms\n",
            "video 1/1 (frame 1412/3518) /content/Faces from around the world.mp4: 384x640 1 people, 11.2ms\n",
            "video 1/1 (frame 1413/3518) /content/Faces from around the world.mp4: 384x640 1 people, 11.3ms\n",
            "video 1/1 (frame 1414/3518) /content/Faces from around the world.mp4: 384x640 1 people, 12.6ms\n",
            "video 1/1 (frame 1415/3518) /content/Faces from around the world.mp4: 384x640 2 peoples, 11.9ms\n",
            "video 1/1 (frame 1416/3518) /content/Faces from around the world.mp4: 384x640 1 people, 14.8ms\n",
            "video 1/1 (frame 1417/3518) /content/Faces from around the world.mp4: 384x640 1 people, 15.1ms\n",
            "video 1/1 (frame 1418/3518) /content/Faces from around the world.mp4: 384x640 1 people, 11.8ms\n",
            "video 1/1 (frame 1419/3518) /content/Faces from around the world.mp4: 384x640 1 people, 9.9ms\n",
            "video 1/1 (frame 1420/3518) /content/Faces from around the world.mp4: 384x640 1 people, 14.2ms\n",
            "video 1/1 (frame 1421/3518) /content/Faces from around the world.mp4: 384x640 1 people, 10.6ms\n",
            "video 1/1 (frame 1422/3518) /content/Faces from around the world.mp4: 384x640 1 people, 11.4ms\n",
            "video 1/1 (frame 1423/3518) /content/Faces from around the world.mp4: 384x640 1 people, 11.5ms\n",
            "video 1/1 (frame 1424/3518) /content/Faces from around the world.mp4: 384x640 1 people, 11.4ms\n",
            "video 1/1 (frame 1425/3518) /content/Faces from around the world.mp4: 384x640 1 people, 13.2ms\n",
            "video 1/1 (frame 1426/3518) /content/Faces from around the world.mp4: 384x640 1 people, 10.7ms\n",
            "video 1/1 (frame 1427/3518) /content/Faces from around the world.mp4: 384x640 1 people, 11.0ms\n",
            "video 1/1 (frame 1428/3518) /content/Faces from around the world.mp4: 384x640 1 people, 12.0ms\n",
            "video 1/1 (frame 1429/3518) /content/Faces from around the world.mp4: 384x640 1 people, 10.4ms\n",
            "video 1/1 (frame 1430/3518) /content/Faces from around the world.mp4: 384x640 1 people, 11.0ms\n",
            "video 1/1 (frame 1431/3518) /content/Faces from around the world.mp4: 384x640 1 people, 11.6ms\n",
            "video 1/1 (frame 1432/3518) /content/Faces from around the world.mp4: 384x640 1 people, 10.1ms\n",
            "video 1/1 (frame 1433/3518) /content/Faces from around the world.mp4: 384x640 1 people, 16.2ms\n",
            "video 1/1 (frame 1434/3518) /content/Faces from around the world.mp4: 384x640 1 people, 13.6ms\n",
            "video 1/1 (frame 1435/3518) /content/Faces from around the world.mp4: 384x640 1 people, 10.8ms\n",
            "video 1/1 (frame 1436/3518) /content/Faces from around the world.mp4: 384x640 1 people, 10.8ms\n",
            "video 1/1 (frame 1437/3518) /content/Faces from around the world.mp4: 384x640 1 people, 13.2ms\n",
            "video 1/1 (frame 1438/3518) /content/Faces from around the world.mp4: 384x640 1 people, 11.1ms\n",
            "video 1/1 (frame 1439/3518) /content/Faces from around the world.mp4: 384x640 1 people, 14.5ms\n",
            "video 1/1 (frame 1440/3518) /content/Faces from around the world.mp4: 384x640 1 people, 11.3ms\n",
            "video 1/1 (frame 1441/3518) /content/Faces from around the world.mp4: 384x640 1 people, 10.9ms\n",
            "video 1/1 (frame 1442/3518) /content/Faces from around the world.mp4: 384x640 1 people, 10.4ms\n",
            "video 1/1 (frame 1443/3518) /content/Faces from around the world.mp4: 384x640 1 people, 11.1ms\n",
            "video 1/1 (frame 1444/3518) /content/Faces from around the world.mp4: 384x640 1 people, 11.3ms\n",
            "video 1/1 (frame 1445/3518) /content/Faces from around the world.mp4: 384x640 1 people, 10.5ms\n",
            "video 1/1 (frame 1446/3518) /content/Faces from around the world.mp4: 384x640 1 people, 10.8ms\n",
            "video 1/1 (frame 1447/3518) /content/Faces from around the world.mp4: 384x640 1 people, 12.8ms\n",
            "video 1/1 (frame 1448/3518) /content/Faces from around the world.mp4: 384x640 1 people, 12.1ms\n",
            "video 1/1 (frame 1449/3518) /content/Faces from around the world.mp4: 384x640 1 people, 10.7ms\n",
            "video 1/1 (frame 1450/3518) /content/Faces from around the world.mp4: 384x640 2 peoples, 12.3ms\n",
            "video 1/1 (frame 1451/3518) /content/Faces from around the world.mp4: 384x640 1 people, 12.0ms\n",
            "video 1/1 (frame 1452/3518) /content/Faces from around the world.mp4: 384x640 1 people, 10.9ms\n",
            "video 1/1 (frame 1453/3518) /content/Faces from around the world.mp4: 384x640 1 people, 11.5ms\n",
            "video 1/1 (frame 1454/3518) /content/Faces from around the world.mp4: 384x640 1 people, 10.2ms\n",
            "video 1/1 (frame 1455/3518) /content/Faces from around the world.mp4: 384x640 1 people, 11.6ms\n",
            "video 1/1 (frame 1456/3518) /content/Faces from around the world.mp4: 384x640 1 people, 11.7ms\n",
            "video 1/1 (frame 1457/3518) /content/Faces from around the world.mp4: 384x640 1 people, 12.3ms\n",
            "video 1/1 (frame 1458/3518) /content/Faces from around the world.mp4: 384x640 1 people, 12.1ms\n",
            "video 1/1 (frame 1459/3518) /content/Faces from around the world.mp4: 384x640 1 people, 10.9ms\n",
            "video 1/1 (frame 1460/3518) /content/Faces from around the world.mp4: 384x640 1 people, 10.0ms\n",
            "video 1/1 (frame 1461/3518) /content/Faces from around the world.mp4: 384x640 1 people, 12.0ms\n",
            "video 1/1 (frame 1462/3518) /content/Faces from around the world.mp4: 384x640 1 people, 14.3ms\n",
            "video 1/1 (frame 1463/3518) /content/Faces from around the world.mp4: 384x640 1 people, 10.4ms\n",
            "video 1/1 (frame 1464/3518) /content/Faces from around the world.mp4: 384x640 1 people, 9.9ms\n",
            "video 1/1 (frame 1465/3518) /content/Faces from around the world.mp4: 384x640 1 people, 12.5ms\n",
            "video 1/1 (frame 1466/3518) /content/Faces from around the world.mp4: 384x640 1 people, 14.9ms\n",
            "video 1/1 (frame 1467/3518) /content/Faces from around the world.mp4: 384x640 1 people, 11.3ms\n",
            "video 1/1 (frame 1468/3518) /content/Faces from around the world.mp4: 384x640 1 people, 10.5ms\n",
            "video 1/1 (frame 1469/3518) /content/Faces from around the world.mp4: 384x640 1 people, 12.1ms\n",
            "video 1/1 (frame 1470/3518) /content/Faces from around the world.mp4: 384x640 1 people, 10.4ms\n",
            "video 1/1 (frame 1471/3518) /content/Faces from around the world.mp4: 384x640 1 people, 12.8ms\n",
            "video 1/1 (frame 1472/3518) /content/Faces from around the world.mp4: 384x640 1 people, 11.9ms\n",
            "video 1/1 (frame 1473/3518) /content/Faces from around the world.mp4: 384x640 1 people, 14.6ms\n",
            "video 1/1 (frame 1474/3518) /content/Faces from around the world.mp4: 384x640 1 people, 11.0ms\n",
            "video 1/1 (frame 1475/3518) /content/Faces from around the world.mp4: 384x640 1 people, 11.0ms\n",
            "video 1/1 (frame 1476/3518) /content/Faces from around the world.mp4: 384x640 1 people, 11.5ms\n",
            "video 1/1 (frame 1477/3518) /content/Faces from around the world.mp4: 384x640 1 people, 19.5ms\n",
            "video 1/1 (frame 1478/3518) /content/Faces from around the world.mp4: 384x640 1 people, 12.1ms\n",
            "video 1/1 (frame 1479/3518) /content/Faces from around the world.mp4: 384x640 1 people, 11.4ms\n",
            "video 1/1 (frame 1480/3518) /content/Faces from around the world.mp4: 384x640 1 people, 10.3ms\n",
            "video 1/1 (frame 1481/3518) /content/Faces from around the world.mp4: 384x640 1 people, 12.3ms\n",
            "video 1/1 (frame 1482/3518) /content/Faces from around the world.mp4: 384x640 1 people, 12.3ms\n",
            "video 1/1 (frame 1483/3518) /content/Faces from around the world.mp4: 384x640 1 people, 13.5ms\n",
            "video 1/1 (frame 1484/3518) /content/Faces from around the world.mp4: 384x640 1 people, 10.3ms\n",
            "video 1/1 (frame 1485/3518) /content/Faces from around the world.mp4: 384x640 1 people, 11.8ms\n",
            "video 1/1 (frame 1486/3518) /content/Faces from around the world.mp4: 384x640 1 people, 10.6ms\n",
            "video 1/1 (frame 1487/3518) /content/Faces from around the world.mp4: 384x640 1 people, 12.3ms\n",
            "video 1/1 (frame 1488/3518) /content/Faces from around the world.mp4: 384x640 1 people, 10.9ms\n",
            "video 1/1 (frame 1489/3518) /content/Faces from around the world.mp4: 384x640 1 people, 12.5ms\n",
            "video 1/1 (frame 1490/3518) /content/Faces from around the world.mp4: 384x640 1 people, 10.5ms\n",
            "video 1/1 (frame 1491/3518) /content/Faces from around the world.mp4: 384x640 1 people, 10.5ms\n",
            "video 1/1 (frame 1492/3518) /content/Faces from around the world.mp4: 384x640 1 people, 13.0ms\n",
            "video 1/1 (frame 1493/3518) /content/Faces from around the world.mp4: 384x640 1 people, 10.6ms\n",
            "video 1/1 (frame 1494/3518) /content/Faces from around the world.mp4: 384x640 1 people, 12.8ms\n",
            "video 1/1 (frame 1495/3518) /content/Faces from around the world.mp4: 384x640 1 people, 12.5ms\n",
            "video 1/1 (frame 1496/3518) /content/Faces from around the world.mp4: 384x640 1 people, 11.5ms\n",
            "video 1/1 (frame 1497/3518) /content/Faces from around the world.mp4: 384x640 1 people, 10.8ms\n",
            "video 1/1 (frame 1498/3518) /content/Faces from around the world.mp4: 384x640 1 people, 12.0ms\n",
            "video 1/1 (frame 1499/3518) /content/Faces from around the world.mp4: 384x640 1 people, 11.5ms\n",
            "video 1/1 (frame 1500/3518) /content/Faces from around the world.mp4: 384x640 1 people, 12.6ms\n",
            "video 1/1 (frame 1501/3518) /content/Faces from around the world.mp4: 384x640 (no detections), 14.0ms\n",
            "video 1/1 (frame 1502/3518) /content/Faces from around the world.mp4: 384x640 (no detections), 10.4ms\n",
            "video 1/1 (frame 1503/3518) /content/Faces from around the world.mp4: 384x640 1 people, 10.4ms\n",
            "video 1/1 (frame 1504/3518) /content/Faces from around the world.mp4: 384x640 1 people, 12.0ms\n",
            "video 1/1 (frame 1505/3518) /content/Faces from around the world.mp4: 384x640 1 people, 14.6ms\n",
            "video 1/1 (frame 1506/3518) /content/Faces from around the world.mp4: 384x640 1 people, 10.1ms\n",
            "video 1/1 (frame 1507/3518) /content/Faces from around the world.mp4: 384x640 1 people, 13.2ms\n",
            "video 1/1 (frame 1508/3518) /content/Faces from around the world.mp4: 384x640 1 people, 12.1ms\n",
            "video 1/1 (frame 1509/3518) /content/Faces from around the world.mp4: 384x640 1 people, 10.8ms\n",
            "video 1/1 (frame 1510/3518) /content/Faces from around the world.mp4: 384x640 1 people, 13.1ms\n",
            "video 1/1 (frame 1511/3518) /content/Faces from around the world.mp4: 384x640 1 people, 10.9ms\n",
            "video 1/1 (frame 1512/3518) /content/Faces from around the world.mp4: 384x640 1 people, 10.7ms\n",
            "video 1/1 (frame 1513/3518) /content/Faces from around the world.mp4: 384x640 1 people, 12.3ms\n",
            "video 1/1 (frame 1514/3518) /content/Faces from around the world.mp4: 384x640 1 people, 10.4ms\n",
            "video 1/1 (frame 1515/3518) /content/Faces from around the world.mp4: 384x640 1 people, 10.2ms\n",
            "video 1/1 (frame 1516/3518) /content/Faces from around the world.mp4: 384x640 1 people, 12.4ms\n",
            "video 1/1 (frame 1517/3518) /content/Faces from around the world.mp4: 384x640 1 people, 10.4ms\n",
            "video 1/1 (frame 1518/3518) /content/Faces from around the world.mp4: 384x640 1 people, 10.4ms\n",
            "video 1/1 (frame 1519/3518) /content/Faces from around the world.mp4: 384x640 1 people, 11.4ms\n",
            "video 1/1 (frame 1520/3518) /content/Faces from around the world.mp4: 384x640 1 people, 10.0ms\n",
            "video 1/1 (frame 1521/3518) /content/Faces from around the world.mp4: 384x640 1 people, 14.2ms\n",
            "video 1/1 (frame 1522/3518) /content/Faces from around the world.mp4: 384x640 2 peoples, 19.1ms\n",
            "video 1/1 (frame 1523/3518) /content/Faces from around the world.mp4: 384x640 1 people, 10.7ms\n",
            "video 1/1 (frame 1524/3518) /content/Faces from around the world.mp4: 384x640 1 people, 11.7ms\n",
            "video 1/1 (frame 1525/3518) /content/Faces from around the world.mp4: 384x640 1 people, 10.6ms\n",
            "video 1/1 (frame 1526/3518) /content/Faces from around the world.mp4: 384x640 1 people, 12.4ms\n",
            "video 1/1 (frame 1527/3518) /content/Faces from around the world.mp4: 384x640 1 people, 12.9ms\n",
            "video 1/1 (frame 1528/3518) /content/Faces from around the world.mp4: 384x640 1 people, 13.7ms\n",
            "video 1/1 (frame 1529/3518) /content/Faces from around the world.mp4: 384x640 1 people, 12.9ms\n",
            "video 1/1 (frame 1530/3518) /content/Faces from around the world.mp4: 384x640 1 people, 10.8ms\n",
            "video 1/1 (frame 1531/3518) /content/Faces from around the world.mp4: 384x640 1 people, 11.0ms\n",
            "video 1/1 (frame 1532/3518) /content/Faces from around the world.mp4: 384x640 1 people, 10.5ms\n",
            "video 1/1 (frame 1533/3518) /content/Faces from around the world.mp4: 384x640 1 people, 12.3ms\n",
            "video 1/1 (frame 1534/3518) /content/Faces from around the world.mp4: 384x640 1 people, 10.7ms\n",
            "video 1/1 (frame 1535/3518) /content/Faces from around the world.mp4: 384x640 1 people, 10.4ms\n",
            "video 1/1 (frame 1536/3518) /content/Faces from around the world.mp4: 384x640 1 people, 11.5ms\n",
            "video 1/1 (frame 1537/3518) /content/Faces from around the world.mp4: 384x640 1 people, 12.5ms\n",
            "video 1/1 (frame 1538/3518) /content/Faces from around the world.mp4: 384x640 1 people, 15.9ms\n",
            "video 1/1 (frame 1539/3518) /content/Faces from around the world.mp4: 384x640 1 people, 12.2ms\n",
            "video 1/1 (frame 1540/3518) /content/Faces from around the world.mp4: 384x640 1 people, 11.1ms\n",
            "video 1/1 (frame 1541/3518) /content/Faces from around the world.mp4: 384x640 1 people, 11.9ms\n",
            "video 1/1 (frame 1542/3518) /content/Faces from around the world.mp4: 384x640 1 people, 10.7ms\n",
            "video 1/1 (frame 1543/3518) /content/Faces from around the world.mp4: 384x640 1 people, 11.6ms\n",
            "video 1/1 (frame 1544/3518) /content/Faces from around the world.mp4: 384x640 1 people, 11.0ms\n",
            "video 1/1 (frame 1545/3518) /content/Faces from around the world.mp4: 384x640 1 people, 11.2ms\n",
            "video 1/1 (frame 1546/3518) /content/Faces from around the world.mp4: 384x640 1 people, 10.5ms\n",
            "video 1/1 (frame 1547/3518) /content/Faces from around the world.mp4: 384x640 1 people, 12.7ms\n",
            "video 1/1 (frame 1548/3518) /content/Faces from around the world.mp4: 384x640 1 people, 11.1ms\n",
            "video 1/1 (frame 1549/3518) /content/Faces from around the world.mp4: 384x640 1 people, 14.1ms\n",
            "video 1/1 (frame 1550/3518) /content/Faces from around the world.mp4: 384x640 1 people, 12.1ms\n",
            "video 1/1 (frame 1551/3518) /content/Faces from around the world.mp4: 384x640 1 people, 14.1ms\n",
            "video 1/1 (frame 1552/3518) /content/Faces from around the world.mp4: 384x640 1 people, 10.3ms\n",
            "video 1/1 (frame 1553/3518) /content/Faces from around the world.mp4: 384x640 1 people, 13.5ms\n",
            "video 1/1 (frame 1554/3518) /content/Faces from around the world.mp4: 384x640 1 people, 9.9ms\n",
            "video 1/1 (frame 1555/3518) /content/Faces from around the world.mp4: 384x640 1 people, 12.9ms\n",
            "video 1/1 (frame 1556/3518) /content/Faces from around the world.mp4: 384x640 1 people, 9.9ms\n",
            "video 1/1 (frame 1557/3518) /content/Faces from around the world.mp4: 384x640 1 people, 10.7ms\n",
            "video 1/1 (frame 1558/3518) /content/Faces from around the world.mp4: 384x640 1 people, 10.3ms\n",
            "video 1/1 (frame 1559/3518) /content/Faces from around the world.mp4: 384x640 1 people, 10.7ms\n",
            "video 1/1 (frame 1560/3518) /content/Faces from around the world.mp4: 384x640 1 people, 10.8ms\n",
            "video 1/1 (frame 1561/3518) /content/Faces from around the world.mp4: 384x640 1 people, 11.4ms\n",
            "video 1/1 (frame 1562/3518) /content/Faces from around the world.mp4: 384x640 1 people, 11.0ms\n",
            "video 1/1 (frame 1563/3518) /content/Faces from around the world.mp4: 384x640 1 people, 12.6ms\n",
            "video 1/1 (frame 1564/3518) /content/Faces from around the world.mp4: 384x640 1 people, 13.5ms\n",
            "video 1/1 (frame 1565/3518) /content/Faces from around the world.mp4: 384x640 1 people, 21.4ms\n",
            "video 1/1 (frame 1566/3518) /content/Faces from around the world.mp4: 384x640 1 people, 12.4ms\n",
            "video 1/1 (frame 1567/3518) /content/Faces from around the world.mp4: 384x640 1 people, 11.1ms\n",
            "video 1/1 (frame 1568/3518) /content/Faces from around the world.mp4: 384x640 1 people, 11.6ms\n",
            "video 1/1 (frame 1569/3518) /content/Faces from around the world.mp4: 384x640 1 people, 10.7ms\n",
            "video 1/1 (frame 1570/3518) /content/Faces from around the world.mp4: 384x640 1 people, 12.2ms\n",
            "video 1/1 (frame 1571/3518) /content/Faces from around the world.mp4: 384x640 1 people, 10.9ms\n",
            "video 1/1 (frame 1572/3518) /content/Faces from around the world.mp4: 384x640 (no detections), 10.6ms\n",
            "video 1/1 (frame 1573/3518) /content/Faces from around the world.mp4: 384x640 (no detections), 12.9ms\n",
            "video 1/1 (frame 1574/3518) /content/Faces from around the world.mp4: 384x640 (no detections), 10.2ms\n",
            "video 1/1 (frame 1575/3518) /content/Faces from around the world.mp4: 384x640 (no detections), 11.3ms\n",
            "video 1/1 (frame 1576/3518) /content/Faces from around the world.mp4: 384x640 (no detections), 11.6ms\n",
            "video 1/1 (frame 1577/3518) /content/Faces from around the world.mp4: 384x640 (no detections), 10.6ms\n",
            "video 1/1 (frame 1578/3518) /content/Faces from around the world.mp4: 384x640 (no detections), 12.2ms\n",
            "video 1/1 (frame 1579/3518) /content/Faces from around the world.mp4: 384x640 (no detections), 10.4ms\n",
            "video 1/1 (frame 1580/3518) /content/Faces from around the world.mp4: 384x640 (no detections), 10.6ms\n",
            "video 1/1 (frame 1581/3518) /content/Faces from around the world.mp4: 384x640 (no detections), 13.1ms\n",
            "video 1/1 (frame 1582/3518) /content/Faces from around the world.mp4: 384x640 (no detections), 13.6ms\n",
            "video 1/1 (frame 1583/3518) /content/Faces from around the world.mp4: 384x640 1 people, 12.7ms\n",
            "video 1/1 (frame 1584/3518) /content/Faces from around the world.mp4: 384x640 1 people, 11.8ms\n",
            "video 1/1 (frame 1585/3518) /content/Faces from around the world.mp4: 384x640 1 people, 13.6ms\n",
            "video 1/1 (frame 1586/3518) /content/Faces from around the world.mp4: 384x640 1 people, 10.1ms\n",
            "video 1/1 (frame 1587/3518) /content/Faces from around the world.mp4: 384x640 1 people, 14.3ms\n",
            "video 1/1 (frame 1588/3518) /content/Faces from around the world.mp4: 384x640 1 people, 11.4ms\n",
            "video 1/1 (frame 1589/3518) /content/Faces from around the world.mp4: 384x640 1 people, 12.8ms\n",
            "video 1/1 (frame 1590/3518) /content/Faces from around the world.mp4: 384x640 1 people, 12.9ms\n",
            "video 1/1 (frame 1591/3518) /content/Faces from around the world.mp4: 384x640 1 people, 12.1ms\n",
            "video 1/1 (frame 1592/3518) /content/Faces from around the world.mp4: 384x640 1 people, 11.5ms\n",
            "video 1/1 (frame 1593/3518) /content/Faces from around the world.mp4: 384x640 1 people, 11.7ms\n",
            "video 1/1 (frame 1594/3518) /content/Faces from around the world.mp4: 384x640 1 people, 10.3ms\n",
            "video 1/1 (frame 1595/3518) /content/Faces from around the world.mp4: 384x640 1 people, 12.6ms\n",
            "video 1/1 (frame 1596/3518) /content/Faces from around the world.mp4: 384x640 1 people, 11.7ms\n",
            "video 1/1 (frame 1597/3518) /content/Faces from around the world.mp4: 384x640 1 people, 25.0ms\n",
            "video 1/1 (frame 1598/3518) /content/Faces from around the world.mp4: 384x640 1 people, 16.6ms\n",
            "video 1/1 (frame 1599/3518) /content/Faces from around the world.mp4: 384x640 1 people, 16.9ms\n",
            "video 1/1 (frame 1600/3518) /content/Faces from around the world.mp4: 384x640 1 people, 15.3ms\n",
            "video 1/1 (frame 1601/3518) /content/Faces from around the world.mp4: 384x640 1 people, 18.5ms\n",
            "video 1/1 (frame 1602/3518) /content/Faces from around the world.mp4: 384x640 1 people, 21.7ms\n",
            "video 1/1 (frame 1603/3518) /content/Faces from around the world.mp4: 384x640 1 people, 19.0ms\n",
            "video 1/1 (frame 1604/3518) /content/Faces from around the world.mp4: 384x640 1 people, 16.6ms\n",
            "video 1/1 (frame 1605/3518) /content/Faces from around the world.mp4: 384x640 1 people, 16.8ms\n",
            "video 1/1 (frame 1606/3518) /content/Faces from around the world.mp4: 384x640 1 people, 25.3ms\n",
            "video 1/1 (frame 1607/3518) /content/Faces from around the world.mp4: 384x640 1 people, 24.4ms\n",
            "video 1/1 (frame 1608/3518) /content/Faces from around the world.mp4: 384x640 1 people, 20.2ms\n",
            "video 1/1 (frame 1609/3518) /content/Faces from around the world.mp4: 384x640 1 people, 17.0ms\n",
            "video 1/1 (frame 1610/3518) /content/Faces from around the world.mp4: 384x640 1 people, 19.5ms\n",
            "video 1/1 (frame 1611/3518) /content/Faces from around the world.mp4: 384x640 1 people, 14.2ms\n",
            "video 1/1 (frame 1612/3518) /content/Faces from around the world.mp4: 384x640 1 people, 14.9ms\n",
            "video 1/1 (frame 1613/3518) /content/Faces from around the world.mp4: 384x640 1 people, 14.3ms\n",
            "video 1/1 (frame 1614/3518) /content/Faces from around the world.mp4: 384x640 1 people, 15.1ms\n",
            "video 1/1 (frame 1615/3518) /content/Faces from around the world.mp4: 384x640 1 people, 14.7ms\n",
            "video 1/1 (frame 1616/3518) /content/Faces from around the world.mp4: 384x640 1 people, 12.2ms\n",
            "video 1/1 (frame 1617/3518) /content/Faces from around the world.mp4: 384x640 1 people, 17.7ms\n",
            "video 1/1 (frame 1618/3518) /content/Faces from around the world.mp4: 384x640 1 people, 13.2ms\n",
            "video 1/1 (frame 1619/3518) /content/Faces from around the world.mp4: 384x640 1 people, 19.1ms\n",
            "video 1/1 (frame 1620/3518) /content/Faces from around the world.mp4: 384x640 1 people, 14.3ms\n",
            "video 1/1 (frame 1621/3518) /content/Faces from around the world.mp4: 384x640 1 people, 13.8ms\n",
            "video 1/1 (frame 1622/3518) /content/Faces from around the world.mp4: 384x640 1 people, 14.2ms\n",
            "video 1/1 (frame 1623/3518) /content/Faces from around the world.mp4: 384x640 1 people, 13.7ms\n",
            "video 1/1 (frame 1624/3518) /content/Faces from around the world.mp4: 384x640 1 people, 12.9ms\n",
            "video 1/1 (frame 1625/3518) /content/Faces from around the world.mp4: 384x640 1 people, 13.8ms\n",
            "video 1/1 (frame 1626/3518) /content/Faces from around the world.mp4: 384x640 1 people, 13.4ms\n",
            "video 1/1 (frame 1627/3518) /content/Faces from around the world.mp4: 384x640 1 people, 16.4ms\n",
            "video 1/1 (frame 1628/3518) /content/Faces from around the world.mp4: 384x640 1 people, 20.0ms\n",
            "video 1/1 (frame 1629/3518) /content/Faces from around the world.mp4: 384x640 1 people, 14.4ms\n",
            "video 1/1 (frame 1630/3518) /content/Faces from around the world.mp4: 384x640 1 people, 18.1ms\n",
            "video 1/1 (frame 1631/3518) /content/Faces from around the world.mp4: 384x640 1 people, 14.6ms\n",
            "video 1/1 (frame 1632/3518) /content/Faces from around the world.mp4: 384x640 1 people, 16.2ms\n",
            "video 1/1 (frame 1633/3518) /content/Faces from around the world.mp4: 384x640 1 people, 16.5ms\n",
            "video 1/1 (frame 1634/3518) /content/Faces from around the world.mp4: 384x640 1 people, 18.1ms\n",
            "video 1/1 (frame 1635/3518) /content/Faces from around the world.mp4: 384x640 1 people, 13.2ms\n",
            "video 1/1 (frame 1636/3518) /content/Faces from around the world.mp4: 384x640 1 people, 19.8ms\n",
            "video 1/1 (frame 1637/3518) /content/Faces from around the world.mp4: 384x640 1 people, 16.3ms\n",
            "video 1/1 (frame 1638/3518) /content/Faces from around the world.mp4: 384x640 1 people, 13.8ms\n",
            "video 1/1 (frame 1639/3518) /content/Faces from around the world.mp4: 384x640 1 people, 17.5ms\n",
            "video 1/1 (frame 1640/3518) /content/Faces from around the world.mp4: 384x640 1 people, 13.8ms\n",
            "video 1/1 (frame 1641/3518) /content/Faces from around the world.mp4: 384x640 1 people, 17.4ms\n",
            "video 1/1 (frame 1642/3518) /content/Faces from around the world.mp4: 384x640 1 people, 15.7ms\n",
            "video 1/1 (frame 1643/3518) /content/Faces from around the world.mp4: 384x640 1 people, 13.5ms\n",
            "video 1/1 (frame 1644/3518) /content/Faces from around the world.mp4: 384x640 1 people, 16.6ms\n",
            "video 1/1 (frame 1645/3518) /content/Faces from around the world.mp4: 384x640 1 people, 13.6ms\n",
            "video 1/1 (frame 1646/3518) /content/Faces from around the world.mp4: 384x640 1 people, 13.6ms\n",
            "video 1/1 (frame 1647/3518) /content/Faces from around the world.mp4: 384x640 1 people, 16.0ms\n",
            "video 1/1 (frame 1648/3518) /content/Faces from around the world.mp4: 384x640 1 people, 15.2ms\n",
            "video 1/1 (frame 1649/3518) /content/Faces from around the world.mp4: 384x640 1 people, 13.1ms\n",
            "video 1/1 (frame 1650/3518) /content/Faces from around the world.mp4: 384x640 1 people, 12.8ms\n",
            "video 1/1 (frame 1651/3518) /content/Faces from around the world.mp4: 384x640 1 people, 13.8ms\n",
            "video 1/1 (frame 1652/3518) /content/Faces from around the world.mp4: 384x640 1 people, 14.0ms\n",
            "video 1/1 (frame 1653/3518) /content/Faces from around the world.mp4: 384x640 1 people, 13.5ms\n",
            "video 1/1 (frame 1654/3518) /content/Faces from around the world.mp4: 384x640 1 people, 14.6ms\n",
            "video 1/1 (frame 1655/3518) /content/Faces from around the world.mp4: 384x640 1 people, 21.8ms\n",
            "video 1/1 (frame 1656/3518) /content/Faces from around the world.mp4: 384x640 1 people, 20.1ms\n",
            "video 1/1 (frame 1657/3518) /content/Faces from around the world.mp4: 384x640 1 people, 15.5ms\n",
            "video 1/1 (frame 1658/3518) /content/Faces from around the world.mp4: 384x640 1 people, 18.6ms\n",
            "video 1/1 (frame 1659/3518) /content/Faces from around the world.mp4: 384x640 1 people, 17.2ms\n",
            "video 1/1 (frame 1660/3518) /content/Faces from around the world.mp4: 384x640 1 people, 17.1ms\n",
            "video 1/1 (frame 1661/3518) /content/Faces from around the world.mp4: 384x640 1 people, 17.4ms\n",
            "video 1/1 (frame 1662/3518) /content/Faces from around the world.mp4: 384x640 1 people, 14.3ms\n",
            "video 1/1 (frame 1663/3518) /content/Faces from around the world.mp4: 384x640 1 people, 16.1ms\n",
            "video 1/1 (frame 1664/3518) /content/Faces from around the world.mp4: 384x640 1 people, 14.2ms\n",
            "video 1/1 (frame 1665/3518) /content/Faces from around the world.mp4: 384x640 1 people, 15.1ms\n",
            "video 1/1 (frame 1666/3518) /content/Faces from around the world.mp4: 384x640 1 people, 13.9ms\n",
            "video 1/1 (frame 1667/3518) /content/Faces from around the world.mp4: 384x640 1 people, 17.1ms\n",
            "video 1/1 (frame 1668/3518) /content/Faces from around the world.mp4: 384x640 1 people, 14.5ms\n",
            "video 1/1 (frame 1669/3518) /content/Faces from around the world.mp4: 384x640 1 people, 22.9ms\n",
            "video 1/1 (frame 1670/3518) /content/Faces from around the world.mp4: 384x640 1 people, 17.5ms\n",
            "video 1/1 (frame 1671/3518) /content/Faces from around the world.mp4: 384x640 1 people, 20.3ms\n",
            "video 1/1 (frame 1672/3518) /content/Faces from around the world.mp4: 384x640 1 people, 21.4ms\n",
            "video 1/1 (frame 1673/3518) /content/Faces from around the world.mp4: 384x640 1 people, 13.2ms\n",
            "video 1/1 (frame 1674/3518) /content/Faces from around the world.mp4: 384x640 1 people, 25.6ms\n",
            "video 1/1 (frame 1675/3518) /content/Faces from around the world.mp4: 384x640 1 people, 25.8ms\n",
            "video 1/1 (frame 1676/3518) /content/Faces from around the world.mp4: 384x640 1 people, 16.7ms\n",
            "video 1/1 (frame 1677/3518) /content/Faces from around the world.mp4: 384x640 1 people, 19.3ms\n",
            "video 1/1 (frame 1678/3518) /content/Faces from around the world.mp4: 384x640 1 people, 21.5ms\n",
            "video 1/1 (frame 1679/3518) /content/Faces from around the world.mp4: 384x640 1 people, 20.3ms\n",
            "video 1/1 (frame 1680/3518) /content/Faces from around the world.mp4: 384x640 1 people, 18.6ms\n",
            "video 1/1 (frame 1681/3518) /content/Faces from around the world.mp4: 384x640 1 people, 18.4ms\n",
            "video 1/1 (frame 1682/3518) /content/Faces from around the world.mp4: 384x640 1 people, 20.0ms\n",
            "video 1/1 (frame 1683/3518) /content/Faces from around the world.mp4: 384x640 1 people, 12.2ms\n",
            "video 1/1 (frame 1684/3518) /content/Faces from around the world.mp4: 384x640 1 people, 12.3ms\n",
            "video 1/1 (frame 1685/3518) /content/Faces from around the world.mp4: 384x640 1 people, 12.4ms\n",
            "video 1/1 (frame 1686/3518) /content/Faces from around the world.mp4: 384x640 1 people, 11.5ms\n",
            "video 1/1 (frame 1687/3518) /content/Faces from around the world.mp4: 384x640 1 people, 12.0ms\n",
            "video 1/1 (frame 1688/3518) /content/Faces from around the world.mp4: 384x640 1 people, 12.4ms\n",
            "video 1/1 (frame 1689/3518) /content/Faces from around the world.mp4: 384x640 1 people, 13.0ms\n",
            "video 1/1 (frame 1690/3518) /content/Faces from around the world.mp4: 384x640 1 people, 10.3ms\n",
            "video 1/1 (frame 1691/3518) /content/Faces from around the world.mp4: 384x640 1 people, 12.5ms\n",
            "video 1/1 (frame 1692/3518) /content/Faces from around the world.mp4: 384x640 1 people, 12.0ms\n",
            "video 1/1 (frame 1693/3518) /content/Faces from around the world.mp4: 384x640 1 people, 11.5ms\n",
            "video 1/1 (frame 1694/3518) /content/Faces from around the world.mp4: 384x640 1 people, 10.5ms\n",
            "video 1/1 (frame 1695/3518) /content/Faces from around the world.mp4: 384x640 1 people, 12.0ms\n",
            "video 1/1 (frame 1696/3518) /content/Faces from around the world.mp4: 384x640 1 people, 10.8ms\n",
            "video 1/1 (frame 1697/3518) /content/Faces from around the world.mp4: 384x640 1 people, 11.3ms\n",
            "video 1/1 (frame 1698/3518) /content/Faces from around the world.mp4: 384x640 1 people, 12.9ms\n",
            "video 1/1 (frame 1699/3518) /content/Faces from around the world.mp4: 384x640 1 people, 13.2ms\n",
            "video 1/1 (frame 1700/3518) /content/Faces from around the world.mp4: 384x640 1 people, 12.6ms\n",
            "video 1/1 (frame 1701/3518) /content/Faces from around the world.mp4: 384x640 1 people, 12.9ms\n",
            "video 1/1 (frame 1702/3518) /content/Faces from around the world.mp4: 384x640 1 people, 13.5ms\n",
            "video 1/1 (frame 1703/3518) /content/Faces from around the world.mp4: 384x640 1 people, 14.4ms\n",
            "video 1/1 (frame 1704/3518) /content/Faces from around the world.mp4: 384x640 1 people, 13.2ms\n",
            "video 1/1 (frame 1705/3518) /content/Faces from around the world.mp4: 384x640 1 people, 12.5ms\n",
            "video 1/1 (frame 1706/3518) /content/Faces from around the world.mp4: 384x640 1 people, 12.7ms\n",
            "video 1/1 (frame 1707/3518) /content/Faces from around the world.mp4: 384x640 1 people, 13.9ms\n",
            "video 1/1 (frame 1708/3518) /content/Faces from around the world.mp4: 384x640 1 people, 12.4ms\n",
            "video 1/1 (frame 1709/3518) /content/Faces from around the world.mp4: 384x640 1 people, 12.6ms\n",
            "video 1/1 (frame 1710/3518) /content/Faces from around the world.mp4: 384x640 1 people, 13.1ms\n",
            "video 1/1 (frame 1711/3518) /content/Faces from around the world.mp4: 384x640 1 people, 14.5ms\n",
            "video 1/1 (frame 1712/3518) /content/Faces from around the world.mp4: 384x640 1 people, 11.8ms\n",
            "video 1/1 (frame 1713/3518) /content/Faces from around the world.mp4: 384x640 1 people, 12.6ms\n",
            "video 1/1 (frame 1714/3518) /content/Faces from around the world.mp4: 384x640 1 people, 19.4ms\n",
            "video 1/1 (frame 1715/3518) /content/Faces from around the world.mp4: 384x640 1 people, 12.6ms\n",
            "video 1/1 (frame 1716/3518) /content/Faces from around the world.mp4: 384x640 1 people, 12.9ms\n",
            "video 1/1 (frame 1717/3518) /content/Faces from around the world.mp4: 384x640 1 people, 12.9ms\n",
            "video 1/1 (frame 1718/3518) /content/Faces from around the world.mp4: 384x640 1 people, 13.8ms\n",
            "video 1/1 (frame 1719/3518) /content/Faces from around the world.mp4: 384x640 1 people, 11.2ms\n",
            "video 1/1 (frame 1720/3518) /content/Faces from around the world.mp4: 384x640 1 people, 16.3ms\n",
            "video 1/1 (frame 1721/3518) /content/Faces from around the world.mp4: 384x640 1 people, 10.7ms\n",
            "video 1/1 (frame 1722/3518) /content/Faces from around the world.mp4: 384x640 1 people, 14.7ms\n",
            "video 1/1 (frame 1723/3518) /content/Faces from around the world.mp4: 384x640 1 people, 12.3ms\n",
            "video 1/1 (frame 1724/3518) /content/Faces from around the world.mp4: 384x640 1 people, 10.7ms\n",
            "video 1/1 (frame 1725/3518) /content/Faces from around the world.mp4: 384x640 1 people, 12.8ms\n",
            "video 1/1 (frame 1726/3518) /content/Faces from around the world.mp4: 384x640 1 people, 11.8ms\n",
            "video 1/1 (frame 1727/3518) /content/Faces from around the world.mp4: 384x640 1 people, 12.5ms\n",
            "video 1/1 (frame 1728/3518) /content/Faces from around the world.mp4: 384x640 1 people, 12.4ms\n",
            "video 1/1 (frame 1729/3518) /content/Faces from around the world.mp4: 384x640 1 people, 13.0ms\n",
            "video 1/1 (frame 1730/3518) /content/Faces from around the world.mp4: 384x640 1 people, 14.2ms\n",
            "video 1/1 (frame 1731/3518) /content/Faces from around the world.mp4: 384x640 1 people, 12.9ms\n",
            "video 1/1 (frame 1732/3518) /content/Faces from around the world.mp4: 384x640 1 people, 12.8ms\n",
            "video 1/1 (frame 1733/3518) /content/Faces from around the world.mp4: 384x640 1 people, 14.0ms\n",
            "video 1/1 (frame 1734/3518) /content/Faces from around the world.mp4: 384x640 1 people, 12.7ms\n",
            "video 1/1 (frame 1735/3518) /content/Faces from around the world.mp4: 384x640 1 people, 12.9ms\n",
            "video 1/1 (frame 1736/3518) /content/Faces from around the world.mp4: 384x640 1 people, 11.3ms\n",
            "video 1/1 (frame 1737/3518) /content/Faces from around the world.mp4: 384x640 1 people, 11.4ms\n",
            "video 1/1 (frame 1738/3518) /content/Faces from around the world.mp4: 384x640 1 people, 11.5ms\n",
            "video 1/1 (frame 1739/3518) /content/Faces from around the world.mp4: 384x640 (no detections), 12.6ms\n",
            "video 1/1 (frame 1740/3518) /content/Faces from around the world.mp4: 384x640 (no detections), 11.2ms\n",
            "video 1/1 (frame 1741/3518) /content/Faces from around the world.mp4: 384x640 (no detections), 11.8ms\n",
            "video 1/1 (frame 1742/3518) /content/Faces from around the world.mp4: 384x640 (no detections), 11.6ms\n",
            "video 1/1 (frame 1743/3518) /content/Faces from around the world.mp4: 384x640 (no detections), 13.3ms\n",
            "video 1/1 (frame 1744/3518) /content/Faces from around the world.mp4: 384x640 (no detections), 12.1ms\n",
            "video 1/1 (frame 1745/3518) /content/Faces from around the world.mp4: 384x640 (no detections), 13.9ms\n",
            "video 1/1 (frame 1746/3518) /content/Faces from around the world.mp4: 384x640 (no detections), 11.6ms\n",
            "video 1/1 (frame 1747/3518) /content/Faces from around the world.mp4: 384x640 (no detections), 12.5ms\n",
            "video 1/1 (frame 1748/3518) /content/Faces from around the world.mp4: 384x640 (no detections), 11.2ms\n",
            "video 1/1 (frame 1749/3518) /content/Faces from around the world.mp4: 384x640 (no detections), 14.5ms\n",
            "video 1/1 (frame 1750/3518) /content/Faces from around the world.mp4: 384x640 (no detections), 11.1ms\n",
            "video 1/1 (frame 1751/3518) /content/Faces from around the world.mp4: 384x640 (no detections), 12.7ms\n",
            "video 1/1 (frame 1752/3518) /content/Faces from around the world.mp4: 384x640 (no detections), 11.0ms\n",
            "video 1/1 (frame 1753/3518) /content/Faces from around the world.mp4: 384x640 (no detections), 11.0ms\n",
            "video 1/1 (frame 1754/3518) /content/Faces from around the world.mp4: 384x640 (no detections), 12.4ms\n",
            "video 1/1 (frame 1755/3518) /content/Faces from around the world.mp4: 384x640 (no detections), 12.6ms\n",
            "video 1/1 (frame 1756/3518) /content/Faces from around the world.mp4: 384x640 (no detections), 13.0ms\n",
            "video 1/1 (frame 1757/3518) /content/Faces from around the world.mp4: 384x640 (no detections), 11.4ms\n",
            "video 1/1 (frame 1758/3518) /content/Faces from around the world.mp4: 384x640 (no detections), 13.0ms\n",
            "video 1/1 (frame 1759/3518) /content/Faces from around the world.mp4: 384x640 (no detections), 11.4ms\n",
            "video 1/1 (frame 1760/3518) /content/Faces from around the world.mp4: 384x640 (no detections), 19.0ms\n",
            "video 1/1 (frame 1761/3518) /content/Faces from around the world.mp4: 384x640 (no detections), 15.2ms\n",
            "video 1/1 (frame 1762/3518) /content/Faces from around the world.mp4: 384x640 (no detections), 12.9ms\n",
            "video 1/1 (frame 1763/3518) /content/Faces from around the world.mp4: 384x640 1 people, 13.6ms\n",
            "video 1/1 (frame 1764/3518) /content/Faces from around the world.mp4: 384x640 1 people, 11.3ms\n",
            "video 1/1 (frame 1765/3518) /content/Faces from around the world.mp4: 384x640 1 people, 11.9ms\n",
            "video 1/1 (frame 1766/3518) /content/Faces from around the world.mp4: 384x640 1 people, 13.1ms\n",
            "video 1/1 (frame 1767/3518) /content/Faces from around the world.mp4: 384x640 2 peoples, 11.5ms\n",
            "video 1/1 (frame 1768/3518) /content/Faces from around the world.mp4: 384x640 2 peoples, 11.9ms\n",
            "video 1/1 (frame 1769/3518) /content/Faces from around the world.mp4: 384x640 2 peoples, 11.4ms\n",
            "video 1/1 (frame 1770/3518) /content/Faces from around the world.mp4: 384x640 2 peoples, 11.8ms\n",
            "video 1/1 (frame 1771/3518) /content/Faces from around the world.mp4: 384x640 1 people, 14.5ms\n",
            "video 1/1 (frame 1772/3518) /content/Faces from around the world.mp4: 384x640 1 people, 12.0ms\n",
            "video 1/1 (frame 1773/3518) /content/Faces from around the world.mp4: 384x640 2 peoples, 12.5ms\n",
            "video 1/1 (frame 1774/3518) /content/Faces from around the world.mp4: 384x640 2 peoples, 10.6ms\n",
            "video 1/1 (frame 1775/3518) /content/Faces from around the world.mp4: 384x640 1 people, 11.8ms\n",
            "video 1/1 (frame 1776/3518) /content/Faces from around the world.mp4: 384x640 1 people, 12.5ms\n",
            "video 1/1 (frame 1777/3518) /content/Faces from around the world.mp4: 384x640 1 people, 13.0ms\n",
            "video 1/1 (frame 1778/3518) /content/Faces from around the world.mp4: 384x640 2 peoples, 10.6ms\n",
            "video 1/1 (frame 1779/3518) /content/Faces from around the world.mp4: 384x640 1 people, 11.9ms\n",
            "video 1/1 (frame 1780/3518) /content/Faces from around the world.mp4: 384x640 1 people, 10.9ms\n",
            "video 1/1 (frame 1781/3518) /content/Faces from around the world.mp4: 384x640 1 people, 12.7ms\n",
            "video 1/1 (frame 1782/3518) /content/Faces from around the world.mp4: 384x640 1 people, 10.7ms\n",
            "video 1/1 (frame 1783/3518) /content/Faces from around the world.mp4: 384x640 2 peoples, 12.4ms\n",
            "video 1/1 (frame 1784/3518) /content/Faces from around the world.mp4: 384x640 2 peoples, 13.9ms\n",
            "video 1/1 (frame 1785/3518) /content/Faces from around the world.mp4: 384x640 2 peoples, 10.8ms\n",
            "video 1/1 (frame 1786/3518) /content/Faces from around the world.mp4: 384x640 1 people, 13.7ms\n",
            "video 1/1 (frame 1787/3518) /content/Faces from around the world.mp4: 384x640 1 people, 10.5ms\n",
            "video 1/1 (frame 1788/3518) /content/Faces from around the world.mp4: 384x640 1 people, 14.1ms\n",
            "video 1/1 (frame 1789/3518) /content/Faces from around the world.mp4: 384x640 1 people, 12.0ms\n",
            "video 1/1 (frame 1790/3518) /content/Faces from around the world.mp4: 384x640 2 peoples, 12.4ms\n",
            "video 1/1 (frame 1791/3518) /content/Faces from around the world.mp4: 384x640 1 people, 13.1ms\n",
            "video 1/1 (frame 1792/3518) /content/Faces from around the world.mp4: 384x640 1 people, 10.8ms\n",
            "video 1/1 (frame 1793/3518) /content/Faces from around the world.mp4: 384x640 1 people, 17.8ms\n",
            "video 1/1 (frame 1794/3518) /content/Faces from around the world.mp4: 384x640 1 people, 15.4ms\n",
            "video 1/1 (frame 1795/3518) /content/Faces from around the world.mp4: 384x640 1 people, 18.8ms\n",
            "video 1/1 (frame 1796/3518) /content/Faces from around the world.mp4: 384x640 1 people, 19.1ms\n",
            "video 1/1 (frame 1797/3518) /content/Faces from around the world.mp4: 384x640 1 people, 13.8ms\n",
            "video 1/1 (frame 1798/3518) /content/Faces from around the world.mp4: 384x640 1 people, 11.6ms\n",
            "video 1/1 (frame 1799/3518) /content/Faces from around the world.mp4: 384x640 1 people, 13.9ms\n",
            "video 1/1 (frame 1800/3518) /content/Faces from around the world.mp4: 384x640 1 people, 12.1ms\n",
            "video 1/1 (frame 1801/3518) /content/Faces from around the world.mp4: 384x640 1 people, 12.9ms\n",
            "video 1/1 (frame 1802/3518) /content/Faces from around the world.mp4: 384x640 1 people, 22.1ms\n",
            "video 1/1 (frame 1803/3518) /content/Faces from around the world.mp4: 384x640 1 people, 13.7ms\n",
            "video 1/1 (frame 1804/3518) /content/Faces from around the world.mp4: 384x640 1 people, 11.4ms\n",
            "video 1/1 (frame 1805/3518) /content/Faces from around the world.mp4: 384x640 1 people, 12.0ms\n",
            "video 1/1 (frame 1806/3518) /content/Faces from around the world.mp4: 384x640 1 people, 10.7ms\n",
            "video 1/1 (frame 1807/3518) /content/Faces from around the world.mp4: 384x640 1 people, 12.2ms\n",
            "video 1/1 (frame 1808/3518) /content/Faces from around the world.mp4: 384x640 1 people, 14.9ms\n",
            "video 1/1 (frame 1809/3518) /content/Faces from around the world.mp4: 384x640 1 people, 13.2ms\n",
            "video 1/1 (frame 1810/3518) /content/Faces from around the world.mp4: 384x640 1 people, 11.5ms\n",
            "video 1/1 (frame 1811/3518) /content/Faces from around the world.mp4: 384x640 1 people, 12.4ms\n",
            "video 1/1 (frame 1812/3518) /content/Faces from around the world.mp4: 384x640 1 people, 11.6ms\n",
            "video 1/1 (frame 1813/3518) /content/Faces from around the world.mp4: 384x640 1 people, 12.1ms\n",
            "video 1/1 (frame 1814/3518) /content/Faces from around the world.mp4: 384x640 1 people, 12.2ms\n",
            "video 1/1 (frame 1815/3518) /content/Faces from around the world.mp4: 384x640 1 people, 14.1ms\n",
            "video 1/1 (frame 1816/3518) /content/Faces from around the world.mp4: 384x640 2 peoples, 13.1ms\n",
            "video 1/1 (frame 1817/3518) /content/Faces from around the world.mp4: 384x640 2 peoples, 12.4ms\n",
            "video 1/1 (frame 1818/3518) /content/Faces from around the world.mp4: 384x640 2 peoples, 13.4ms\n",
            "video 1/1 (frame 1819/3518) /content/Faces from around the world.mp4: 384x640 1 people, 14.5ms\n",
            "video 1/1 (frame 1820/3518) /content/Faces from around the world.mp4: 384x640 1 people, 11.8ms\n",
            "video 1/1 (frame 1821/3518) /content/Faces from around the world.mp4: 384x640 1 people, 12.3ms\n",
            "video 1/1 (frame 1822/3518) /content/Faces from around the world.mp4: 384x640 1 people, 10.0ms\n",
            "video 1/1 (frame 1823/3518) /content/Faces from around the world.mp4: 384x640 1 people, 12.2ms\n",
            "video 1/1 (frame 1824/3518) /content/Faces from around the world.mp4: 384x640 1 people, 11.5ms\n",
            "video 1/1 (frame 1825/3518) /content/Faces from around the world.mp4: 384x640 1 people, 12.3ms\n",
            "video 1/1 (frame 1826/3518) /content/Faces from around the world.mp4: 384x640 1 people, 11.3ms\n",
            "video 1/1 (frame 1827/3518) /content/Faces from around the world.mp4: 384x640 1 people, 11.8ms\n",
            "video 1/1 (frame 1828/3518) /content/Faces from around the world.mp4: 384x640 1 people, 10.9ms\n",
            "video 1/1 (frame 1829/3518) /content/Faces from around the world.mp4: 384x640 1 people, 13.5ms\n",
            "video 1/1 (frame 1830/3518) /content/Faces from around the world.mp4: 384x640 1 people, 13.1ms\n",
            "video 1/1 (frame 1831/3518) /content/Faces from around the world.mp4: 384x640 1 people, 10.7ms\n",
            "video 1/1 (frame 1832/3518) /content/Faces from around the world.mp4: 384x640 1 people, 10.5ms\n",
            "video 1/1 (frame 1833/3518) /content/Faces from around the world.mp4: 384x640 1 people, 10.3ms\n",
            "video 1/1 (frame 1834/3518) /content/Faces from around the world.mp4: 384x640 2 peoples, 11.5ms\n",
            "video 1/1 (frame 1835/3518) /content/Faces from around the world.mp4: 384x640 2 peoples, 11.3ms\n",
            "video 1/1 (frame 1836/3518) /content/Faces from around the world.mp4: 384x640 2 peoples, 10.7ms\n",
            "video 1/1 (frame 1837/3518) /content/Faces from around the world.mp4: 384x640 2 peoples, 11.8ms\n",
            "video 1/1 (frame 1838/3518) /content/Faces from around the world.mp4: 384x640 2 peoples, 12.6ms\n",
            "video 1/1 (frame 1839/3518) /content/Faces from around the world.mp4: 384x640 2 peoples, 11.1ms\n",
            "video 1/1 (frame 1840/3518) /content/Faces from around the world.mp4: 384x640 2 peoples, 12.2ms\n",
            "video 1/1 (frame 1841/3518) /content/Faces from around the world.mp4: 384x640 2 peoples, 12.8ms\n",
            "video 1/1 (frame 1842/3518) /content/Faces from around the world.mp4: 384x640 2 peoples, 11.4ms\n",
            "video 1/1 (frame 1843/3518) /content/Faces from around the world.mp4: 384x640 2 peoples, 11.2ms\n",
            "video 1/1 (frame 1844/3518) /content/Faces from around the world.mp4: 384x640 2 peoples, 12.4ms\n",
            "video 1/1 (frame 1845/3518) /content/Faces from around the world.mp4: 384x640 2 peoples, 19.7ms\n",
            "video 1/1 (frame 1846/3518) /content/Faces from around the world.mp4: 384x640 2 peoples, 12.0ms\n",
            "video 1/1 (frame 1847/3518) /content/Faces from around the world.mp4: 384x640 2 peoples, 12.5ms\n",
            "video 1/1 (frame 1848/3518) /content/Faces from around the world.mp4: 384x640 2 peoples, 16.2ms\n",
            "video 1/1 (frame 1849/3518) /content/Faces from around the world.mp4: 384x640 2 peoples, 13.1ms\n",
            "video 1/1 (frame 1850/3518) /content/Faces from around the world.mp4: 384x640 2 peoples, 15.2ms\n",
            "video 1/1 (frame 1851/3518) /content/Faces from around the world.mp4: 384x640 2 peoples, 15.5ms\n",
            "video 1/1 (frame 1852/3518) /content/Faces from around the world.mp4: 384x640 2 peoples, 12.4ms\n",
            "video 1/1 (frame 1853/3518) /content/Faces from around the world.mp4: 384x640 2 peoples, 10.6ms\n",
            "video 1/1 (frame 1854/3518) /content/Faces from around the world.mp4: 384x640 2 peoples, 12.5ms\n",
            "video 1/1 (frame 1855/3518) /content/Faces from around the world.mp4: 384x640 1 people, 10.8ms\n",
            "video 1/1 (frame 1856/3518) /content/Faces from around the world.mp4: 384x640 2 peoples, 12.0ms\n",
            "video 1/1 (frame 1857/3518) /content/Faces from around the world.mp4: 384x640 2 peoples, 10.5ms\n",
            "video 1/1 (frame 1858/3518) /content/Faces from around the world.mp4: 384x640 2 peoples, 11.0ms\n",
            "video 1/1 (frame 1859/3518) /content/Faces from around the world.mp4: 384x640 2 peoples, 13.6ms\n",
            "video 1/1 (frame 1860/3518) /content/Faces from around the world.mp4: 384x640 2 peoples, 10.9ms\n",
            "video 1/1 (frame 1861/3518) /content/Faces from around the world.mp4: 384x640 2 peoples, 13.3ms\n",
            "video 1/1 (frame 1862/3518) /content/Faces from around the world.mp4: 384x640 2 peoples, 10.4ms\n",
            "video 1/1 (frame 1863/3518) /content/Faces from around the world.mp4: 384x640 2 peoples, 11.9ms\n",
            "video 1/1 (frame 1864/3518) /content/Faces from around the world.mp4: 384x640 2 peoples, 10.6ms\n",
            "video 1/1 (frame 1865/3518) /content/Faces from around the world.mp4: 384x640 2 peoples, 11.2ms\n",
            "video 1/1 (frame 1866/3518) /content/Faces from around the world.mp4: 384x640 2 peoples, 10.7ms\n",
            "video 1/1 (frame 1867/3518) /content/Faces from around the world.mp4: 384x640 2 peoples, 12.0ms\n",
            "video 1/1 (frame 1868/3518) /content/Faces from around the world.mp4: 384x640 2 peoples, 10.3ms\n",
            "video 1/1 (frame 1869/3518) /content/Faces from around the world.mp4: 384x640 2 peoples, 12.3ms\n",
            "video 1/1 (frame 1870/3518) /content/Faces from around the world.mp4: 384x640 2 peoples, 11.2ms\n",
            "video 1/1 (frame 1871/3518) /content/Faces from around the world.mp4: 384x640 2 peoples, 10.5ms\n",
            "video 1/1 (frame 1872/3518) /content/Faces from around the world.mp4: 384x640 2 peoples, 12.6ms\n",
            "video 1/1 (frame 1873/3518) /content/Faces from around the world.mp4: 384x640 2 peoples, 10.7ms\n",
            "video 1/1 (frame 1874/3518) /content/Faces from around the world.mp4: 384x640 2 peoples, 12.9ms\n",
            "video 1/1 (frame 1875/3518) /content/Faces from around the world.mp4: 384x640 1 people, 10.7ms\n",
            "video 1/1 (frame 1876/3518) /content/Faces from around the world.mp4: 384x640 2 peoples, 13.9ms\n",
            "video 1/1 (frame 1877/3518) /content/Faces from around the world.mp4: 384x640 2 peoples, 10.6ms\n",
            "video 1/1 (frame 1878/3518) /content/Faces from around the world.mp4: 384x640 2 peoples, 13.0ms\n",
            "video 1/1 (frame 1879/3518) /content/Faces from around the world.mp4: 384x640 1 people, 11.8ms\n",
            "video 1/1 (frame 1880/3518) /content/Faces from around the world.mp4: 384x640 1 people, 10.0ms\n",
            "video 1/1 (frame 1881/3518) /content/Faces from around the world.mp4: 384x640 1 people, 22.0ms\n",
            "video 1/1 (frame 1882/3518) /content/Faces from around the world.mp4: 384x640 1 people, 10.6ms\n",
            "video 1/1 (frame 1883/3518) /content/Faces from around the world.mp4: 384x640 3 peoples, 16.5ms\n",
            "video 1/1 (frame 1884/3518) /content/Faces from around the world.mp4: 384x640 3 peoples, 10.4ms\n",
            "video 1/1 (frame 1885/3518) /content/Faces from around the world.mp4: 384x640 3 peoples, 17.9ms\n",
            "video 1/1 (frame 1886/3518) /content/Faces from around the world.mp4: 384x640 3 peoples, 12.9ms\n",
            "video 1/1 (frame 1887/3518) /content/Faces from around the world.mp4: 384x640 3 peoples, 11.2ms\n",
            "video 1/1 (frame 1888/3518) /content/Faces from around the world.mp4: 384x640 3 peoples, 12.1ms\n",
            "video 1/1 (frame 1889/3518) /content/Faces from around the world.mp4: 384x640 3 peoples, 10.8ms\n",
            "video 1/1 (frame 1890/3518) /content/Faces from around the world.mp4: 384x640 3 peoples, 11.3ms\n",
            "video 1/1 (frame 1891/3518) /content/Faces from around the world.mp4: 384x640 3 peoples, 14.6ms\n",
            "video 1/1 (frame 1892/3518) /content/Faces from around the world.mp4: 384x640 3 peoples, 11.7ms\n",
            "video 1/1 (frame 1893/3518) /content/Faces from around the world.mp4: 384x640 3 peoples, 11.2ms\n",
            "video 1/1 (frame 1894/3518) /content/Faces from around the world.mp4: 384x640 3 peoples, 12.6ms\n",
            "video 1/1 (frame 1895/3518) /content/Faces from around the world.mp4: 384x640 3 peoples, 10.6ms\n",
            "video 1/1 (frame 1896/3518) /content/Faces from around the world.mp4: 384x640 3 peoples, 11.1ms\n",
            "video 1/1 (frame 1897/3518) /content/Faces from around the world.mp4: 384x640 3 peoples, 13.5ms\n",
            "video 1/1 (frame 1898/3518) /content/Faces from around the world.mp4: 384x640 2 peoples, 10.5ms\n",
            "video 1/1 (frame 1899/3518) /content/Faces from around the world.mp4: 384x640 2 peoples, 12.7ms\n",
            "video 1/1 (frame 1900/3518) /content/Faces from around the world.mp4: 384x640 2 peoples, 11.2ms\n",
            "video 1/1 (frame 1901/3518) /content/Faces from around the world.mp4: 384x640 1 people, 13.1ms\n",
            "video 1/1 (frame 1902/3518) /content/Faces from around the world.mp4: 384x640 2 peoples, 12.6ms\n",
            "video 1/1 (frame 1903/3518) /content/Faces from around the world.mp4: 384x640 2 peoples, 12.5ms\n",
            "video 1/1 (frame 1904/3518) /content/Faces from around the world.mp4: 384x640 1 people, 14.1ms\n",
            "video 1/1 (frame 1905/3518) /content/Faces from around the world.mp4: 384x640 2 peoples, 12.1ms\n",
            "video 1/1 (frame 1906/3518) /content/Faces from around the world.mp4: 384x640 1 people, 11.0ms\n",
            "video 1/1 (frame 1907/3518) /content/Faces from around the world.mp4: 384x640 1 people, 13.0ms\n",
            "video 1/1 (frame 1908/3518) /content/Faces from around the world.mp4: 384x640 1 people, 10.6ms\n",
            "video 1/1 (frame 1909/3518) /content/Faces from around the world.mp4: 384x640 1 people, 10.5ms\n",
            "video 1/1 (frame 1910/3518) /content/Faces from around the world.mp4: 384x640 1 people, 12.7ms\n",
            "video 1/1 (frame 1911/3518) /content/Faces from around the world.mp4: 384x640 1 people, 14.0ms\n",
            "video 1/1 (frame 1912/3518) /content/Faces from around the world.mp4: 384x640 1 people, 11.1ms\n",
            "video 1/1 (frame 1913/3518) /content/Faces from around the world.mp4: 384x640 1 people, 14.0ms\n",
            "video 1/1 (frame 1914/3518) /content/Faces from around the world.mp4: 384x640 1 people, 11.0ms\n",
            "video 1/1 (frame 1915/3518) /content/Faces from around the world.mp4: 384x640 1 people, 12.8ms\n",
            "video 1/1 (frame 1916/3518) /content/Faces from around the world.mp4: 384x640 1 people, 11.3ms\n",
            "video 1/1 (frame 1917/3518) /content/Faces from around the world.mp4: 384x640 1 people, 11.7ms\n",
            "video 1/1 (frame 1918/3518) /content/Faces from around the world.mp4: 384x640 1 people, 11.3ms\n",
            "video 1/1 (frame 1919/3518) /content/Faces from around the world.mp4: 384x640 1 people, 11.8ms\n",
            "video 1/1 (frame 1920/3518) /content/Faces from around the world.mp4: 384x640 1 people, 14.6ms\n",
            "video 1/1 (frame 1921/3518) /content/Faces from around the world.mp4: 384x640 1 people, 14.2ms\n",
            "video 1/1 (frame 1922/3518) /content/Faces from around the world.mp4: 384x640 1 people, 16.2ms\n",
            "video 1/1 (frame 1923/3518) /content/Faces from around the world.mp4: 384x640 1 people, 13.5ms\n",
            "video 1/1 (frame 1924/3518) /content/Faces from around the world.mp4: 384x640 1 people, 12.6ms\n",
            "video 1/1 (frame 1925/3518) /content/Faces from around the world.mp4: 384x640 1 people, 21.5ms\n",
            "video 1/1 (frame 1926/3518) /content/Faces from around the world.mp4: 384x640 1 people, 12.7ms\n",
            "video 1/1 (frame 1927/3518) /content/Faces from around the world.mp4: 384x640 1 people, 10.6ms\n",
            "video 1/1 (frame 1928/3518) /content/Faces from around the world.mp4: 384x640 1 people, 12.8ms\n",
            "video 1/1 (frame 1929/3518) /content/Faces from around the world.mp4: 384x640 1 people, 12.3ms\n",
            "video 1/1 (frame 1930/3518) /content/Faces from around the world.mp4: 384x640 1 people, 12.0ms\n",
            "video 1/1 (frame 1931/3518) /content/Faces from around the world.mp4: 384x640 1 people, 12.6ms\n",
            "video 1/1 (frame 1932/3518) /content/Faces from around the world.mp4: 384x640 1 people, 16.7ms\n",
            "video 1/1 (frame 1933/3518) /content/Faces from around the world.mp4: 384x640 1 people, 14.9ms\n",
            "video 1/1 (frame 1934/3518) /content/Faces from around the world.mp4: 384x640 1 people, 15.2ms\n",
            "video 1/1 (frame 1935/3518) /content/Faces from around the world.mp4: 384x640 1 people, 19.9ms\n",
            "video 1/1 (frame 1936/3518) /content/Faces from around the world.mp4: 384x640 1 people, 16.9ms\n",
            "video 1/1 (frame 1937/3518) /content/Faces from around the world.mp4: 384x640 1 people, 17.5ms\n",
            "video 1/1 (frame 1938/3518) /content/Faces from around the world.mp4: 384x640 1 people, 16.9ms\n",
            "video 1/1 (frame 1939/3518) /content/Faces from around the world.mp4: 384x640 1 people, 18.0ms\n",
            "video 1/1 (frame 1940/3518) /content/Faces from around the world.mp4: 384x640 1 people, 18.6ms\n",
            "video 1/1 (frame 1941/3518) /content/Faces from around the world.mp4: 384x640 1 people, 17.3ms\n",
            "video 1/1 (frame 1942/3518) /content/Faces from around the world.mp4: 384x640 1 people, 19.8ms\n",
            "video 1/1 (frame 1943/3518) /content/Faces from around the world.mp4: 384x640 1 people, 16.4ms\n",
            "video 1/1 (frame 1944/3518) /content/Faces from around the world.mp4: 384x640 1 people, 14.1ms\n",
            "video 1/1 (frame 1945/3518) /content/Faces from around the world.mp4: 384x640 1 people, 20.5ms\n",
            "video 1/1 (frame 1946/3518) /content/Faces from around the world.mp4: 384x640 1 people, 16.1ms\n",
            "video 1/1 (frame 1947/3518) /content/Faces from around the world.mp4: 384x640 1 people, 23.7ms\n",
            "video 1/1 (frame 1948/3518) /content/Faces from around the world.mp4: 384x640 1 people, 24.2ms\n",
            "video 1/1 (frame 1949/3518) /content/Faces from around the world.mp4: 384x640 1 people, 14.6ms\n",
            "video 1/1 (frame 1950/3518) /content/Faces from around the world.mp4: 384x640 1 people, 14.8ms\n",
            "video 1/1 (frame 1951/3518) /content/Faces from around the world.mp4: 384x640 1 people, 19.4ms\n",
            "video 1/1 (frame 1952/3518) /content/Faces from around the world.mp4: 384x640 1 people, 15.9ms\n",
            "video 1/1 (frame 1953/3518) /content/Faces from around the world.mp4: 384x640 1 people, 13.5ms\n",
            "video 1/1 (frame 1954/3518) /content/Faces from around the world.mp4: 384x640 1 people, 14.0ms\n",
            "video 1/1 (frame 1955/3518) /content/Faces from around the world.mp4: 384x640 1 people, 20.2ms\n",
            "video 1/1 (frame 1956/3518) /content/Faces from around the world.mp4: 384x640 1 people, 14.6ms\n",
            "video 1/1 (frame 1957/3518) /content/Faces from around the world.mp4: 384x640 1 people, 16.3ms\n",
            "video 1/1 (frame 1958/3518) /content/Faces from around the world.mp4: 384x640 1 people, 16.9ms\n",
            "video 1/1 (frame 1959/3518) /content/Faces from around the world.mp4: 384x640 1 people, 19.3ms\n",
            "video 1/1 (frame 1960/3518) /content/Faces from around the world.mp4: 384x640 1 people, 15.7ms\n",
            "video 1/1 (frame 1961/3518) /content/Faces from around the world.mp4: 384x640 1 people, 13.8ms\n",
            "video 1/1 (frame 1962/3518) /content/Faces from around the world.mp4: 384x640 1 people, 14.2ms\n",
            "video 1/1 (frame 1963/3518) /content/Faces from around the world.mp4: 384x640 1 people, 14.7ms\n",
            "video 1/1 (frame 1964/3518) /content/Faces from around the world.mp4: 384x640 1 people, 13.6ms\n",
            "video 1/1 (frame 1965/3518) /content/Faces from around the world.mp4: 384x640 1 people, 13.5ms\n",
            "video 1/1 (frame 1966/3518) /content/Faces from around the world.mp4: 384x640 1 people, 13.9ms\n",
            "video 1/1 (frame 1967/3518) /content/Faces from around the world.mp4: 384x640 1 people, 14.3ms\n",
            "video 1/1 (frame 1968/3518) /content/Faces from around the world.mp4: 384x640 1 people, 14.0ms\n",
            "video 1/1 (frame 1969/3518) /content/Faces from around the world.mp4: 384x640 1 people, 13.6ms\n",
            "video 1/1 (frame 1970/3518) /content/Faces from around the world.mp4: 384x640 1 people, 16.1ms\n",
            "video 1/1 (frame 1971/3518) /content/Faces from around the world.mp4: 384x640 1 people, 16.0ms\n",
            "video 1/1 (frame 1972/3518) /content/Faces from around the world.mp4: 384x640 1 people, 13.6ms\n",
            "video 1/1 (frame 1973/3518) /content/Faces from around the world.mp4: 384x640 1 people, 15.9ms\n",
            "video 1/1 (frame 1974/3518) /content/Faces from around the world.mp4: 384x640 1 people, 18.4ms\n",
            "video 1/1 (frame 1975/3518) /content/Faces from around the world.mp4: 384x640 1 people, 16.9ms\n",
            "video 1/1 (frame 1976/3518) /content/Faces from around the world.mp4: 384x640 1 people, 16.3ms\n",
            "video 1/1 (frame 1977/3518) /content/Faces from around the world.mp4: 384x640 1 people, 15.2ms\n",
            "video 1/1 (frame 1978/3518) /content/Faces from around the world.mp4: 384x640 1 people, 13.9ms\n",
            "video 1/1 (frame 1979/3518) /content/Faces from around the world.mp4: 384x640 1 people, 15.7ms\n",
            "video 1/1 (frame 1980/3518) /content/Faces from around the world.mp4: 384x640 1 people, 15.2ms\n",
            "video 1/1 (frame 1981/3518) /content/Faces from around the world.mp4: 384x640 1 people, 13.8ms\n",
            "video 1/1 (frame 1982/3518) /content/Faces from around the world.mp4: 384x640 (no detections), 14.5ms\n",
            "video 1/1 (frame 1983/3518) /content/Faces from around the world.mp4: 384x640 (no detections), 12.8ms\n",
            "video 1/1 (frame 1984/3518) /content/Faces from around the world.mp4: 384x640 (no detections), 13.9ms\n",
            "video 1/1 (frame 1985/3518) /content/Faces from around the world.mp4: 384x640 (no detections), 14.4ms\n",
            "video 1/1 (frame 1986/3518) /content/Faces from around the world.mp4: 384x640 (no detections), 17.5ms\n",
            "video 1/1 (frame 1987/3518) /content/Faces from around the world.mp4: 384x640 (no detections), 19.1ms\n",
            "video 1/1 (frame 1988/3518) /content/Faces from around the world.mp4: 384x640 (no detections), 14.2ms\n",
            "video 1/1 (frame 1989/3518) /content/Faces from around the world.mp4: 384x640 (no detections), 13.7ms\n",
            "video 1/1 (frame 1990/3518) /content/Faces from around the world.mp4: 384x640 (no detections), 13.5ms\n",
            "video 1/1 (frame 1991/3518) /content/Faces from around the world.mp4: 384x640 (no detections), 13.6ms\n",
            "video 1/1 (frame 1992/3518) /content/Faces from around the world.mp4: 384x640 (no detections), 13.6ms\n",
            "video 1/1 (frame 1993/3518) /content/Faces from around the world.mp4: 384x640 (no detections), 16.5ms\n",
            "video 1/1 (frame 1994/3518) /content/Faces from around the world.mp4: 384x640 (no detections), 16.7ms\n",
            "video 1/1 (frame 1995/3518) /content/Faces from around the world.mp4: 384x640 (no detections), 15.2ms\n",
            "video 1/1 (frame 1996/3518) /content/Faces from around the world.mp4: 384x640 (no detections), 33.2ms\n",
            "video 1/1 (frame 1997/3518) /content/Faces from around the world.mp4: 384x640 (no detections), 14.5ms\n",
            "video 1/1 (frame 1998/3518) /content/Faces from around the world.mp4: 384x640 (no detections), 13.6ms\n",
            "video 1/1 (frame 1999/3518) /content/Faces from around the world.mp4: 384x640 (no detections), 22.8ms\n",
            "video 1/1 (frame 2000/3518) /content/Faces from around the world.mp4: 384x640 (no detections), 20.7ms\n",
            "video 1/1 (frame 2001/3518) /content/Faces from around the world.mp4: 384x640 (no detections), 18.4ms\n",
            "video 1/1 (frame 2002/3518) /content/Faces from around the world.mp4: 384x640 (no detections), 16.7ms\n",
            "video 1/1 (frame 2003/3518) /content/Faces from around the world.mp4: 384x640 (no detections), 17.8ms\n",
            "video 1/1 (frame 2004/3518) /content/Faces from around the world.mp4: 384x640 (no detections), 17.2ms\n",
            "video 1/1 (frame 2005/3518) /content/Faces from around the world.mp4: 384x640 (no detections), 19.8ms\n",
            "video 1/1 (frame 2006/3518) /content/Faces from around the world.mp4: 384x640 (no detections), 16.3ms\n",
            "video 1/1 (frame 2007/3518) /content/Faces from around the world.mp4: 384x640 (no detections), 20.6ms\n",
            "video 1/1 (frame 2008/3518) /content/Faces from around the world.mp4: 384x640 (no detections), 21.3ms\n",
            "video 1/1 (frame 2009/3518) /content/Faces from around the world.mp4: 384x640 (no detections), 13.7ms\n",
            "video 1/1 (frame 2010/3518) /content/Faces from around the world.mp4: 384x640 (no detections), 13.7ms\n",
            "video 1/1 (frame 2011/3518) /content/Faces from around the world.mp4: 384x640 (no detections), 17.6ms\n",
            "video 1/1 (frame 2012/3518) /content/Faces from around the world.mp4: 384x640 (no detections), 16.3ms\n",
            "video 1/1 (frame 2013/3518) /content/Faces from around the world.mp4: 384x640 (no detections), 17.7ms\n",
            "video 1/1 (frame 2014/3518) /content/Faces from around the world.mp4: 384x640 (no detections), 19.2ms\n",
            "video 1/1 (frame 2015/3518) /content/Faces from around the world.mp4: 384x640 (no detections), 19.5ms\n",
            "video 1/1 (frame 2016/3518) /content/Faces from around the world.mp4: 384x640 (no detections), 16.0ms\n",
            "video 1/1 (frame 2017/3518) /content/Faces from around the world.mp4: 384x640 (no detections), 19.2ms\n",
            "video 1/1 (frame 2018/3518) /content/Faces from around the world.mp4: 384x640 (no detections), 19.8ms\n",
            "video 1/1 (frame 2019/3518) /content/Faces from around the world.mp4: 384x640 (no detections), 21.8ms\n",
            "video 1/1 (frame 2020/3518) /content/Faces from around the world.mp4: 384x640 (no detections), 18.4ms\n",
            "video 1/1 (frame 2021/3518) /content/Faces from around the world.mp4: 384x640 (no detections), 16.0ms\n",
            "video 1/1 (frame 2022/3518) /content/Faces from around the world.mp4: 384x640 (no detections), 22.1ms\n",
            "video 1/1 (frame 2023/3518) /content/Faces from around the world.mp4: 384x640 (no detections), 16.5ms\n",
            "video 1/1 (frame 2024/3518) /content/Faces from around the world.mp4: 384x640 (no detections), 19.3ms\n",
            "video 1/1 (frame 2025/3518) /content/Faces from around the world.mp4: 384x640 (no detections), 18.4ms\n",
            "video 1/1 (frame 2026/3518) /content/Faces from around the world.mp4: 384x640 (no detections), 25.7ms\n",
            "video 1/1 (frame 2027/3518) /content/Faces from around the world.mp4: 384x640 (no detections), 22.7ms\n",
            "video 1/1 (frame 2028/3518) /content/Faces from around the world.mp4: 384x640 (no detections), 27.8ms\n",
            "video 1/1 (frame 2029/3518) /content/Faces from around the world.mp4: 384x640 (no detections), 24.6ms\n",
            "video 1/1 (frame 2030/3518) /content/Faces from around the world.mp4: 384x640 (no detections), 25.0ms\n",
            "video 1/1 (frame 2031/3518) /content/Faces from around the world.mp4: 384x640 (no detections), 17.5ms\n",
            "video 1/1 (frame 2032/3518) /content/Faces from around the world.mp4: 384x640 (no detections), 15.4ms\n",
            "video 1/1 (frame 2033/3518) /content/Faces from around the world.mp4: 384x640 (no detections), 11.1ms\n",
            "video 1/1 (frame 2034/3518) /content/Faces from around the world.mp4: 384x640 (no detections), 13.6ms\n",
            "video 1/1 (frame 2035/3518) /content/Faces from around the world.mp4: 384x640 (no detections), 11.8ms\n",
            "video 1/1 (frame 2036/3518) /content/Faces from around the world.mp4: 384x640 (no detections), 13.6ms\n",
            "video 1/1 (frame 2037/3518) /content/Faces from around the world.mp4: 384x640 (no detections), 14.0ms\n",
            "video 1/1 (frame 2038/3518) /content/Faces from around the world.mp4: 384x640 (no detections), 13.0ms\n",
            "video 1/1 (frame 2039/3518) /content/Faces from around the world.mp4: 384x640 (no detections), 14.3ms\n",
            "video 1/1 (frame 2040/3518) /content/Faces from around the world.mp4: 384x640 (no detections), 12.2ms\n",
            "video 1/1 (frame 2041/3518) /content/Faces from around the world.mp4: 384x640 (no detections), 11.2ms\n",
            "video 1/1 (frame 2042/3518) /content/Faces from around the world.mp4: 384x640 (no detections), 14.0ms\n",
            "video 1/1 (frame 2043/3518) /content/Faces from around the world.mp4: 384x640 (no detections), 13.5ms\n",
            "video 1/1 (frame 2044/3518) /content/Faces from around the world.mp4: 384x640 (no detections), 15.5ms\n",
            "video 1/1 (frame 2045/3518) /content/Faces from around the world.mp4: 384x640 (no detections), 12.2ms\n",
            "video 1/1 (frame 2046/3518) /content/Faces from around the world.mp4: 384x640 (no detections), 15.3ms\n",
            "video 1/1 (frame 2047/3518) /content/Faces from around the world.mp4: 384x640 (no detections), 13.7ms\n",
            "video 1/1 (frame 2048/3518) /content/Faces from around the world.mp4: 384x640 (no detections), 11.6ms\n",
            "video 1/1 (frame 2049/3518) /content/Faces from around the world.mp4: 384x640 (no detections), 13.1ms\n",
            "video 1/1 (frame 2050/3518) /content/Faces from around the world.mp4: 384x640 (no detections), 12.2ms\n",
            "video 1/1 (frame 2051/3518) /content/Faces from around the world.mp4: 384x640 (no detections), 15.1ms\n",
            "video 1/1 (frame 2052/3518) /content/Faces from around the world.mp4: 384x640 (no detections), 12.8ms\n",
            "video 1/1 (frame 2053/3518) /content/Faces from around the world.mp4: 384x640 (no detections), 11.5ms\n",
            "video 1/1 (frame 2054/3518) /content/Faces from around the world.mp4: 384x640 (no detections), 10.8ms\n",
            "video 1/1 (frame 2055/3518) /content/Faces from around the world.mp4: 384x640 (no detections), 12.8ms\n",
            "video 1/1 (frame 2056/3518) /content/Faces from around the world.mp4: 384x640 (no detections), 10.2ms\n",
            "video 1/1 (frame 2057/3518) /content/Faces from around the world.mp4: 384x640 (no detections), 11.2ms\n",
            "video 1/1 (frame 2058/3518) /content/Faces from around the world.mp4: 384x640 (no detections), 13.7ms\n",
            "video 1/1 (frame 2059/3518) /content/Faces from around the world.mp4: 384x640 (no detections), 10.5ms\n",
            "video 1/1 (frame 2060/3518) /content/Faces from around the world.mp4: 384x640 1 people, 12.9ms\n",
            "video 1/1 (frame 2061/3518) /content/Faces from around the world.mp4: 384x640 1 people, 11.2ms\n",
            "video 1/1 (frame 2062/3518) /content/Faces from around the world.mp4: 384x640 1 people, 12.2ms\n",
            "video 1/1 (frame 2063/3518) /content/Faces from around the world.mp4: 384x640 1 people, 12.1ms\n",
            "video 1/1 (frame 2064/3518) /content/Faces from around the world.mp4: 384x640 1 people, 15.5ms\n",
            "video 1/1 (frame 2065/3518) /content/Faces from around the world.mp4: 384x640 1 people, 11.5ms\n",
            "video 1/1 (frame 2066/3518) /content/Faces from around the world.mp4: 384x640 1 people, 14.8ms\n",
            "video 1/1 (frame 2067/3518) /content/Faces from around the world.mp4: 384x640 1 people, 11.7ms\n",
            "video 1/1 (frame 2068/3518) /content/Faces from around the world.mp4: 384x640 1 people, 12.7ms\n",
            "video 1/1 (frame 2069/3518) /content/Faces from around the world.mp4: 384x640 1 people, 13.0ms\n",
            "video 1/1 (frame 2070/3518) /content/Faces from around the world.mp4: 384x640 1 people, 19.6ms\n",
            "video 1/1 (frame 2071/3518) /content/Faces from around the world.mp4: 384x640 1 people, 17.1ms\n",
            "video 1/1 (frame 2072/3518) /content/Faces from around the world.mp4: 384x640 1 people, 17.1ms\n",
            "video 1/1 (frame 2073/3518) /content/Faces from around the world.mp4: 384x640 1 people, 19.5ms\n",
            "video 1/1 (frame 2074/3518) /content/Faces from around the world.mp4: 384x640 1 people, 21.5ms\n",
            "video 1/1 (frame 2075/3518) /content/Faces from around the world.mp4: 384x640 1 people, 21.7ms\n",
            "video 1/1 (frame 2076/3518) /content/Faces from around the world.mp4: 384x640 1 people, 14.3ms\n",
            "video 1/1 (frame 2077/3518) /content/Faces from around the world.mp4: 384x640 1 people, 15.9ms\n",
            "video 1/1 (frame 2078/3518) /content/Faces from around the world.mp4: 384x640 1 people, 15.4ms\n",
            "video 1/1 (frame 2079/3518) /content/Faces from around the world.mp4: 384x640 1 people, 20.8ms\n",
            "video 1/1 (frame 2080/3518) /content/Faces from around the world.mp4: 384x640 1 people, 24.6ms\n",
            "video 1/1 (frame 2081/3518) /content/Faces from around the world.mp4: 384x640 1 people, 20.3ms\n",
            "video 1/1 (frame 2082/3518) /content/Faces from around the world.mp4: 384x640 1 people, 22.2ms\n",
            "video 1/1 (frame 2083/3518) /content/Faces from around the world.mp4: 384x640 1 people, 20.4ms\n",
            "video 1/1 (frame 2084/3518) /content/Faces from around the world.mp4: 384x640 1 people, 13.7ms\n",
            "video 1/1 (frame 2085/3518) /content/Faces from around the world.mp4: 384x640 1 people, 15.8ms\n",
            "video 1/1 (frame 2086/3518) /content/Faces from around the world.mp4: 384x640 1 people, 14.9ms\n",
            "video 1/1 (frame 2087/3518) /content/Faces from around the world.mp4: 384x640 1 people, 14.8ms\n",
            "video 1/1 (frame 2088/3518) /content/Faces from around the world.mp4: 384x640 1 people, 18.4ms\n",
            "video 1/1 (frame 2089/3518) /content/Faces from around the world.mp4: 384x640 1 people, 22.1ms\n",
            "video 1/1 (frame 2090/3518) /content/Faces from around the world.mp4: 384x640 1 people, 15.4ms\n",
            "video 1/1 (frame 2091/3518) /content/Faces from around the world.mp4: 384x640 1 people, 15.1ms\n",
            "video 1/1 (frame 2092/3518) /content/Faces from around the world.mp4: 384x640 1 people, 17.8ms\n",
            "video 1/1 (frame 2093/3518) /content/Faces from around the world.mp4: 384x640 1 people, 14.9ms\n",
            "video 1/1 (frame 2094/3518) /content/Faces from around the world.mp4: 384x640 1 people, 14.1ms\n",
            "video 1/1 (frame 2095/3518) /content/Faces from around the world.mp4: 384x640 1 people, 16.7ms\n",
            "video 1/1 (frame 2096/3518) /content/Faces from around the world.mp4: 384x640 1 people, 14.2ms\n",
            "video 1/1 (frame 2097/3518) /content/Faces from around the world.mp4: 384x640 (no detections), 14.3ms\n",
            "video 1/1 (frame 2098/3518) /content/Faces from around the world.mp4: 384x640 (no detections), 17.6ms\n",
            "video 1/1 (frame 2099/3518) /content/Faces from around the world.mp4: 384x640 1 people, 14.7ms\n",
            "video 1/1 (frame 2100/3518) /content/Faces from around the world.mp4: 384x640 1 people, 13.6ms\n",
            "video 1/1 (frame 2101/3518) /content/Faces from around the world.mp4: 384x640 1 people, 14.2ms\n",
            "video 1/1 (frame 2102/3518) /content/Faces from around the world.mp4: 384x640 2 peoples, 15.0ms\n",
            "video 1/1 (frame 2103/3518) /content/Faces from around the world.mp4: 384x640 1 people, 14.9ms\n",
            "video 1/1 (frame 2104/3518) /content/Faces from around the world.mp4: 384x640 1 people, 14.4ms\n",
            "video 1/1 (frame 2105/3518) /content/Faces from around the world.mp4: 384x640 1 people, 14.7ms\n",
            "video 1/1 (frame 2106/3518) /content/Faces from around the world.mp4: 384x640 1 people, 14.1ms\n",
            "video 1/1 (frame 2107/3518) /content/Faces from around the world.mp4: 384x640 1 people, 19.2ms\n",
            "video 1/1 (frame 2108/3518) /content/Faces from around the world.mp4: 384x640 1 people, 16.4ms\n",
            "video 1/1 (frame 2109/3518) /content/Faces from around the world.mp4: 384x640 1 people, 19.5ms\n",
            "video 1/1 (frame 2110/3518) /content/Faces from around the world.mp4: 384x640 1 people, 20.9ms\n",
            "video 1/1 (frame 2111/3518) /content/Faces from around the world.mp4: 384x640 1 people, 14.7ms\n",
            "video 1/1 (frame 2112/3518) /content/Faces from around the world.mp4: 384x640 1 people, 15.9ms\n",
            "video 1/1 (frame 2113/3518) /content/Faces from around the world.mp4: 384x640 1 people, 13.9ms\n",
            "video 1/1 (frame 2114/3518) /content/Faces from around the world.mp4: 384x640 1 people, 13.0ms\n",
            "video 1/1 (frame 2115/3518) /content/Faces from around the world.mp4: 384x640 1 people, 14.9ms\n",
            "video 1/1 (frame 2116/3518) /content/Faces from around the world.mp4: 384x640 1 people, 13.7ms\n",
            "video 1/1 (frame 2117/3518) /content/Faces from around the world.mp4: 384x640 1 people, 16.2ms\n",
            "video 1/1 (frame 2118/3518) /content/Faces from around the world.mp4: 384x640 1 people, 15.3ms\n",
            "video 1/1 (frame 2119/3518) /content/Faces from around the world.mp4: 384x640 1 people, 14.3ms\n",
            "video 1/1 (frame 2120/3518) /content/Faces from around the world.mp4: 384x640 1 people, 18.4ms\n",
            "video 1/1 (frame 2121/3518) /content/Faces from around the world.mp4: 384x640 1 people, 14.5ms\n",
            "video 1/1 (frame 2122/3518) /content/Faces from around the world.mp4: 384x640 1 people, 13.9ms\n",
            "video 1/1 (frame 2123/3518) /content/Faces from around the world.mp4: 384x640 1 people, 14.3ms\n",
            "video 1/1 (frame 2124/3518) /content/Faces from around the world.mp4: 384x640 2 peoples, 14.0ms\n",
            "video 1/1 (frame 2125/3518) /content/Faces from around the world.mp4: 384x640 2 peoples, 14.4ms\n",
            "video 1/1 (frame 2126/3518) /content/Faces from around the world.mp4: 384x640 1 people, 13.8ms\n",
            "video 1/1 (frame 2127/3518) /content/Faces from around the world.mp4: 384x640 2 peoples, 16.6ms\n",
            "video 1/1 (frame 2128/3518) /content/Faces from around the world.mp4: 384x640 1 people, 13.6ms\n",
            "video 1/1 (frame 2129/3518) /content/Faces from around the world.mp4: 384x640 1 people, 14.8ms\n",
            "video 1/1 (frame 2130/3518) /content/Faces from around the world.mp4: 384x640 1 people, 13.8ms\n",
            "video 1/1 (frame 2131/3518) /content/Faces from around the world.mp4: 384x640 1 people, 14.9ms\n",
            "video 1/1 (frame 2132/3518) /content/Faces from around the world.mp4: 384x640 1 people, 14.9ms\n",
            "video 1/1 (frame 2133/3518) /content/Faces from around the world.mp4: 384x640 1 people, 13.8ms\n",
            "video 1/1 (frame 2134/3518) /content/Faces from around the world.mp4: 384x640 1 people, 13.8ms\n",
            "video 1/1 (frame 2135/3518) /content/Faces from around the world.mp4: 384x640 1 people, 13.8ms\n",
            "video 1/1 (frame 2136/3518) /content/Faces from around the world.mp4: 384x640 1 people, 16.5ms\n",
            "video 1/1 (frame 2137/3518) /content/Faces from around the world.mp4: 384x640 2 peoples, 25.6ms\n",
            "video 1/1 (frame 2138/3518) /content/Faces from around the world.mp4: 384x640 1 people, 17.7ms\n",
            "video 1/1 (frame 2139/3518) /content/Faces from around the world.mp4: 384x640 1 people, 22.5ms\n",
            "video 1/1 (frame 2140/3518) /content/Faces from around the world.mp4: 384x640 1 people, 16.1ms\n",
            "video 1/1 (frame 2141/3518) /content/Faces from around the world.mp4: 384x640 1 people, 28.4ms\n",
            "video 1/1 (frame 2142/3518) /content/Faces from around the world.mp4: 384x640 1 people, 19.7ms\n",
            "video 1/1 (frame 2143/3518) /content/Faces from around the world.mp4: 384x640 1 people, 13.5ms\n",
            "video 1/1 (frame 2144/3518) /content/Faces from around the world.mp4: 384x640 1 people, 15.2ms\n",
            "video 1/1 (frame 2145/3518) /content/Faces from around the world.mp4: 384x640 1 people, 21.5ms\n",
            "video 1/1 (frame 2146/3518) /content/Faces from around the world.mp4: 384x640 (no detections), 20.0ms\n",
            "video 1/1 (frame 2147/3518) /content/Faces from around the world.mp4: 384x640 (no detections), 19.2ms\n",
            "video 1/1 (frame 2148/3518) /content/Faces from around the world.mp4: 384x640 (no detections), 18.7ms\n",
            "video 1/1 (frame 2149/3518) /content/Faces from around the world.mp4: 384x640 (no detections), 17.3ms\n",
            "video 1/1 (frame 2150/3518) /content/Faces from around the world.mp4: 384x640 (no detections), 17.9ms\n",
            "video 1/1 (frame 2151/3518) /content/Faces from around the world.mp4: 384x640 (no detections), 19.1ms\n",
            "video 1/1 (frame 2152/3518) /content/Faces from around the world.mp4: 384x640 (no detections), 22.2ms\n",
            "video 1/1 (frame 2153/3518) /content/Faces from around the world.mp4: 384x640 (no detections), 17.4ms\n",
            "video 1/1 (frame 2154/3518) /content/Faces from around the world.mp4: 384x640 (no detections), 15.5ms\n",
            "video 1/1 (frame 2155/3518) /content/Faces from around the world.mp4: 384x640 (no detections), 15.1ms\n",
            "video 1/1 (frame 2156/3518) /content/Faces from around the world.mp4: 384x640 (no detections), 14.8ms\n",
            "video 1/1 (frame 2157/3518) /content/Faces from around the world.mp4: 384x640 (no detections), 14.8ms\n",
            "video 1/1 (frame 2158/3518) /content/Faces from around the world.mp4: 384x640 (no detections), 19.8ms\n",
            "video 1/1 (frame 2159/3518) /content/Faces from around the world.mp4: 384x640 (no detections), 17.3ms\n",
            "video 1/1 (frame 2160/3518) /content/Faces from around the world.mp4: 384x640 (no detections), 18.1ms\n",
            "video 1/1 (frame 2161/3518) /content/Faces from around the world.mp4: 384x640 (no detections), 17.2ms\n",
            "video 1/1 (frame 2162/3518) /content/Faces from around the world.mp4: 384x640 (no detections), 22.6ms\n",
            "video 1/1 (frame 2163/3518) /content/Faces from around the world.mp4: 384x640 (no detections), 18.8ms\n",
            "video 1/1 (frame 2164/3518) /content/Faces from around the world.mp4: 384x640 (no detections), 19.6ms\n",
            "video 1/1 (frame 2165/3518) /content/Faces from around the world.mp4: 384x640 (no detections), 24.1ms\n",
            "video 1/1 (frame 2166/3518) /content/Faces from around the world.mp4: 384x640 (no detections), 17.6ms\n",
            "video 1/1 (frame 2167/3518) /content/Faces from around the world.mp4: 384x640 (no detections), 17.7ms\n",
            "video 1/1 (frame 2168/3518) /content/Faces from around the world.mp4: 384x640 (no detections), 19.5ms\n",
            "video 1/1 (frame 2169/3518) /content/Faces from around the world.mp4: 384x640 (no detections), 15.0ms\n",
            "video 1/1 (frame 2170/3518) /content/Faces from around the world.mp4: 384x640 (no detections), 13.1ms\n",
            "video 1/1 (frame 2171/3518) /content/Faces from around the world.mp4: 384x640 (no detections), 14.3ms\n",
            "video 1/1 (frame 2172/3518) /content/Faces from around the world.mp4: 384x640 (no detections), 12.6ms\n",
            "video 1/1 (frame 2173/3518) /content/Faces from around the world.mp4: 384x640 (no detections), 12.6ms\n",
            "video 1/1 (frame 2174/3518) /content/Faces from around the world.mp4: 384x640 (no detections), 13.8ms\n",
            "video 1/1 (frame 2175/3518) /content/Faces from around the world.mp4: 384x640 (no detections), 12.2ms\n",
            "video 1/1 (frame 2176/3518) /content/Faces from around the world.mp4: 384x640 (no detections), 14.0ms\n",
            "video 1/1 (frame 2177/3518) /content/Faces from around the world.mp4: 384x640 (no detections), 10.5ms\n",
            "video 1/1 (frame 2178/3518) /content/Faces from around the world.mp4: 384x640 (no detections), 11.1ms\n",
            "video 1/1 (frame 2179/3518) /content/Faces from around the world.mp4: 384x640 (no detections), 10.6ms\n",
            "video 1/1 (frame 2180/3518) /content/Faces from around the world.mp4: 384x640 (no detections), 14.6ms\n",
            "video 1/1 (frame 2181/3518) /content/Faces from around the world.mp4: 384x640 (no detections), 12.6ms\n",
            "video 1/1 (frame 2182/3518) /content/Faces from around the world.mp4: 384x640 (no detections), 13.6ms\n",
            "video 1/1 (frame 2183/3518) /content/Faces from around the world.mp4: 384x640 (no detections), 14.1ms\n",
            "video 1/1 (frame 2184/3518) /content/Faces from around the world.mp4: 384x640 (no detections), 14.1ms\n",
            "video 1/1 (frame 2185/3518) /content/Faces from around the world.mp4: 384x640 (no detections), 18.1ms\n",
            "video 1/1 (frame 2186/3518) /content/Faces from around the world.mp4: 384x640 (no detections), 19.6ms\n",
            "video 1/1 (frame 2187/3518) /content/Faces from around the world.mp4: 384x640 (no detections), 14.5ms\n",
            "video 1/1 (frame 2188/3518) /content/Faces from around the world.mp4: 384x640 (no detections), 13.0ms\n",
            "video 1/1 (frame 2189/3518) /content/Faces from around the world.mp4: 384x640 1 people, 11.8ms\n",
            "video 1/1 (frame 2190/3518) /content/Faces from around the world.mp4: 384x640 1 people, 12.8ms\n",
            "video 1/1 (frame 2191/3518) /content/Faces from around the world.mp4: 384x640 1 people, 13.2ms\n",
            "video 1/1 (frame 2192/3518) /content/Faces from around the world.mp4: 384x640 1 people, 10.2ms\n",
            "video 1/1 (frame 2193/3518) /content/Faces from around the world.mp4: 384x640 1 people, 15.1ms\n",
            "video 1/1 (frame 2194/3518) /content/Faces from around the world.mp4: 384x640 1 people, 12.2ms\n",
            "video 1/1 (frame 2195/3518) /content/Faces from around the world.mp4: 384x640 1 people, 11.8ms\n",
            "video 1/1 (frame 2196/3518) /content/Faces from around the world.mp4: 384x640 1 people, 11.2ms\n",
            "video 1/1 (frame 2197/3518) /content/Faces from around the world.mp4: 384x640 1 people, 12.1ms\n",
            "video 1/1 (frame 2198/3518) /content/Faces from around the world.mp4: 384x640 1 people, 11.5ms\n",
            "video 1/1 (frame 2199/3518) /content/Faces from around the world.mp4: 384x640 1 people, 11.5ms\n",
            "video 1/1 (frame 2200/3518) /content/Faces from around the world.mp4: 384x640 1 people, 11.0ms\n",
            "video 1/1 (frame 2201/3518) /content/Faces from around the world.mp4: 384x640 1 people, 11.9ms\n",
            "video 1/1 (frame 2202/3518) /content/Faces from around the world.mp4: 384x640 1 people, 10.9ms\n",
            "video 1/1 (frame 2203/3518) /content/Faces from around the world.mp4: 384x640 1 people, 12.3ms\n",
            "video 1/1 (frame 2204/3518) /content/Faces from around the world.mp4: 384x640 1 people, 10.4ms\n",
            "video 1/1 (frame 2205/3518) /content/Faces from around the world.mp4: 384x640 1 people, 15.5ms\n",
            "video 1/1 (frame 2206/3518) /content/Faces from around the world.mp4: 384x640 1 people, 12.2ms\n",
            "video 1/1 (frame 2207/3518) /content/Faces from around the world.mp4: 384x640 1 people, 10.7ms\n",
            "video 1/1 (frame 2208/3518) /content/Faces from around the world.mp4: 384x640 1 people, 11.7ms\n",
            "video 1/1 (frame 2209/3518) /content/Faces from around the world.mp4: 384x640 1 people, 11.8ms\n",
            "video 1/1 (frame 2210/3518) /content/Faces from around the world.mp4: 384x640 1 people, 11.9ms\n",
            "video 1/1 (frame 2211/3518) /content/Faces from around the world.mp4: 384x640 1 people, 11.5ms\n",
            "video 1/1 (frame 2212/3518) /content/Faces from around the world.mp4: 384x640 1 people, 12.7ms\n",
            "video 1/1 (frame 2213/3518) /content/Faces from around the world.mp4: 384x640 1 people, 11.2ms\n",
            "video 1/1 (frame 2214/3518) /content/Faces from around the world.mp4: 384x640 1 people, 11.9ms\n",
            "video 1/1 (frame 2215/3518) /content/Faces from around the world.mp4: 384x640 1 people, 11.0ms\n",
            "video 1/1 (frame 2216/3518) /content/Faces from around the world.mp4: 384x640 1 people, 15.3ms\n",
            "video 1/1 (frame 2217/3518) /content/Faces from around the world.mp4: 384x640 1 people, 10.0ms\n",
            "video 1/1 (frame 2218/3518) /content/Faces from around the world.mp4: 384x640 1 people, 13.0ms\n",
            "video 1/1 (frame 2219/3518) /content/Faces from around the world.mp4: 384x640 1 people, 11.4ms\n",
            "video 1/1 (frame 2220/3518) /content/Faces from around the world.mp4: 384x640 1 people, 12.1ms\n",
            "video 1/1 (frame 2221/3518) /content/Faces from around the world.mp4: 384x640 1 people, 12.7ms\n",
            "video 1/1 (frame 2222/3518) /content/Faces from around the world.mp4: 384x640 1 people, 12.4ms\n",
            "video 1/1 (frame 2223/3518) /content/Faces from around the world.mp4: 384x640 1 people, 11.3ms\n",
            "video 1/1 (frame 2224/3518) /content/Faces from around the world.mp4: 384x640 1 people, 11.6ms\n",
            "video 1/1 (frame 2225/3518) /content/Faces from around the world.mp4: 384x640 1 people, 11.1ms\n",
            "video 1/1 (frame 2226/3518) /content/Faces from around the world.mp4: 384x640 1 people, 12.3ms\n",
            "video 1/1 (frame 2227/3518) /content/Faces from around the world.mp4: 384x640 1 people, 11.2ms\n",
            "video 1/1 (frame 2228/3518) /content/Faces from around the world.mp4: 384x640 1 people, 13.5ms\n",
            "video 1/1 (frame 2229/3518) /content/Faces from around the world.mp4: 384x640 1 people, 19.7ms\n",
            "video 1/1 (frame 2230/3518) /content/Faces from around the world.mp4: 384x640 1 people, 12.4ms\n",
            "video 1/1 (frame 2231/3518) /content/Faces from around the world.mp4: 384x640 1 people, 12.7ms\n",
            "video 1/1 (frame 2232/3518) /content/Faces from around the world.mp4: 384x640 1 people, 12.3ms\n",
            "video 1/1 (frame 2233/3518) /content/Faces from around the world.mp4: 384x640 1 people, 11.6ms\n",
            "video 1/1 (frame 2234/3518) /content/Faces from around the world.mp4: 384x640 1 people, 14.0ms\n",
            "video 1/1 (frame 2235/3518) /content/Faces from around the world.mp4: 384x640 1 people, 11.4ms\n",
            "video 1/1 (frame 2236/3518) /content/Faces from around the world.mp4: 384x640 1 people, 13.1ms\n",
            "video 1/1 (frame 2237/3518) /content/Faces from around the world.mp4: 384x640 1 people, 12.8ms\n",
            "video 1/1 (frame 2238/3518) /content/Faces from around the world.mp4: 384x640 2 peoples, 14.5ms\n",
            "video 1/1 (frame 2239/3518) /content/Faces from around the world.mp4: 384x640 2 peoples, 11.3ms\n",
            "video 1/1 (frame 2240/3518) /content/Faces from around the world.mp4: 384x640 2 peoples, 13.1ms\n",
            "video 1/1 (frame 2241/3518) /content/Faces from around the world.mp4: 384x640 2 peoples, 11.2ms\n",
            "video 1/1 (frame 2242/3518) /content/Faces from around the world.mp4: 384x640 2 peoples, 13.6ms\n",
            "video 1/1 (frame 2243/3518) /content/Faces from around the world.mp4: 384x640 2 peoples, 11.5ms\n",
            "video 1/1 (frame 2244/3518) /content/Faces from around the world.mp4: 384x640 1 people, 11.8ms\n",
            "video 1/1 (frame 2245/3518) /content/Faces from around the world.mp4: 384x640 1 people, 11.9ms\n",
            "video 1/1 (frame 2246/3518) /content/Faces from around the world.mp4: 384x640 1 people, 14.7ms\n",
            "video 1/1 (frame 2247/3518) /content/Faces from around the world.mp4: 384x640 1 people, 9.9ms\n",
            "video 1/1 (frame 2248/3518) /content/Faces from around the world.mp4: 384x640 1 people, 15.0ms\n",
            "video 1/1 (frame 2249/3518) /content/Faces from around the world.mp4: 384x640 1 people, 10.5ms\n",
            "video 1/1 (frame 2250/3518) /content/Faces from around the world.mp4: 384x640 1 people, 12.6ms\n",
            "video 1/1 (frame 2251/3518) /content/Faces from around the world.mp4: 384x640 2 peoples, 12.3ms\n",
            "video 1/1 (frame 2252/3518) /content/Faces from around the world.mp4: 384x640 1 people, 12.6ms\n",
            "video 1/1 (frame 2253/3518) /content/Faces from around the world.mp4: 384x640 1 people, 11.0ms\n",
            "video 1/1 (frame 2254/3518) /content/Faces from around the world.mp4: 384x640 1 people, 11.7ms\n",
            "video 1/1 (frame 2255/3518) /content/Faces from around the world.mp4: 384x640 1 people, 10.2ms\n",
            "video 1/1 (frame 2256/3518) /content/Faces from around the world.mp4: 384x640 1 people, 12.3ms\n",
            "video 1/1 (frame 2257/3518) /content/Faces from around the world.mp4: 384x640 1 people, 12.4ms\n",
            "video 1/1 (frame 2258/3518) /content/Faces from around the world.mp4: 384x640 1 people, 10.9ms\n",
            "video 1/1 (frame 2259/3518) /content/Faces from around the world.mp4: 384x640 1 people, 13.3ms\n",
            "video 1/1 (frame 2260/3518) /content/Faces from around the world.mp4: 384x640 1 people, 11.2ms\n",
            "video 1/1 (frame 2261/3518) /content/Faces from around the world.mp4: 384x640 1 people, 12.7ms\n",
            "video 1/1 (frame 2262/3518) /content/Faces from around the world.mp4: 384x640 1 people, 12.3ms\n",
            "video 1/1 (frame 2263/3518) /content/Faces from around the world.mp4: 384x640 1 people, 12.3ms\n",
            "video 1/1 (frame 2264/3518) /content/Faces from around the world.mp4: 384x640 1 people, 10.9ms\n",
            "video 1/1 (frame 2265/3518) /content/Faces from around the world.mp4: 384x640 1 people, 12.6ms\n",
            "video 1/1 (frame 2266/3518) /content/Faces from around the world.mp4: 384x640 1 people, 11.1ms\n",
            "video 1/1 (frame 2267/3518) /content/Faces from around the world.mp4: 384x640 1 people, 11.6ms\n",
            "video 1/1 (frame 2268/3518) /content/Faces from around the world.mp4: 384x640 1 people, 12.0ms\n",
            "video 1/1 (frame 2269/3518) /content/Faces from around the world.mp4: 384x640 1 people, 10.5ms\n",
            "video 1/1 (frame 2270/3518) /content/Faces from around the world.mp4: 384x640 1 people, 14.9ms\n",
            "video 1/1 (frame 2271/3518) /content/Faces from around the world.mp4: 384x640 1 people, 10.5ms\n",
            "video 1/1 (frame 2272/3518) /content/Faces from around the world.mp4: 384x640 1 people, 18.4ms\n",
            "video 1/1 (frame 2273/3518) /content/Faces from around the world.mp4: 384x640 1 people, 15.4ms\n",
            "video 1/1 (frame 2274/3518) /content/Faces from around the world.mp4: 384x640 1 people, 12.2ms\n",
            "video 1/1 (frame 2275/3518) /content/Faces from around the world.mp4: 384x640 1 people, 12.0ms\n",
            "video 1/1 (frame 2276/3518) /content/Faces from around the world.mp4: 384x640 1 people, 11.7ms\n",
            "video 1/1 (frame 2277/3518) /content/Faces from around the world.mp4: 384x640 1 people, 13.3ms\n",
            "video 1/1 (frame 2278/3518) /content/Faces from around the world.mp4: 384x640 1 people, 15.5ms\n",
            "video 1/1 (frame 2279/3518) /content/Faces from around the world.mp4: 384x640 1 people, 15.8ms\n",
            "video 1/1 (frame 2280/3518) /content/Faces from around the world.mp4: 384x640 1 people, 13.5ms\n",
            "video 1/1 (frame 2281/3518) /content/Faces from around the world.mp4: 384x640 1 people, 12.7ms\n",
            "video 1/1 (frame 2282/3518) /content/Faces from around the world.mp4: 384x640 1 people, 11.4ms\n",
            "video 1/1 (frame 2283/3518) /content/Faces from around the world.mp4: 384x640 1 people, 12.1ms\n",
            "video 1/1 (frame 2284/3518) /content/Faces from around the world.mp4: 384x640 1 people, 10.4ms\n",
            "video 1/1 (frame 2285/3518) /content/Faces from around the world.mp4: 384x640 1 people, 12.6ms\n",
            "video 1/1 (frame 2286/3518) /content/Faces from around the world.mp4: 384x640 1 people, 10.9ms\n",
            "video 1/1 (frame 2287/3518) /content/Faces from around the world.mp4: 384x640 1 people, 12.9ms\n",
            "video 1/1 (frame 2288/3518) /content/Faces from around the world.mp4: 384x640 1 people, 12.5ms\n",
            "video 1/1 (frame 2289/3518) /content/Faces from around the world.mp4: 384x640 1 people, 12.0ms\n",
            "video 1/1 (frame 2290/3518) /content/Faces from around the world.mp4: 384x640 1 people, 13.9ms\n",
            "video 1/1 (frame 2291/3518) /content/Faces from around the world.mp4: 384x640 1 people, 12.2ms\n",
            "video 1/1 (frame 2292/3518) /content/Faces from around the world.mp4: 384x640 1 people, 10.0ms\n",
            "video 1/1 (frame 2293/3518) /content/Faces from around the world.mp4: 384x640 1 people, 11.2ms\n",
            "video 1/1 (frame 2294/3518) /content/Faces from around the world.mp4: 384x640 1 people, 12.6ms\n",
            "video 1/1 (frame 2295/3518) /content/Faces from around the world.mp4: 384x640 1 people, 12.7ms\n",
            "video 1/1 (frame 2296/3518) /content/Faces from around the world.mp4: 384x640 1 people, 12.2ms\n",
            "video 1/1 (frame 2297/3518) /content/Faces from around the world.mp4: 384x640 1 people, 10.5ms\n",
            "video 1/1 (frame 2298/3518) /content/Faces from around the world.mp4: 384x640 1 people, 12.0ms\n",
            "video 1/1 (frame 2299/3518) /content/Faces from around the world.mp4: 384x640 1 people, 11.7ms\n",
            "video 1/1 (frame 2300/3518) /content/Faces from around the world.mp4: 384x640 1 people, 12.0ms\n",
            "video 1/1 (frame 2301/3518) /content/Faces from around the world.mp4: 384x640 1 people, 13.6ms\n",
            "video 1/1 (frame 2302/3518) /content/Faces from around the world.mp4: 384x640 1 people, 11.1ms\n",
            "video 1/1 (frame 2303/3518) /content/Faces from around the world.mp4: 384x640 1 people, 11.7ms\n",
            "video 1/1 (frame 2304/3518) /content/Faces from around the world.mp4: 384x640 1 people, 10.9ms\n",
            "video 1/1 (frame 2305/3518) /content/Faces from around the world.mp4: 384x640 1 people, 12.5ms\n",
            "video 1/1 (frame 2306/3518) /content/Faces from around the world.mp4: 384x640 1 people, 10.4ms\n",
            "video 1/1 (frame 2307/3518) /content/Faces from around the world.mp4: 384x640 1 people, 12.0ms\n",
            "video 1/1 (frame 2308/3518) /content/Faces from around the world.mp4: 384x640 1 people, 11.9ms\n",
            "video 1/1 (frame 2309/3518) /content/Faces from around the world.mp4: 384x640 (no detections), 15.9ms\n",
            "video 1/1 (frame 2310/3518) /content/Faces from around the world.mp4: 384x640 (no detections), 13.3ms\n",
            "video 1/1 (frame 2311/3518) /content/Faces from around the world.mp4: 384x640 (no detections), 12.9ms\n",
            "video 1/1 (frame 2312/3518) /content/Faces from around the world.mp4: 384x640 1 people, 13.2ms\n",
            "video 1/1 (frame 2313/3518) /content/Faces from around the world.mp4: 384x640 1 people, 12.2ms\n",
            "video 1/1 (frame 2314/3518) /content/Faces from around the world.mp4: 384x640 1 people, 23.5ms\n",
            "video 1/1 (frame 2315/3518) /content/Faces from around the world.mp4: 384x640 1 people, 13.5ms\n",
            "video 1/1 (frame 2316/3518) /content/Faces from around the world.mp4: 384x640 1 people, 12.4ms\n",
            "video 1/1 (frame 2317/3518) /content/Faces from around the world.mp4: 384x640 1 people, 11.9ms\n",
            "video 1/1 (frame 2318/3518) /content/Faces from around the world.mp4: 384x640 1 people, 11.7ms\n",
            "video 1/1 (frame 2319/3518) /content/Faces from around the world.mp4: 384x640 1 people, 10.9ms\n",
            "video 1/1 (frame 2320/3518) /content/Faces from around the world.mp4: 384x640 1 people, 12.1ms\n",
            "video 1/1 (frame 2321/3518) /content/Faces from around the world.mp4: 384x640 1 people, 12.1ms\n",
            "video 1/1 (frame 2322/3518) /content/Faces from around the world.mp4: 384x640 1 people, 10.4ms\n",
            "video 1/1 (frame 2323/3518) /content/Faces from around the world.mp4: 384x640 1 people, 14.1ms\n",
            "video 1/1 (frame 2324/3518) /content/Faces from around the world.mp4: 384x640 1 people, 11.8ms\n",
            "video 1/1 (frame 2325/3518) /content/Faces from around the world.mp4: 384x640 1 people, 11.1ms\n",
            "video 1/1 (frame 2326/3518) /content/Faces from around the world.mp4: 384x640 1 people, 11.6ms\n",
            "video 1/1 (frame 2327/3518) /content/Faces from around the world.mp4: 384x640 1 people, 11.7ms\n",
            "video 1/1 (frame 2328/3518) /content/Faces from around the world.mp4: 384x640 1 people, 13.6ms\n",
            "video 1/1 (frame 2329/3518) /content/Faces from around the world.mp4: 384x640 1 people, 10.9ms\n",
            "video 1/1 (frame 2330/3518) /content/Faces from around the world.mp4: 384x640 1 people, 12.0ms\n",
            "video 1/1 (frame 2331/3518) /content/Faces from around the world.mp4: 384x640 1 people, 10.9ms\n",
            "video 1/1 (frame 2332/3518) /content/Faces from around the world.mp4: 384x640 1 people, 12.7ms\n",
            "video 1/1 (frame 2333/3518) /content/Faces from around the world.mp4: 384x640 1 people, 10.8ms\n",
            "video 1/1 (frame 2334/3518) /content/Faces from around the world.mp4: 384x640 1 people, 15.5ms\n",
            "video 1/1 (frame 2335/3518) /content/Faces from around the world.mp4: 384x640 1 people, 12.6ms\n",
            "video 1/1 (frame 2336/3518) /content/Faces from around the world.mp4: 384x640 1 people, 11.2ms\n",
            "video 1/1 (frame 2337/3518) /content/Faces from around the world.mp4: 384x640 1 people, 13.3ms\n",
            "video 1/1 (frame 2338/3518) /content/Faces from around the world.mp4: 384x640 1 people, 11.8ms\n",
            "video 1/1 (frame 2339/3518) /content/Faces from around the world.mp4: 384x640 1 people, 10.7ms\n",
            "video 1/1 (frame 2340/3518) /content/Faces from around the world.mp4: 384x640 1 people, 11.1ms\n",
            "video 1/1 (frame 2341/3518) /content/Faces from around the world.mp4: 384x640 1 people, 13.0ms\n",
            "video 1/1 (frame 2342/3518) /content/Faces from around the world.mp4: 384x640 1 people, 10.8ms\n",
            "video 1/1 (frame 2343/3518) /content/Faces from around the world.mp4: 384x640 1 people, 11.6ms\n",
            "video 1/1 (frame 2344/3518) /content/Faces from around the world.mp4: 384x640 1 people, 11.7ms\n",
            "video 1/1 (frame 2345/3518) /content/Faces from around the world.mp4: 384x640 1 people, 13.9ms\n",
            "video 1/1 (frame 2346/3518) /content/Faces from around the world.mp4: 384x640 1 people, 12.1ms\n",
            "video 1/1 (frame 2347/3518) /content/Faces from around the world.mp4: 384x640 1 people, 13.9ms\n",
            "video 1/1 (frame 2348/3518) /content/Faces from around the world.mp4: 384x640 1 people, 14.2ms\n",
            "video 1/1 (frame 2349/3518) /content/Faces from around the world.mp4: 384x640 1 people, 11.1ms\n",
            "video 1/1 (frame 2350/3518) /content/Faces from around the world.mp4: 384x640 1 people, 13.4ms\n",
            "video 1/1 (frame 2351/3518) /content/Faces from around the world.mp4: 384x640 1 people, 13.5ms\n",
            "video 1/1 (frame 2352/3518) /content/Faces from around the world.mp4: 384x640 1 people, 12.6ms\n",
            "video 1/1 (frame 2353/3518) /content/Faces from around the world.mp4: 384x640 1 people, 12.8ms\n",
            "video 1/1 (frame 2354/3518) /content/Faces from around the world.mp4: 384x640 1 people, 10.1ms\n",
            "video 1/1 (frame 2355/3518) /content/Faces from around the world.mp4: 384x640 1 people, 13.8ms\n",
            "video 1/1 (frame 2356/3518) /content/Faces from around the world.mp4: 384x640 1 people, 12.4ms\n",
            "video 1/1 (frame 2357/3518) /content/Faces from around the world.mp4: 384x640 1 people, 21.6ms\n",
            "video 1/1 (frame 2358/3518) /content/Faces from around the world.mp4: 384x640 1 people, 14.1ms\n",
            "video 1/1 (frame 2359/3518) /content/Faces from around the world.mp4: 384x640 1 people, 11.7ms\n",
            "video 1/1 (frame 2360/3518) /content/Faces from around the world.mp4: 384x640 1 people, 12.2ms\n",
            "video 1/1 (frame 2361/3518) /content/Faces from around the world.mp4: 384x640 1 people, 11.9ms\n",
            "video 1/1 (frame 2362/3518) /content/Faces from around the world.mp4: 384x640 1 people, 11.9ms\n",
            "video 1/1 (frame 2363/3518) /content/Faces from around the world.mp4: 384x640 1 people, 11.1ms\n",
            "video 1/1 (frame 2364/3518) /content/Faces from around the world.mp4: 384x640 1 people, 11.5ms\n",
            "video 1/1 (frame 2365/3518) /content/Faces from around the world.mp4: 384x640 1 people, 11.0ms\n",
            "video 1/1 (frame 2366/3518) /content/Faces from around the world.mp4: 384x640 1 people, 12.7ms\n",
            "video 1/1 (frame 2367/3518) /content/Faces from around the world.mp4: 384x640 1 people, 12.2ms\n",
            "video 1/1 (frame 2368/3518) /content/Faces from around the world.mp4: 384x640 1 people, 12.3ms\n",
            "video 1/1 (frame 2369/3518) /content/Faces from around the world.mp4: 384x640 1 people, 13.6ms\n",
            "video 1/1 (frame 2370/3518) /content/Faces from around the world.mp4: 384x640 1 people, 12.0ms\n",
            "video 1/1 (frame 2371/3518) /content/Faces from around the world.mp4: 384x640 1 people, 11.4ms\n",
            "video 1/1 (frame 2372/3518) /content/Faces from around the world.mp4: 384x640 1 people, 13.0ms\n",
            "video 1/1 (frame 2373/3518) /content/Faces from around the world.mp4: 384x640 1 people, 11.0ms\n",
            "video 1/1 (frame 2374/3518) /content/Faces from around the world.mp4: 384x640 1 people, 11.3ms\n",
            "video 1/1 (frame 2375/3518) /content/Faces from around the world.mp4: 384x640 1 people, 12.1ms\n",
            "video 1/1 (frame 2376/3518) /content/Faces from around the world.mp4: 384x640 1 people, 12.1ms\n",
            "video 1/1 (frame 2377/3518) /content/Faces from around the world.mp4: 384x640 1 people, 13.1ms\n",
            "video 1/1 (frame 2378/3518) /content/Faces from around the world.mp4: 384x640 1 people, 12.0ms\n",
            "video 1/1 (frame 2379/3518) /content/Faces from around the world.mp4: 384x640 1 people, 11.6ms\n",
            "video 1/1 (frame 2380/3518) /content/Faces from around the world.mp4: 384x640 1 people, 10.7ms\n",
            "video 1/1 (frame 2381/3518) /content/Faces from around the world.mp4: 384x640 1 people, 11.3ms\n",
            "video 1/1 (frame 2382/3518) /content/Faces from around the world.mp4: 384x640 1 people, 12.5ms\n",
            "video 1/1 (frame 2383/3518) /content/Faces from around the world.mp4: 384x640 1 people, 11.5ms\n",
            "video 1/1 (frame 2384/3518) /content/Faces from around the world.mp4: 384x640 1 people, 11.3ms\n",
            "video 1/1 (frame 2385/3518) /content/Faces from around the world.mp4: 384x640 1 people, 11.8ms\n",
            "video 1/1 (frame 2386/3518) /content/Faces from around the world.mp4: 384x640 1 people, 11.4ms\n",
            "video 1/1 (frame 2387/3518) /content/Faces from around the world.mp4: 384x640 1 people, 11.4ms\n",
            "video 1/1 (frame 2388/3518) /content/Faces from around the world.mp4: 384x640 1 people, 14.8ms\n",
            "video 1/1 (frame 2389/3518) /content/Faces from around the world.mp4: 384x640 1 people, 11.2ms\n",
            "video 1/1 (frame 2390/3518) /content/Faces from around the world.mp4: 384x640 1 people, 12.4ms\n",
            "video 1/1 (frame 2391/3518) /content/Faces from around the world.mp4: 384x640 1 people, 12.9ms\n",
            "video 1/1 (frame 2392/3518) /content/Faces from around the world.mp4: 384x640 1 people, 13.7ms\n",
            "video 1/1 (frame 2393/3518) /content/Faces from around the world.mp4: 384x640 1 people, 12.4ms\n",
            "video 1/1 (frame 2394/3518) /content/Faces from around the world.mp4: 384x640 1 people, 12.5ms\n",
            "video 1/1 (frame 2395/3518) /content/Faces from around the world.mp4: 384x640 1 people, 13.3ms\n",
            "video 1/1 (frame 2396/3518) /content/Faces from around the world.mp4: 384x640 1 people, 12.1ms\n",
            "video 1/1 (frame 2397/3518) /content/Faces from around the world.mp4: 384x640 1 people, 12.6ms\n",
            "video 1/1 (frame 2398/3518) /content/Faces from around the world.mp4: 384x640 1 people, 12.3ms\n",
            "video 1/1 (frame 2399/3518) /content/Faces from around the world.mp4: 384x640 1 people, 18.6ms\n",
            "video 1/1 (frame 2400/3518) /content/Faces from around the world.mp4: 384x640 1 people, 12.1ms\n",
            "video 1/1 (frame 2401/3518) /content/Faces from around the world.mp4: 384x640 1 people, 12.9ms\n",
            "video 1/1 (frame 2402/3518) /content/Faces from around the world.mp4: 384x640 1 people, 11.0ms\n",
            "video 1/1 (frame 2403/3518) /content/Faces from around the world.mp4: 384x640 1 people, 11.5ms\n",
            "video 1/1 (frame 2404/3518) /content/Faces from around the world.mp4: 384x640 1 people, 11.5ms\n",
            "video 1/1 (frame 2405/3518) /content/Faces from around the world.mp4: 384x640 1 people, 10.3ms\n",
            "video 1/1 (frame 2406/3518) /content/Faces from around the world.mp4: 384x640 1 people, 11.5ms\n",
            "video 1/1 (frame 2407/3518) /content/Faces from around the world.mp4: 384x640 1 people, 10.6ms\n",
            "video 1/1 (frame 2408/3518) /content/Faces from around the world.mp4: 384x640 1 people, 11.6ms\n",
            "video 1/1 (frame 2409/3518) /content/Faces from around the world.mp4: 384x640 1 people, 10.6ms\n",
            "video 1/1 (frame 2410/3518) /content/Faces from around the world.mp4: 384x640 (no detections), 15.0ms\n",
            "video 1/1 (frame 2411/3518) /content/Faces from around the world.mp4: 384x640 (no detections), 12.0ms\n",
            "video 1/1 (frame 2412/3518) /content/Faces from around the world.mp4: 384x640 (no detections), 11.3ms\n",
            "video 1/1 (frame 2413/3518) /content/Faces from around the world.mp4: 384x640 (no detections), 11.5ms\n",
            "video 1/1 (frame 2414/3518) /content/Faces from around the world.mp4: 384x640 (no detections), 11.2ms\n",
            "video 1/1 (frame 2415/3518) /content/Faces from around the world.mp4: 384x640 (no detections), 12.2ms\n",
            "video 1/1 (frame 2416/3518) /content/Faces from around the world.mp4: 384x640 (no detections), 9.9ms\n",
            "video 1/1 (frame 2417/3518) /content/Faces from around the world.mp4: 384x640 (no detections), 11.9ms\n",
            "video 1/1 (frame 2418/3518) /content/Faces from around the world.mp4: 384x640 (no detections), 11.6ms\n",
            "video 1/1 (frame 2419/3518) /content/Faces from around the world.mp4: 384x640 (no detections), 12.2ms\n",
            "video 1/1 (frame 2420/3518) /content/Faces from around the world.mp4: 384x640 (no detections), 13.0ms\n",
            "video 1/1 (frame 2421/3518) /content/Faces from around the world.mp4: 384x640 (no detections), 11.8ms\n",
            "video 1/1 (frame 2422/3518) /content/Faces from around the world.mp4: 384x640 (no detections), 13.7ms\n",
            "video 1/1 (frame 2423/3518) /content/Faces from around the world.mp4: 384x640 (no detections), 12.4ms\n",
            "video 1/1 (frame 2424/3518) /content/Faces from around the world.mp4: 384x640 (no detections), 14.2ms\n",
            "video 1/1 (frame 2425/3518) /content/Faces from around the world.mp4: 384x640 (no detections), 11.9ms\n",
            "video 1/1 (frame 2426/3518) /content/Faces from around the world.mp4: 384x640 (no detections), 10.5ms\n",
            "video 1/1 (frame 2427/3518) /content/Faces from around the world.mp4: 384x640 (no detections), 12.8ms\n",
            "video 1/1 (frame 2428/3518) /content/Faces from around the world.mp4: 384x640 (no detections), 10.3ms\n",
            "video 1/1 (frame 2429/3518) /content/Faces from around the world.mp4: 384x640 1 people, 12.3ms\n",
            "video 1/1 (frame 2430/3518) /content/Faces from around the world.mp4: 384x640 1 people, 11.2ms\n",
            "video 1/1 (frame 2431/3518) /content/Faces from around the world.mp4: 384x640 1 people, 12.8ms\n",
            "video 1/1 (frame 2432/3518) /content/Faces from around the world.mp4: 384x640 1 people, 10.7ms\n",
            "video 1/1 (frame 2433/3518) /content/Faces from around the world.mp4: 384x640 1 people, 15.6ms\n",
            "video 1/1 (frame 2434/3518) /content/Faces from around the world.mp4: 384x640 2 peoples, 12.2ms\n",
            "video 1/1 (frame 2435/3518) /content/Faces from around the world.mp4: 384x640 1 people, 14.1ms\n",
            "video 1/1 (frame 2436/3518) /content/Faces from around the world.mp4: 384x640 1 people, 12.8ms\n",
            "video 1/1 (frame 2437/3518) /content/Faces from around the world.mp4: 384x640 1 people, 11.3ms\n",
            "video 1/1 (frame 2438/3518) /content/Faces from around the world.mp4: 384x640 1 people, 9.6ms\n",
            "video 1/1 (frame 2439/3518) /content/Faces from around the world.mp4: 384x640 1 people, 11.8ms\n",
            "video 1/1 (frame 2440/3518) /content/Faces from around the world.mp4: 384x640 1 people, 10.3ms\n",
            "video 1/1 (frame 2441/3518) /content/Faces from around the world.mp4: 384x640 2 peoples, 10.7ms\n",
            "video 1/1 (frame 2442/3518) /content/Faces from around the world.mp4: 384x640 2 peoples, 11.9ms\n",
            "video 1/1 (frame 2443/3518) /content/Faces from around the world.mp4: 384x640 1 people, 15.5ms\n",
            "video 1/1 (frame 2444/3518) /content/Faces from around the world.mp4: 384x640 1 people, 19.0ms\n",
            "video 1/1 (frame 2445/3518) /content/Faces from around the world.mp4: 384x640 2 peoples, 12.3ms\n",
            "video 1/1 (frame 2446/3518) /content/Faces from around the world.mp4: 384x640 2 peoples, 10.0ms\n",
            "video 1/1 (frame 2447/3518) /content/Faces from around the world.mp4: 384x640 1 people, 13.6ms\n",
            "video 1/1 (frame 2448/3518) /content/Faces from around the world.mp4: 384x640 1 people, 11.3ms\n",
            "video 1/1 (frame 2449/3518) /content/Faces from around the world.mp4: 384x640 1 people, 11.5ms\n",
            "video 1/1 (frame 2450/3518) /content/Faces from around the world.mp4: 384x640 1 people, 10.4ms\n",
            "video 1/1 (frame 2451/3518) /content/Faces from around the world.mp4: 384x640 1 people, 13.2ms\n",
            "video 1/1 (frame 2452/3518) /content/Faces from around the world.mp4: 384x640 1 people, 11.2ms\n",
            "video 1/1 (frame 2453/3518) /content/Faces from around the world.mp4: 384x640 1 people, 11.8ms\n",
            "video 1/1 (frame 2454/3518) /content/Faces from around the world.mp4: 384x640 1 people, 14.3ms\n",
            "video 1/1 (frame 2455/3518) /content/Faces from around the world.mp4: 384x640 1 people, 12.8ms\n",
            "video 1/1 (frame 2456/3518) /content/Faces from around the world.mp4: 384x640 1 people, 10.9ms\n",
            "video 1/1 (frame 2457/3518) /content/Faces from around the world.mp4: 384x640 1 people, 12.8ms\n",
            "video 1/1 (frame 2458/3518) /content/Faces from around the world.mp4: 384x640 (no detections), 13.2ms\n",
            "video 1/1 (frame 2459/3518) /content/Faces from around the world.mp4: 384x640 (no detections), 10.3ms\n",
            "video 1/1 (frame 2460/3518) /content/Faces from around the world.mp4: 384x640 (no detections), 10.5ms\n",
            "video 1/1 (frame 2461/3518) /content/Faces from around the world.mp4: 384x640 (no detections), 11.7ms\n",
            "video 1/1 (frame 2462/3518) /content/Faces from around the world.mp4: 384x640 (no detections), 13.1ms\n",
            "video 1/1 (frame 2463/3518) /content/Faces from around the world.mp4: 384x640 (no detections), 10.4ms\n",
            "video 1/1 (frame 2464/3518) /content/Faces from around the world.mp4: 384x640 (no detections), 11.6ms\n",
            "video 1/1 (frame 2465/3518) /content/Faces from around the world.mp4: 384x640 (no detections), 12.4ms\n",
            "video 1/1 (frame 2466/3518) /content/Faces from around the world.mp4: 384x640 (no detections), 12.5ms\n",
            "video 1/1 (frame 2467/3518) /content/Faces from around the world.mp4: 384x640 (no detections), 11.7ms\n",
            "video 1/1 (frame 2468/3518) /content/Faces from around the world.mp4: 384x640 (no detections), 13.1ms\n",
            "video 1/1 (frame 2469/3518) /content/Faces from around the world.mp4: 384x640 (no detections), 12.7ms\n",
            "video 1/1 (frame 2470/3518) /content/Faces from around the world.mp4: 384x640 (no detections), 11.2ms\n",
            "video 1/1 (frame 2471/3518) /content/Faces from around the world.mp4: 384x640 (no detections), 12.9ms\n",
            "video 1/1 (frame 2472/3518) /content/Faces from around the world.mp4: 384x640 (no detections), 10.9ms\n",
            "video 1/1 (frame 2473/3518) /content/Faces from around the world.mp4: 384x640 (no detections), 10.7ms\n",
            "video 1/1 (frame 2474/3518) /content/Faces from around the world.mp4: 384x640 1 people, 11.8ms\n",
            "video 1/1 (frame 2475/3518) /content/Faces from around the world.mp4: 384x640 1 people, 11.6ms\n",
            "video 1/1 (frame 2476/3518) /content/Faces from around the world.mp4: 384x640 1 people, 11.5ms\n",
            "video 1/1 (frame 2477/3518) /content/Faces from around the world.mp4: 384x640 1 people, 9.7ms\n",
            "video 1/1 (frame 2478/3518) /content/Faces from around the world.mp4: 384x640 1 people, 11.7ms\n",
            "video 1/1 (frame 2479/3518) /content/Faces from around the world.mp4: 384x640 1 people, 12.4ms\n",
            "video 1/1 (frame 2480/3518) /content/Faces from around the world.mp4: 384x640 1 people, 12.0ms\n",
            "video 1/1 (frame 2481/3518) /content/Faces from around the world.mp4: 384x640 1 people, 13.1ms\n",
            "video 1/1 (frame 2482/3518) /content/Faces from around the world.mp4: 384x640 1 people, 13.2ms\n",
            "video 1/1 (frame 2483/3518) /content/Faces from around the world.mp4: 384x640 1 people, 11.6ms\n",
            "video 1/1 (frame 2484/3518) /content/Faces from around the world.mp4: 384x640 1 people, 14.6ms\n",
            "video 1/1 (frame 2485/3518) /content/Faces from around the world.mp4: 384x640 1 people, 10.6ms\n",
            "video 1/1 (frame 2486/3518) /content/Faces from around the world.mp4: 384x640 1 people, 13.9ms\n",
            "video 1/1 (frame 2487/3518) /content/Faces from around the world.mp4: 384x640 1 people, 12.3ms\n",
            "video 1/1 (frame 2488/3518) /content/Faces from around the world.mp4: 384x640 1 people, 30.6ms\n",
            "video 1/1 (frame 2489/3518) /content/Faces from around the world.mp4: 384x640 1 people, 13.3ms\n",
            "video 1/1 (frame 2490/3518) /content/Faces from around the world.mp4: 384x640 1 people, 12.0ms\n",
            "video 1/1 (frame 2491/3518) /content/Faces from around the world.mp4: 384x640 1 people, 17.1ms\n",
            "video 1/1 (frame 2492/3518) /content/Faces from around the world.mp4: 384x640 1 people, 11.1ms\n",
            "video 1/1 (frame 2493/3518) /content/Faces from around the world.mp4: 384x640 1 people, 13.0ms\n",
            "video 1/1 (frame 2494/3518) /content/Faces from around the world.mp4: 384x640 1 people, 13.0ms\n",
            "video 1/1 (frame 2495/3518) /content/Faces from around the world.mp4: 384x640 1 people, 11.9ms\n",
            "video 1/1 (frame 2496/3518) /content/Faces from around the world.mp4: 384x640 1 people, 14.0ms\n",
            "video 1/1 (frame 2497/3518) /content/Faces from around the world.mp4: 384x640 1 people, 11.6ms\n",
            "video 1/1 (frame 2498/3518) /content/Faces from around the world.mp4: 384x640 1 people, 15.5ms\n",
            "video 1/1 (frame 2499/3518) /content/Faces from around the world.mp4: 384x640 1 people, 13.3ms\n",
            "video 1/1 (frame 2500/3518) /content/Faces from around the world.mp4: 384x640 1 people, 13.6ms\n",
            "video 1/1 (frame 2501/3518) /content/Faces from around the world.mp4: 384x640 1 people, 13.2ms\n",
            "video 1/1 (frame 2502/3518) /content/Faces from around the world.mp4: 384x640 1 people, 11.6ms\n",
            "video 1/1 (frame 2503/3518) /content/Faces from around the world.mp4: 384x640 1 people, 13.8ms\n",
            "video 1/1 (frame 2504/3518) /content/Faces from around the world.mp4: 384x640 1 people, 11.2ms\n",
            "video 1/1 (frame 2505/3518) /content/Faces from around the world.mp4: 384x640 1 people, 12.0ms\n",
            "video 1/1 (frame 2506/3518) /content/Faces from around the world.mp4: 384x640 1 people, 11.9ms\n",
            "video 1/1 (frame 2507/3518) /content/Faces from around the world.mp4: 384x640 1 people, 14.0ms\n",
            "video 1/1 (frame 2508/3518) /content/Faces from around the world.mp4: 384x640 1 people, 12.0ms\n",
            "video 1/1 (frame 2509/3518) /content/Faces from around the world.mp4: 384x640 1 people, 12.2ms\n",
            "video 1/1 (frame 2510/3518) /content/Faces from around the world.mp4: 384x640 1 people, 11.9ms\n",
            "video 1/1 (frame 2511/3518) /content/Faces from around the world.mp4: 384x640 1 people, 13.4ms\n",
            "video 1/1 (frame 2512/3518) /content/Faces from around the world.mp4: 384x640 1 people, 11.0ms\n",
            "video 1/1 (frame 2513/3518) /content/Faces from around the world.mp4: 384x640 1 people, 12.3ms\n",
            "video 1/1 (frame 2514/3518) /content/Faces from around the world.mp4: 384x640 1 people, 11.8ms\n",
            "video 1/1 (frame 2515/3518) /content/Faces from around the world.mp4: 384x640 1 people, 11.9ms\n",
            "video 1/1 (frame 2516/3518) /content/Faces from around the world.mp4: 384x640 1 people, 11.6ms\n",
            "video 1/1 (frame 2517/3518) /content/Faces from around the world.mp4: 384x640 1 people, 14.0ms\n",
            "video 1/1 (frame 2518/3518) /content/Faces from around the world.mp4: 384x640 1 people, 11.2ms\n",
            "video 1/1 (frame 2519/3518) /content/Faces from around the world.mp4: 384x640 1 people, 13.8ms\n",
            "video 1/1 (frame 2520/3518) /content/Faces from around the world.mp4: 384x640 1 people, 14.0ms\n",
            "video 1/1 (frame 2521/3518) /content/Faces from around the world.mp4: 384x640 1 people, 14.8ms\n",
            "video 1/1 (frame 2522/3518) /content/Faces from around the world.mp4: 384x640 1 people, 12.8ms\n",
            "video 1/1 (frame 2523/3518) /content/Faces from around the world.mp4: 384x640 1 people, 14.7ms\n",
            "video 1/1 (frame 2524/3518) /content/Faces from around the world.mp4: 384x640 1 people, 12.3ms\n",
            "video 1/1 (frame 2525/3518) /content/Faces from around the world.mp4: 384x640 1 people, 12.4ms\n",
            "video 1/1 (frame 2526/3518) /content/Faces from around the world.mp4: 384x640 1 people, 16.4ms\n",
            "video 1/1 (frame 2527/3518) /content/Faces from around the world.mp4: 384x640 1 people, 10.6ms\n",
            "video 1/1 (frame 2528/3518) /content/Faces from around the world.mp4: 384x640 1 people, 13.9ms\n",
            "video 1/1 (frame 2529/3518) /content/Faces from around the world.mp4: 384x640 1 people, 24.2ms\n",
            "video 1/1 (frame 2530/3518) /content/Faces from around the world.mp4: 384x640 1 people, 17.8ms\n",
            "video 1/1 (frame 2531/3518) /content/Faces from around the world.mp4: 384x640 1 people, 11.3ms\n",
            "video 1/1 (frame 2532/3518) /content/Faces from around the world.mp4: 384x640 1 people, 12.1ms\n",
            "video 1/1 (frame 2533/3518) /content/Faces from around the world.mp4: 384x640 1 people, 11.9ms\n",
            "video 1/1 (frame 2534/3518) /content/Faces from around the world.mp4: 384x640 1 people, 11.9ms\n",
            "video 1/1 (frame 2535/3518) /content/Faces from around the world.mp4: 384x640 1 people, 10.9ms\n",
            "video 1/1 (frame 2536/3518) /content/Faces from around the world.mp4: 384x640 1 people, 12.6ms\n",
            "video 1/1 (frame 2537/3518) /content/Faces from around the world.mp4: 384x640 1 people, 11.0ms\n",
            "video 1/1 (frame 2538/3518) /content/Faces from around the world.mp4: 384x640 1 people, 12.3ms\n",
            "video 1/1 (frame 2539/3518) /content/Faces from around the world.mp4: 384x640 1 people, 11.7ms\n",
            "video 1/1 (frame 2540/3518) /content/Faces from around the world.mp4: 384x640 1 people, 13.3ms\n",
            "video 1/1 (frame 2541/3518) /content/Faces from around the world.mp4: 384x640 1 people, 15.0ms\n",
            "video 1/1 (frame 2542/3518) /content/Faces from around the world.mp4: 384x640 1 people, 12.0ms\n",
            "video 1/1 (frame 2543/3518) /content/Faces from around the world.mp4: 384x640 1 people, 11.6ms\n",
            "video 1/1 (frame 2544/3518) /content/Faces from around the world.mp4: 384x640 1 people, 15.8ms\n",
            "video 1/1 (frame 2545/3518) /content/Faces from around the world.mp4: 384x640 1 people, 11.4ms\n",
            "video 1/1 (frame 2546/3518) /content/Faces from around the world.mp4: 384x640 1 people, 12.5ms\n",
            "video 1/1 (frame 2547/3518) /content/Faces from around the world.mp4: 384x640 1 people, 11.6ms\n",
            "video 1/1 (frame 2548/3518) /content/Faces from around the world.mp4: 384x640 1 people, 11.8ms\n",
            "video 1/1 (frame 2549/3518) /content/Faces from around the world.mp4: 384x640 1 people, 11.3ms\n",
            "video 1/1 (frame 2550/3518) /content/Faces from around the world.mp4: 384x640 1 people, 11.9ms\n",
            "video 1/1 (frame 2551/3518) /content/Faces from around the world.mp4: 384x640 1 people, 11.1ms\n",
            "video 1/1 (frame 2552/3518) /content/Faces from around the world.mp4: 384x640 1 people, 13.7ms\n",
            "video 1/1 (frame 2553/3518) /content/Faces from around the world.mp4: 384x640 1 people, 13.4ms\n",
            "video 1/1 (frame 2554/3518) /content/Faces from around the world.mp4: 384x640 1 people, 12.2ms\n",
            "video 1/1 (frame 2555/3518) /content/Faces from around the world.mp4: 384x640 1 people, 10.7ms\n",
            "video 1/1 (frame 2556/3518) /content/Faces from around the world.mp4: 384x640 1 people, 13.3ms\n",
            "video 1/1 (frame 2557/3518) /content/Faces from around the world.mp4: 384x640 1 people, 12.5ms\n",
            "video 1/1 (frame 2558/3518) /content/Faces from around the world.mp4: 384x640 1 people, 12.6ms\n",
            "video 1/1 (frame 2559/3518) /content/Faces from around the world.mp4: 384x640 1 people, 12.7ms\n",
            "video 1/1 (frame 2560/3518) /content/Faces from around the world.mp4: 384x640 1 people, 11.3ms\n",
            "video 1/1 (frame 2561/3518) /content/Faces from around the world.mp4: 384x640 1 people, 12.6ms\n",
            "video 1/1 (frame 2562/3518) /content/Faces from around the world.mp4: 384x640 1 people, 13.7ms\n",
            "video 1/1 (frame 2563/3518) /content/Faces from around the world.mp4: 384x640 1 people, 13.3ms\n",
            "video 1/1 (frame 2564/3518) /content/Faces from around the world.mp4: 384x640 1 people, 14.3ms\n",
            "video 1/1 (frame 2565/3518) /content/Faces from around the world.mp4: 384x640 1 people, 11.5ms\n",
            "video 1/1 (frame 2566/3518) /content/Faces from around the world.mp4: 384x640 1 people, 13.6ms\n",
            "video 1/1 (frame 2567/3518) /content/Faces from around the world.mp4: 384x640 1 people, 11.7ms\n",
            "video 1/1 (frame 2568/3518) /content/Faces from around the world.mp4: 384x640 1 people, 13.0ms\n",
            "video 1/1 (frame 2569/3518) /content/Faces from around the world.mp4: 384x640 1 people, 11.9ms\n",
            "video 1/1 (frame 2570/3518) /content/Faces from around the world.mp4: 384x640 1 people, 19.9ms\n",
            "video 1/1 (frame 2571/3518) /content/Faces from around the world.mp4: 384x640 1 people, 15.9ms\n",
            "video 1/1 (frame 2572/3518) /content/Faces from around the world.mp4: 384x640 1 people, 13.3ms\n",
            "video 1/1 (frame 2573/3518) /content/Faces from around the world.mp4: 384x640 1 people, 11.5ms\n",
            "video 1/1 (frame 2574/3518) /content/Faces from around the world.mp4: 384x640 1 people, 13.8ms\n",
            "video 1/1 (frame 2575/3518) /content/Faces from around the world.mp4: 384x640 1 people, 13.3ms\n",
            "video 1/1 (frame 2576/3518) /content/Faces from around the world.mp4: 384x640 1 people, 12.5ms\n",
            "video 1/1 (frame 2577/3518) /content/Faces from around the world.mp4: 384x640 1 people, 10.6ms\n",
            "video 1/1 (frame 2578/3518) /content/Faces from around the world.mp4: 384x640 1 people, 12.0ms\n",
            "video 1/1 (frame 2579/3518) /content/Faces from around the world.mp4: 384x640 1 people, 11.1ms\n",
            "video 1/1 (frame 2580/3518) /content/Faces from around the world.mp4: 384x640 1 people, 11.8ms\n",
            "video 1/1 (frame 2581/3518) /content/Faces from around the world.mp4: 384x640 1 people, 11.0ms\n",
            "video 1/1 (frame 2582/3518) /content/Faces from around the world.mp4: 384x640 1 people, 17.2ms\n",
            "video 1/1 (frame 2583/3518) /content/Faces from around the world.mp4: 384x640 1 people, 22.2ms\n",
            "video 1/1 (frame 2584/3518) /content/Faces from around the world.mp4: 384x640 1 people, 15.7ms\n",
            "video 1/1 (frame 2585/3518) /content/Faces from around the world.mp4: 384x640 1 people, 24.7ms\n",
            "video 1/1 (frame 2586/3518) /content/Faces from around the world.mp4: 384x640 1 people, 16.9ms\n",
            "video 1/1 (frame 2587/3518) /content/Faces from around the world.mp4: 384x640 1 people, 17.7ms\n",
            "video 1/1 (frame 2588/3518) /content/Faces from around the world.mp4: 384x640 1 people, 20.4ms\n",
            "video 1/1 (frame 2589/3518) /content/Faces from around the world.mp4: 384x640 1 people, 19.9ms\n",
            "video 1/1 (frame 2590/3518) /content/Faces from around the world.mp4: 384x640 1 people, 14.2ms\n",
            "video 1/1 (frame 2591/3518) /content/Faces from around the world.mp4: 384x640 1 people, 15.5ms\n",
            "video 1/1 (frame 2592/3518) /content/Faces from around the world.mp4: 384x640 1 people, 20.8ms\n",
            "video 1/1 (frame 2593/3518) /content/Faces from around the world.mp4: 384x640 1 people, 19.5ms\n",
            "video 1/1 (frame 2594/3518) /content/Faces from around the world.mp4: 384x640 1 people, 21.1ms\n",
            "video 1/1 (frame 2595/3518) /content/Faces from around the world.mp4: 384x640 1 people, 20.1ms\n",
            "video 1/1 (frame 2596/3518) /content/Faces from around the world.mp4: 384x640 1 people, 21.2ms\n",
            "video 1/1 (frame 2597/3518) /content/Faces from around the world.mp4: 384x640 1 people, 17.4ms\n",
            "video 1/1 (frame 2598/3518) /content/Faces from around the world.mp4: 384x640 1 people, 17.5ms\n",
            "video 1/1 (frame 2599/3518) /content/Faces from around the world.mp4: 384x640 1 people, 21.7ms\n",
            "video 1/1 (frame 2600/3518) /content/Faces from around the world.mp4: 384x640 1 people, 13.7ms\n",
            "video 1/1 (frame 2601/3518) /content/Faces from around the world.mp4: 384x640 1 people, 15.0ms\n",
            "video 1/1 (frame 2602/3518) /content/Faces from around the world.mp4: 384x640 1 people, 22.1ms\n",
            "video 1/1 (frame 2603/3518) /content/Faces from around the world.mp4: 384x640 1 people, 15.6ms\n",
            "video 1/1 (frame 2604/3518) /content/Faces from around the world.mp4: 384x640 1 people, 23.0ms\n",
            "video 1/1 (frame 2605/3518) /content/Faces from around the world.mp4: 384x640 1 people, 19.3ms\n",
            "video 1/1 (frame 2606/3518) /content/Faces from around the world.mp4: 384x640 1 people, 19.3ms\n",
            "video 1/1 (frame 2607/3518) /content/Faces from around the world.mp4: 384x640 1 people, 14.7ms\n",
            "video 1/1 (frame 2608/3518) /content/Faces from around the world.mp4: 384x640 1 people, 14.2ms\n",
            "video 1/1 (frame 2609/3518) /content/Faces from around the world.mp4: 384x640 1 people, 14.5ms\n",
            "video 1/1 (frame 2610/3518) /content/Faces from around the world.mp4: 384x640 1 people, 14.7ms\n",
            "video 1/1 (frame 2611/3518) /content/Faces from around the world.mp4: 384x640 1 people, 14.1ms\n",
            "video 1/1 (frame 2612/3518) /content/Faces from around the world.mp4: 384x640 (no detections), 14.5ms\n",
            "video 1/1 (frame 2613/3518) /content/Faces from around the world.mp4: 384x640 1 people, 15.5ms\n",
            "video 1/1 (frame 2614/3518) /content/Faces from around the world.mp4: 384x640 2 peoples, 17.1ms\n",
            "video 1/1 (frame 2615/3518) /content/Faces from around the world.mp4: 384x640 2 peoples, 14.0ms\n",
            "video 1/1 (frame 2616/3518) /content/Faces from around the world.mp4: 384x640 2 peoples, 15.2ms\n",
            "video 1/1 (frame 2617/3518) /content/Faces from around the world.mp4: 384x640 2 peoples, 14.5ms\n",
            "video 1/1 (frame 2618/3518) /content/Faces from around the world.mp4: 384x640 1 people, 15.1ms\n",
            "video 1/1 (frame 2619/3518) /content/Faces from around the world.mp4: 384x640 1 people, 15.2ms\n",
            "video 1/1 (frame 2620/3518) /content/Faces from around the world.mp4: 384x640 1 people, 13.9ms\n",
            "video 1/1 (frame 2621/3518) /content/Faces from around the world.mp4: 384x640 2 peoples, 12.6ms\n",
            "video 1/1 (frame 2622/3518) /content/Faces from around the world.mp4: 384x640 2 peoples, 14.2ms\n",
            "video 1/1 (frame 2623/3518) /content/Faces from around the world.mp4: 384x640 1 people, 14.3ms\n",
            "video 1/1 (frame 2624/3518) /content/Faces from around the world.mp4: 384x640 2 peoples, 14.8ms\n",
            "video 1/1 (frame 2625/3518) /content/Faces from around the world.mp4: 384x640 2 peoples, 16.3ms\n",
            "video 1/1 (frame 2626/3518) /content/Faces from around the world.mp4: 384x640 1 people, 16.0ms\n",
            "video 1/1 (frame 2627/3518) /content/Faces from around the world.mp4: 384x640 2 peoples, 19.0ms\n",
            "video 1/1 (frame 2628/3518) /content/Faces from around the world.mp4: 384x640 2 peoples, 14.8ms\n",
            "video 1/1 (frame 2629/3518) /content/Faces from around the world.mp4: 384x640 1 people, 14.0ms\n",
            "video 1/1 (frame 2630/3518) /content/Faces from around the world.mp4: 384x640 1 people, 14.4ms\n",
            "video 1/1 (frame 2631/3518) /content/Faces from around the world.mp4: 384x640 1 people, 13.1ms\n",
            "video 1/1 (frame 2632/3518) /content/Faces from around the world.mp4: 384x640 2 peoples, 12.2ms\n",
            "video 1/1 (frame 2633/3518) /content/Faces from around the world.mp4: 384x640 1 people, 14.4ms\n",
            "video 1/1 (frame 2634/3518) /content/Faces from around the world.mp4: 384x640 2 peoples, 15.4ms\n",
            "video 1/1 (frame 2635/3518) /content/Faces from around the world.mp4: 384x640 2 peoples, 13.8ms\n",
            "video 1/1 (frame 2636/3518) /content/Faces from around the world.mp4: 384x640 1 people, 13.8ms\n",
            "video 1/1 (frame 2637/3518) /content/Faces from around the world.mp4: 384x640 1 people, 14.4ms\n",
            "video 1/1 (frame 2638/3518) /content/Faces from around the world.mp4: 384x640 1 people, 14.3ms\n",
            "video 1/1 (frame 2639/3518) /content/Faces from around the world.mp4: 384x640 1 people, 12.2ms\n",
            "video 1/1 (frame 2640/3518) /content/Faces from around the world.mp4: 384x640 1 people, 13.2ms\n",
            "video 1/1 (frame 2641/3518) /content/Faces from around the world.mp4: 384x640 1 people, 14.0ms\n",
            "video 1/1 (frame 2642/3518) /content/Faces from around the world.mp4: 384x640 1 people, 16.6ms\n",
            "video 1/1 (frame 2643/3518) /content/Faces from around the world.mp4: 384x640 1 people, 20.6ms\n",
            "video 1/1 (frame 2644/3518) /content/Faces from around the world.mp4: 384x640 (no detections), 17.3ms\n",
            "video 1/1 (frame 2645/3518) /content/Faces from around the world.mp4: 384x640 (no detections), 19.0ms\n",
            "video 1/1 (frame 2646/3518) /content/Faces from around the world.mp4: 384x640 (no detections), 13.5ms\n",
            "video 1/1 (frame 2647/3518) /content/Faces from around the world.mp4: 384x640 1 people, 13.2ms\n",
            "video 1/1 (frame 2648/3518) /content/Faces from around the world.mp4: 384x640 1 people, 12.9ms\n",
            "video 1/1 (frame 2649/3518) /content/Faces from around the world.mp4: 384x640 1 people, 17.3ms\n",
            "video 1/1 (frame 2650/3518) /content/Faces from around the world.mp4: 384x640 3 peoples, 23.5ms\n",
            "video 1/1 (frame 2651/3518) /content/Faces from around the world.mp4: 384x640 3 peoples, 24.0ms\n",
            "video 1/1 (frame 2652/3518) /content/Faces from around the world.mp4: 384x640 3 peoples, 14.9ms\n",
            "video 1/1 (frame 2653/3518) /content/Faces from around the world.mp4: 384x640 3 peoples, 18.7ms\n",
            "video 1/1 (frame 2654/3518) /content/Faces from around the world.mp4: 384x640 3 peoples, 16.8ms\n",
            "video 1/1 (frame 2655/3518) /content/Faces from around the world.mp4: 384x640 3 peoples, 20.5ms\n",
            "video 1/1 (frame 2656/3518) /content/Faces from around the world.mp4: 384x640 2 peoples, 17.3ms\n",
            "video 1/1 (frame 2657/3518) /content/Faces from around the world.mp4: 384x640 3 peoples, 13.5ms\n",
            "video 1/1 (frame 2658/3518) /content/Faces from around the world.mp4: 384x640 2 peoples, 21.3ms\n",
            "video 1/1 (frame 2659/3518) /content/Faces from around the world.mp4: 384x640 2 peoples, 14.1ms\n",
            "video 1/1 (frame 2660/3518) /content/Faces from around the world.mp4: 384x640 2 peoples, 20.6ms\n",
            "video 1/1 (frame 2661/3518) /content/Faces from around the world.mp4: 384x640 2 peoples, 15.5ms\n",
            "video 1/1 (frame 2662/3518) /content/Faces from around the world.mp4: 384x640 2 peoples, 27.6ms\n",
            "video 1/1 (frame 2663/3518) /content/Faces from around the world.mp4: 384x640 2 peoples, 19.5ms\n",
            "video 1/1 (frame 2664/3518) /content/Faces from around the world.mp4: 384x640 2 peoples, 18.1ms\n",
            "video 1/1 (frame 2665/3518) /content/Faces from around the world.mp4: 384x640 2 peoples, 13.7ms\n",
            "video 1/1 (frame 2666/3518) /content/Faces from around the world.mp4: 384x640 2 peoples, 19.2ms\n",
            "video 1/1 (frame 2667/3518) /content/Faces from around the world.mp4: 384x640 1 people, 16.1ms\n",
            "video 1/1 (frame 2668/3518) /content/Faces from around the world.mp4: 384x640 4 peoples, 19.0ms\n",
            "video 1/1 (frame 2669/3518) /content/Faces from around the world.mp4: 384x640 3 peoples, 19.1ms\n",
            "video 1/1 (frame 2670/3518) /content/Faces from around the world.mp4: 384x640 3 peoples, 27.9ms\n",
            "video 1/1 (frame 2671/3518) /content/Faces from around the world.mp4: 384x640 3 peoples, 19.4ms\n",
            "video 1/1 (frame 2672/3518) /content/Faces from around the world.mp4: 384x640 3 peoples, 26.6ms\n",
            "video 1/1 (frame 2673/3518) /content/Faces from around the world.mp4: 384x640 2 peoples, 20.7ms\n",
            "video 1/1 (frame 2674/3518) /content/Faces from around the world.mp4: 384x640 2 peoples, 12.6ms\n",
            "video 1/1 (frame 2675/3518) /content/Faces from around the world.mp4: 384x640 2 peoples, 10.3ms\n",
            "video 1/1 (frame 2676/3518) /content/Faces from around the world.mp4: 384x640 3 peoples, 14.7ms\n",
            "video 1/1 (frame 2677/3518) /content/Faces from around the world.mp4: 384x640 3 peoples, 13.9ms\n",
            "video 1/1 (frame 2678/3518) /content/Faces from around the world.mp4: 384x640 3 peoples, 28.9ms\n",
            "video 1/1 (frame 2679/3518) /content/Faces from around the world.mp4: 384x640 2 peoples, 33.6ms\n",
            "video 1/1 (frame 2680/3518) /content/Faces from around the world.mp4: 384x640 2 peoples, 27.4ms\n",
            "video 1/1 (frame 2681/3518) /content/Faces from around the world.mp4: 384x640 2 peoples, 62.5ms\n",
            "video 1/1 (frame 2682/3518) /content/Faces from around the world.mp4: 384x640 2 peoples, 17.0ms\n",
            "video 1/1 (frame 2683/3518) /content/Faces from around the world.mp4: 384x640 1 people, 14.2ms\n",
            "video 1/1 (frame 2684/3518) /content/Faces from around the world.mp4: 384x640 2 peoples, 16.6ms\n",
            "video 1/1 (frame 2685/3518) /content/Faces from around the world.mp4: 384x640 2 peoples, 12.2ms\n",
            "video 1/1 (frame 2686/3518) /content/Faces from around the world.mp4: 384x640 1 people, 11.1ms\n",
            "video 1/1 (frame 2687/3518) /content/Faces from around the world.mp4: 384x640 1 people, 11.7ms\n",
            "video 1/1 (frame 2688/3518) /content/Faces from around the world.mp4: 384x640 2 peoples, 11.4ms\n",
            "video 1/1 (frame 2689/3518) /content/Faces from around the world.mp4: 384x640 2 peoples, 9.6ms\n",
            "video 1/1 (frame 2690/3518) /content/Faces from around the world.mp4: 384x640 3 peoples, 12.2ms\n",
            "video 1/1 (frame 2691/3518) /content/Faces from around the world.mp4: 384x640 3 peoples, 11.7ms\n",
            "video 1/1 (frame 2692/3518) /content/Faces from around the world.mp4: 384x640 2 peoples, 14.0ms\n",
            "video 1/1 (frame 2693/3518) /content/Faces from around the world.mp4: 384x640 2 peoples, 11.0ms\n",
            "video 1/1 (frame 2694/3518) /content/Faces from around the world.mp4: 384x640 2 peoples, 12.6ms\n",
            "video 1/1 (frame 2695/3518) /content/Faces from around the world.mp4: 384x640 2 peoples, 12.3ms\n",
            "video 1/1 (frame 2696/3518) /content/Faces from around the world.mp4: 384x640 3 peoples, 10.5ms\n",
            "video 1/1 (frame 2697/3518) /content/Faces from around the world.mp4: 384x640 2 peoples, 11.9ms\n",
            "video 1/1 (frame 2698/3518) /content/Faces from around the world.mp4: 384x640 2 peoples, 11.0ms\n",
            "video 1/1 (frame 2699/3518) /content/Faces from around the world.mp4: 384x640 1 people, 12.0ms\n",
            "video 1/1 (frame 2700/3518) /content/Faces from around the world.mp4: 384x640 1 people, 11.1ms\n",
            "video 1/1 (frame 2701/3518) /content/Faces from around the world.mp4: 384x640 1 people, 24.7ms\n",
            "video 1/1 (frame 2702/3518) /content/Faces from around the world.mp4: 384x640 1 people, 50.5ms\n",
            "video 1/1 (frame 2703/3518) /content/Faces from around the world.mp4: 384x640 1 people, 47.2ms\n",
            "video 1/1 (frame 2704/3518) /content/Faces from around the world.mp4: 384x640 1 people, 45.0ms\n",
            "video 1/1 (frame 2705/3518) /content/Faces from around the world.mp4: 384x640 1 people, 26.9ms\n",
            "video 1/1 (frame 2706/3518) /content/Faces from around the world.mp4: 384x640 1 people, 28.4ms\n",
            "video 1/1 (frame 2707/3518) /content/Faces from around the world.mp4: 384x640 1 people, 14.1ms\n",
            "video 1/1 (frame 2708/3518) /content/Faces from around the world.mp4: 384x640 1 people, 14.5ms\n",
            "video 1/1 (frame 2709/3518) /content/Faces from around the world.mp4: 384x640 1 people, 11.6ms\n",
            "video 1/1 (frame 2710/3518) /content/Faces from around the world.mp4: 384x640 2 peoples, 12.4ms\n",
            "video 1/1 (frame 2711/3518) /content/Faces from around the world.mp4: 384x640 2 peoples, 11.1ms\n",
            "video 1/1 (frame 2712/3518) /content/Faces from around the world.mp4: 384x640 1 people, 12.4ms\n",
            "video 1/1 (frame 2713/3518) /content/Faces from around the world.mp4: 384x640 1 people, 13.2ms\n",
            "video 1/1 (frame 2714/3518) /content/Faces from around the world.mp4: 384x640 1 people, 11.9ms\n",
            "video 1/1 (frame 2715/3518) /content/Faces from around the world.mp4: 384x640 1 people, 9.7ms\n",
            "video 1/1 (frame 2716/3518) /content/Faces from around the world.mp4: 384x640 1 people, 12.2ms\n",
            "video 1/1 (frame 2717/3518) /content/Faces from around the world.mp4: 384x640 1 people, 12.3ms\n",
            "video 1/1 (frame 2718/3518) /content/Faces from around the world.mp4: 384x640 1 people, 11.1ms\n",
            "video 1/1 (frame 2719/3518) /content/Faces from around the world.mp4: 384x640 1 people, 12.4ms\n",
            "video 1/1 (frame 2720/3518) /content/Faces from around the world.mp4: 384x640 (no detections), 11.6ms\n",
            "video 1/1 (frame 2721/3518) /content/Faces from around the world.mp4: 384x640 (no detections), 12.3ms\n",
            "video 1/1 (frame 2722/3518) /content/Faces from around the world.mp4: 384x640 (no detections), 14.4ms\n",
            "video 1/1 (frame 2723/3518) /content/Faces from around the world.mp4: 384x640 (no detections), 12.3ms\n",
            "video 1/1 (frame 2724/3518) /content/Faces from around the world.mp4: 384x640 (no detections), 14.3ms\n",
            "video 1/1 (frame 2725/3518) /content/Faces from around the world.mp4: 384x640 1 people, 13.6ms\n",
            "video 1/1 (frame 2726/3518) /content/Faces from around the world.mp4: 384x640 (no detections), 11.4ms\n",
            "video 1/1 (frame 2727/3518) /content/Faces from around the world.mp4: 384x640 (no detections), 12.1ms\n",
            "video 1/1 (frame 2728/3518) /content/Faces from around the world.mp4: 384x640 (no detections), 11.2ms\n",
            "video 1/1 (frame 2729/3518) /content/Faces from around the world.mp4: 384x640 (no detections), 12.3ms\n",
            "video 1/1 (frame 2730/3518) /content/Faces from around the world.mp4: 384x640 (no detections), 48.0ms\n",
            "video 1/1 (frame 2731/3518) /content/Faces from around the world.mp4: 384x640 (no detections), 89.4ms\n",
            "video 1/1 (frame 2732/3518) /content/Faces from around the world.mp4: 384x640 (no detections), 46.8ms\n",
            "video 1/1 (frame 2733/3518) /content/Faces from around the world.mp4: 384x640 (no detections), 30.4ms\n",
            "video 1/1 (frame 2734/3518) /content/Faces from around the world.mp4: 384x640 (no detections), 11.4ms\n",
            "video 1/1 (frame 2735/3518) /content/Faces from around the world.mp4: 384x640 (no detections), 11.5ms\n",
            "video 1/1 (frame 2736/3518) /content/Faces from around the world.mp4: 384x640 (no detections), 12.4ms\n",
            "video 1/1 (frame 2737/3518) /content/Faces from around the world.mp4: 384x640 (no detections), 13.2ms\n",
            "video 1/1 (frame 2738/3518) /content/Faces from around the world.mp4: 384x640 (no detections), 13.6ms\n",
            "video 1/1 (frame 2739/3518) /content/Faces from around the world.mp4: 384x640 1 people, 12.0ms\n",
            "video 1/1 (frame 2740/3518) /content/Faces from around the world.mp4: 384x640 1 people, 14.3ms\n",
            "video 1/1 (frame 2741/3518) /content/Faces from around the world.mp4: 384x640 1 people, 12.1ms\n",
            "video 1/1 (frame 2742/3518) /content/Faces from around the world.mp4: 384x640 1 people, 9.6ms\n",
            "video 1/1 (frame 2743/3518) /content/Faces from around the world.mp4: 384x640 1 people, 14.3ms\n",
            "video 1/1 (frame 2744/3518) /content/Faces from around the world.mp4: 384x640 1 people, 12.2ms\n",
            "video 1/1 (frame 2745/3518) /content/Faces from around the world.mp4: 384x640 1 people, 12.1ms\n",
            "video 1/1 (frame 2746/3518) /content/Faces from around the world.mp4: 384x640 1 people, 9.8ms\n",
            "video 1/1 (frame 2747/3518) /content/Faces from around the world.mp4: 384x640 1 people, 11.9ms\n",
            "video 1/1 (frame 2748/3518) /content/Faces from around the world.mp4: 384x640 1 people, 11.9ms\n",
            "video 1/1 (frame 2749/3518) /content/Faces from around the world.mp4: 384x640 1 people, 12.7ms\n",
            "video 1/1 (frame 2750/3518) /content/Faces from around the world.mp4: 384x640 1 people, 12.2ms\n",
            "video 1/1 (frame 2751/3518) /content/Faces from around the world.mp4: 384x640 1 people, 11.7ms\n",
            "video 1/1 (frame 2752/3518) /content/Faces from around the world.mp4: 384x640 1 people, 10.8ms\n",
            "video 1/1 (frame 2753/3518) /content/Faces from around the world.mp4: 384x640 1 people, 11.8ms\n",
            "video 1/1 (frame 2754/3518) /content/Faces from around the world.mp4: 384x640 1 people, 10.5ms\n",
            "video 1/1 (frame 2755/3518) /content/Faces from around the world.mp4: 384x640 1 people, 13.8ms\n",
            "video 1/1 (frame 2756/3518) /content/Faces from around the world.mp4: 384x640 1 people, 12.8ms\n",
            "video 1/1 (frame 2757/3518) /content/Faces from around the world.mp4: 384x640 1 people, 11.3ms\n",
            "video 1/1 (frame 2758/3518) /content/Faces from around the world.mp4: 384x640 1 people, 12.2ms\n",
            "video 1/1 (frame 2759/3518) /content/Faces from around the world.mp4: 384x640 1 people, 10.8ms\n",
            "video 1/1 (frame 2760/3518) /content/Faces from around the world.mp4: 384x640 1 people, 12.2ms\n",
            "video 1/1 (frame 2761/3518) /content/Faces from around the world.mp4: 384x640 2 peoples, 14.2ms\n",
            "video 1/1 (frame 2762/3518) /content/Faces from around the world.mp4: 384x640 2 peoples, 13.2ms\n",
            "video 1/1 (frame 2763/3518) /content/Faces from around the world.mp4: 384x640 1 people, 11.6ms\n",
            "video 1/1 (frame 2764/3518) /content/Faces from around the world.mp4: 384x640 1 people, 10.8ms\n",
            "video 1/1 (frame 2765/3518) /content/Faces from around the world.mp4: 384x640 2 peoples, 12.1ms\n",
            "video 1/1 (frame 2766/3518) /content/Faces from around the world.mp4: 384x640 2 peoples, 9.7ms\n",
            "video 1/1 (frame 2767/3518) /content/Faces from around the world.mp4: 384x640 2 peoples, 13.3ms\n",
            "video 1/1 (frame 2768/3518) /content/Faces from around the world.mp4: 384x640 2 peoples, 21.8ms\n",
            "video 1/1 (frame 2769/3518) /content/Faces from around the world.mp4: 384x640 2 peoples, 11.5ms\n",
            "video 1/1 (frame 2770/3518) /content/Faces from around the world.mp4: 384x640 2 peoples, 11.4ms\n",
            "video 1/1 (frame 2771/3518) /content/Faces from around the world.mp4: 384x640 2 peoples, 13.5ms\n",
            "video 1/1 (frame 2772/3518) /content/Faces from around the world.mp4: 384x640 2 peoples, 11.5ms\n",
            "video 1/1 (frame 2773/3518) /content/Faces from around the world.mp4: 384x640 2 peoples, 12.9ms\n",
            "video 1/1 (frame 2774/3518) /content/Faces from around the world.mp4: 384x640 1 people, 11.6ms\n",
            "video 1/1 (frame 2775/3518) /content/Faces from around the world.mp4: 384x640 1 people, 12.7ms\n",
            "video 1/1 (frame 2776/3518) /content/Faces from around the world.mp4: 384x640 1 people, 11.0ms\n",
            "video 1/1 (frame 2777/3518) /content/Faces from around the world.mp4: 384x640 1 people, 10.5ms\n",
            "video 1/1 (frame 2778/3518) /content/Faces from around the world.mp4: 384x640 1 people, 11.2ms\n",
            "video 1/1 (frame 2779/3518) /content/Faces from around the world.mp4: 384x640 1 people, 12.3ms\n",
            "video 1/1 (frame 2780/3518) /content/Faces from around the world.mp4: 384x640 1 people, 13.8ms\n",
            "video 1/1 (frame 2781/3518) /content/Faces from around the world.mp4: 384x640 1 people, 10.5ms\n",
            "video 1/1 (frame 2782/3518) /content/Faces from around the world.mp4: 384x640 1 people, 13.8ms\n",
            "video 1/1 (frame 2783/3518) /content/Faces from around the world.mp4: 384x640 2 peoples, 14.3ms\n",
            "video 1/1 (frame 2784/3518) /content/Faces from around the world.mp4: 384x640 2 peoples, 11.8ms\n",
            "video 1/1 (frame 2785/3518) /content/Faces from around the world.mp4: 384x640 2 peoples, 13.2ms\n",
            "video 1/1 (frame 2786/3518) /content/Faces from around the world.mp4: 384x640 2 peoples, 13.2ms\n",
            "video 1/1 (frame 2787/3518) /content/Faces from around the world.mp4: 384x640 2 peoples, 9.7ms\n",
            "video 1/1 (frame 2788/3518) /content/Faces from around the world.mp4: 384x640 2 peoples, 11.5ms\n",
            "video 1/1 (frame 2789/3518) /content/Faces from around the world.mp4: 384x640 2 peoples, 10.7ms\n",
            "video 1/1 (frame 2790/3518) /content/Faces from around the world.mp4: 384x640 2 peoples, 11.5ms\n",
            "video 1/1 (frame 2791/3518) /content/Faces from around the world.mp4: 384x640 2 peoples, 11.5ms\n",
            "video 1/1 (frame 2792/3518) /content/Faces from around the world.mp4: 384x640 2 peoples, 12.2ms\n",
            "video 1/1 (frame 2793/3518) /content/Faces from around the world.mp4: 384x640 2 peoples, 11.6ms\n",
            "video 1/1 (frame 2794/3518) /content/Faces from around the world.mp4: 384x640 2 peoples, 11.9ms\n",
            "video 1/1 (frame 2795/3518) /content/Faces from around the world.mp4: 384x640 2 peoples, 11.6ms\n",
            "video 1/1 (frame 2796/3518) /content/Faces from around the world.mp4: 384x640 2 peoples, 13.0ms\n",
            "video 1/1 (frame 2797/3518) /content/Faces from around the world.mp4: 384x640 2 peoples, 12.2ms\n",
            "video 1/1 (frame 2798/3518) /content/Faces from around the world.mp4: 384x640 2 peoples, 11.6ms\n",
            "video 1/1 (frame 2799/3518) /content/Faces from around the world.mp4: 384x640 2 peoples, 10.2ms\n",
            "video 1/1 (frame 2800/3518) /content/Faces from around the world.mp4: 384x640 2 peoples, 12.0ms\n",
            "video 1/1 (frame 2801/3518) /content/Faces from around the world.mp4: 384x640 2 peoples, 11.3ms\n",
            "video 1/1 (frame 2802/3518) /content/Faces from around the world.mp4: 384x640 2 peoples, 15.1ms\n",
            "video 1/1 (frame 2803/3518) /content/Faces from around the world.mp4: 384x640 2 peoples, 12.6ms\n",
            "video 1/1 (frame 2804/3518) /content/Faces from around the world.mp4: 384x640 1 people, 10.9ms\n",
            "video 1/1 (frame 2805/3518) /content/Faces from around the world.mp4: 384x640 2 peoples, 13.1ms\n",
            "video 1/1 (frame 2806/3518) /content/Faces from around the world.mp4: 384x640 2 peoples, 11.5ms\n",
            "video 1/1 (frame 2807/3518) /content/Faces from around the world.mp4: 384x640 2 peoples, 14.4ms\n",
            "video 1/1 (frame 2808/3518) /content/Faces from around the world.mp4: 384x640 2 peoples, 20.9ms\n",
            "video 1/1 (frame 2809/3518) /content/Faces from around the world.mp4: 384x640 2 peoples, 12.6ms\n",
            "video 1/1 (frame 2810/3518) /content/Faces from around the world.mp4: 384x640 2 peoples, 12.6ms\n",
            "video 1/1 (frame 2811/3518) /content/Faces from around the world.mp4: 384x640 2 peoples, 12.3ms\n",
            "video 1/1 (frame 2812/3518) /content/Faces from around the world.mp4: 384x640 2 peoples, 14.0ms\n",
            "video 1/1 (frame 2813/3518) /content/Faces from around the world.mp4: 384x640 2 peoples, 10.4ms\n",
            "video 1/1 (frame 2814/3518) /content/Faces from around the world.mp4: 384x640 2 peoples, 13.2ms\n",
            "video 1/1 (frame 2815/3518) /content/Faces from around the world.mp4: 384x640 2 peoples, 11.7ms\n",
            "video 1/1 (frame 2816/3518) /content/Faces from around the world.mp4: 384x640 2 peoples, 12.6ms\n",
            "video 1/1 (frame 2817/3518) /content/Faces from around the world.mp4: 384x640 1 people, 13.0ms\n",
            "video 1/1 (frame 2818/3518) /content/Faces from around the world.mp4: 384x640 1 people, 12.7ms\n",
            "video 1/1 (frame 2819/3518) /content/Faces from around the world.mp4: 384x640 1 people, 12.4ms\n",
            "video 1/1 (frame 2820/3518) /content/Faces from around the world.mp4: 384x640 1 people, 9.8ms\n",
            "video 1/1 (frame 2821/3518) /content/Faces from around the world.mp4: 384x640 1 people, 12.0ms\n",
            "video 1/1 (frame 2822/3518) /content/Faces from around the world.mp4: 384x640 1 people, 11.9ms\n",
            "video 1/1 (frame 2823/3518) /content/Faces from around the world.mp4: 384x640 1 people, 12.7ms\n",
            "video 1/1 (frame 2824/3518) /content/Faces from around the world.mp4: 384x640 1 people, 11.5ms\n",
            "video 1/1 (frame 2825/3518) /content/Faces from around the world.mp4: 384x640 1 people, 12.2ms\n",
            "video 1/1 (frame 2826/3518) /content/Faces from around the world.mp4: 384x640 1 people, 10.8ms\n",
            "video 1/1 (frame 2827/3518) /content/Faces from around the world.mp4: 384x640 1 people, 12.2ms\n",
            "video 1/1 (frame 2828/3518) /content/Faces from around the world.mp4: 384x640 1 people, 13.3ms\n",
            "video 1/1 (frame 2829/3518) /content/Faces from around the world.mp4: 384x640 1 people, 11.5ms\n",
            "video 1/1 (frame 2830/3518) /content/Faces from around the world.mp4: 384x640 1 people, 15.9ms\n",
            "video 1/1 (frame 2831/3518) /content/Faces from around the world.mp4: 384x640 1 people, 12.5ms\n",
            "video 1/1 (frame 2832/3518) /content/Faces from around the world.mp4: 384x640 1 people, 13.1ms\n",
            "video 1/1 (frame 2833/3518) /content/Faces from around the world.mp4: 384x640 1 people, 10.3ms\n",
            "video 1/1 (frame 2834/3518) /content/Faces from around the world.mp4: 384x640 1 people, 11.1ms\n",
            "video 1/1 (frame 2835/3518) /content/Faces from around the world.mp4: 384x640 1 people, 13.5ms\n",
            "video 1/1 (frame 2836/3518) /content/Faces from around the world.mp4: 384x640 1 people, 12.7ms\n",
            "video 1/1 (frame 2837/3518) /content/Faces from around the world.mp4: 384x640 1 people, 13.8ms\n",
            "video 1/1 (frame 2838/3518) /content/Faces from around the world.mp4: 384x640 1 people, 10.7ms\n",
            "video 1/1 (frame 2839/3518) /content/Faces from around the world.mp4: 384x640 1 people, 11.2ms\n",
            "video 1/1 (frame 2840/3518) /content/Faces from around the world.mp4: 384x640 1 people, 12.5ms\n",
            "video 1/1 (frame 2841/3518) /content/Faces from around the world.mp4: 384x640 1 people, 14.2ms\n",
            "video 1/1 (frame 2842/3518) /content/Faces from around the world.mp4: 384x640 1 people, 14.1ms\n",
            "video 1/1 (frame 2843/3518) /content/Faces from around the world.mp4: 384x640 1 people, 10.8ms\n",
            "video 1/1 (frame 2844/3518) /content/Faces from around the world.mp4: 384x640 1 people, 12.4ms\n",
            "video 1/1 (frame 2845/3518) /content/Faces from around the world.mp4: 384x640 1 people, 11.4ms\n",
            "video 1/1 (frame 2846/3518) /content/Faces from around the world.mp4: 384x640 1 people, 12.8ms\n",
            "video 1/1 (frame 2847/3518) /content/Faces from around the world.mp4: 384x640 1 people, 11.3ms\n",
            "video 1/1 (frame 2848/3518) /content/Faces from around the world.mp4: 384x640 1 people, 12.0ms\n",
            "video 1/1 (frame 2849/3518) /content/Faces from around the world.mp4: 384x640 1 people, 22.8ms\n",
            "video 1/1 (frame 2850/3518) /content/Faces from around the world.mp4: 384x640 1 people, 12.9ms\n",
            "video 1/1 (frame 2851/3518) /content/Faces from around the world.mp4: 384x640 1 people, 15.7ms\n",
            "video 1/1 (frame 2852/3518) /content/Faces from around the world.mp4: 384x640 1 people, 11.5ms\n",
            "video 1/1 (frame 2853/3518) /content/Faces from around the world.mp4: 384x640 1 people, 16.2ms\n",
            "video 1/1 (frame 2854/3518) /content/Faces from around the world.mp4: 384x640 1 people, 12.4ms\n",
            "video 1/1 (frame 2855/3518) /content/Faces from around the world.mp4: 384x640 1 people, 14.5ms\n",
            "video 1/1 (frame 2856/3518) /content/Faces from around the world.mp4: 384x640 1 people, 11.4ms\n",
            "video 1/1 (frame 2857/3518) /content/Faces from around the world.mp4: 384x640 1 people, 14.9ms\n",
            "video 1/1 (frame 2858/3518) /content/Faces from around the world.mp4: 384x640 1 people, 11.3ms\n",
            "video 1/1 (frame 2859/3518) /content/Faces from around the world.mp4: 384x640 1 people, 12.5ms\n",
            "video 1/1 (frame 2860/3518) /content/Faces from around the world.mp4: 384x640 1 people, 13.0ms\n",
            "video 1/1 (frame 2861/3518) /content/Faces from around the world.mp4: 384x640 1 people, 13.1ms\n",
            "video 1/1 (frame 2862/3518) /content/Faces from around the world.mp4: 384x640 1 people, 12.6ms\n",
            "video 1/1 (frame 2863/3518) /content/Faces from around the world.mp4: 384x640 1 people, 12.0ms\n",
            "video 1/1 (frame 2864/3518) /content/Faces from around the world.mp4: 384x640 1 people, 12.2ms\n",
            "video 1/1 (frame 2865/3518) /content/Faces from around the world.mp4: 384x640 1 people, 11.6ms\n",
            "video 1/1 (frame 2866/3518) /content/Faces from around the world.mp4: 384x640 1 people, 11.9ms\n",
            "video 1/1 (frame 2867/3518) /content/Faces from around the world.mp4: 384x640 1 people, 10.6ms\n",
            "video 1/1 (frame 2868/3518) /content/Faces from around the world.mp4: 384x640 1 people, 12.0ms\n",
            "video 1/1 (frame 2869/3518) /content/Faces from around the world.mp4: 384x640 1 people, 11.1ms\n",
            "video 1/1 (frame 2870/3518) /content/Faces from around the world.mp4: 384x640 1 people, 13.3ms\n",
            "video 1/1 (frame 2871/3518) /content/Faces from around the world.mp4: 384x640 1 people, 10.7ms\n",
            "video 1/1 (frame 2872/3518) /content/Faces from around the world.mp4: 384x640 1 people, 13.4ms\n",
            "video 1/1 (frame 2873/3518) /content/Faces from around the world.mp4: 384x640 1 people, 15.5ms\n",
            "video 1/1 (frame 2874/3518) /content/Faces from around the world.mp4: 384x640 1 people, 11.1ms\n",
            "video 1/1 (frame 2875/3518) /content/Faces from around the world.mp4: 384x640 1 people, 13.3ms\n",
            "video 1/1 (frame 2876/3518) /content/Faces from around the world.mp4: 384x640 1 people, 11.8ms\n",
            "video 1/1 (frame 2877/3518) /content/Faces from around the world.mp4: 384x640 1 people, 11.7ms\n",
            "video 1/1 (frame 2878/3518) /content/Faces from around the world.mp4: 384x640 1 people, 12.9ms\n",
            "video 1/1 (frame 2879/3518) /content/Faces from around the world.mp4: 384x640 1 people, 11.4ms\n",
            "video 1/1 (frame 2880/3518) /content/Faces from around the world.mp4: 384x640 1 people, 14.8ms\n",
            "video 1/1 (frame 2881/3518) /content/Faces from around the world.mp4: 384x640 1 people, 12.7ms\n",
            "video 1/1 (frame 2882/3518) /content/Faces from around the world.mp4: 384x640 1 people, 13.4ms\n",
            "video 1/1 (frame 2883/3518) /content/Faces from around the world.mp4: 384x640 1 people, 13.2ms\n",
            "video 1/1 (frame 2884/3518) /content/Faces from around the world.mp4: 384x640 1 people, 15.2ms\n",
            "video 1/1 (frame 2885/3518) /content/Faces from around the world.mp4: 384x640 1 people, 11.1ms\n",
            "video 1/1 (frame 2886/3518) /content/Faces from around the world.mp4: 384x640 1 people, 12.9ms\n",
            "video 1/1 (frame 2887/3518) /content/Faces from around the world.mp4: 384x640 1 people, 12.0ms\n",
            "video 1/1 (frame 2888/3518) /content/Faces from around the world.mp4: 384x640 1 people, 13.2ms\n",
            "video 1/1 (frame 2889/3518) /content/Faces from around the world.mp4: 384x640 1 people, 11.9ms\n",
            "video 1/1 (frame 2890/3518) /content/Faces from around the world.mp4: 384x640 1 people, 18.3ms\n",
            "video 1/1 (frame 2891/3518) /content/Faces from around the world.mp4: 384x640 1 people, 17.9ms\n",
            "video 1/1 (frame 2892/3518) /content/Faces from around the world.mp4: 384x640 1 people, 11.9ms\n",
            "video 1/1 (frame 2893/3518) /content/Faces from around the world.mp4: 384x640 1 people, 12.4ms\n",
            "video 1/1 (frame 2894/3518) /content/Faces from around the world.mp4: 384x640 1 people, 13.6ms\n",
            "video 1/1 (frame 2895/3518) /content/Faces from around the world.mp4: 384x640 1 people, 13.4ms\n",
            "video 1/1 (frame 2896/3518) /content/Faces from around the world.mp4: 384x640 1 people, 13.5ms\n",
            "video 1/1 (frame 2897/3518) /content/Faces from around the world.mp4: 384x640 1 people, 12.7ms\n",
            "video 1/1 (frame 2898/3518) /content/Faces from around the world.mp4: 384x640 1 people, 11.7ms\n",
            "video 1/1 (frame 2899/3518) /content/Faces from around the world.mp4: 384x640 1 people, 14.4ms\n",
            "video 1/1 (frame 2900/3518) /content/Faces from around the world.mp4: 384x640 1 people, 11.3ms\n",
            "video 1/1 (frame 2901/3518) /content/Faces from around the world.mp4: 384x640 1 people, 11.6ms\n",
            "video 1/1 (frame 2902/3518) /content/Faces from around the world.mp4: 384x640 1 people, 12.7ms\n",
            "video 1/1 (frame 2903/3518) /content/Faces from around the world.mp4: 384x640 1 people, 11.2ms\n",
            "video 1/1 (frame 2904/3518) /content/Faces from around the world.mp4: 384x640 1 people, 12.7ms\n",
            "video 1/1 (frame 2905/3518) /content/Faces from around the world.mp4: 384x640 1 people, 13.2ms\n",
            "video 1/1 (frame 2906/3518) /content/Faces from around the world.mp4: 384x640 1 people, 12.0ms\n",
            "video 1/1 (frame 2907/3518) /content/Faces from around the world.mp4: 384x640 1 people, 11.7ms\n",
            "video 1/1 (frame 2908/3518) /content/Faces from around the world.mp4: 384x640 1 people, 11.1ms\n",
            "video 1/1 (frame 2909/3518) /content/Faces from around the world.mp4: 384x640 (no detections), 21.9ms\n",
            "video 1/1 (frame 2910/3518) /content/Faces from around the world.mp4: 384x640 (no detections), 19.0ms\n",
            "video 1/1 (frame 2911/3518) /content/Faces from around the world.mp4: 384x640 (no detections), 18.6ms\n",
            "video 1/1 (frame 2912/3518) /content/Faces from around the world.mp4: 384x640 (no detections), 20.9ms\n",
            "video 1/1 (frame 2913/3518) /content/Faces from around the world.mp4: 384x640 (no detections), 11.3ms\n",
            "video 1/1 (frame 2914/3518) /content/Faces from around the world.mp4: 384x640 (no detections), 14.6ms\n",
            "video 1/1 (frame 2915/3518) /content/Faces from around the world.mp4: 384x640 (no detections), 13.0ms\n",
            "video 1/1 (frame 2916/3518) /content/Faces from around the world.mp4: 384x640 (no detections), 12.4ms\n",
            "video 1/1 (frame 2917/3518) /content/Faces from around the world.mp4: 384x640 (no detections), 14.8ms\n",
            "video 1/1 (frame 2918/3518) /content/Faces from around the world.mp4: 384x640 (no detections), 10.8ms\n",
            "video 1/1 (frame 2919/3518) /content/Faces from around the world.mp4: 384x640 (no detections), 13.4ms\n",
            "video 1/1 (frame 2920/3518) /content/Faces from around the world.mp4: 384x640 (no detections), 13.1ms\n",
            "video 1/1 (frame 2921/3518) /content/Faces from around the world.mp4: 384x640 (no detections), 12.6ms\n",
            "video 1/1 (frame 2922/3518) /content/Faces from around the world.mp4: 384x640 (no detections), 12.1ms\n",
            "video 1/1 (frame 2923/3518) /content/Faces from around the world.mp4: 384x640 (no detections), 12.3ms\n",
            "video 1/1 (frame 2924/3518) /content/Faces from around the world.mp4: 384x640 (no detections), 11.8ms\n",
            "video 1/1 (frame 2925/3518) /content/Faces from around the world.mp4: 384x640 (no detections), 14.4ms\n",
            "video 1/1 (frame 2926/3518) /content/Faces from around the world.mp4: 384x640 (no detections), 11.8ms\n",
            "video 1/1 (frame 2927/3518) /content/Faces from around the world.mp4: 384x640 (no detections), 15.3ms\n",
            "video 1/1 (frame 2928/3518) /content/Faces from around the world.mp4: 384x640 (no detections), 12.4ms\n",
            "video 1/1 (frame 2929/3518) /content/Faces from around the world.mp4: 384x640 (no detections), 13.6ms\n",
            "video 1/1 (frame 2930/3518) /content/Faces from around the world.mp4: 384x640 (no detections), 12.9ms\n",
            "video 1/1 (frame 2931/3518) /content/Faces from around the world.mp4: 384x640 (no detections), 12.3ms\n",
            "video 1/1 (frame 2932/3518) /content/Faces from around the world.mp4: 384x640 (no detections), 11.0ms\n",
            "video 1/1 (frame 2933/3518) /content/Faces from around the world.mp4: 384x640 (no detections), 10.9ms\n",
            "video 1/1 (frame 2934/3518) /content/Faces from around the world.mp4: 384x640 (no detections), 18.7ms\n",
            "video 1/1 (frame 2935/3518) /content/Faces from around the world.mp4: 384x640 (no detections), 19.0ms\n",
            "video 1/1 (frame 2936/3518) /content/Faces from around the world.mp4: 384x640 (no detections), 15.0ms\n",
            "video 1/1 (frame 2937/3518) /content/Faces from around the world.mp4: 384x640 (no detections), 14.4ms\n",
            "video 1/1 (frame 2938/3518) /content/Faces from around the world.mp4: 384x640 (no detections), 17.9ms\n",
            "video 1/1 (frame 2939/3518) /content/Faces from around the world.mp4: 384x640 (no detections), 15.7ms\n",
            "video 1/1 (frame 2940/3518) /content/Faces from around the world.mp4: 384x640 (no detections), 15.9ms\n",
            "video 1/1 (frame 2941/3518) /content/Faces from around the world.mp4: 384x640 (no detections), 15.9ms\n",
            "video 1/1 (frame 2942/3518) /content/Faces from around the world.mp4: 384x640 (no detections), 12.8ms\n",
            "video 1/1 (frame 2943/3518) /content/Faces from around the world.mp4: 384x640 (no detections), 13.3ms\n",
            "video 1/1 (frame 2944/3518) /content/Faces from around the world.mp4: 384x640 (no detections), 11.8ms\n",
            "video 1/1 (frame 2945/3518) /content/Faces from around the world.mp4: 384x640 (no detections), 13.4ms\n",
            "video 1/1 (frame 2946/3518) /content/Faces from around the world.mp4: 384x640 (no detections), 11.2ms\n",
            "video 1/1 (frame 2947/3518) /content/Faces from around the world.mp4: 384x640 (no detections), 12.9ms\n",
            "video 1/1 (frame 2948/3518) /content/Faces from around the world.mp4: 384x640 (no detections), 11.1ms\n",
            "video 1/1 (frame 2949/3518) /content/Faces from around the world.mp4: 384x640 (no detections), 12.3ms\n",
            "video 1/1 (frame 2950/3518) /content/Faces from around the world.mp4: 384x640 (no detections), 12.8ms\n",
            "video 1/1 (frame 2951/3518) /content/Faces from around the world.mp4: 384x640 (no detections), 11.2ms\n",
            "video 1/1 (frame 2952/3518) /content/Faces from around the world.mp4: 384x640 (no detections), 12.7ms\n",
            "video 1/1 (frame 2953/3518) /content/Faces from around the world.mp4: 384x640 (no detections), 12.2ms\n",
            "video 1/1 (frame 2954/3518) /content/Faces from around the world.mp4: 384x640 (no detections), 11.3ms\n",
            "video 1/1 (frame 2955/3518) /content/Faces from around the world.mp4: 384x640 (no detections), 13.2ms\n",
            "video 1/1 (frame 2956/3518) /content/Faces from around the world.mp4: 384x640 (no detections), 11.5ms\n",
            "video 1/1 (frame 2957/3518) /content/Faces from around the world.mp4: 384x640 (no detections), 13.4ms\n",
            "video 1/1 (frame 2958/3518) /content/Faces from around the world.mp4: 384x640 (no detections), 10.6ms\n",
            "video 1/1 (frame 2959/3518) /content/Faces from around the world.mp4: 384x640 (no detections), 12.6ms\n",
            "video 1/1 (frame 2960/3518) /content/Faces from around the world.mp4: 384x640 (no detections), 12.3ms\n",
            "video 1/1 (frame 2961/3518) /content/Faces from around the world.mp4: 384x640 (no detections), 15.3ms\n",
            "video 1/1 (frame 2962/3518) /content/Faces from around the world.mp4: 384x640 (no detections), 14.6ms\n",
            "video 1/1 (frame 2963/3518) /content/Faces from around the world.mp4: 384x640 (no detections), 11.6ms\n",
            "video 1/1 (frame 2964/3518) /content/Faces from around the world.mp4: 384x640 (no detections), 11.6ms\n",
            "video 1/1 (frame 2965/3518) /content/Faces from around the world.mp4: 384x640 (no detections), 11.4ms\n",
            "video 1/1 (frame 2966/3518) /content/Faces from around the world.mp4: 384x640 (no detections), 14.1ms\n",
            "video 1/1 (frame 2967/3518) /content/Faces from around the world.mp4: 384x640 (no detections), 11.1ms\n",
            "video 1/1 (frame 2968/3518) /content/Faces from around the world.mp4: 384x640 (no detections), 14.9ms\n",
            "video 1/1 (frame 2969/3518) /content/Faces from around the world.mp4: 384x640 1 people, 11.8ms\n",
            "video 1/1 (frame 2970/3518) /content/Faces from around the world.mp4: 384x640 (no detections), 12.3ms\n",
            "video 1/1 (frame 2971/3518) /content/Faces from around the world.mp4: 384x640 1 people, 12.8ms\n",
            "video 1/1 (frame 2972/3518) /content/Faces from around the world.mp4: 384x640 (no detections), 12.9ms\n",
            "video 1/1 (frame 2973/3518) /content/Faces from around the world.mp4: 384x640 1 people, 10.7ms\n",
            "video 1/1 (frame 2974/3518) /content/Faces from around the world.mp4: 384x640 1 people, 11.0ms\n",
            "video 1/1 (frame 2975/3518) /content/Faces from around the world.mp4: 384x640 (no detections), 11.1ms\n",
            "video 1/1 (frame 2976/3518) /content/Faces from around the world.mp4: 384x640 2 peoples, 10.1ms\n",
            "video 1/1 (frame 2977/3518) /content/Faces from around the world.mp4: 384x640 2 peoples, 12.4ms\n",
            "video 1/1 (frame 2978/3518) /content/Faces from around the world.mp4: 384x640 1 people, 13.7ms\n",
            "video 1/1 (frame 2979/3518) /content/Faces from around the world.mp4: 384x640 2 peoples, 19.2ms\n",
            "video 1/1 (frame 2980/3518) /content/Faces from around the world.mp4: 384x640 2 peoples, 14.0ms\n",
            "video 1/1 (frame 2981/3518) /content/Faces from around the world.mp4: 384x640 2 peoples, 12.9ms\n",
            "video 1/1 (frame 2982/3518) /content/Faces from around the world.mp4: 384x640 2 peoples, 13.3ms\n",
            "video 1/1 (frame 2983/3518) /content/Faces from around the world.mp4: 384x640 2 peoples, 14.5ms\n",
            "video 1/1 (frame 2984/3518) /content/Faces from around the world.mp4: 384x640 2 peoples, 14.3ms\n",
            "video 1/1 (frame 2985/3518) /content/Faces from around the world.mp4: 384x640 1 people, 12.5ms\n",
            "video 1/1 (frame 2986/3518) /content/Faces from around the world.mp4: 384x640 2 peoples, 11.2ms\n",
            "video 1/1 (frame 2987/3518) /content/Faces from around the world.mp4: 384x640 4 peoples, 12.8ms\n",
            "video 1/1 (frame 2988/3518) /content/Faces from around the world.mp4: 384x640 3 peoples, 11.7ms\n",
            "video 1/1 (frame 2989/3518) /content/Faces from around the world.mp4: 384x640 3 peoples, 13.2ms\n",
            "video 1/1 (frame 2990/3518) /content/Faces from around the world.mp4: 384x640 3 peoples, 11.3ms\n",
            "video 1/1 (frame 2991/3518) /content/Faces from around the world.mp4: 384x640 3 peoples, 14.3ms\n",
            "video 1/1 (frame 2992/3518) /content/Faces from around the world.mp4: 384x640 5 peoples, 13.4ms\n",
            "video 1/1 (frame 2993/3518) /content/Faces from around the world.mp4: 384x640 1 people, 14.0ms\n",
            "video 1/1 (frame 2994/3518) /content/Faces from around the world.mp4: 384x640 1 people, 13.8ms\n",
            "video 1/1 (frame 2995/3518) /content/Faces from around the world.mp4: 384x640 1 people, 12.4ms\n",
            "video 1/1 (frame 2996/3518) /content/Faces from around the world.mp4: 384x640 1 people, 10.5ms\n",
            "video 1/1 (frame 2997/3518) /content/Faces from around the world.mp4: 384x640 1 people, 12.6ms\n",
            "video 1/1 (frame 2998/3518) /content/Faces from around the world.mp4: 384x640 1 people, 12.6ms\n",
            "video 1/1 (frame 2999/3518) /content/Faces from around the world.mp4: 384x640 1 people, 11.4ms\n",
            "video 1/1 (frame 3000/3518) /content/Faces from around the world.mp4: 384x640 1 people, 15.2ms\n",
            "video 1/1 (frame 3001/3518) /content/Faces from around the world.mp4: 384x640 1 people, 12.8ms\n",
            "video 1/1 (frame 3002/3518) /content/Faces from around the world.mp4: 384x640 1 people, 12.7ms\n",
            "video 1/1 (frame 3003/3518) /content/Faces from around the world.mp4: 384x640 1 people, 14.3ms\n",
            "video 1/1 (frame 3004/3518) /content/Faces from around the world.mp4: 384x640 1 people, 12.1ms\n",
            "video 1/1 (frame 3005/3518) /content/Faces from around the world.mp4: 384x640 1 people, 14.8ms\n",
            "video 1/1 (frame 3006/3518) /content/Faces from around the world.mp4: 384x640 1 people, 13.0ms\n",
            "video 1/1 (frame 3007/3518) /content/Faces from around the world.mp4: 384x640 1 people, 15.5ms\n",
            "video 1/1 (frame 3008/3518) /content/Faces from around the world.mp4: 384x640 1 people, 11.9ms\n",
            "video 1/1 (frame 3009/3518) /content/Faces from around the world.mp4: 384x640 1 people, 12.9ms\n",
            "video 1/1 (frame 3010/3518) /content/Faces from around the world.mp4: 384x640 1 people, 12.5ms\n",
            "video 1/1 (frame 3011/3518) /content/Faces from around the world.mp4: 384x640 1 people, 13.6ms\n",
            "video 1/1 (frame 3012/3518) /content/Faces from around the world.mp4: 384x640 1 people, 13.0ms\n",
            "video 1/1 (frame 3013/3518) /content/Faces from around the world.mp4: 384x640 1 people, 15.4ms\n",
            "video 1/1 (frame 3014/3518) /content/Faces from around the world.mp4: 384x640 1 people, 12.5ms\n",
            "video 1/1 (frame 3015/3518) /content/Faces from around the world.mp4: 384x640 1 people, 11.9ms\n",
            "video 1/1 (frame 3016/3518) /content/Faces from around the world.mp4: 384x640 1 people, 11.9ms\n",
            "video 1/1 (frame 3017/3518) /content/Faces from around the world.mp4: 384x640 1 people, 10.6ms\n",
            "video 1/1 (frame 3018/3518) /content/Faces from around the world.mp4: 384x640 1 people, 13.5ms\n",
            "video 1/1 (frame 3019/3518) /content/Faces from around the world.mp4: 384x640 1 people, 15.7ms\n",
            "video 1/1 (frame 3020/3518) /content/Faces from around the world.mp4: 384x640 1 people, 20.8ms\n",
            "video 1/1 (frame 3021/3518) /content/Faces from around the world.mp4: 384x640 1 people, 13.5ms\n",
            "video 1/1 (frame 3022/3518) /content/Faces from around the world.mp4: 384x640 1 people, 12.5ms\n",
            "video 1/1 (frame 3023/3518) /content/Faces from around the world.mp4: 384x640 1 people, 13.8ms\n",
            "video 1/1 (frame 3024/3518) /content/Faces from around the world.mp4: 384x640 1 people, 14.8ms\n",
            "video 1/1 (frame 3025/3518) /content/Faces from around the world.mp4: 384x640 1 people, 12.0ms\n",
            "video 1/1 (frame 3026/3518) /content/Faces from around the world.mp4: 384x640 1 people, 15.4ms\n",
            "video 1/1 (frame 3027/3518) /content/Faces from around the world.mp4: 384x640 1 people, 12.1ms\n",
            "video 1/1 (frame 3028/3518) /content/Faces from around the world.mp4: 384x640 1 people, 13.0ms\n",
            "video 1/1 (frame 3029/3518) /content/Faces from around the world.mp4: 384x640 1 people, 12.3ms\n",
            "video 1/1 (frame 3030/3518) /content/Faces from around the world.mp4: 384x640 1 people, 13.5ms\n",
            "video 1/1 (frame 3031/3518) /content/Faces from around the world.mp4: 384x640 1 people, 11.5ms\n",
            "video 1/1 (frame 3032/3518) /content/Faces from around the world.mp4: 384x640 1 people, 13.8ms\n",
            "video 1/1 (frame 3033/3518) /content/Faces from around the world.mp4: 384x640 1 people, 11.9ms\n",
            "video 1/1 (frame 3034/3518) /content/Faces from around the world.mp4: 384x640 1 people, 11.1ms\n",
            "video 1/1 (frame 3035/3518) /content/Faces from around the world.mp4: 384x640 1 people, 14.8ms\n",
            "video 1/1 (frame 3036/3518) /content/Faces from around the world.mp4: 384x640 (no detections), 14.2ms\n",
            "video 1/1 (frame 3037/3518) /content/Faces from around the world.mp4: 384x640 (no detections), 11.0ms\n",
            "video 1/1 (frame 3038/3518) /content/Faces from around the world.mp4: 384x640 (no detections), 13.3ms\n",
            "video 1/1 (frame 3039/3518) /content/Faces from around the world.mp4: 384x640 (no detections), 12.9ms\n",
            "video 1/1 (frame 3040/3518) /content/Faces from around the world.mp4: 384x640 (no detections), 13.3ms\n",
            "video 1/1 (frame 3041/3518) /content/Faces from around the world.mp4: 384x640 (no detections), 14.4ms\n",
            "video 1/1 (frame 3042/3518) /content/Faces from around the world.mp4: 384x640 (no detections), 12.1ms\n",
            "video 1/1 (frame 3043/3518) /content/Faces from around the world.mp4: 384x640 (no detections), 24.6ms\n",
            "video 1/1 (frame 3044/3518) /content/Faces from around the world.mp4: 384x640 (no detections), 16.5ms\n",
            "video 1/1 (frame 3045/3518) /content/Faces from around the world.mp4: 384x640 (no detections), 24.1ms\n",
            "video 1/1 (frame 3046/3518) /content/Faces from around the world.mp4: 384x640 (no detections), 19.1ms\n",
            "video 1/1 (frame 3047/3518) /content/Faces from around the world.mp4: 384x640 (no detections), 24.3ms\n",
            "video 1/1 (frame 3048/3518) /content/Faces from around the world.mp4: 384x640 (no detections), 17.9ms\n",
            "video 1/1 (frame 3049/3518) /content/Faces from around the world.mp4: 384x640 (no detections), 19.8ms\n",
            "video 1/1 (frame 3050/3518) /content/Faces from around the world.mp4: 384x640 (no detections), 18.1ms\n",
            "video 1/1 (frame 3051/3518) /content/Faces from around the world.mp4: 384x640 1 people, 16.3ms\n",
            "video 1/1 (frame 3052/3518) /content/Faces from around the world.mp4: 384x640 1 people, 13.8ms\n",
            "video 1/1 (frame 3053/3518) /content/Faces from around the world.mp4: 384x640 1 people, 16.3ms\n",
            "video 1/1 (frame 3054/3518) /content/Faces from around the world.mp4: 384x640 1 people, 23.4ms\n",
            "video 1/1 (frame 3055/3518) /content/Faces from around the world.mp4: 384x640 1 people, 18.8ms\n",
            "video 1/1 (frame 3056/3518) /content/Faces from around the world.mp4: 384x640 1 people, 17.0ms\n",
            "video 1/1 (frame 3057/3518) /content/Faces from around the world.mp4: 384x640 1 people, 22.0ms\n",
            "video 1/1 (frame 3058/3518) /content/Faces from around the world.mp4: 384x640 1 people, 21.4ms\n",
            "video 1/1 (frame 3059/3518) /content/Faces from around the world.mp4: 384x640 1 people, 17.8ms\n",
            "video 1/1 (frame 3060/3518) /content/Faces from around the world.mp4: 384x640 2 peoples, 14.7ms\n",
            "video 1/1 (frame 3061/3518) /content/Faces from around the world.mp4: 384x640 1 people, 18.3ms\n",
            "video 1/1 (frame 3062/3518) /content/Faces from around the world.mp4: 384x640 1 people, 22.4ms\n",
            "video 1/1 (frame 3063/3518) /content/Faces from around the world.mp4: 384x640 1 people, 16.3ms\n",
            "video 1/1 (frame 3064/3518) /content/Faces from around the world.mp4: 384x640 1 people, 13.5ms\n",
            "video 1/1 (frame 3065/3518) /content/Faces from around the world.mp4: 384x640 1 people, 18.9ms\n",
            "video 1/1 (frame 3066/3518) /content/Faces from around the world.mp4: 384x640 1 people, 18.1ms\n",
            "video 1/1 (frame 3067/3518) /content/Faces from around the world.mp4: 384x640 1 people, 15.1ms\n",
            "video 1/1 (frame 3068/3518) /content/Faces from around the world.mp4: 384x640 1 people, 18.9ms\n",
            "video 1/1 (frame 3069/3518) /content/Faces from around the world.mp4: 384x640 1 people, 18.5ms\n",
            "video 1/1 (frame 3070/3518) /content/Faces from around the world.mp4: 384x640 1 people, 13.7ms\n",
            "video 1/1 (frame 3071/3518) /content/Faces from around the world.mp4: 384x640 1 people, 14.8ms\n",
            "video 1/1 (frame 3072/3518) /content/Faces from around the world.mp4: 384x640 1 people, 13.9ms\n",
            "video 1/1 (frame 3073/3518) /content/Faces from around the world.mp4: 384x640 1 people, 14.0ms\n",
            "video 1/1 (frame 3074/3518) /content/Faces from around the world.mp4: 384x640 1 people, 13.8ms\n",
            "video 1/1 (frame 3075/3518) /content/Faces from around the world.mp4: 384x640 1 people, 13.3ms\n",
            "video 1/1 (frame 3076/3518) /content/Faces from around the world.mp4: 384x640 1 people, 14.2ms\n",
            "video 1/1 (frame 3077/3518) /content/Faces from around the world.mp4: 384x640 1 people, 14.7ms\n",
            "video 1/1 (frame 3078/3518) /content/Faces from around the world.mp4: 384x640 1 people, 14.3ms\n",
            "video 1/1 (frame 3079/3518) /content/Faces from around the world.mp4: 384x640 1 people, 14.2ms\n",
            "video 1/1 (frame 3080/3518) /content/Faces from around the world.mp4: 384x640 1 people, 13.8ms\n",
            "video 1/1 (frame 3081/3518) /content/Faces from around the world.mp4: 384x640 1 people, 13.7ms\n",
            "video 1/1 (frame 3082/3518) /content/Faces from around the world.mp4: 384x640 1 people, 13.4ms\n",
            "video 1/1 (frame 3083/3518) /content/Faces from around the world.mp4: 384x640 1 people, 13.5ms\n",
            "video 1/1 (frame 3084/3518) /content/Faces from around the world.mp4: 384x640 1 people, 19.8ms\n",
            "video 1/1 (frame 3085/3518) /content/Faces from around the world.mp4: 384x640 1 people, 20.0ms\n",
            "video 1/1 (frame 3086/3518) /content/Faces from around the world.mp4: 384x640 1 people, 19.3ms\n",
            "video 1/1 (frame 3087/3518) /content/Faces from around the world.mp4: 384x640 1 people, 16.1ms\n",
            "video 1/1 (frame 3088/3518) /content/Faces from around the world.mp4: 384x640 1 people, 15.3ms\n",
            "video 1/1 (frame 3089/3518) /content/Faces from around the world.mp4: 384x640 1 people, 15.4ms\n",
            "video 1/1 (frame 3090/3518) /content/Faces from around the world.mp4: 384x640 1 people, 14.6ms\n",
            "video 1/1 (frame 3091/3518) /content/Faces from around the world.mp4: 384x640 1 people, 21.0ms\n",
            "video 1/1 (frame 3092/3518) /content/Faces from around the world.mp4: 384x640 1 people, 18.1ms\n",
            "video 1/1 (frame 3093/3518) /content/Faces from around the world.mp4: 384x640 1 people, 15.9ms\n",
            "video 1/1 (frame 3094/3518) /content/Faces from around the world.mp4: 384x640 1 people, 14.7ms\n",
            "video 1/1 (frame 3095/3518) /content/Faces from around the world.mp4: 384x640 1 people, 17.9ms\n",
            "video 1/1 (frame 3096/3518) /content/Faces from around the world.mp4: 384x640 1 people, 14.8ms\n",
            "video 1/1 (frame 3097/3518) /content/Faces from around the world.mp4: 384x640 1 people, 14.9ms\n",
            "video 1/1 (frame 3098/3518) /content/Faces from around the world.mp4: 384x640 1 people, 14.7ms\n",
            "video 1/1 (frame 3099/3518) /content/Faces from around the world.mp4: 384x640 (no detections), 15.2ms\n",
            "video 1/1 (frame 3100/3518) /content/Faces from around the world.mp4: 384x640 (no detections), 17.1ms\n",
            "video 1/1 (frame 3101/3518) /content/Faces from around the world.mp4: 384x640 (no detections), 14.6ms\n",
            "video 1/1 (frame 3102/3518) /content/Faces from around the world.mp4: 384x640 (no detections), 14.5ms\n",
            "video 1/1 (frame 3103/3518) /content/Faces from around the world.mp4: 384x640 (no detections), 14.8ms\n",
            "video 1/1 (frame 3104/3518) /content/Faces from around the world.mp4: 384x640 (no detections), 16.5ms\n",
            "video 1/1 (frame 3105/3518) /content/Faces from around the world.mp4: 384x640 (no detections), 18.0ms\n",
            "video 1/1 (frame 3106/3518) /content/Faces from around the world.mp4: 384x640 (no detections), 14.8ms\n",
            "video 1/1 (frame 3107/3518) /content/Faces from around the world.mp4: 384x640 (no detections), 15.7ms\n",
            "video 1/1 (frame 3108/3518) /content/Faces from around the world.mp4: 384x640 1 people, 18.1ms\n",
            "video 1/1 (frame 3109/3518) /content/Faces from around the world.mp4: 384x640 1 people, 15.4ms\n",
            "video 1/1 (frame 3110/3518) /content/Faces from around the world.mp4: 384x640 1 people, 16.3ms\n",
            "video 1/1 (frame 3111/3518) /content/Faces from around the world.mp4: 384x640 1 people, 13.1ms\n",
            "video 1/1 (frame 3112/3518) /content/Faces from around the world.mp4: 384x640 1 people, 14.3ms\n",
            "video 1/1 (frame 3113/3518) /content/Faces from around the world.mp4: 384x640 1 people, 18.1ms\n",
            "video 1/1 (frame 3114/3518) /content/Faces from around the world.mp4: 384x640 1 people, 21.6ms\n",
            "video 1/1 (frame 3115/3518) /content/Faces from around the world.mp4: 384x640 1 people, 25.7ms\n",
            "video 1/1 (frame 3116/3518) /content/Faces from around the world.mp4: 384x640 1 people, 20.3ms\n",
            "video 1/1 (frame 3117/3518) /content/Faces from around the world.mp4: 384x640 1 people, 23.0ms\n",
            "video 1/1 (frame 3118/3518) /content/Faces from around the world.mp4: 384x640 1 people, 25.9ms\n",
            "video 1/1 (frame 3119/3518) /content/Faces from around the world.mp4: 384x640 1 people, 18.0ms\n",
            "video 1/1 (frame 3120/3518) /content/Faces from around the world.mp4: 384x640 1 people, 14.8ms\n",
            "video 1/1 (frame 3121/3518) /content/Faces from around the world.mp4: 384x640 1 people, 15.7ms\n",
            "video 1/1 (frame 3122/3518) /content/Faces from around the world.mp4: 384x640 2 peoples, 14.1ms\n",
            "video 1/1 (frame 3123/3518) /content/Faces from around the world.mp4: 384x640 2 peoples, 12.9ms\n",
            "video 1/1 (frame 3124/3518) /content/Faces from around the world.mp4: 384x640 1 people, 24.0ms\n",
            "video 1/1 (frame 3125/3518) /content/Faces from around the world.mp4: 384x640 1 people, 18.6ms\n",
            "video 1/1 (frame 3126/3518) /content/Faces from around the world.mp4: 384x640 1 people, 25.0ms\n",
            "video 1/1 (frame 3127/3518) /content/Faces from around the world.mp4: 384x640 1 people, 23.8ms\n",
            "video 1/1 (frame 3128/3518) /content/Faces from around the world.mp4: 384x640 1 people, 18.6ms\n",
            "video 1/1 (frame 3129/3518) /content/Faces from around the world.mp4: 384x640 2 peoples, 13.6ms\n",
            "video 1/1 (frame 3130/3518) /content/Faces from around the world.mp4: 384x640 2 peoples, 17.2ms\n",
            "video 1/1 (frame 3131/3518) /content/Faces from around the world.mp4: 384x640 2 peoples, 17.4ms\n",
            "video 1/1 (frame 3132/3518) /content/Faces from around the world.mp4: 384x640 2 peoples, 18.4ms\n",
            "video 1/1 (frame 3133/3518) /content/Faces from around the world.mp4: 384x640 2 peoples, 19.5ms\n",
            "video 1/1 (frame 3134/3518) /content/Faces from around the world.mp4: 384x640 2 peoples, 17.2ms\n",
            "video 1/1 (frame 3135/3518) /content/Faces from around the world.mp4: 384x640 2 peoples, 23.0ms\n",
            "video 1/1 (frame 3136/3518) /content/Faces from around the world.mp4: 384x640 2 peoples, 20.5ms\n",
            "video 1/1 (frame 3137/3518) /content/Faces from around the world.mp4: 384x640 2 peoples, 19.3ms\n",
            "video 1/1 (frame 3138/3518) /content/Faces from around the world.mp4: 384x640 2 peoples, 24.6ms\n",
            "video 1/1 (frame 3139/3518) /content/Faces from around the world.mp4: 384x640 2 peoples, 13.4ms\n",
            "video 1/1 (frame 3140/3518) /content/Faces from around the world.mp4: 384x640 2 peoples, 12.5ms\n",
            "video 1/1 (frame 3141/3518) /content/Faces from around the world.mp4: 384x640 2 peoples, 11.7ms\n",
            "video 1/1 (frame 3142/3518) /content/Faces from around the world.mp4: 384x640 2 peoples, 12.5ms\n",
            "video 1/1 (frame 3143/3518) /content/Faces from around the world.mp4: 384x640 2 peoples, 11.5ms\n",
            "video 1/1 (frame 3144/3518) /content/Faces from around the world.mp4: 384x640 2 peoples, 12.4ms\n",
            "video 1/1 (frame 3145/3518) /content/Faces from around the world.mp4: 384x640 2 peoples, 22.0ms\n",
            "video 1/1 (frame 3146/3518) /content/Faces from around the world.mp4: 384x640 2 peoples, 16.8ms\n",
            "video 1/1 (frame 3147/3518) /content/Faces from around the world.mp4: 384x640 2 peoples, 11.1ms\n",
            "video 1/1 (frame 3148/3518) /content/Faces from around the world.mp4: 384x640 2 peoples, 14.7ms\n",
            "video 1/1 (frame 3149/3518) /content/Faces from around the world.mp4: 384x640 2 peoples, 13.5ms\n",
            "video 1/1 (frame 3150/3518) /content/Faces from around the world.mp4: 384x640 2 peoples, 12.9ms\n",
            "video 1/1 (frame 3151/3518) /content/Faces from around the world.mp4: 384x640 2 peoples, 12.1ms\n",
            "video 1/1 (frame 3152/3518) /content/Faces from around the world.mp4: 384x640 2 peoples, 11.9ms\n",
            "video 1/1 (frame 3153/3518) /content/Faces from around the world.mp4: 384x640 2 peoples, 12.7ms\n",
            "video 1/1 (frame 3154/3518) /content/Faces from around the world.mp4: 384x640 2 peoples, 13.7ms\n",
            "video 1/1 (frame 3155/3518) /content/Faces from around the world.mp4: 384x640 2 peoples, 12.1ms\n",
            "video 1/1 (frame 3156/3518) /content/Faces from around the world.mp4: 384x640 2 peoples, 12.9ms\n",
            "video 1/1 (frame 3157/3518) /content/Faces from around the world.mp4: 384x640 2 peoples, 13.3ms\n",
            "video 1/1 (frame 3158/3518) /content/Faces from around the world.mp4: 384x640 2 peoples, 12.1ms\n",
            "video 1/1 (frame 3159/3518) /content/Faces from around the world.mp4: 384x640 2 peoples, 11.5ms\n",
            "video 1/1 (frame 3160/3518) /content/Faces from around the world.mp4: 384x640 2 peoples, 20.0ms\n",
            "video 1/1 (frame 3161/3518) /content/Faces from around the world.mp4: 384x640 2 peoples, 12.7ms\n",
            "video 1/1 (frame 3162/3518) /content/Faces from around the world.mp4: 384x640 2 peoples, 11.6ms\n",
            "video 1/1 (frame 3163/3518) /content/Faces from around the world.mp4: 384x640 2 peoples, 13.7ms\n",
            "video 1/1 (frame 3164/3518) /content/Faces from around the world.mp4: 384x640 2 peoples, 11.1ms\n",
            "video 1/1 (frame 3165/3518) /content/Faces from around the world.mp4: 384x640 2 peoples, 12.1ms\n",
            "video 1/1 (frame 3166/3518) /content/Faces from around the world.mp4: 384x640 2 peoples, 11.9ms\n",
            "video 1/1 (frame 3167/3518) /content/Faces from around the world.mp4: 384x640 2 peoples, 11.3ms\n",
            "video 1/1 (frame 3168/3518) /content/Faces from around the world.mp4: 384x640 2 peoples, 11.8ms\n",
            "video 1/1 (frame 3169/3518) /content/Faces from around the world.mp4: 384x640 2 peoples, 11.4ms\n",
            "video 1/1 (frame 3170/3518) /content/Faces from around the world.mp4: 384x640 2 peoples, 12.6ms\n",
            "video 1/1 (frame 3171/3518) /content/Faces from around the world.mp4: 384x640 2 peoples, 12.1ms\n",
            "video 1/1 (frame 3172/3518) /content/Faces from around the world.mp4: 384x640 2 peoples, 12.1ms\n",
            "video 1/1 (frame 3173/3518) /content/Faces from around the world.mp4: 384x640 2 peoples, 14.4ms\n",
            "video 1/1 (frame 3174/3518) /content/Faces from around the world.mp4: 384x640 2 peoples, 11.8ms\n",
            "video 1/1 (frame 3175/3518) /content/Faces from around the world.mp4: 384x640 1 people, 13.6ms\n",
            "video 1/1 (frame 3176/3518) /content/Faces from around the world.mp4: 384x640 1 people, 12.2ms\n",
            "video 1/1 (frame 3177/3518) /content/Faces from around the world.mp4: 384x640 1 people, 12.5ms\n",
            "video 1/1 (frame 3178/3518) /content/Faces from around the world.mp4: 384x640 1 people, 9.7ms\n",
            "video 1/1 (frame 3179/3518) /content/Faces from around the world.mp4: 384x640 1 people, 15.0ms\n",
            "video 1/1 (frame 3180/3518) /content/Faces from around the world.mp4: 384x640 1 people, 12.6ms\n",
            "video 1/1 (frame 3181/3518) /content/Faces from around the world.mp4: 384x640 1 people, 11.4ms\n",
            "video 1/1 (frame 3182/3518) /content/Faces from around the world.mp4: 384x640 1 people, 12.1ms\n",
            "video 1/1 (frame 3183/3518) /content/Faces from around the world.mp4: 384x640 1 people, 11.4ms\n",
            "video 1/1 (frame 3184/3518) /content/Faces from around the world.mp4: 384x640 1 people, 13.2ms\n",
            "video 1/1 (frame 3185/3518) /content/Faces from around the world.mp4: 384x640 1 people, 13.2ms\n",
            "video 1/1 (frame 3186/3518) /content/Faces from around the world.mp4: 384x640 1 people, 13.8ms\n",
            "video 1/1 (frame 3187/3518) /content/Faces from around the world.mp4: 384x640 1 people, 14.3ms\n",
            "video 1/1 (frame 3188/3518) /content/Faces from around the world.mp4: 384x640 1 people, 11.1ms\n",
            "video 1/1 (frame 3189/3518) /content/Faces from around the world.mp4: 384x640 1 people, 12.7ms\n",
            "video 1/1 (frame 3190/3518) /content/Faces from around the world.mp4: 384x640 1 people, 18.3ms\n",
            "video 1/1 (frame 3191/3518) /content/Faces from around the world.mp4: 384x640 (no detections), 12.3ms\n",
            "video 1/1 (frame 3192/3518) /content/Faces from around the world.mp4: 384x640 (no detections), 16.9ms\n",
            "video 1/1 (frame 3193/3518) /content/Faces from around the world.mp4: 384x640 (no detections), 13.1ms\n",
            "video 1/1 (frame 3194/3518) /content/Faces from around the world.mp4: 384x640 (no detections), 14.3ms\n",
            "video 1/1 (frame 3195/3518) /content/Faces from around the world.mp4: 384x640 (no detections), 14.1ms\n",
            "video 1/1 (frame 3196/3518) /content/Faces from around the world.mp4: 384x640 (no detections), 12.6ms\n",
            "video 1/1 (frame 3197/3518) /content/Faces from around the world.mp4: 384x640 (no detections), 16.5ms\n",
            "video 1/1 (frame 3198/3518) /content/Faces from around the world.mp4: 384x640 (no detections), 11.4ms\n",
            "video 1/1 (frame 3199/3518) /content/Faces from around the world.mp4: 384x640 (no detections), 11.9ms\n",
            "video 1/1 (frame 3200/3518) /content/Faces from around the world.mp4: 384x640 1 people, 11.2ms\n",
            "video 1/1 (frame 3201/3518) /content/Faces from around the world.mp4: 384x640 2 peoples, 12.1ms\n",
            "video 1/1 (frame 3202/3518) /content/Faces from around the world.mp4: 384x640 2 peoples, 17.9ms\n",
            "video 1/1 (frame 3203/3518) /content/Faces from around the world.mp4: 384x640 2 peoples, 10.9ms\n",
            "video 1/1 (frame 3204/3518) /content/Faces from around the world.mp4: 384x640 2 peoples, 12.7ms\n",
            "video 1/1 (frame 3205/3518) /content/Faces from around the world.mp4: 384x640 2 peoples, 17.0ms\n",
            "video 1/1 (frame 3206/3518) /content/Faces from around the world.mp4: 384x640 2 peoples, 16.6ms\n",
            "video 1/1 (frame 3207/3518) /content/Faces from around the world.mp4: 384x640 2 peoples, 12.2ms\n",
            "video 1/1 (frame 3208/3518) /content/Faces from around the world.mp4: 384x640 2 peoples, 10.9ms\n",
            "video 1/1 (frame 3209/3518) /content/Faces from around the world.mp4: 384x640 2 peoples, 11.7ms\n",
            "video 1/1 (frame 3210/3518) /content/Faces from around the world.mp4: 384x640 2 peoples, 11.5ms\n",
            "video 1/1 (frame 3211/3518) /content/Faces from around the world.mp4: 384x640 2 peoples, 13.0ms\n",
            "video 1/1 (frame 3212/3518) /content/Faces from around the world.mp4: 384x640 2 peoples, 12.5ms\n",
            "video 1/1 (frame 3213/3518) /content/Faces from around the world.mp4: 384x640 2 peoples, 11.3ms\n",
            "video 1/1 (frame 3214/3518) /content/Faces from around the world.mp4: 384x640 2 peoples, 11.8ms\n",
            "video 1/1 (frame 3215/3518) /content/Faces from around the world.mp4: 384x640 2 peoples, 14.2ms\n",
            "video 1/1 (frame 3216/3518) /content/Faces from around the world.mp4: 384x640 2 peoples, 13.1ms\n",
            "video 1/1 (frame 3217/3518) /content/Faces from around the world.mp4: 384x640 2 peoples, 15.2ms\n",
            "video 1/1 (frame 3218/3518) /content/Faces from around the world.mp4: 384x640 2 peoples, 12.9ms\n",
            "video 1/1 (frame 3219/3518) /content/Faces from around the world.mp4: 384x640 2 peoples, 14.9ms\n",
            "video 1/1 (frame 3220/3518) /content/Faces from around the world.mp4: 384x640 2 peoples, 13.9ms\n",
            "video 1/1 (frame 3221/3518) /content/Faces from around the world.mp4: 384x640 2 peoples, 14.1ms\n",
            "video 1/1 (frame 3222/3518) /content/Faces from around the world.mp4: 384x640 2 peoples, 13.8ms\n",
            "video 1/1 (frame 3223/3518) /content/Faces from around the world.mp4: 384x640 2 peoples, 13.0ms\n",
            "video 1/1 (frame 3224/3518) /content/Faces from around the world.mp4: 384x640 1 people, 14.2ms\n",
            "video 1/1 (frame 3225/3518) /content/Faces from around the world.mp4: 384x640 1 people, 13.0ms\n",
            "video 1/1 (frame 3226/3518) /content/Faces from around the world.mp4: 384x640 1 people, 12.5ms\n",
            "video 1/1 (frame 3227/3518) /content/Faces from around the world.mp4: 384x640 1 people, 9.9ms\n",
            "video 1/1 (frame 3228/3518) /content/Faces from around the world.mp4: 384x640 1 people, 11.7ms\n",
            "video 1/1 (frame 3229/3518) /content/Faces from around the world.mp4: 384x640 1 people, 14.3ms\n",
            "video 1/1 (frame 3230/3518) /content/Faces from around the world.mp4: 384x640 1 people, 12.0ms\n",
            "video 1/1 (frame 3231/3518) /content/Faces from around the world.mp4: 384x640 2 peoples, 11.1ms\n",
            "video 1/1 (frame 3232/3518) /content/Faces from around the world.mp4: 384x640 2 peoples, 10.7ms\n",
            "video 1/1 (frame 3233/3518) /content/Faces from around the world.mp4: 384x640 1 people, 14.0ms\n",
            "video 1/1 (frame 3234/3518) /content/Faces from around the world.mp4: 384x640 1 people, 10.7ms\n",
            "video 1/1 (frame 3235/3518) /content/Faces from around the world.mp4: 384x640 2 peoples, 12.4ms\n",
            "video 1/1 (frame 3236/3518) /content/Faces from around the world.mp4: 384x640 2 peoples, 10.0ms\n",
            "video 1/1 (frame 3237/3518) /content/Faces from around the world.mp4: 384x640 2 peoples, 13.5ms\n",
            "video 1/1 (frame 3238/3518) /content/Faces from around the world.mp4: 384x640 2 peoples, 11.1ms\n",
            "video 1/1 (frame 3239/3518) /content/Faces from around the world.mp4: 384x640 2 peoples, 12.0ms\n",
            "video 1/1 (frame 3240/3518) /content/Faces from around the world.mp4: 384x640 1 people, 11.1ms\n",
            "video 1/1 (frame 3241/3518) /content/Faces from around the world.mp4: 384x640 1 people, 20.9ms\n",
            "video 1/1 (frame 3242/3518) /content/Faces from around the world.mp4: 384x640 1 people, 17.1ms\n",
            "video 1/1 (frame 3243/3518) /content/Faces from around the world.mp4: 384x640 1 people, 10.4ms\n",
            "video 1/1 (frame 3244/3518) /content/Faces from around the world.mp4: 384x640 1 people, 14.3ms\n",
            "video 1/1 (frame 3245/3518) /content/Faces from around the world.mp4: 384x640 1 people, 14.0ms\n",
            "video 1/1 (frame 3246/3518) /content/Faces from around the world.mp4: 384x640 1 people, 14.0ms\n",
            "video 1/1 (frame 3247/3518) /content/Faces from around the world.mp4: 384x640 1 people, 12.4ms\n",
            "video 1/1 (frame 3248/3518) /content/Faces from around the world.mp4: 384x640 1 people, 11.0ms\n",
            "video 1/1 (frame 3249/3518) /content/Faces from around the world.mp4: 384x640 1 people, 10.9ms\n",
            "video 1/1 (frame 3250/3518) /content/Faces from around the world.mp4: 384x640 1 people, 15.4ms\n",
            "video 1/1 (frame 3251/3518) /content/Faces from around the world.mp4: 384x640 1 people, 11.6ms\n",
            "video 1/1 (frame 3252/3518) /content/Faces from around the world.mp4: 384x640 1 people, 15.4ms\n",
            "video 1/1 (frame 3253/3518) /content/Faces from around the world.mp4: 384x640 1 people, 11.0ms\n",
            "video 1/1 (frame 3254/3518) /content/Faces from around the world.mp4: 384x640 1 people, 12.4ms\n",
            "video 1/1 (frame 3255/3518) /content/Faces from around the world.mp4: 384x640 (no detections), 12.6ms\n",
            "video 1/1 (frame 3256/3518) /content/Faces from around the world.mp4: 384x640 (no detections), 13.3ms\n",
            "video 1/1 (frame 3257/3518) /content/Faces from around the world.mp4: 384x640 (no detections), 12.7ms\n",
            "video 1/1 (frame 3258/3518) /content/Faces from around the world.mp4: 384x640 (no detections), 11.6ms\n",
            "video 1/1 (frame 3259/3518) /content/Faces from around the world.mp4: 384x640 (no detections), 12.4ms\n",
            "video 1/1 (frame 3260/3518) /content/Faces from around the world.mp4: 384x640 (no detections), 11.8ms\n",
            "video 1/1 (frame 3261/3518) /content/Faces from around the world.mp4: 384x640 (no detections), 12.5ms\n",
            "video 1/1 (frame 3262/3518) /content/Faces from around the world.mp4: 384x640 (no detections), 11.6ms\n",
            "video 1/1 (frame 3263/3518) /content/Faces from around the world.mp4: 384x640 (no detections), 11.1ms\n",
            "video 1/1 (frame 3264/3518) /content/Faces from around the world.mp4: 384x640 (no detections), 12.3ms\n",
            "video 1/1 (frame 3265/3518) /content/Faces from around the world.mp4: 384x640 (no detections), 11.9ms\n",
            "video 1/1 (frame 3266/3518) /content/Faces from around the world.mp4: 384x640 (no detections), 11.8ms\n",
            "video 1/1 (frame 3267/3518) /content/Faces from around the world.mp4: 384x640 (no detections), 12.4ms\n",
            "video 1/1 (frame 3268/3518) /content/Faces from around the world.mp4: 384x640 (no detections), 13.6ms\n",
            "video 1/1 (frame 3269/3518) /content/Faces from around the world.mp4: 384x640 (no detections), 12.3ms\n",
            "video 1/1 (frame 3270/3518) /content/Faces from around the world.mp4: 384x640 (no detections), 14.6ms\n",
            "video 1/1 (frame 3271/3518) /content/Faces from around the world.mp4: 384x640 (no detections), 12.3ms\n",
            "video 1/1 (frame 3272/3518) /content/Faces from around the world.mp4: 384x640 (no detections), 14.6ms\n",
            "video 1/1 (frame 3273/3518) /content/Faces from around the world.mp4: 384x640 (no detections), 12.8ms\n",
            "video 1/1 (frame 3274/3518) /content/Faces from around the world.mp4: 384x640 (no detections), 13.1ms\n",
            "video 1/1 (frame 3275/3518) /content/Faces from around the world.mp4: 384x640 1 people, 14.1ms\n",
            "video 1/1 (frame 3276/3518) /content/Faces from around the world.mp4: 384x640 (no detections), 12.5ms\n",
            "video 1/1 (frame 3277/3518) /content/Faces from around the world.mp4: 384x640 (no detections), 13.8ms\n",
            "video 1/1 (frame 3278/3518) /content/Faces from around the world.mp4: 384x640 (no detections), 10.9ms\n",
            "video 1/1 (frame 3279/3518) /content/Faces from around the world.mp4: 384x640 (no detections), 13.1ms\n",
            "video 1/1 (frame 3280/3518) /content/Faces from around the world.mp4: 384x640 (no detections), 15.0ms\n",
            "video 1/1 (frame 3281/3518) /content/Faces from around the world.mp4: 384x640 (no detections), 11.6ms\n",
            "video 1/1 (frame 3282/3518) /content/Faces from around the world.mp4: 384x640 (no detections), 11.9ms\n",
            "video 1/1 (frame 3283/3518) /content/Faces from around the world.mp4: 384x640 (no detections), 10.9ms\n",
            "video 1/1 (frame 3284/3518) /content/Faces from around the world.mp4: 384x640 (no detections), 12.0ms\n",
            "video 1/1 (frame 3285/3518) /content/Faces from around the world.mp4: 384x640 (no detections), 10.9ms\n",
            "video 1/1 (frame 3286/3518) /content/Faces from around the world.mp4: 384x640 (no detections), 13.3ms\n",
            "video 1/1 (frame 3287/3518) /content/Faces from around the world.mp4: 384x640 (no detections), 19.8ms\n",
            "video 1/1 (frame 3288/3518) /content/Faces from around the world.mp4: 384x640 (no detections), 11.3ms\n",
            "video 1/1 (frame 3289/3518) /content/Faces from around the world.mp4: 384x640 (no detections), 11.2ms\n",
            "video 1/1 (frame 3290/3518) /content/Faces from around the world.mp4: 384x640 (no detections), 11.0ms\n",
            "video 1/1 (frame 3291/3518) /content/Faces from around the world.mp4: 384x640 (no detections), 14.4ms\n",
            "video 1/1 (frame 3292/3518) /content/Faces from around the world.mp4: 384x640 (no detections), 15.0ms\n",
            "video 1/1 (frame 3293/3518) /content/Faces from around the world.mp4: 384x640 (no detections), 12.5ms\n",
            "video 1/1 (frame 3294/3518) /content/Faces from around the world.mp4: 384x640 (no detections), 12.5ms\n",
            "video 1/1 (frame 3295/3518) /content/Faces from around the world.mp4: 384x640 (no detections), 13.6ms\n",
            "video 1/1 (frame 3296/3518) /content/Faces from around the world.mp4: 384x640 (no detections), 11.8ms\n",
            "video 1/1 (frame 3297/3518) /content/Faces from around the world.mp4: 384x640 (no detections), 12.7ms\n",
            "video 1/1 (frame 3298/3518) /content/Faces from around the world.mp4: 384x640 (no detections), 12.4ms\n",
            "video 1/1 (frame 3299/3518) /content/Faces from around the world.mp4: 384x640 (no detections), 11.5ms\n",
            "video 1/1 (frame 3300/3518) /content/Faces from around the world.mp4: 384x640 (no detections), 13.9ms\n",
            "video 1/1 (frame 3301/3518) /content/Faces from around the world.mp4: 384x640 (no detections), 10.9ms\n",
            "video 1/1 (frame 3302/3518) /content/Faces from around the world.mp4: 384x640 (no detections), 14.0ms\n",
            "video 1/1 (frame 3303/3518) /content/Faces from around the world.mp4: 384x640 (no detections), 12.3ms\n",
            "video 1/1 (frame 3304/3518) /content/Faces from around the world.mp4: 384x640 (no detections), 12.3ms\n",
            "video 1/1 (frame 3305/3518) /content/Faces from around the world.mp4: 384x640 (no detections), 13.6ms\n",
            "video 1/1 (frame 3306/3518) /content/Faces from around the world.mp4: 384x640 (no detections), 12.4ms\n",
            "video 1/1 (frame 3307/3518) /content/Faces from around the world.mp4: 384x640 (no detections), 12.1ms\n",
            "video 1/1 (frame 3308/3518) /content/Faces from around the world.mp4: 384x640 (no detections), 11.4ms\n",
            "video 1/1 (frame 3309/3518) /content/Faces from around the world.mp4: 384x640 (no detections), 12.5ms\n",
            "video 1/1 (frame 3310/3518) /content/Faces from around the world.mp4: 384x640 (no detections), 11.9ms\n",
            "video 1/1 (frame 3311/3518) /content/Faces from around the world.mp4: 384x640 (no detections), 13.9ms\n",
            "video 1/1 (frame 3312/3518) /content/Faces from around the world.mp4: 384x640 (no detections), 12.7ms\n",
            "video 1/1 (frame 3313/3518) /content/Faces from around the world.mp4: 384x640 (no detections), 13.3ms\n",
            "video 1/1 (frame 3314/3518) /content/Faces from around the world.mp4: 384x640 (no detections), 13.8ms\n",
            "video 1/1 (frame 3315/3518) /content/Faces from around the world.mp4: 384x640 (no detections), 11.3ms\n",
            "video 1/1 (frame 3316/3518) /content/Faces from around the world.mp4: 384x640 (no detections), 14.7ms\n",
            "video 1/1 (frame 3317/3518) /content/Faces from around the world.mp4: 384x640 (no detections), 12.1ms\n",
            "video 1/1 (frame 3318/3518) /content/Faces from around the world.mp4: 384x640 (no detections), 12.6ms\n",
            "video 1/1 (frame 3319/3518) /content/Faces from around the world.mp4: 384x640 (no detections), 12.1ms\n",
            "video 1/1 (frame 3320/3518) /content/Faces from around the world.mp4: 384x640 (no detections), 12.5ms\n",
            "video 1/1 (frame 3321/3518) /content/Faces from around the world.mp4: 384x640 (no detections), 14.7ms\n",
            "video 1/1 (frame 3322/3518) /content/Faces from around the world.mp4: 384x640 (no detections), 12.9ms\n",
            "video 1/1 (frame 3323/3518) /content/Faces from around the world.mp4: 384x640 (no detections), 14.1ms\n",
            "video 1/1 (frame 3324/3518) /content/Faces from around the world.mp4: 384x640 (no detections), 13.3ms\n",
            "video 1/1 (frame 3325/3518) /content/Faces from around the world.mp4: 384x640 (no detections), 13.8ms\n",
            "video 1/1 (frame 3326/3518) /content/Faces from around the world.mp4: 384x640 (no detections), 13.0ms\n",
            "video 1/1 (frame 3327/3518) /content/Faces from around the world.mp4: 384x640 (no detections), 14.8ms\n",
            "video 1/1 (frame 3328/3518) /content/Faces from around the world.mp4: 384x640 (no detections), 14.3ms\n",
            "video 1/1 (frame 3329/3518) /content/Faces from around the world.mp4: 384x640 (no detections), 12.8ms\n",
            "video 1/1 (frame 3330/3518) /content/Faces from around the world.mp4: 384x640 (no detections), 11.9ms\n",
            "video 1/1 (frame 3331/3518) /content/Faces from around the world.mp4: 384x640 (no detections), 14.2ms\n",
            "video 1/1 (frame 3332/3518) /content/Faces from around the world.mp4: 384x640 (no detections), 11.3ms\n",
            "video 1/1 (frame 3333/3518) /content/Faces from around the world.mp4: 384x640 (no detections), 12.6ms\n",
            "video 1/1 (frame 3334/3518) /content/Faces from around the world.mp4: 384x640 (no detections), 13.9ms\n",
            "video 1/1 (frame 3335/3518) /content/Faces from around the world.mp4: 384x640 (no detections), 22.1ms\n",
            "video 1/1 (frame 3336/3518) /content/Faces from around the world.mp4: 384x640 (no detections), 11.1ms\n",
            "video 1/1 (frame 3337/3518) /content/Faces from around the world.mp4: 384x640 (no detections), 13.4ms\n",
            "video 1/1 (frame 3338/3518) /content/Faces from around the world.mp4: 384x640 (no detections), 12.1ms\n",
            "video 1/1 (frame 3339/3518) /content/Faces from around the world.mp4: 384x640 (no detections), 12.7ms\n",
            "video 1/1 (frame 3340/3518) /content/Faces from around the world.mp4: 384x640 (no detections), 15.9ms\n",
            "video 1/1 (frame 3341/3518) /content/Faces from around the world.mp4: 384x640 (no detections), 12.7ms\n",
            "video 1/1 (frame 3342/3518) /content/Faces from around the world.mp4: 384x640 (no detections), 12.7ms\n",
            "video 1/1 (frame 3343/3518) /content/Faces from around the world.mp4: 384x640 (no detections), 11.9ms\n",
            "video 1/1 (frame 3344/3518) /content/Faces from around the world.mp4: 384x640 (no detections), 12.6ms\n",
            "video 1/1 (frame 3345/3518) /content/Faces from around the world.mp4: 384x640 (no detections), 11.6ms\n",
            "video 1/1 (frame 3346/3518) /content/Faces from around the world.mp4: 384x640 (no detections), 12.5ms\n",
            "video 1/1 (frame 3347/3518) /content/Faces from around the world.mp4: 384x640 (no detections), 11.2ms\n",
            "video 1/1 (frame 3348/3518) /content/Faces from around the world.mp4: 384x640 (no detections), 12.3ms\n",
            "video 1/1 (frame 3349/3518) /content/Faces from around the world.mp4: 384x640 (no detections), 12.6ms\n",
            "video 1/1 (frame 3350/3518) /content/Faces from around the world.mp4: 384x640 (no detections), 11.6ms\n",
            "video 1/1 (frame 3351/3518) /content/Faces from around the world.mp4: 384x640 (no detections), 12.6ms\n",
            "video 1/1 (frame 3352/3518) /content/Faces from around the world.mp4: 384x640 (no detections), 13.9ms\n",
            "video 1/1 (frame 3353/3518) /content/Faces from around the world.mp4: 384x640 (no detections), 14.5ms\n",
            "video 1/1 (frame 3354/3518) /content/Faces from around the world.mp4: 384x640 (no detections), 13.1ms\n",
            "video 1/1 (frame 3355/3518) /content/Faces from around the world.mp4: 384x640 (no detections), 12.4ms\n",
            "video 1/1 (frame 3356/3518) /content/Faces from around the world.mp4: 384x640 (no detections), 11.7ms\n",
            "video 1/1 (frame 3357/3518) /content/Faces from around the world.mp4: 384x640 (no detections), 13.2ms\n",
            "video 1/1 (frame 3358/3518) /content/Faces from around the world.mp4: 384x640 (no detections), 12.1ms\n",
            "video 1/1 (frame 3359/3518) /content/Faces from around the world.mp4: 384x640 (no detections), 12.9ms\n",
            "video 1/1 (frame 3360/3518) /content/Faces from around the world.mp4: 384x640 (no detections), 10.5ms\n",
            "video 1/1 (frame 3361/3518) /content/Faces from around the world.mp4: 384x640 (no detections), 14.1ms\n",
            "video 1/1 (frame 3362/3518) /content/Faces from around the world.mp4: 384x640 (no detections), 13.5ms\n",
            "video 1/1 (frame 3363/3518) /content/Faces from around the world.mp4: 384x640 (no detections), 12.5ms\n",
            "video 1/1 (frame 3364/3518) /content/Faces from around the world.mp4: 384x640 (no detections), 17.1ms\n",
            "video 1/1 (frame 3365/3518) /content/Faces from around the world.mp4: 384x640 (no detections), 12.2ms\n",
            "video 1/1 (frame 3366/3518) /content/Faces from around the world.mp4: 384x640 (no detections), 12.8ms\n",
            "video 1/1 (frame 3367/3518) /content/Faces from around the world.mp4: 384x640 (no detections), 14.8ms\n",
            "video 1/1 (frame 3368/3518) /content/Faces from around the world.mp4: 384x640 (no detections), 12.9ms\n",
            "video 1/1 (frame 3369/3518) /content/Faces from around the world.mp4: 384x640 (no detections), 12.5ms\n",
            "video 1/1 (frame 3370/3518) /content/Faces from around the world.mp4: 384x640 (no detections), 12.8ms\n",
            "video 1/1 (frame 3371/3518) /content/Faces from around the world.mp4: 384x640 (no detections), 12.8ms\n",
            "video 1/1 (frame 3372/3518) /content/Faces from around the world.mp4: 384x640 (no detections), 13.2ms\n",
            "video 1/1 (frame 3373/3518) /content/Faces from around the world.mp4: 384x640 (no detections), 12.9ms\n",
            "video 1/1 (frame 3374/3518) /content/Faces from around the world.mp4: 384x640 (no detections), 14.3ms\n",
            "video 1/1 (frame 3375/3518) /content/Faces from around the world.mp4: 384x640 (no detections), 13.5ms\n",
            "video 1/1 (frame 3376/3518) /content/Faces from around the world.mp4: 384x640 (no detections), 14.8ms\n",
            "video 1/1 (frame 3377/3518) /content/Faces from around the world.mp4: 384x640 (no detections), 13.5ms\n",
            "video 1/1 (frame 3378/3518) /content/Faces from around the world.mp4: 384x640 (no detections), 12.3ms\n",
            "video 1/1 (frame 3379/3518) /content/Faces from around the world.mp4: 384x640 (no detections), 11.3ms\n",
            "video 1/1 (frame 3380/3518) /content/Faces from around the world.mp4: 384x640 (no detections), 12.6ms\n",
            "video 1/1 (frame 3381/3518) /content/Faces from around the world.mp4: 384x640 (no detections), 12.3ms\n",
            "video 1/1 (frame 3382/3518) /content/Faces from around the world.mp4: 384x640 (no detections), 24.9ms\n",
            "video 1/1 (frame 3383/3518) /content/Faces from around the world.mp4: 384x640 (no detections), 11.3ms\n",
            "video 1/1 (frame 3384/3518) /content/Faces from around the world.mp4: 384x640 (no detections), 12.1ms\n",
            "video 1/1 (frame 3385/3518) /content/Faces from around the world.mp4: 384x640 (no detections), 13.5ms\n",
            "video 1/1 (frame 3386/3518) /content/Faces from around the world.mp4: 384x640 (no detections), 12.2ms\n",
            "video 1/1 (frame 3387/3518) /content/Faces from around the world.mp4: 384x640 (no detections), 15.3ms\n",
            "video 1/1 (frame 3388/3518) /content/Faces from around the world.mp4: 384x640 (no detections), 13.1ms\n",
            "video 1/1 (frame 3389/3518) /content/Faces from around the world.mp4: 384x640 (no detections), 13.5ms\n",
            "video 1/1 (frame 3390/3518) /content/Faces from around the world.mp4: 384x640 (no detections), 12.2ms\n",
            "video 1/1 (frame 3391/3518) /content/Faces from around the world.mp4: 384x640 (no detections), 10.9ms\n",
            "video 1/1 (frame 3392/3518) /content/Faces from around the world.mp4: 384x640 (no detections), 11.4ms\n",
            "video 1/1 (frame 3393/3518) /content/Faces from around the world.mp4: 384x640 (no detections), 11.3ms\n",
            "video 1/1 (frame 3394/3518) /content/Faces from around the world.mp4: 384x640 (no detections), 11.9ms\n",
            "video 1/1 (frame 3395/3518) /content/Faces from around the world.mp4: 384x640 (no detections), 12.2ms\n",
            "video 1/1 (frame 3396/3518) /content/Faces from around the world.mp4: 384x640 (no detections), 11.4ms\n",
            "video 1/1 (frame 3397/3518) /content/Faces from around the world.mp4: 384x640 (no detections), 12.4ms\n",
            "video 1/1 (frame 3398/3518) /content/Faces from around the world.mp4: 384x640 (no detections), 12.7ms\n",
            "video 1/1 (frame 3399/3518) /content/Faces from around the world.mp4: 384x640 (no detections), 14.1ms\n",
            "video 1/1 (frame 3400/3518) /content/Faces from around the world.mp4: 384x640 (no detections), 11.8ms\n",
            "video 1/1 (frame 3401/3518) /content/Faces from around the world.mp4: 384x640 (no detections), 13.2ms\n",
            "video 1/1 (frame 3402/3518) /content/Faces from around the world.mp4: 384x640 (no detections), 11.4ms\n",
            "video 1/1 (frame 3403/3518) /content/Faces from around the world.mp4: 384x640 (no detections), 12.5ms\n",
            "video 1/1 (frame 3404/3518) /content/Faces from around the world.mp4: 384x640 (no detections), 13.1ms\n",
            "video 1/1 (frame 3405/3518) /content/Faces from around the world.mp4: 384x640 (no detections), 12.3ms\n",
            "video 1/1 (frame 3406/3518) /content/Faces from around the world.mp4: 384x640 (no detections), 15.3ms\n",
            "video 1/1 (frame 3407/3518) /content/Faces from around the world.mp4: 384x640 (no detections), 13.3ms\n",
            "video 1/1 (frame 3408/3518) /content/Faces from around the world.mp4: 384x640 (no detections), 12.9ms\n",
            "video 1/1 (frame 3409/3518) /content/Faces from around the world.mp4: 384x640 (no detections), 12.4ms\n",
            "video 1/1 (frame 3410/3518) /content/Faces from around the world.mp4: 384x640 (no detections), 11.7ms\n",
            "video 1/1 (frame 3411/3518) /content/Faces from around the world.mp4: 384x640 (no detections), 16.1ms\n",
            "video 1/1 (frame 3412/3518) /content/Faces from around the world.mp4: 384x640 (no detections), 12.3ms\n",
            "video 1/1 (frame 3413/3518) /content/Faces from around the world.mp4: 384x640 (no detections), 13.3ms\n",
            "video 1/1 (frame 3414/3518) /content/Faces from around the world.mp4: 384x640 (no detections), 11.4ms\n",
            "video 1/1 (frame 3415/3518) /content/Faces from around the world.mp4: 384x640 (no detections), 12.5ms\n",
            "video 1/1 (frame 3416/3518) /content/Faces from around the world.mp4: 384x640 (no detections), 10.9ms\n",
            "video 1/1 (frame 3417/3518) /content/Faces from around the world.mp4: 384x640 (no detections), 12.6ms\n",
            "video 1/1 (frame 3418/3518) /content/Faces from around the world.mp4: 384x640 (no detections), 11.7ms\n",
            "video 1/1 (frame 3419/3518) /content/Faces from around the world.mp4: 384x640 (no detections), 12.0ms\n",
            "video 1/1 (frame 3420/3518) /content/Faces from around the world.mp4: 384x640 (no detections), 12.3ms\n",
            "video 1/1 (frame 3421/3518) /content/Faces from around the world.mp4: 384x640 (no detections), 11.6ms\n",
            "video 1/1 (frame 3422/3518) /content/Faces from around the world.mp4: 384x640 (no detections), 12.3ms\n",
            "video 1/1 (frame 3423/3518) /content/Faces from around the world.mp4: 384x640 (no detections), 15.8ms\n",
            "video 1/1 (frame 3424/3518) /content/Faces from around the world.mp4: 384x640 (no detections), 12.5ms\n",
            "video 1/1 (frame 3425/3518) /content/Faces from around the world.mp4: 384x640 (no detections), 12.9ms\n",
            "video 1/1 (frame 3426/3518) /content/Faces from around the world.mp4: 384x640 (no detections), 11.7ms\n",
            "video 1/1 (frame 3427/3518) /content/Faces from around the world.mp4: 384x640 (no detections), 13.4ms\n",
            "video 1/1 (frame 3428/3518) /content/Faces from around the world.mp4: 384x640 (no detections), 23.6ms\n",
            "video 1/1 (frame 3429/3518) /content/Faces from around the world.mp4: 384x640 (no detections), 13.3ms\n",
            "video 1/1 (frame 3430/3518) /content/Faces from around the world.mp4: 384x640 (no detections), 11.8ms\n",
            "video 1/1 (frame 3431/3518) /content/Faces from around the world.mp4: 384x640 (no detections), 11.1ms\n",
            "video 1/1 (frame 3432/3518) /content/Faces from around the world.mp4: 384x640 (no detections), 13.1ms\n",
            "video 1/1 (frame 3433/3518) /content/Faces from around the world.mp4: 384x640 (no detections), 14.2ms\n",
            "video 1/1 (frame 3434/3518) /content/Faces from around the world.mp4: 384x640 (no detections), 16.5ms\n",
            "video 1/1 (frame 3435/3518) /content/Faces from around the world.mp4: 384x640 (no detections), 13.1ms\n",
            "video 1/1 (frame 3436/3518) /content/Faces from around the world.mp4: 384x640 (no detections), 15.9ms\n",
            "video 1/1 (frame 3437/3518) /content/Faces from around the world.mp4: 384x640 (no detections), 11.6ms\n",
            "video 1/1 (frame 3438/3518) /content/Faces from around the world.mp4: 384x640 (no detections), 15.2ms\n",
            "video 1/1 (frame 3439/3518) /content/Faces from around the world.mp4: 384x640 (no detections), 14.4ms\n",
            "video 1/1 (frame 3440/3518) /content/Faces from around the world.mp4: 384x640 (no detections), 13.1ms\n",
            "video 1/1 (frame 3441/3518) /content/Faces from around the world.mp4: 384x640 (no detections), 14.0ms\n",
            "video 1/1 (frame 3442/3518) /content/Faces from around the world.mp4: 384x640 (no detections), 13.1ms\n",
            "video 1/1 (frame 3443/3518) /content/Faces from around the world.mp4: 384x640 (no detections), 12.1ms\n",
            "video 1/1 (frame 3444/3518) /content/Faces from around the world.mp4: 384x640 (no detections), 13.1ms\n",
            "video 1/1 (frame 3445/3518) /content/Faces from around the world.mp4: 384x640 (no detections), 11.3ms\n",
            "video 1/1 (frame 3446/3518) /content/Faces from around the world.mp4: 384x640 (no detections), 14.1ms\n",
            "video 1/1 (frame 3447/3518) /content/Faces from around the world.mp4: 384x640 (no detections), 11.9ms\n",
            "video 1/1 (frame 3448/3518) /content/Faces from around the world.mp4: 384x640 (no detections), 16.4ms\n",
            "video 1/1 (frame 3449/3518) /content/Faces from around the world.mp4: 384x640 (no detections), 11.4ms\n",
            "video 1/1 (frame 3450/3518) /content/Faces from around the world.mp4: 384x640 (no detections), 11.8ms\n",
            "video 1/1 (frame 3451/3518) /content/Faces from around the world.mp4: 384x640 (no detections), 11.5ms\n",
            "video 1/1 (frame 3452/3518) /content/Faces from around the world.mp4: 384x640 (no detections), 12.9ms\n",
            "video 1/1 (frame 3453/3518) /content/Faces from around the world.mp4: 384x640 (no detections), 12.9ms\n",
            "video 1/1 (frame 3454/3518) /content/Faces from around the world.mp4: 384x640 (no detections), 13.0ms\n",
            "video 1/1 (frame 3455/3518) /content/Faces from around the world.mp4: 384x640 (no detections), 12.9ms\n",
            "video 1/1 (frame 3456/3518) /content/Faces from around the world.mp4: 384x640 (no detections), 12.2ms\n",
            "video 1/1 (frame 3457/3518) /content/Faces from around the world.mp4: 384x640 (no detections), 12.7ms\n",
            "video 1/1 (frame 3458/3518) /content/Faces from around the world.mp4: 384x640 (no detections), 11.3ms\n",
            "video 1/1 (frame 3459/3518) /content/Faces from around the world.mp4: 384x640 (no detections), 12.0ms\n",
            "video 1/1 (frame 3460/3518) /content/Faces from around the world.mp4: 384x640 (no detections), 10.9ms\n",
            "video 1/1 (frame 3461/3518) /content/Faces from around the world.mp4: 384x640 (no detections), 11.9ms\n",
            "video 1/1 (frame 3462/3518) /content/Faces from around the world.mp4: 384x640 (no detections), 10.9ms\n",
            "video 1/1 (frame 3463/3518) /content/Faces from around the world.mp4: 384x640 (no detections), 12.5ms\n",
            "video 1/1 (frame 3464/3518) /content/Faces from around the world.mp4: 384x640 (no detections), 12.3ms\n",
            "video 1/1 (frame 3465/3518) /content/Faces from around the world.mp4: 384x640 (no detections), 12.2ms\n",
            "video 1/1 (frame 3466/3518) /content/Faces from around the world.mp4: 384x640 (no detections), 11.0ms\n",
            "video 1/1 (frame 3467/3518) /content/Faces from around the world.mp4: 384x640 (no detections), 10.6ms\n",
            "video 1/1 (frame 3468/3518) /content/Faces from around the world.mp4: 384x640 (no detections), 11.9ms\n",
            "video 1/1 (frame 3469/3518) /content/Faces from around the world.mp4: 384x640 (no detections), 16.2ms\n",
            "video 1/1 (frame 3470/3518) /content/Faces from around the world.mp4: 384x640 (no detections), 11.6ms\n",
            "video 1/1 (frame 3471/3518) /content/Faces from around the world.mp4: 384x640 (no detections), 10.6ms\n",
            "video 1/1 (frame 3472/3518) /content/Faces from around the world.mp4: 384x640 (no detections), 12.8ms\n",
            "video 1/1 (frame 3473/3518) /content/Faces from around the world.mp4: 384x640 (no detections), 18.4ms\n",
            "video 1/1 (frame 3474/3518) /content/Faces from around the world.mp4: 384x640 (no detections), 19.1ms\n",
            "video 1/1 (frame 3475/3518) /content/Faces from around the world.mp4: 384x640 (no detections), 12.6ms\n",
            "video 1/1 (frame 3476/3518) /content/Faces from around the world.mp4: 384x640 (no detections), 10.9ms\n",
            "video 1/1 (frame 3477/3518) /content/Faces from around the world.mp4: 384x640 (no detections), 13.4ms\n",
            "video 1/1 (frame 3478/3518) /content/Faces from around the world.mp4: 384x640 (no detections), 12.4ms\n",
            "video 1/1 (frame 3479/3518) /content/Faces from around the world.mp4: 384x640 (no detections), 12.3ms\n",
            "video 1/1 (frame 3480/3518) /content/Faces from around the world.mp4: 384x640 (no detections), 13.1ms\n",
            "video 1/1 (frame 3481/3518) /content/Faces from around the world.mp4: 384x640 (no detections), 13.6ms\n",
            "video 1/1 (frame 3482/3518) /content/Faces from around the world.mp4: 384x640 (no detections), 12.2ms\n",
            "video 1/1 (frame 3483/3518) /content/Faces from around the world.mp4: 384x640 (no detections), 11.3ms\n",
            "video 1/1 (frame 3484/3518) /content/Faces from around the world.mp4: 384x640 (no detections), 13.4ms\n",
            "video 1/1 (frame 3485/3518) /content/Faces from around the world.mp4: 384x640 (no detections), 10.4ms\n",
            "video 1/1 (frame 3486/3518) /content/Faces from around the world.mp4: 384x640 (no detections), 12.6ms\n",
            "video 1/1 (frame 3487/3518) /content/Faces from around the world.mp4: 384x640 (no detections), 13.5ms\n",
            "video 1/1 (frame 3488/3518) /content/Faces from around the world.mp4: 384x640 (no detections), 12.0ms\n",
            "video 1/1 (frame 3489/3518) /content/Faces from around the world.mp4: 384x640 (no detections), 12.4ms\n",
            "video 1/1 (frame 3490/3518) /content/Faces from around the world.mp4: 384x640 (no detections), 12.6ms\n",
            "video 1/1 (frame 3491/3518) /content/Faces from around the world.mp4: 384x640 (no detections), 12.2ms\n",
            "video 1/1 (frame 3492/3518) /content/Faces from around the world.mp4: 384x640 (no detections), 17.3ms\n",
            "video 1/1 (frame 3493/3518) /content/Faces from around the world.mp4: 384x640 (no detections), 11.6ms\n",
            "video 1/1 (frame 3494/3518) /content/Faces from around the world.mp4: 384x640 (no detections), 10.5ms\n",
            "video 1/1 (frame 3495/3518) /content/Faces from around the world.mp4: 384x640 (no detections), 13.3ms\n",
            "video 1/1 (frame 3496/3518) /content/Faces from around the world.mp4: 384x640 (no detections), 11.2ms\n",
            "video 1/1 (frame 3497/3518) /content/Faces from around the world.mp4: 384x640 (no detections), 13.6ms\n",
            "video 1/1 (frame 3498/3518) /content/Faces from around the world.mp4: 384x640 (no detections), 12.0ms\n",
            "video 1/1 (frame 3499/3518) /content/Faces from around the world.mp4: 384x640 (no detections), 12.8ms\n",
            "video 1/1 (frame 3500/3518) /content/Faces from around the world.mp4: 384x640 (no detections), 14.1ms\n",
            "video 1/1 (frame 3501/3518) /content/Faces from around the world.mp4: 384x640 (no detections), 13.9ms\n",
            "video 1/1 (frame 3502/3518) /content/Faces from around the world.mp4: 384x640 (no detections), 13.3ms\n",
            "video 1/1 (frame 3503/3518) /content/Faces from around the world.mp4: 384x640 (no detections), 13.4ms\n",
            "video 1/1 (frame 3504/3518) /content/Faces from around the world.mp4: 384x640 (no detections), 12.7ms\n",
            "video 1/1 (frame 3505/3518) /content/Faces from around the world.mp4: 384x640 (no detections), 12.3ms\n",
            "video 1/1 (frame 3506/3518) /content/Faces from around the world.mp4: 384x640 (no detections), 11.7ms\n",
            "video 1/1 (frame 3507/3518) /content/Faces from around the world.mp4: 384x640 (no detections), 11.9ms\n",
            "video 1/1 (frame 3508/3518) /content/Faces from around the world.mp4: 384x640 (no detections), 10.9ms\n",
            "video 1/1 (frame 3509/3518) /content/Faces from around the world.mp4: 384x640 (no detections), 14.6ms\n",
            "video 1/1 (frame 3510/3518) /content/Faces from around the world.mp4: 384x640 (no detections), 13.6ms\n",
            "video 1/1 (frame 3511/3518) /content/Faces from around the world.mp4: 384x640 (no detections), 13.6ms\n",
            "video 1/1 (frame 3512/3518) /content/Faces from around the world.mp4: 384x640 (no detections), 11.1ms\n",
            "video 1/1 (frame 3513/3518) /content/Faces from around the world.mp4: 384x640 (no detections), 13.9ms\n",
            "video 1/1 (frame 3514/3518) /content/Faces from around the world.mp4: 384x640 (no detections), 13.2ms\n",
            "video 1/1 (frame 3515/3518) /content/Faces from around the world.mp4: 384x640 (no detections), 12.4ms\n",
            "video 1/1 (frame 3516/3518) /content/Faces from around the world.mp4: 384x640 (no detections), 13.9ms\n",
            "video 1/1 (frame 3517/3518) /content/Faces from around the world.mp4: 384x640 (no detections), 16.7ms\n",
            "video 1/1 (frame 3518/3518) /content/Faces from around the world.mp4: 384x640 (no detections), 10.3ms\n",
            "Speed: 2.1ms preprocess, 13.2ms inference, 1.6ms postprocess per image at shape (1, 3, 384, 640)\n",
            "Results saved to \u001b[1mruns/pose/train2\u001b[0m\n"
          ]
        }
      ]
    }
  ],
  "metadata": {
    "accelerator": "GPU",
    "colab": {
      "name": "Ultralytics HUB",
      "provenance": [],
      "include_colab_link": true
    },
    "kernelspec": {
      "display_name": "Python 3",
      "name": "python3"
    },
    "language_info": {
      "name": "python"
    }
  },
  "nbformat": 4,
  "nbformat_minor": 0
}